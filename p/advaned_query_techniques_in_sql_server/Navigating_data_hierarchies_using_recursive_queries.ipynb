{
    "metadata": {
        "kernelspec": {
            "name": "SQL",
            "display_name": "SQL",
            "language": "sql"
        },
        "language_info": {
            "name": "sql",
            "version": ""
        }
    },
    "nbformat_minor": 2,
    "nbformat": 4,
    "cells": [
        {
            "cell_type": "markdown",
            "source": [
                "Review the WITH statement\n",
                "\n",
                "Idiosyncrasies in T-SQL\n",
                "\n",
                "Using WITH iteratively\n",
                "\n",
                "Looking at recursion in math and T-SQL\n",
                "\n",
                "Simple examples of recursive T-SQL\n",
                "\n",
                "Navigating a hierarchy\n",
                "\n",
                "Performance issues\n",
                "\n",
                "CTEs are not materialized\n",
                "\n",
                "CTE queries\n",
                "\n",
                "\\- any valid SELECT statements\n",
                "\n",
                "\\- simple or complex\n",
                "\n",
                "\\- cannot  be nested (with, or call a view with statement)"
            ],
            "metadata": {
                "azdata_cell_guid": "c265e641-3d43-4806-ae62-d8d0a2ca00fe"
            },
            "attachments": {}
        },
        {
            "cell_type": "code",
            "source": [
                "--  Keyword WITH starts things off\r\n",
                "[;]WITH\r\n",
                "-- First CTE , Common Table Expression (CTE)\r\n",
                "cte1 [(col1, col2, …)] -- Optional list of column names\r\n",
                "AS (\r\n",
                "SELECT …), -- Query definition\r\n",
                "\r\n",
                "-- Second CTE, Optional second common table expression\r\n",
                "cte2 [(col1, col2, …)]\r\n",
                "AS (\r\n",
                "SELECT …),\r\n",
                "\r\n",
                "-- Other CTEs , Additional CTEs, as required\r\n",
                "\r\n",
                "-- Outer query using the CTEs, Final query, using the common table expressions, DML\r\n",
                "SELECT | INSERT | UPDATE | DELETE\r\n",
                ""
            ],
            "metadata": {
                "azdata_cell_guid": "f29aba6b-3113-49c5-8814-97e4043d884d",
                "language": "sql"
            },
            "outputs": [],
            "execution_count": null
        },
        {
            "cell_type": "code",
            "source": [
                "[;]WITH\r\n",
                "    -- First CTE\r\n",
                "    cte1 [(col1, col2, …)]\r\n",
                "    AS (\r\n",
                "    SELECT …),\r\n",
                "\r\n",
                "    -- Second CTE\r\n",
                "    cte2 [(col1, col2, …)]\r\n",
                "    AS (\r\n",
                "    SELECT …),\r\n",
                "\r\n",
                "    -- Other CTEs\r\n",
                "    \r\n",
                "-- Outer query using the CTEs\r\n",
                "SELECT …"
            ],
            "metadata": {
                "language": "sql",
                "azdata_cell_guid": "9a421f75-e27e-40bd-bd94-e1668feb9e64"
            },
            "outputs": [],
            "execution_count": null
        },
        {
            "cell_type": "code",
            "source": [
                "-- Outer query using subqueries\r\n",
                "SELECT …\r\n",
                "FROM\r\n",
                "\r\n",
                "    -- First subquery\r\n",
                "    (SELECT …) AS sub1 [(col1, col2, …)]\r\n",
                "\r\n",
                "    JOIN | UNION\r\n",
                "\r\n",
                "    -- Second subquery\r\n",
                "    (SELECT …) AS sub2 [(col1, col2, …)]"
            ],
            "metadata": {
                "language": "sql",
                "azdata_cell_guid": "57262702-905d-47ac-acbe-125789fbce25"
            },
            "outputs": [],
            "execution_count": null
        },
        {
            "cell_type": "code",
            "source": [
                "-- Rename a column\r\n",
                "\r\n",
                ";WITH simpleCTE (FortyTwo) AS (\r\n",
                "    SELECT 42 AS tweenverttig -- Setting the column name in Dutch\r\n",
                ")\r\n",
                "\r\n",
                "SELECT \r\n",
                "    FortyTwo \r\n",
                "FROM \r\n",
                "    simpleCTE\r\n",
                "\r\n",
                "GO\r\n",
                "\r\n",
                "-- equivalent to\r\n",
                "\r\n",
                "SELECT\r\n",
                "    FortyTwo\r\n",
                "FROM (\r\n",
                "    SELECT\r\n",
                "        42\r\n",
                "    AS\r\n",
                "    tweenvertig\r\n",
                ") simpleSubquery (FortyTwo) -- Renaming the column another way\r\n",
                "\r\n",
                "GO"
            ],
            "metadata": {
                "language": "sql",
                "azdata_cell_guid": "38ebe6b3-edf8-4f5b-a361-83e9c50d41dc"
            },
            "outputs": [
                {
                    "output_type": "display_data",
                    "data": {
                        "text/html": "(1 row affected)"
                    },
                    "metadata": {}
                },
                {
                    "output_type": "display_data",
                    "data": {
                        "text/html": "(1 row affected)"
                    },
                    "metadata": {}
                },
                {
                    "output_type": "display_data",
                    "data": {
                        "text/html": "Total execution time: 00:00:00.008"
                    },
                    "metadata": {}
                },
                {
                    "output_type": "execute_result",
                    "metadata": {},
                    "execution_count": 1,
                    "data": {
                        "application/vnd.dataresource+json": {
                            "schema": {
                                "fields": [
                                    {
                                        "name": "FortyTwo"
                                    }
                                ]
                            },
                            "data": [
                                {
                                    "FortyTwo": "42"
                                }
                            ]
                        },
                        "text/html": [
                            "<table>",
                            "<tr><th>FortyTwo</th></tr>",
                            "<tr><td>42</td></tr>",
                            "</table>"
                        ]
                    }
                },
                {
                    "output_type": "execute_result",
                    "metadata": {},
                    "execution_count": 1,
                    "data": {
                        "application/vnd.dataresource+json": {
                            "schema": {
                                "fields": [
                                    {
                                        "name": "FortyTwo"
                                    }
                                ]
                            },
                            "data": [
                                {
                                    "FortyTwo": "42"
                                }
                            ]
                        },
                        "text/html": [
                            "<table>",
                            "<tr><th>FortyTwo</th></tr>",
                            "<tr><td>42</td></tr>",
                            "</table>"
                        ]
                    }
                }
            ],
            "execution_count": 1
        },
        {
            "cell_type": "code",
            "source": [
                "-- get selection of employees\r\n",
                ";WITH Emps AS (\r\n",
                "    SELECT\r\n",
                "        *\r\n",
                "    FROM\r\n",
                "        HumanResources.Employee AS e\r\n",
                "    WHERE\r\n",
                "        e.BirthDate > '1990-01-01'\r\n",
                "),\r\n",
                "People AS (\r\n",
                "    SELECT\r\n",
                "        *\r\n",
                "    FROM\r\n",
                "        Person.Person AS P\r\n",
                "    WHERE\r\n",
                "        p.LastName LIKE 'K%'\r\n",
                ")\r\n",
                "\r\n",
                "SELECT\r\n",
                "    CONCAT_WS('.', P.FirstName, p.LastName, e.JobTitle) AS NameAndTitle\r\n",
                "FROM \r\n",
                "    Emps e\r\n",
                "JOIN \r\n",
                "    People p\r\n",
                "ON\r\n",
                "    p.BusinessEntityID = e.BusinessEntityID;"
            ],
            "metadata": {
                "language": "sql",
                "azdata_cell_guid": "2f39ed0e-0dba-496d-a749-a7d97b088e85"
            },
            "outputs": [
                {
                    "output_type": "display_data",
                    "data": {
                        "text/html": "(3 rows affected)"
                    },
                    "metadata": {}
                },
                {
                    "output_type": "display_data",
                    "data": {
                        "text/html": "Total execution time: 00:00:00.042"
                    },
                    "metadata": {}
                },
                {
                    "output_type": "execute_result",
                    "metadata": {},
                    "execution_count": 3,
                    "data": {
                        "application/vnd.dataresource+json": {
                            "schema": {
                                "fields": [
                                    {
                                        "name": "NameAndTitle"
                                    }
                                ]
                            },
                            "data": [
                                {
                                    "NameAndTitle": "Elizabeth.Keyser.Production Technician - WC50"
                                },
                                {
                                    "NameAndTitle": "Tengiz.Kharatishvili.Control Specialist"
                                },
                                {
                                    "NameAndTitle": "Shane.Kim.Production Supervisor - WC45"
                                }
                            ]
                        },
                        "text/html": [
                            "<table>",
                            "<tr><th>NameAndTitle</th></tr>",
                            "<tr><td>Elizabeth.Keyser.Production Technician - WC50</td></tr>",
                            "<tr><td>Tengiz.Kharatishvili.Control Specialist</td></tr>",
                            "<tr><td>Shane.Kim.Production Supervisor - WC45</td></tr>",
                            "</table>"
                        ]
                    }
                }
            ],
            "execution_count": 3
        },
        {
            "cell_type": "code",
            "source": [
                "-- Updating (also good for deleting and inserting)\r\n",
                "\r\n",
                "BEGIN TRAN -- Protect against unwanted changes\r\n",
                "\r\n",
                ";WITH cur AS (\r\n",
                "    SELECT\r\n",
                "        CurrencyCode,\r\n",
                "        Name\r\n",
                "    FROM\r\n",
                "        Sales.Currency as c -- ORDER BY name\r\n",
                "    WHERE\r\n",
                "        c.CurrencyCode IN ('NLG', 'BEF','FRF', 'ITL', 'DME')\r\n",
                ")\r\n",
                "\r\n",
                "UPDATE Cur\r\n",
                "SET Cur.Name = CONCAT_WS(' ', cur.Name, '-', cur.CurrencyCode, 'No longer used, use Euro')\r\n",
                "OUTPUT\r\n",
                "    deleted.CurrencyCode, \r\n",
                "    deleted.Name,\r\n",
                "    inserted.Name\r\n",
                "\r\n",
                "ROLLBACK\r\n",
                "\r\n",
                "GO"
            ],
            "metadata": {
                "language": "sql",
                "azdata_cell_guid": "5bc2429a-4c84-4e71-b340-f575bb0cd4fe"
            },
            "outputs": [
                {
                    "output_type": "display_data",
                    "data": {
                        "text/html": "(4 rows affected)"
                    },
                    "metadata": {}
                },
                {
                    "output_type": "display_data",
                    "data": {
                        "text/html": "Total execution time: 00:00:00.085"
                    },
                    "metadata": {}
                },
                {
                    "output_type": "execute_result",
                    "metadata": {},
                    "execution_count": 4,
                    "data": {
                        "application/vnd.dataresource+json": {
                            "schema": {
                                "fields": [
                                    {
                                        "name": "CurrencyCode"
                                    },
                                    {
                                        "name": "Name"
                                    },
                                    {
                                        "name": "Name"
                                    }
                                ]
                            },
                            "data": [
                                {
                                    "CurrencyCode": "BEF",
                                    "Name": "Belgian Franc - BEF No longer used, use Euro"
                                },
                                {
                                    "CurrencyCode": "FRF",
                                    "Name": "French Franc - FRF No longer used, use Euro"
                                },
                                {
                                    "CurrencyCode": "ITL",
                                    "Name": "Italian Lira - ITL No longer used, use Euro"
                                },
                                {
                                    "CurrencyCode": "NLG",
                                    "Name": "Netherlands Guilder - NLG No longer used, use Euro"
                                }
                            ]
                        },
                        "text/html": [
                            "<table>",
                            "<tr><th>CurrencyCode</th><th>Name</th><th>Name</th></tr>",
                            "<tr><td>BEF</td><td>Belgian Franc</td><td>Belgian Franc - BEF No longer used, use Euro</td></tr>",
                            "<tr><td>FRF</td><td>French Franc</td><td>French Franc - FRF No longer used, use Euro</td></tr>",
                            "<tr><td>ITL</td><td>Italian Lira</td><td>Italian Lira - ITL No longer used, use Euro</td></tr>",
                            "<tr><td>NLG</td><td>Netherlands Guilder</td><td>Netherlands Guilder - NLG No longer used, use Euro</td></tr>",
                            "</table>"
                        ]
                    }
                }
            ],
            "execution_count": 4
        },
        {
            "cell_type": "markdown",
            "source": [
                "Recursion"
            ],
            "metadata": {
                "language": "sql",
                "azdata_cell_guid": "ea635981-3822-44b7-9fb0-9f4a8394ee08"
            },
            "attachments": {}
        },
        {
            "cell_type": "markdown",
            "source": [
                "1. Split the CTE expression <span style=\"color: #859900;\">into</span> anchor <span style=\"color: #859900;\">and</span> <span style=\"color: #859900;\">recursive</span> members\n",
                "2. Run the anchor <span style=\"color: #859900;\">member</span>(s) creating the <span style=\"color: #859900;\">first</span> invocation <span style=\"color: #859900;\">or</span> base\n",
                "3. result <span style=\"color: #859900;\">set</span>\n",
                "4. Run the <span style=\"color: #859900;\">recursive</span> <span style=\"color: #859900;\">member</span>(s) <span style=\"color: #859900;\">with</span> the <span style=\"color: #859900;\">current</span> result <span style=\"color: #859900;\">set</span> <span style=\"color: #859900;\">as</span> input <span style=\"color: #859900;\">and</span>\n",
                "5. generating a <span style=\"color: #859900;\">new</span> result <span style=\"color: #859900;\">set</span> <span style=\"color: #859900;\">as</span> <span style=\"color: #859900;\">output</span>\n",
                "6. <span style=\"color: #859900;\">Repeat</span> <span style=\"color: #859900;\">until</span> an <span style=\"color: #859900;\">empty</span> <span style=\"color: #859900;\">set</span> <span style=\"color: #859900;\">is</span> returned, <span style=\"color: #859900;\">when</span> a terminating <span style=\"color: #859900;\">condition</span>\n",
                "7. <span style=\"color: #859900;\">is</span> met\n",
                "8. <span style=\"color: #859900;\">Return</span> the <span style=\"color: #859900;\">UNION ALL</span> <span style=\"color: #859900;\">of</span> <span style=\"color: #859900;\">all</span> the result <span style=\"color: #859900;\">sets</span> returned"
            ],
            "metadata": {
                "language": "sql",
                "azdata_cell_guid": "d62c8c10-175b-4415-8332-434f8b7b5a5f"
            },
            "attachments": {}
        },
        {
            "cell_type": "code",
            "source": [
                "[;]WITH -- Keyword WITH starts things off\r\n",
                "    -- possible Other CTEs\r\n",
                "\r\n",
                "    -- Recursive CTE\r\n",
                "\r\n",
                "    recurs [(col1, col2, …)] -- Recursive CTE\r\n",
                "    AS ( -- Query definition -- Base case -- Recursive case\r\n",
                "        SELECT … \r\n",
                "        UNION ALL\r\n",
                "        SELECT …\r\n",
                "        FROM recurs\r\n",
                "      )\r\n",
                "),\r\n",
                "\r\n",
                "-- Final query, using the common table, expression\r\n",
                "\r\n",
                "-- Outer query using the recursive\r\n",
                "\r\n",
                "SELECT | INSERT | UPDATE | DELETE\r\n",
                "FROM recurs\r\n",
                "\r\n",
                "\r\n",
                ""
            ],
            "metadata": {
                "language": "sql",
                "azdata_cell_guid": "dc002029-fc6f-420a-8772-a2874cf12368"
            },
            "outputs": [],
            "execution_count": null
        },
        {
            "cell_type": "code",
            "source": [
                ""
            ],
            "metadata": {
                "language": "sql",
                "azdata_cell_guid": "37b9e040-598c-459e-86ab-22552489f73e"
            },
            "outputs": [],
            "execution_count": null
        },
        {
            "cell_type": "code",
            "source": [
                ""
            ],
            "metadata": {
                "language": "sql",
                "azdata_cell_guid": "f68fdd19-e5d5-41a4-8f97-c5368d9fac71"
            },
            "outputs": [],
            "execution_count": null
        }
    ]
}
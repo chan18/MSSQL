{
    "metadata": {
        "kernelspec": {
            "name": "SQL",
            "display_name": "SQL",
            "language": "sql"
        },
        "language_info": {
            "name": "sql",
            "version": ""
        }
    },
    "nbformat_minor": 2,
    "nbformat": 4,
    "cells": [
        {
            "cell_type": "markdown",
            "source": [
                ""
            ],
            "metadata": {
                "azdata_cell_guid": "be4c7667-d255-4bfd-bacb-c3f6a48d40b7"
            }
        },
        {
            "cell_type": "code",
            "source": [
                "CREATE TABLE character_alive (\r\n",
                "    id INT,                 \r\n",
                "    name NVARCHAR(100),     \r\n",
                "    class NVARCHAR(50),     \r\n",
                "    level INT,\r\n",
                "    is_alive VARCHAR(10)    \r\n",
                ");"
            ],
            "metadata": {
                "language": "sql",
                "azdata_cell_guid": "2ddb36b2-0a20-473b-b5b6-a13b6eabc92c"
            },
            "outputs": [
                {
                    "output_type": "display_data",
                    "data": {
                        "text/html": "Commands completed successfully."
                    },
                    "metadata": {}
                },
                {
                    "output_type": "display_data",
                    "data": {
                        "text/html": "Total execution time: 00:00:00.009"
                    },
                    "metadata": {}
                }
            ],
            "execution_count": 2
        },
        {
            "cell_type": "code",
            "source": [
                "INSERT INTO character_alive (id, name, class, level, is_alive) \r\n",
                "SELECT id, name, class, level, is_alive\r\n",
                "FROM characters\r\n",
                "WHERE is_alive = 'TRUE';"
            ],
            "metadata": {
                "azdata_cell_guid": "5fd81577-05bf-4033-9bb9-bb7641f36a75",
                "language": "sql",
                "tags": []
            },
            "outputs": [
                {
                    "output_type": "display_data",
                    "data": {
                        "text/html": "(10 rows affected)"
                    },
                    "metadata": {}
                },
                {
                    "output_type": "display_data",
                    "data": {
                        "text/html": "Total execution time: 00:00:00.005"
                    },
                    "metadata": {}
                }
            ],
            "execution_count": 12
        },
        {
            "cell_type": "code",
            "source": [
                "SELECT * FROM character_alive;"
            ],
            "metadata": {
                "language": "sql",
                "azdata_cell_guid": "da8eb35a-41c7-4b3a-9fb6-3dac824e3fee"
            },
            "outputs": [
                {
                    "output_type": "display_data",
                    "data": {
                        "text/html": "(24 rows affected)"
                    },
                    "metadata": {}
                },
                {
                    "output_type": "display_data",
                    "data": {
                        "text/html": "Total execution time: 00:00:00.011"
                    },
                    "metadata": {}
                },
                {
                    "output_type": "execute_result",
                    "metadata": {},
                    "execution_count": 13,
                    "data": {
                        "application/vnd.dataresource+json": {
                            "schema": {
                                "fields": [
                                    {
                                        "name": "id"
                                    },
                                    {
                                        "name": "name"
                                    },
                                    {
                                        "name": "class"
                                    },
                                    {
                                        "name": "level"
                                    },
                                    {
                                        "name": "is_alive"
                                    }
                                ]
                            },
                            "data": [
                                {
                                    "id": "1",
                                    "name": "Aragorn",
                                    "class": "Warrior",
                                    "level": "25",
                                    "is_alive": "TRUE"
                                },
                                {
                                    "id": "3",
                                    "name": "Gimli",
                                    "class": "Warrior",
                                    "level": "20",
                                    "is_alive": "TRUE"
                                },
                                {
                                    "id": "5",
                                    "name": "Sam",
                                    "class": "Hobbit",
                                    "level": "13",
                                    "is_alive": "TRUE"
                                },
                                {
                                    "id": "6",
                                    "name": "Gandalf",
                                    "class": "Mage",
                                    "level": "30",
                                    "is_alive": "TRUE"
                                },
                                {
                                    "id": "8",
                                    "name": "Merry",
                                    "class": "Hobbit",
                                    "level": "11",
                                    "is_alive": "TRUE"
                                },
                                {
                                    "id": "9",
                                    "name": "Pippin",
                                    "class": "Hobbit",
                                    "level": "11",
                                    "is_alive": "TRUE"
                                },
                                {
                                    "id": "12",
                                    "name": "Elrond",
                                    "class": "Mage",
                                    "level": "27",
                                    "is_alive": "TRUE"
                                },
                                {
                                    "id": "13",
                                    "name": "Thranduil",
                                    "class": "Archer",
                                    "level": "26",
                                    "is_alive": "TRUE"
                                },
                                {
                                    "id": "14",
                                    "name": "Eowyn",
                                    "class": "Warrior",
                                    "level": "17",
                                    "is_alive": "TRUE"
                                },
                                {
                                    "id": "15",
                                    "name": "Faramir",
                                    "class": "Archer",
                                    "level": "19",
                                    "is_alive": "TRUE"
                                },
                                {
                                    "id": "4",
                                    "name": "Frodo",
                                    "class": "Hobbit",
                                    "level": "12",
                                    "is_alive": "FALSE"
                                },
                                {
                                    "id": "7",
                                    "name": "Boromir",
                                    "class": "Warrior",
                                    "level": "18",
                                    "is_alive": "FALSE"
                                },
                                {
                                    "id": "10",
                                    "name": "Sauron",
                                    "class": "Mage",
                                    "level": "40",
                                    "is_alive": "FALSE"
                                },
                                {
                                    "id": "11",
                                    "name": "Saruman",
                                    "class": "Mage",
                                    "level": "28",
                                    "is_alive": "FALSE"
                                },
                                {
                                    "id": "1",
                                    "name": "Aragorn",
                                    "class": "Warrior",
                                    "level": "25",
                                    "is_alive": "TRUE"
                                },
                                {
                                    "id": "3",
                                    "name": "Gimli",
                                    "class": "Warrior",
                                    "level": "20",
                                    "is_alive": "TRUE"
                                },
                                {
                                    "id": "5",
                                    "name": "Sam",
                                    "class": "Hobbit",
                                    "level": "13",
                                    "is_alive": "TRUE"
                                },
                                {
                                    "id": "6",
                                    "name": "Gandalf",
                                    "class": "Mage",
                                    "level": "30",
                                    "is_alive": "TRUE"
                                },
                                {
                                    "id": "8",
                                    "name": "Merry",
                                    "class": "Hobbit",
                                    "level": "11",
                                    "is_alive": "TRUE"
                                },
                                {
                                    "id": "9",
                                    "name": "Pippin",
                                    "class": "Hobbit",
                                    "level": "11",
                                    "is_alive": "TRUE"
                                },
                                {
                                    "id": "12",
                                    "name": "Elrond",
                                    "class": "Mage",
                                    "level": "27",
                                    "is_alive": "TRUE"
                                },
                                {
                                    "id": "13",
                                    "name": "Thranduil",
                                    "class": "Archer",
                                    "level": "26",
                                    "is_alive": "TRUE"
                                },
                                {
                                    "id": "14",
                                    "name": "Eowyn",
                                    "class": "Warrior",
                                    "level": "17",
                                    "is_alive": "TRUE"
                                },
                                {
                                    "id": "15",
                                    "name": "Faramir",
                                    "class": "Archer",
                                    "level": "19",
                                    "is_alive": "TRUE"
                                }
                            ]
                        },
                        "text/html": [
                            "<table>",
                            "<tr><th>id</th><th>name</th><th>class</th><th>level</th><th>is_alive</th></tr>",
                            "<tr><td>1</td><td>Aragorn</td><td>Warrior</td><td>25</td><td>TRUE</td></tr>",
                            "<tr><td>3</td><td>Gimli</td><td>Warrior</td><td>20</td><td>TRUE</td></tr>",
                            "<tr><td>5</td><td>Sam</td><td>Hobbit</td><td>13</td><td>TRUE</td></tr>",
                            "<tr><td>6</td><td>Gandalf</td><td>Mage</td><td>30</td><td>TRUE</td></tr>",
                            "<tr><td>8</td><td>Merry</td><td>Hobbit</td><td>11</td><td>TRUE</td></tr>",
                            "<tr><td>9</td><td>Pippin</td><td>Hobbit</td><td>11</td><td>TRUE</td></tr>",
                            "<tr><td>12</td><td>Elrond</td><td>Mage</td><td>27</td><td>TRUE</td></tr>",
                            "<tr><td>13</td><td>Thranduil</td><td>Archer</td><td>26</td><td>TRUE</td></tr>",
                            "<tr><td>14</td><td>Eowyn</td><td>Warrior</td><td>17</td><td>TRUE</td></tr>",
                            "<tr><td>15</td><td>Faramir</td><td>Archer</td><td>19</td><td>TRUE</td></tr>",
                            "<tr><td>4</td><td>Frodo</td><td>Hobbit</td><td>12</td><td>FALSE</td></tr>",
                            "<tr><td>7</td><td>Boromir</td><td>Warrior</td><td>18</td><td>FALSE</td></tr>",
                            "<tr><td>10</td><td>Sauron</td><td>Mage</td><td>40</td><td>FALSE</td></tr>",
                            "<tr><td>11</td><td>Saruman</td><td>Mage</td><td>28</td><td>FALSE</td></tr>",
                            "<tr><td>1</td><td>Aragorn</td><td>Warrior</td><td>25</td><td>TRUE</td></tr>",
                            "<tr><td>3</td><td>Gimli</td><td>Warrior</td><td>20</td><td>TRUE</td></tr>",
                            "<tr><td>5</td><td>Sam</td><td>Hobbit</td><td>13</td><td>TRUE</td></tr>",
                            "<tr><td>6</td><td>Gandalf</td><td>Mage</td><td>30</td><td>TRUE</td></tr>",
                            "<tr><td>8</td><td>Merry</td><td>Hobbit</td><td>11</td><td>TRUE</td></tr>",
                            "<tr><td>9</td><td>Pippin</td><td>Hobbit</td><td>11</td><td>TRUE</td></tr>",
                            "<tr><td>12</td><td>Elrond</td><td>Mage</td><td>27</td><td>TRUE</td></tr>",
                            "<tr><td>13</td><td>Thranduil</td><td>Archer</td><td>26</td><td>TRUE</td></tr>",
                            "<tr><td>14</td><td>Eowyn</td><td>Warrior</td><td>17</td><td>TRUE</td></tr>",
                            "<tr><td>15</td><td>Faramir</td><td>Archer</td><td>19</td><td>TRUE</td></tr>",
                            "</table>"
                        ]
                    }
                }
            ],
            "execution_count": 13
        },
        {
            "cell_type": "code",
            "source": [
                "CREATE TABLE character_dead (\r\n",
                "    id INT,                 \r\n",
                "    name NVARCHAR(100),     \r\n",
                "    class NVARCHAR(50),     \r\n",
                "    level INT,\r\n",
                "    is_alive VARCHAR(10)    \r\n",
                ");"
            ],
            "metadata": {
                "language": "sql",
                "azdata_cell_guid": "11363754-db25-4f0c-a66a-041d6cf7469a"
            },
            "outputs": [
                {
                    "output_type": "display_data",
                    "data": {
                        "text/html": "Commands completed successfully."
                    },
                    "metadata": {}
                },
                {
                    "output_type": "display_data",
                    "data": {
                        "text/html": "Total execution time: 00:00:00.006"
                    },
                    "metadata": {}
                }
            ],
            "execution_count": 7
        },
        {
            "cell_type": "code",
            "source": [
                "INSERT INTO character_dead (id, name, class, level, is_alive) \r\n",
                "SELECT id, name, class, level, is_alive\r\n",
                "FROM characters\r\n",
                "WHERE is_alive = 'FALSE';"
            ],
            "metadata": {
                "language": "sql",
                "azdata_cell_guid": "497501ea-7f7d-4543-a9cf-0705f647974a",
                "tags": []
            },
            "outputs": [
                {
                    "output_type": "display_data",
                    "data": {
                        "text/html": "(4 rows affected)"
                    },
                    "metadata": {}
                },
                {
                    "output_type": "display_data",
                    "data": {
                        "text/html": "Total execution time: 00:00:00.007"
                    },
                    "metadata": {}
                }
            ],
            "execution_count": 10
        },
        {
            "cell_type": "code",
            "source": [
                "SELECT * FROM character_dead;"
            ],
            "metadata": {
                "language": "sql",
                "azdata_cell_guid": "1eb622a8-4556-4f20-8723-1d69631aa67c"
            },
            "outputs": [
                {
                    "output_type": "display_data",
                    "data": {
                        "text/html": "(4 rows affected)"
                    },
                    "metadata": {}
                },
                {
                    "output_type": "display_data",
                    "data": {
                        "text/html": "Total execution time: 00:00:00.010"
                    },
                    "metadata": {}
                },
                {
                    "output_type": "execute_result",
                    "metadata": {},
                    "execution_count": 11,
                    "data": {
                        "application/vnd.dataresource+json": {
                            "schema": {
                                "fields": [
                                    {
                                        "name": "id"
                                    },
                                    {
                                        "name": "name"
                                    },
                                    {
                                        "name": "class"
                                    },
                                    {
                                        "name": "level"
                                    },
                                    {
                                        "name": "is_alive"
                                    }
                                ]
                            },
                            "data": [
                                {
                                    "id": "4",
                                    "name": "Frodo",
                                    "class": "Hobbit",
                                    "level": "12",
                                    "is_alive": "FALSE"
                                },
                                {
                                    "id": "7",
                                    "name": "Boromir",
                                    "class": "Warrior",
                                    "level": "18",
                                    "is_alive": "FALSE"
                                },
                                {
                                    "id": "10",
                                    "name": "Sauron",
                                    "class": "Mage",
                                    "level": "40",
                                    "is_alive": "FALSE"
                                },
                                {
                                    "id": "11",
                                    "name": "Saruman",
                                    "class": "Mage",
                                    "level": "28",
                                    "is_alive": "FALSE"
                                }
                            ]
                        },
                        "text/html": [
                            "<table>",
                            "<tr><th>id</th><th>name</th><th>class</th><th>level</th><th>is_alive</th></tr>",
                            "<tr><td>4</td><td>Frodo</td><td>Hobbit</td><td>12</td><td>FALSE</td></tr>",
                            "<tr><td>7</td><td>Boromir</td><td>Warrior</td><td>18</td><td>FALSE</td></tr>",
                            "<tr><td>10</td><td>Sauron</td><td>Mage</td><td>40</td><td>FALSE</td></tr>",
                            "<tr><td>11</td><td>Saruman</td><td>Mage</td><td>28</td><td>FALSE</td></tr>",
                            "</table>"
                        ]
                    }
                }
            ],
            "execution_count": 11
        },
        {
            "cell_type": "markdown",
            "source": [
                "# UNION - 1"
            ],
            "metadata": {
                "language": "sql",
                "azdata_cell_guid": "5a7f0500-e6f5-4b58-ac68-f45b8653d312"
            },
            "attachments": {}
        },
        {
            "cell_type": "code",
            "source": [
                "SELECT * FROM character_alive\r\n",
                "UNION \r\n",
                "SELECT * FROM character_dead;"
            ],
            "metadata": {
                "language": "sql",
                "azdata_cell_guid": "ad156580-7f23-4dd5-9876-8d3b7566bd5e"
            },
            "outputs": [
                {
                    "output_type": "display_data",
                    "data": {
                        "text/html": "(14 rows affected)"
                    },
                    "metadata": {}
                },
                {
                    "output_type": "display_data",
                    "data": {
                        "text/html": "Total execution time: 00:00:00.011"
                    },
                    "metadata": {}
                },
                {
                    "output_type": "execute_result",
                    "metadata": {},
                    "execution_count": 18,
                    "data": {
                        "application/vnd.dataresource+json": {
                            "schema": {
                                "fields": [
                                    {
                                        "name": "id"
                                    },
                                    {
                                        "name": "name"
                                    },
                                    {
                                        "name": "class"
                                    },
                                    {
                                        "name": "level"
                                    },
                                    {
                                        "name": "is_alive"
                                    }
                                ]
                            },
                            "data": [
                                {
                                    "id": "1",
                                    "name": "Aragorn",
                                    "class": "Warrior",
                                    "level": "25",
                                    "is_alive": "TRUE"
                                },
                                {
                                    "id": "3",
                                    "name": "Gimli",
                                    "class": "Warrior",
                                    "level": "20",
                                    "is_alive": "TRUE"
                                },
                                {
                                    "id": "4",
                                    "name": "Frodo",
                                    "class": "Hobbit",
                                    "level": "12",
                                    "is_alive": "FALSE"
                                },
                                {
                                    "id": "5",
                                    "name": "Sam",
                                    "class": "Hobbit",
                                    "level": "13",
                                    "is_alive": "TRUE"
                                },
                                {
                                    "id": "6",
                                    "name": "Gandalf",
                                    "class": "Mage",
                                    "level": "30",
                                    "is_alive": "TRUE"
                                },
                                {
                                    "id": "7",
                                    "name": "Boromir",
                                    "class": "Warrior",
                                    "level": "18",
                                    "is_alive": "FALSE"
                                },
                                {
                                    "id": "8",
                                    "name": "Merry",
                                    "class": "Hobbit",
                                    "level": "11",
                                    "is_alive": "TRUE"
                                },
                                {
                                    "id": "9",
                                    "name": "Pippin",
                                    "class": "Hobbit",
                                    "level": "11",
                                    "is_alive": "TRUE"
                                },
                                {
                                    "id": "10",
                                    "name": "Sauron",
                                    "class": "Mage",
                                    "level": "40",
                                    "is_alive": "FALSE"
                                },
                                {
                                    "id": "11",
                                    "name": "Saruman",
                                    "class": "Mage",
                                    "level": "28",
                                    "is_alive": "FALSE"
                                },
                                {
                                    "id": "12",
                                    "name": "Elrond",
                                    "class": "Mage",
                                    "level": "27",
                                    "is_alive": "TRUE"
                                },
                                {
                                    "id": "13",
                                    "name": "Thranduil",
                                    "class": "Archer",
                                    "level": "26",
                                    "is_alive": "TRUE"
                                },
                                {
                                    "id": "14",
                                    "name": "Eowyn",
                                    "class": "Warrior",
                                    "level": "17",
                                    "is_alive": "TRUE"
                                },
                                {
                                    "id": "15",
                                    "name": "Faramir",
                                    "class": "Archer",
                                    "level": "19",
                                    "is_alive": "TRUE"
                                }
                            ]
                        },
                        "text/html": [
                            "<table>",
                            "<tr><th>id</th><th>name</th><th>class</th><th>level</th><th>is_alive</th></tr>",
                            "<tr><td>1</td><td>Aragorn</td><td>Warrior</td><td>25</td><td>TRUE</td></tr>",
                            "<tr><td>3</td><td>Gimli</td><td>Warrior</td><td>20</td><td>TRUE</td></tr>",
                            "<tr><td>4</td><td>Frodo</td><td>Hobbit</td><td>12</td><td>FALSE</td></tr>",
                            "<tr><td>5</td><td>Sam</td><td>Hobbit</td><td>13</td><td>TRUE</td></tr>",
                            "<tr><td>6</td><td>Gandalf</td><td>Mage</td><td>30</td><td>TRUE</td></tr>",
                            "<tr><td>7</td><td>Boromir</td><td>Warrior</td><td>18</td><td>FALSE</td></tr>",
                            "<tr><td>8</td><td>Merry</td><td>Hobbit</td><td>11</td><td>TRUE</td></tr>",
                            "<tr><td>9</td><td>Pippin</td><td>Hobbit</td><td>11</td><td>TRUE</td></tr>",
                            "<tr><td>10</td><td>Sauron</td><td>Mage</td><td>40</td><td>FALSE</td></tr>",
                            "<tr><td>11</td><td>Saruman</td><td>Mage</td><td>28</td><td>FALSE</td></tr>",
                            "<tr><td>12</td><td>Elrond</td><td>Mage</td><td>27</td><td>TRUE</td></tr>",
                            "<tr><td>13</td><td>Thranduil</td><td>Archer</td><td>26</td><td>TRUE</td></tr>",
                            "<tr><td>14</td><td>Eowyn</td><td>Warrior</td><td>17</td><td>TRUE</td></tr>",
                            "<tr><td>15</td><td>Faramir</td><td>Archer</td><td>19</td><td>TRUE</td></tr>",
                            "</table>"
                        ]
                    }
                }
            ],
            "execution_count": 18
        }
    ]
}
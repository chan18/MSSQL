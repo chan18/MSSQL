{
    "metadata": {
        "kernelspec": {
            "name": "SQL",
            "display_name": "SQL",
            "language": "sql"
        },
        "language_info": {
            "name": "sql",
            "version": ""
        }
    },
    "nbformat_minor": 2,
    "nbformat": 4,
    "cells": [
        {
            "cell_type": "markdown",
            "source": [
                "<span style=\"color: var(--vscode-foreground);\">- grouping altering table.</span>\n",
                "\n",
                "\\- window functions do not alter the table.\n",
                "\n",
                "\\- aggregation also squize the table column into one column\n",
                "\n",
                "what if we want to show per row?\n",
                "\n",
                "over()\n",
                "\n",
                "<span style=\"color: var(--vscode-foreground);\">what is a window?</span>  \n",
                "\n",
                "part of table each row able to see."
            ],
            "metadata": {
                "language": "sql",
                "azdata_cell_guid": "879a9daa-73e3-4f41-a954-8b48deef9492"
            },
            "attachments": {}
        },
        {
            "cell_type": "code",
            "source": [
                "SELECT \r\n",
                "    SUM(power)\r\n",
                "FROM \r\n",
                "    items;"
            ],
            "metadata": {
                "language": "sql",
                "azdata_cell_guid": "108bd29e-c260-484f-bd6e-ce374f19ccec"
            },
            "outputs": [
                {
                    "output_type": "display_data",
                    "data": {
                        "text/html": "(1 row affected)"
                    },
                    "metadata": {}
                },
                {
                    "output_type": "display_data",
                    "data": {
                        "text/html": "Total execution time: 00:00:00.005"
                    },
                    "metadata": {}
                },
                {
                    "output_type": "execute_result",
                    "metadata": {},
                    "execution_count": 4,
                    "data": {
                        "application/vnd.dataresource+json": {
                            "schema": {
                                "fields": [
                                    {
                                        "name": "(No column name)"
                                    }
                                ]
                            },
                            "data": [
                                {
                                    "(No column name)": "1544"
                                }
                            ]
                        },
                        "text/html": [
                            "<table>",
                            "<tr><th>(No column name)</th></tr>",
                            "<tr><td>1544</td></tr>",
                            "</table>"
                        ]
                    }
                }
            ],
            "execution_count": 4
        },
        {
            "cell_type": "code",
            "source": [
                "-- over() -- put the sum value in each row.\r\n",
                "\r\n",
                "SELECT \r\n",
                "    name,\r\n",
                "    item_type,\r\n",
                "    power,\r\n",
                "    SUM(power) OVER() as sum_power\r\n",
                "FROM \r\n",
                "    items"
            ],
            "metadata": {
                "language": "sql",
                "azdata_cell_guid": "6b6a8b97-c1c1-429e-b0b6-c078370a9687"
            },
            "outputs": [
                {
                    "output_type": "display_data",
                    "data": {
                        "text/html": "(20 rows affected)"
                    },
                    "metadata": {}
                },
                {
                    "output_type": "display_data",
                    "data": {
                        "text/html": "Total execution time: 00:00:00.012"
                    },
                    "metadata": {}
                },
                {
                    "output_type": "execute_result",
                    "metadata": {},
                    "execution_count": 5,
                    "data": {
                        "application/vnd.dataresource+json": {
                            "schema": {
                                "fields": [
                                    {
                                        "name": "name"
                                    },
                                    {
                                        "name": "item_type"
                                    },
                                    {
                                        "name": "power"
                                    },
                                    {
                                        "name": "sum_power"
                                    }
                                ]
                            },
                            "data": [
                                {
                                    "name": "Excalibur",
                                    "item_type": "Weapon",
                                    "power": "100",
                                    "sum_power": "1544"
                                },
                                {
                                    "name": "Elven Bow",
                                    "item_type": "Weapon",
                                    "power": "85",
                                    "sum_power": "1544"
                                },
                                {
                                    "name": "Dwarven Axe",
                                    "item_type": "Weapon",
                                    "power": "90",
                                    "sum_power": "1544"
                                },
                                {
                                    "name": "Healing Potion",
                                    "item_type": "Potion",
                                    "power": "50",
                                    "sum_power": "1544"
                                },
                                {
                                    "name": "Mana Potion",
                                    "item_type": "Potion",
                                    "power": "60",
                                    "sum_power": "1544"
                                },
                                {
                                    "name": "Leather Armor",
                                    "item_type": "Armor",
                                    "power": "40",
                                    "sum_power": "1544"
                                },
                                {
                                    "name": "Chainmail Armor",
                                    "item_type": "Armor",
                                    "power": "70",
                                    "sum_power": "1544"
                                },
                                {
                                    "name": "Dragon Scale Armor",
                                    "item_type": "Armor",
                                    "power": "90",
                                    "sum_power": "1544"
                                },
                                {
                                    "name": "Fireball Scroll",
                                    "item_type": "Weapon",
                                    "power": "75",
                                    "sum_power": "1544"
                                },
                                {
                                    "name": "Teleport Scroll",
                                    "item_type": "Weapon",
                                    "power": "80",
                                    "sum_power": "1544"
                                },
                                {
                                    "name": "Mithril Sword",
                                    "item_type": "Weapon",
                                    "power": "95",
                                    "sum_power": "1544"
                                },
                                {
                                    "name": "Elven Quiver",
                                    "item_type": "Weapon",
                                    "power": "82",
                                    "sum_power": "1544"
                                },
                                {
                                    "name": "Phoenix Feather",
                                    "item_type": "Weapon",
                                    "power": "100",
                                    "sum_power": "1544"
                                },
                                {
                                    "name": "Earthquake Rune",
                                    "item_type": "Weapon",
                                    "power": "88",
                                    "sum_power": "1544"
                                },
                                {
                                    "name": "Resurrection Stone",
                                    "item_type": "Potion",
                                    "power": "99",
                                    "sum_power": "1544"
                                },
                                {
                                    "name": "Stamina Elixir",
                                    "item_type": "Potion",
                                    "power": "30",
                                    "sum_power": "1544"
                                },
                                {
                                    "name": "Lightning Rod",
                                    "item_type": "Weapon",
                                    "power": "76",
                                    "sum_power": "1544"
                                },
                                {
                                    "name": "Steel Dagger",
                                    "item_type": "Weapon",
                                    "power": "65",
                                    "sum_power": "1544"
                                },
                                {
                                    "name": "Frostbite Blade",
                                    "item_type": "Weapon",
                                    "power": "91",
                                    "sum_power": "1544"
                                },
                                {
                                    "name": "Cloak of Invisibility",
                                    "item_type": "Armor",
                                    "power": "78",
                                    "sum_power": "1544"
                                }
                            ]
                        },
                        "text/html": [
                            "<table>",
                            "<tr><th>name</th><th>item_type</th><th>power</th><th>sum_power</th></tr>",
                            "<tr><td>Excalibur</td><td>Weapon</td><td>100</td><td>1544</td></tr>",
                            "<tr><td>Elven Bow</td><td>Weapon</td><td>85</td><td>1544</td></tr>",
                            "<tr><td>Dwarven Axe</td><td>Weapon</td><td>90</td><td>1544</td></tr>",
                            "<tr><td>Healing Potion</td><td>Potion</td><td>50</td><td>1544</td></tr>",
                            "<tr><td>Mana Potion</td><td>Potion</td><td>60</td><td>1544</td></tr>",
                            "<tr><td>Leather Armor</td><td>Armor</td><td>40</td><td>1544</td></tr>",
                            "<tr><td>Chainmail Armor</td><td>Armor</td><td>70</td><td>1544</td></tr>",
                            "<tr><td>Dragon Scale Armor</td><td>Armor</td><td>90</td><td>1544</td></tr>",
                            "<tr><td>Fireball Scroll</td><td>Weapon</td><td>75</td><td>1544</td></tr>",
                            "<tr><td>Teleport Scroll</td><td>Weapon</td><td>80</td><td>1544</td></tr>",
                            "<tr><td>Mithril Sword</td><td>Weapon</td><td>95</td><td>1544</td></tr>",
                            "<tr><td>Elven Quiver</td><td>Weapon</td><td>82</td><td>1544</td></tr>",
                            "<tr><td>Phoenix Feather</td><td>Weapon</td><td>100</td><td>1544</td></tr>",
                            "<tr><td>Earthquake Rune</td><td>Weapon</td><td>88</td><td>1544</td></tr>",
                            "<tr><td>Resurrection Stone</td><td>Potion</td><td>99</td><td>1544</td></tr>",
                            "<tr><td>Stamina Elixir</td><td>Potion</td><td>30</td><td>1544</td></tr>",
                            "<tr><td>Lightning Rod</td><td>Weapon</td><td>76</td><td>1544</td></tr>",
                            "<tr><td>Steel Dagger</td><td>Weapon</td><td>65</td><td>1544</td></tr>",
                            "<tr><td>Frostbite Blade</td><td>Weapon</td><td>91</td><td>1544</td></tr>",
                            "<tr><td>Cloak of Invisibility</td><td>Armor</td><td>78</td><td>1544</td></tr>",
                            "</table>"
                        ]
                    }
                }
            ],
            "execution_count": 5
        },
        {
            "cell_type": "code",
            "source": [
                "SELECT \r\n",
                "    name,\r\n",
                "    item_type,\r\n",
                "    power,\r\n",
                "    SUM(power) OVER() as sum_power,\r\n",
                "    (CAST(power AS DECIMAL(10, 2)) / CAST(SUM(power) OVER() AS DECIMAL(10, 2))) * 100 AS percent_total_power,\r\n",
                "    AVG(power) OVER() as avg_per_row\r\n",
                "FROM \r\n",
                "    items"
            ],
            "metadata": {
                "language": "sql",
                "azdata_cell_guid": "7e39bd75-3d01-4c9f-98ec-a72b41b84c69"
            },
            "outputs": [
                {
                    "output_type": "display_data",
                    "data": {
                        "text/html": "(20 rows affected)"
                    },
                    "metadata": {}
                },
                {
                    "output_type": "display_data",
                    "data": {
                        "text/html": "Total execution time: 00:00:00.016"
                    },
                    "metadata": {}
                },
                {
                    "output_type": "execute_result",
                    "metadata": {},
                    "execution_count": 9,
                    "data": {
                        "application/vnd.dataresource+json": {
                            "schema": {
                                "fields": [
                                    {
                                        "name": "name"
                                    },
                                    {
                                        "name": "item_type"
                                    },
                                    {
                                        "name": "power"
                                    },
                                    {
                                        "name": "sum_power"
                                    },
                                    {
                                        "name": "percent_total_power"
                                    },
                                    {
                                        "name": "avg_per_row"
                                    }
                                ]
                            },
                            "data": [
                                {
                                    "name": "Excalibur",
                                    "item_type": "Weapon",
                                    "power": "100",
                                    "sum_power": "1544",
                                    "percent_total_power": "6.4766839378200",
                                    "avg_per_row": "77"
                                },
                                {
                                    "name": "Elven Bow",
                                    "item_type": "Weapon",
                                    "power": "85",
                                    "sum_power": "1544",
                                    "percent_total_power": "5.5051813471500",
                                    "avg_per_row": "77"
                                },
                                {
                                    "name": "Dwarven Axe",
                                    "item_type": "Weapon",
                                    "power": "90",
                                    "sum_power": "1544",
                                    "percent_total_power": "5.8290155440400",
                                    "avg_per_row": "77"
                                },
                                {
                                    "name": "Healing Potion",
                                    "item_type": "Potion",
                                    "power": "50",
                                    "sum_power": "1544",
                                    "percent_total_power": "3.2383419689100",
                                    "avg_per_row": "77"
                                },
                                {
                                    "name": "Mana Potion",
                                    "item_type": "Potion",
                                    "power": "60",
                                    "sum_power": "1544",
                                    "percent_total_power": "3.8860103626900",
                                    "avg_per_row": "77"
                                },
                                {
                                    "name": "Leather Armor",
                                    "item_type": "Armor",
                                    "power": "40",
                                    "sum_power": "1544",
                                    "percent_total_power": "2.5906735751200",
                                    "avg_per_row": "77"
                                },
                                {
                                    "name": "Chainmail Armor",
                                    "item_type": "Armor",
                                    "power": "70",
                                    "sum_power": "1544",
                                    "percent_total_power": "4.5336787564700",
                                    "avg_per_row": "77"
                                },
                                {
                                    "name": "Dragon Scale Armor",
                                    "item_type": "Armor",
                                    "power": "90",
                                    "sum_power": "1544",
                                    "percent_total_power": "5.8290155440400",
                                    "avg_per_row": "77"
                                },
                                {
                                    "name": "Fireball Scroll",
                                    "item_type": "Weapon",
                                    "power": "75",
                                    "sum_power": "1544",
                                    "percent_total_power": "4.8575129533600",
                                    "avg_per_row": "77"
                                },
                                {
                                    "name": "Teleport Scroll",
                                    "item_type": "Weapon",
                                    "power": "80",
                                    "sum_power": "1544",
                                    "percent_total_power": "5.1813471502500",
                                    "avg_per_row": "77"
                                },
                                {
                                    "name": "Mithril Sword",
                                    "item_type": "Weapon",
                                    "power": "95",
                                    "sum_power": "1544",
                                    "percent_total_power": "6.1528497409300",
                                    "avg_per_row": "77"
                                },
                                {
                                    "name": "Elven Quiver",
                                    "item_type": "Weapon",
                                    "power": "82",
                                    "sum_power": "1544",
                                    "percent_total_power": "5.3108808290100",
                                    "avg_per_row": "77"
                                },
                                {
                                    "name": "Phoenix Feather",
                                    "item_type": "Weapon",
                                    "power": "100",
                                    "sum_power": "1544",
                                    "percent_total_power": "6.4766839378200",
                                    "avg_per_row": "77"
                                },
                                {
                                    "name": "Earthquake Rune",
                                    "item_type": "Weapon",
                                    "power": "88",
                                    "sum_power": "1544",
                                    "percent_total_power": "5.6994818652800",
                                    "avg_per_row": "77"
                                },
                                {
                                    "name": "Resurrection Stone",
                                    "item_type": "Potion",
                                    "power": "99",
                                    "sum_power": "1544",
                                    "percent_total_power": "6.4119170984400",
                                    "avg_per_row": "77"
                                },
                                {
                                    "name": "Stamina Elixir",
                                    "item_type": "Potion",
                                    "power": "30",
                                    "sum_power": "1544",
                                    "percent_total_power": "1.9430051813400",
                                    "avg_per_row": "77"
                                },
                                {
                                    "name": "Lightning Rod",
                                    "item_type": "Weapon",
                                    "power": "76",
                                    "sum_power": "1544",
                                    "percent_total_power": "4.9222797927400",
                                    "avg_per_row": "77"
                                },
                                {
                                    "name": "Steel Dagger",
                                    "item_type": "Weapon",
                                    "power": "65",
                                    "sum_power": "1544",
                                    "percent_total_power": "4.2098445595800",
                                    "avg_per_row": "77"
                                },
                                {
                                    "name": "Frostbite Blade",
                                    "item_type": "Weapon",
                                    "power": "91",
                                    "sum_power": "1544",
                                    "percent_total_power": "5.8937823834100",
                                    "avg_per_row": "77"
                                },
                                {
                                    "name": "Cloak of Invisibility",
                                    "item_type": "Armor",
                                    "power": "78",
                                    "sum_power": "1544",
                                    "percent_total_power": "5.0518134715000",
                                    "avg_per_row": "77"
                                }
                            ]
                        },
                        "text/html": [
                            "<table>",
                            "<tr><th>name</th><th>item_type</th><th>power</th><th>sum_power</th><th>percent_total_power</th><th>avg_per_row</th></tr>",
                            "<tr><td>Excalibur</td><td>Weapon</td><td>100</td><td>1544</td><td>6.4766839378200</td><td>77</td></tr>",
                            "<tr><td>Elven Bow</td><td>Weapon</td><td>85</td><td>1544</td><td>5.5051813471500</td><td>77</td></tr>",
                            "<tr><td>Dwarven Axe</td><td>Weapon</td><td>90</td><td>1544</td><td>5.8290155440400</td><td>77</td></tr>",
                            "<tr><td>Healing Potion</td><td>Potion</td><td>50</td><td>1544</td><td>3.2383419689100</td><td>77</td></tr>",
                            "<tr><td>Mana Potion</td><td>Potion</td><td>60</td><td>1544</td><td>3.8860103626900</td><td>77</td></tr>",
                            "<tr><td>Leather Armor</td><td>Armor</td><td>40</td><td>1544</td><td>2.5906735751200</td><td>77</td></tr>",
                            "<tr><td>Chainmail Armor</td><td>Armor</td><td>70</td><td>1544</td><td>4.5336787564700</td><td>77</td></tr>",
                            "<tr><td>Dragon Scale Armor</td><td>Armor</td><td>90</td><td>1544</td><td>5.8290155440400</td><td>77</td></tr>",
                            "<tr><td>Fireball Scroll</td><td>Weapon</td><td>75</td><td>1544</td><td>4.8575129533600</td><td>77</td></tr>",
                            "<tr><td>Teleport Scroll</td><td>Weapon</td><td>80</td><td>1544</td><td>5.1813471502500</td><td>77</td></tr>",
                            "<tr><td>Mithril Sword</td><td>Weapon</td><td>95</td><td>1544</td><td>6.1528497409300</td><td>77</td></tr>",
                            "<tr><td>Elven Quiver</td><td>Weapon</td><td>82</td><td>1544</td><td>5.3108808290100</td><td>77</td></tr>",
                            "<tr><td>Phoenix Feather</td><td>Weapon</td><td>100</td><td>1544</td><td>6.4766839378200</td><td>77</td></tr>",
                            "<tr><td>Earthquake Rune</td><td>Weapon</td><td>88</td><td>1544</td><td>5.6994818652800</td><td>77</td></tr>",
                            "<tr><td>Resurrection Stone</td><td>Potion</td><td>99</td><td>1544</td><td>6.4119170984400</td><td>77</td></tr>",
                            "<tr><td>Stamina Elixir</td><td>Potion</td><td>30</td><td>1544</td><td>1.9430051813400</td><td>77</td></tr>",
                            "<tr><td>Lightning Rod</td><td>Weapon</td><td>76</td><td>1544</td><td>4.9222797927400</td><td>77</td></tr>",
                            "<tr><td>Steel Dagger</td><td>Weapon</td><td>65</td><td>1544</td><td>4.2098445595800</td><td>77</td></tr>",
                            "<tr><td>Frostbite Blade</td><td>Weapon</td><td>91</td><td>1544</td><td>5.8937823834100</td><td>77</td></tr>",
                            "<tr><td>Cloak of Invisibility</td><td>Armor</td><td>78</td><td>1544</td><td>5.0518134715000</td><td>77</td></tr>",
                            "</table>"
                        ]
                    }
                }
            ],
            "execution_count": 9
        },
        {
            "cell_type": "code",
            "source": [
                "SELECT \r\n",
                "    item_type,\r\n",
                "    -- row by item_type.\r\n",
                "    -- each row will look at item_type, and partition table by each item_type.\r\n",
                "    SUM(power) OVER(PARTITION BY item_type) AS sum_power \r\n",
                "FROM \r\n",
                "    items"
            ],
            "metadata": {
                "language": "sql",
                "azdata_cell_guid": "9af99864-3505-490d-b0cd-6bdb20949011",
                "tags": []
            },
            "outputs": [
                {
                    "output_type": "display_data",
                    "data": {
                        "text/html": "(20 rows affected)"
                    },
                    "metadata": {}
                },
                {
                    "output_type": "display_data",
                    "data": {
                        "text/html": "Total execution time: 00:00:00.021"
                    },
                    "metadata": {}
                },
                {
                    "output_type": "execute_result",
                    "metadata": {},
                    "execution_count": 11,
                    "data": {
                        "application/vnd.dataresource+json": {
                            "schema": {
                                "fields": [
                                    {
                                        "name": "item_type"
                                    },
                                    {
                                        "name": "sum_power"
                                    }
                                ]
                            },
                            "data": [
                                {
                                    "item_type": "Armor",
                                    "sum_power": "278"
                                },
                                {
                                    "item_type": "Armor",
                                    "sum_power": "278"
                                },
                                {
                                    "item_type": "Armor",
                                    "sum_power": "278"
                                },
                                {
                                    "item_type": "Armor",
                                    "sum_power": "278"
                                },
                                {
                                    "item_type": "Potion",
                                    "sum_power": "239"
                                },
                                {
                                    "item_type": "Potion",
                                    "sum_power": "239"
                                },
                                {
                                    "item_type": "Potion",
                                    "sum_power": "239"
                                },
                                {
                                    "item_type": "Potion",
                                    "sum_power": "239"
                                },
                                {
                                    "item_type": "Weapon",
                                    "sum_power": "1027"
                                },
                                {
                                    "item_type": "Weapon",
                                    "sum_power": "1027"
                                },
                                {
                                    "item_type": "Weapon",
                                    "sum_power": "1027"
                                },
                                {
                                    "item_type": "Weapon",
                                    "sum_power": "1027"
                                },
                                {
                                    "item_type": "Weapon",
                                    "sum_power": "1027"
                                },
                                {
                                    "item_type": "Weapon",
                                    "sum_power": "1027"
                                },
                                {
                                    "item_type": "Weapon",
                                    "sum_power": "1027"
                                },
                                {
                                    "item_type": "Weapon",
                                    "sum_power": "1027"
                                },
                                {
                                    "item_type": "Weapon",
                                    "sum_power": "1027"
                                },
                                {
                                    "item_type": "Weapon",
                                    "sum_power": "1027"
                                },
                                {
                                    "item_type": "Weapon",
                                    "sum_power": "1027"
                                },
                                {
                                    "item_type": "Weapon",
                                    "sum_power": "1027"
                                }
                            ]
                        },
                        "text/html": [
                            "<table>",
                            "<tr><th>item_type</th><th>sum_power</th></tr>",
                            "<tr><td>Armor</td><td>278</td></tr>",
                            "<tr><td>Armor</td><td>278</td></tr>",
                            "<tr><td>Armor</td><td>278</td></tr>",
                            "<tr><td>Armor</td><td>278</td></tr>",
                            "<tr><td>Potion</td><td>239</td></tr>",
                            "<tr><td>Potion</td><td>239</td></tr>",
                            "<tr><td>Potion</td><td>239</td></tr>",
                            "<tr><td>Potion</td><td>239</td></tr>",
                            "<tr><td>Weapon</td><td>1027</td></tr>",
                            "<tr><td>Weapon</td><td>1027</td></tr>",
                            "<tr><td>Weapon</td><td>1027</td></tr>",
                            "<tr><td>Weapon</td><td>1027</td></tr>",
                            "<tr><td>Weapon</td><td>1027</td></tr>",
                            "<tr><td>Weapon</td><td>1027</td></tr>",
                            "<tr><td>Weapon</td><td>1027</td></tr>",
                            "<tr><td>Weapon</td><td>1027</td></tr>",
                            "<tr><td>Weapon</td><td>1027</td></tr>",
                            "<tr><td>Weapon</td><td>1027</td></tr>",
                            "<tr><td>Weapon</td><td>1027</td></tr>",
                            "<tr><td>Weapon</td><td>1027</td></tr>",
                            "</table>"
                        ]
                    }
                }
            ],
            "execution_count": 11
        },
        {
            "cell_type": "code",
            "source": [
                "--  cumul power\r\n",
                "\r\n",
                "SELECT \r\n",
                "    power,\r\n",
                "    SUM(power) OVER(ORDER BY power ASC)\r\n",
                "FROM \r\n",
                "    items"
            ],
            "metadata": {
                "language": "sql",
                "azdata_cell_guid": "8a4ef087-c441-4cd9-bdcb-7e07816619fc"
            },
            "outputs": [
                {
                    "output_type": "display_data",
                    "data": {
                        "text/html": "(20 rows affected)"
                    },
                    "metadata": {}
                },
                {
                    "output_type": "display_data",
                    "data": {
                        "text/html": "Total execution time: 00:00:00.031"
                    },
                    "metadata": {}
                },
                {
                    "output_type": "execute_result",
                    "metadata": {},
                    "execution_count": 14,
                    "data": {
                        "application/vnd.dataresource+json": {
                            "schema": {
                                "fields": [
                                    {
                                        "name": "power"
                                    },
                                    {
                                        "name": "(No column name)"
                                    }
                                ]
                            },
                            "data": [
                                {
                                    "power": "30",
                                    "(No column name)": "30"
                                },
                                {
                                    "power": "40",
                                    "(No column name)": "70"
                                },
                                {
                                    "power": "50",
                                    "(No column name)": "120"
                                },
                                {
                                    "power": "60",
                                    "(No column name)": "180"
                                },
                                {
                                    "power": "65",
                                    "(No column name)": "245"
                                },
                                {
                                    "power": "70",
                                    "(No column name)": "315"
                                },
                                {
                                    "power": "75",
                                    "(No column name)": "390"
                                },
                                {
                                    "power": "76",
                                    "(No column name)": "466"
                                },
                                {
                                    "power": "78",
                                    "(No column name)": "544"
                                },
                                {
                                    "power": "80",
                                    "(No column name)": "624"
                                },
                                {
                                    "power": "82",
                                    "(No column name)": "706"
                                },
                                {
                                    "power": "85",
                                    "(No column name)": "791"
                                },
                                {
                                    "power": "88",
                                    "(No column name)": "879"
                                },
                                {
                                    "power": "90",
                                    "(No column name)": "1059"
                                },
                                {
                                    "power": "90",
                                    "(No column name)": "1059"
                                },
                                {
                                    "power": "91",
                                    "(No column name)": "1150"
                                },
                                {
                                    "power": "95",
                                    "(No column name)": "1245"
                                },
                                {
                                    "power": "99",
                                    "(No column name)": "1344"
                                },
                                {
                                    "power": "100",
                                    "(No column name)": "1544"
                                },
                                {
                                    "power": "100",
                                    "(No column name)": "1544"
                                }
                            ]
                        },
                        "text/html": [
                            "<table>",
                            "<tr><th>power</th><th>(No column name)</th></tr>",
                            "<tr><td>30</td><td>30</td></tr>",
                            "<tr><td>40</td><td>70</td></tr>",
                            "<tr><td>50</td><td>120</td></tr>",
                            "<tr><td>60</td><td>180</td></tr>",
                            "<tr><td>65</td><td>245</td></tr>",
                            "<tr><td>70</td><td>315</td></tr>",
                            "<tr><td>75</td><td>390</td></tr>",
                            "<tr><td>76</td><td>466</td></tr>",
                            "<tr><td>78</td><td>544</td></tr>",
                            "<tr><td>80</td><td>624</td></tr>",
                            "<tr><td>82</td><td>706</td></tr>",
                            "<tr><td>85</td><td>791</td></tr>",
                            "<tr><td>88</td><td>879</td></tr>",
                            "<tr><td>90</td><td>1059</td></tr>",
                            "<tr><td>90</td><td>1059</td></tr>",
                            "<tr><td>91</td><td>1150</td></tr>",
                            "<tr><td>95</td><td>1245</td></tr>",
                            "<tr><td>99</td><td>1344</td></tr>",
                            "<tr><td>100</td><td>1544</td></tr>",
                            "<tr><td>100</td><td>1544</td></tr>",
                            "</table>"
                        ]
                    }
                }
            ],
            "execution_count": 14
        },
        {
            "cell_type": "code",
            "source": [
                "--  cumul power by type\r\n",
                "\r\n",
                "\r\n",
                "SELECT \r\n",
                "    item_type,\r\n",
                "    power,\r\n",
                "    SUM(power) OVER(PARTITION BY item_type ORDER BY power ASC)\r\n",
                "FROM \r\n",
                "    items\r\n",
                "ORDER BY \r\n",
                "    item_type,\r\n",
                "    power"
            ],
            "metadata": {
                "language": "sql",
                "azdata_cell_guid": "7b49c548-dd43-4c4c-85f2-6be65fcc4878"
            },
            "outputs": [
                {
                    "output_type": "display_data",
                    "data": {
                        "text/html": "(20 rows affected)"
                    },
                    "metadata": {}
                },
                {
                    "output_type": "display_data",
                    "data": {
                        "text/html": "Total execution time: 00:00:00.010"
                    },
                    "metadata": {}
                },
                {
                    "output_type": "execute_result",
                    "metadata": {},
                    "execution_count": 25,
                    "data": {
                        "application/vnd.dataresource+json": {
                            "schema": {
                                "fields": [
                                    {
                                        "name": "item_type"
                                    },
                                    {
                                        "name": "power"
                                    },
                                    {
                                        "name": "(No column name)"
                                    }
                                ]
                            },
                            "data": [
                                {
                                    "item_type": "Armor",
                                    "power": "40",
                                    "(No column name)": "40"
                                },
                                {
                                    "item_type": "Armor",
                                    "power": "70",
                                    "(No column name)": "110"
                                },
                                {
                                    "item_type": "Armor",
                                    "power": "78",
                                    "(No column name)": "188"
                                },
                                {
                                    "item_type": "Armor",
                                    "power": "90",
                                    "(No column name)": "278"
                                },
                                {
                                    "item_type": "Potion",
                                    "power": "30",
                                    "(No column name)": "30"
                                },
                                {
                                    "item_type": "Potion",
                                    "power": "50",
                                    "(No column name)": "80"
                                },
                                {
                                    "item_type": "Potion",
                                    "power": "60",
                                    "(No column name)": "140"
                                },
                                {
                                    "item_type": "Potion",
                                    "power": "99",
                                    "(No column name)": "239"
                                },
                                {
                                    "item_type": "Weapon",
                                    "power": "65",
                                    "(No column name)": "65"
                                },
                                {
                                    "item_type": "Weapon",
                                    "power": "75",
                                    "(No column name)": "140"
                                },
                                {
                                    "item_type": "Weapon",
                                    "power": "76",
                                    "(No column name)": "216"
                                },
                                {
                                    "item_type": "Weapon",
                                    "power": "80",
                                    "(No column name)": "296"
                                },
                                {
                                    "item_type": "Weapon",
                                    "power": "82",
                                    "(No column name)": "378"
                                },
                                {
                                    "item_type": "Weapon",
                                    "power": "85",
                                    "(No column name)": "463"
                                },
                                {
                                    "item_type": "Weapon",
                                    "power": "88",
                                    "(No column name)": "551"
                                },
                                {
                                    "item_type": "Weapon",
                                    "power": "90",
                                    "(No column name)": "641"
                                },
                                {
                                    "item_type": "Weapon",
                                    "power": "91",
                                    "(No column name)": "732"
                                },
                                {
                                    "item_type": "Weapon",
                                    "power": "95",
                                    "(No column name)": "827"
                                },
                                {
                                    "item_type": "Weapon",
                                    "power": "100",
                                    "(No column name)": "1027"
                                },
                                {
                                    "item_type": "Weapon",
                                    "power": "100",
                                    "(No column name)": "1027"
                                }
                            ]
                        },
                        "text/html": [
                            "<table>",
                            "<tr><th>item_type</th><th>power</th><th>(No column name)</th></tr>",
                            "<tr><td>Armor</td><td>40</td><td>40</td></tr>",
                            "<tr><td>Armor</td><td>70</td><td>110</td></tr>",
                            "<tr><td>Armor</td><td>78</td><td>188</td></tr>",
                            "<tr><td>Armor</td><td>90</td><td>278</td></tr>",
                            "<tr><td>Potion</td><td>30</td><td>30</td></tr>",
                            "<tr><td>Potion</td><td>50</td><td>80</td></tr>",
                            "<tr><td>Potion</td><td>60</td><td>140</td></tr>",
                            "<tr><td>Potion</td><td>99</td><td>239</td></tr>",
                            "<tr><td>Weapon</td><td>65</td><td>65</td></tr>",
                            "<tr><td>Weapon</td><td>75</td><td>140</td></tr>",
                            "<tr><td>Weapon</td><td>76</td><td>216</td></tr>",
                            "<tr><td>Weapon</td><td>80</td><td>296</td></tr>",
                            "<tr><td>Weapon</td><td>82</td><td>378</td></tr>",
                            "<tr><td>Weapon</td><td>85</td><td>463</td></tr>",
                            "<tr><td>Weapon</td><td>88</td><td>551</td></tr>",
                            "<tr><td>Weapon</td><td>90</td><td>641</td></tr>",
                            "<tr><td>Weapon</td><td>91</td><td>732</td></tr>",
                            "<tr><td>Weapon</td><td>95</td><td>827</td></tr>",
                            "<tr><td>Weapon</td><td>100</td><td>1027</td></tr>",
                            "<tr><td>Weapon</td><td>100</td><td>1027</td></tr>",
                            "</table>"
                        ]
                    }
                }
            ],
            "execution_count": 25
        },
        {
            "cell_type": "code",
            "source": [
                "SELECT \r\n",
                "    item_type,\r\n",
                "    power,\r\n",
                "    SUM(power) OVER() AS sum_power,\r\n",
                "    SUM(power) OVER(ORDER BY item_type) AS cumul_power,\r\n",
                "    SUM(power) OVER(PARTITION BY item_type) AS sum_item_type,\r\n",
                "    SUM(power) OVER(PARTITION BY item_type ORDER BY power ASC) cumul_power_by_type\r\n",
                "FROM \r\n",
                "    items\r\n",
                "ORDER BY \r\n",
                "    item_type,\r\n",
                "    power"
            ],
            "metadata": {
                "language": "sql",
                "azdata_cell_guid": "4bc8d473-16cd-4344-a993-d9f470585446"
            },
            "outputs": [
                {
                    "output_type": "display_data",
                    "data": {
                        "text/html": "(20 rows affected)"
                    },
                    "metadata": {}
                },
                {
                    "output_type": "display_data",
                    "data": {
                        "text/html": "Total execution time: 00:00:00.017"
                    },
                    "metadata": {}
                },
                {
                    "output_type": "execute_result",
                    "metadata": {},
                    "execution_count": 28,
                    "data": {
                        "application/vnd.dataresource+json": {
                            "schema": {
                                "fields": [
                                    {
                                        "name": "item_type"
                                    },
                                    {
                                        "name": "power"
                                    },
                                    {
                                        "name": "sum_power"
                                    },
                                    {
                                        "name": "cumul_power"
                                    },
                                    {
                                        "name": "sum_item_type"
                                    },
                                    {
                                        "name": "cumul_power_by_type"
                                    }
                                ]
                            },
                            "data": [
                                {
                                    "item_type": "Armor",
                                    "power": "40",
                                    "sum_power": "1544",
                                    "cumul_power": "278",
                                    "sum_item_type": "278",
                                    "cumul_power_by_type": "40"
                                },
                                {
                                    "item_type": "Armor",
                                    "power": "70",
                                    "sum_power": "1544",
                                    "cumul_power": "278",
                                    "sum_item_type": "278",
                                    "cumul_power_by_type": "110"
                                },
                                {
                                    "item_type": "Armor",
                                    "power": "78",
                                    "sum_power": "1544",
                                    "cumul_power": "278",
                                    "sum_item_type": "278",
                                    "cumul_power_by_type": "188"
                                },
                                {
                                    "item_type": "Armor",
                                    "power": "90",
                                    "sum_power": "1544",
                                    "cumul_power": "278",
                                    "sum_item_type": "278",
                                    "cumul_power_by_type": "278"
                                },
                                {
                                    "item_type": "Potion",
                                    "power": "30",
                                    "sum_power": "1544",
                                    "cumul_power": "517",
                                    "sum_item_type": "239",
                                    "cumul_power_by_type": "30"
                                },
                                {
                                    "item_type": "Potion",
                                    "power": "50",
                                    "sum_power": "1544",
                                    "cumul_power": "517",
                                    "sum_item_type": "239",
                                    "cumul_power_by_type": "80"
                                },
                                {
                                    "item_type": "Potion",
                                    "power": "60",
                                    "sum_power": "1544",
                                    "cumul_power": "517",
                                    "sum_item_type": "239",
                                    "cumul_power_by_type": "140"
                                },
                                {
                                    "item_type": "Potion",
                                    "power": "99",
                                    "sum_power": "1544",
                                    "cumul_power": "517",
                                    "sum_item_type": "239",
                                    "cumul_power_by_type": "239"
                                },
                                {
                                    "item_type": "Weapon",
                                    "power": "65",
                                    "sum_power": "1544",
                                    "cumul_power": "1544",
                                    "sum_item_type": "1027",
                                    "cumul_power_by_type": "65"
                                },
                                {
                                    "item_type": "Weapon",
                                    "power": "75",
                                    "sum_power": "1544",
                                    "cumul_power": "1544",
                                    "sum_item_type": "1027",
                                    "cumul_power_by_type": "140"
                                },
                                {
                                    "item_type": "Weapon",
                                    "power": "76",
                                    "sum_power": "1544",
                                    "cumul_power": "1544",
                                    "sum_item_type": "1027",
                                    "cumul_power_by_type": "216"
                                },
                                {
                                    "item_type": "Weapon",
                                    "power": "80",
                                    "sum_power": "1544",
                                    "cumul_power": "1544",
                                    "sum_item_type": "1027",
                                    "cumul_power_by_type": "296"
                                },
                                {
                                    "item_type": "Weapon",
                                    "power": "82",
                                    "sum_power": "1544",
                                    "cumul_power": "1544",
                                    "sum_item_type": "1027",
                                    "cumul_power_by_type": "378"
                                },
                                {
                                    "item_type": "Weapon",
                                    "power": "85",
                                    "sum_power": "1544",
                                    "cumul_power": "1544",
                                    "sum_item_type": "1027",
                                    "cumul_power_by_type": "463"
                                },
                                {
                                    "item_type": "Weapon",
                                    "power": "88",
                                    "sum_power": "1544",
                                    "cumul_power": "1544",
                                    "sum_item_type": "1027",
                                    "cumul_power_by_type": "551"
                                },
                                {
                                    "item_type": "Weapon",
                                    "power": "90",
                                    "sum_power": "1544",
                                    "cumul_power": "1544",
                                    "sum_item_type": "1027",
                                    "cumul_power_by_type": "641"
                                },
                                {
                                    "item_type": "Weapon",
                                    "power": "91",
                                    "sum_power": "1544",
                                    "cumul_power": "1544",
                                    "sum_item_type": "1027",
                                    "cumul_power_by_type": "732"
                                },
                                {
                                    "item_type": "Weapon",
                                    "power": "95",
                                    "sum_power": "1544",
                                    "cumul_power": "1544",
                                    "sum_item_type": "1027",
                                    "cumul_power_by_type": "827"
                                },
                                {
                                    "item_type": "Weapon",
                                    "power": "100",
                                    "sum_power": "1544",
                                    "cumul_power": "1544",
                                    "sum_item_type": "1027",
                                    "cumul_power_by_type": "1027"
                                },
                                {
                                    "item_type": "Weapon",
                                    "power": "100",
                                    "sum_power": "1544",
                                    "cumul_power": "1544",
                                    "sum_item_type": "1027",
                                    "cumul_power_by_type": "1027"
                                }
                            ]
                        },
                        "text/html": [
                            "<table>",
                            "<tr><th>item_type</th><th>power</th><th>sum_power</th><th>cumul_power</th><th>sum_item_type</th><th>cumul_power_by_type</th></tr>",
                            "<tr><td>Armor</td><td>40</td><td>1544</td><td>278</td><td>278</td><td>40</td></tr>",
                            "<tr><td>Armor</td><td>70</td><td>1544</td><td>278</td><td>278</td><td>110</td></tr>",
                            "<tr><td>Armor</td><td>78</td><td>1544</td><td>278</td><td>278</td><td>188</td></tr>",
                            "<tr><td>Armor</td><td>90</td><td>1544</td><td>278</td><td>278</td><td>278</td></tr>",
                            "<tr><td>Potion</td><td>30</td><td>1544</td><td>517</td><td>239</td><td>30</td></tr>",
                            "<tr><td>Potion</td><td>50</td><td>1544</td><td>517</td><td>239</td><td>80</td></tr>",
                            "<tr><td>Potion</td><td>60</td><td>1544</td><td>517</td><td>239</td><td>140</td></tr>",
                            "<tr><td>Potion</td><td>99</td><td>1544</td><td>517</td><td>239</td><td>239</td></tr>",
                            "<tr><td>Weapon</td><td>65</td><td>1544</td><td>1544</td><td>1027</td><td>65</td></tr>",
                            "<tr><td>Weapon</td><td>75</td><td>1544</td><td>1544</td><td>1027</td><td>140</td></tr>",
                            "<tr><td>Weapon</td><td>76</td><td>1544</td><td>1544</td><td>1027</td><td>216</td></tr>",
                            "<tr><td>Weapon</td><td>80</td><td>1544</td><td>1544</td><td>1027</td><td>296</td></tr>",
                            "<tr><td>Weapon</td><td>82</td><td>1544</td><td>1544</td><td>1027</td><td>378</td></tr>",
                            "<tr><td>Weapon</td><td>85</td><td>1544</td><td>1544</td><td>1027</td><td>463</td></tr>",
                            "<tr><td>Weapon</td><td>88</td><td>1544</td><td>1544</td><td>1027</td><td>551</td></tr>",
                            "<tr><td>Weapon</td><td>90</td><td>1544</td><td>1544</td><td>1027</td><td>641</td></tr>",
                            "<tr><td>Weapon</td><td>91</td><td>1544</td><td>1544</td><td>1027</td><td>732</td></tr>",
                            "<tr><td>Weapon</td><td>95</td><td>1544</td><td>1544</td><td>1027</td><td>827</td></tr>",
                            "<tr><td>Weapon</td><td>100</td><td>1544</td><td>1544</td><td>1027</td><td>1027</td></tr>",
                            "<tr><td>Weapon</td><td>100</td><td>1544</td><td>1544</td><td>1027</td><td>1027</td></tr>",
                            "</table>"
                        ]
                    }
                }
            ],
            "execution_count": 28
        },
        {
            "cell_type": "markdown",
            "source": [
                "# <span style=\"color: #93a1a1;font-style: italic;\">numbering functions</span>"
            ],
            "metadata": {
                "language": "sql",
                "azdata_cell_guid": "cc410bd5-ed69-41c8-95f5-e956f785d211"
            },
            "attachments": {}
        },
        {
            "cell_type": "code",
            "source": [
                "-- rank is another way of counting\r\n",
                "SELECT\r\n",
                "    item_id,\r\n",
                "    value,\r\n",
                "    ROW_NUMBER() OVER(ORDER BY value) AS row_number, -- ordering in different values.\r\n",
                "    DENSE_RANK() OVER(ORDER BY value) AS dense_rank, --  \r\n",
                "    RANK() OVER(ORDER BY value) AS rank -- \r\n",
                "FROM \r\n",
                "    inventory\r\n",
                "ORDER BY value"
            ],
            "metadata": {
                "language": "sql",
                "azdata_cell_guid": "a41462d9-8af0-490b-95d1-a1a5e30417be",
                "tags": []
            },
            "outputs": [
                {
                    "output_type": "display_data",
                    "data": {
                        "text/html": "(20 rows affected)"
                    },
                    "metadata": {}
                },
                {
                    "output_type": "display_data",
                    "data": {
                        "text/html": "Total execution time: 00:00:00.008"
                    },
                    "metadata": {}
                },
                {
                    "output_type": "execute_result",
                    "metadata": {},
                    "execution_count": 29,
                    "data": {
                        "application/vnd.dataresource+json": {
                            "schema": {
                                "fields": [
                                    {
                                        "name": "item_id"
                                    },
                                    {
                                        "name": "value"
                                    },
                                    {
                                        "name": "row_number"
                                    },
                                    {
                                        "name": "dense_rank"
                                    },
                                    {
                                        "name": "rank"
                                    }
                                ]
                            },
                            "data": [
                                {
                                    "item_id": "16",
                                    "value": "30",
                                    "row_number": "1",
                                    "dense_rank": "1",
                                    "rank": "1"
                                },
                                {
                                    "item_id": "4",
                                    "value": "50",
                                    "row_number": "2",
                                    "dense_rank": "2",
                                    "rank": "2"
                                },
                                {
                                    "item_id": "4",
                                    "value": "50",
                                    "row_number": "3",
                                    "dense_rank": "2",
                                    "rank": "2"
                                },
                                {
                                    "item_id": "101",
                                    "value": "60",
                                    "row_number": "4",
                                    "dense_rank": "3",
                                    "rank": "4"
                                },
                                {
                                    "item_id": "9",
                                    "value": "150",
                                    "row_number": "5",
                                    "dense_rank": "4",
                                    "rank": "5"
                                },
                                {
                                    "item_id": "10",
                                    "value": "160",
                                    "row_number": "6",
                                    "dense_rank": "5",
                                    "rank": "6"
                                },
                                {
                                    "item_id": "6",
                                    "value": "200",
                                    "row_number": "7",
                                    "dense_rank": "6",
                                    "rank": "7"
                                },
                                {
                                    "item_id": "7",
                                    "value": "700",
                                    "row_number": "8",
                                    "dense_rank": "7",
                                    "rank": "8"
                                },
                                {
                                    "item_id": "8",
                                    "value": "800",
                                    "row_number": "9",
                                    "dense_rank": "8",
                                    "rank": "9"
                                },
                                {
                                    "item_id": "2",
                                    "value": "1100",
                                    "row_number": "10",
                                    "dense_rank": "9",
                                    "rank": "10"
                                },
                                {
                                    "item_id": "12",
                                    "value": "1200",
                                    "row_number": "11",
                                    "dense_rank": "10",
                                    "rank": "11"
                                },
                                {
                                    "item_id": "13",
                                    "value": "1300",
                                    "row_number": "12",
                                    "dense_rank": "11",
                                    "rank": "12"
                                },
                                {
                                    "item_id": "3",
                                    "value": "1300",
                                    "row_number": "13",
                                    "dense_rank": "11",
                                    "rank": "12"
                                },
                                {
                                    "item_id": "14",
                                    "value": "1400",
                                    "row_number": "14",
                                    "dense_rank": "12",
                                    "rank": "14"
                                },
                                {
                                    "item_id": "15",
                                    "value": "1500",
                                    "row_number": "15",
                                    "dense_rank": "13",
                                    "rank": "15"
                                },
                                {
                                    "item_id": "99",
                                    "value": "1500",
                                    "row_number": "16",
                                    "dense_rank": "13",
                                    "rank": "15"
                                },
                                {
                                    "item_id": "11",
                                    "value": "1700",
                                    "row_number": "17",
                                    "dense_rank": "14",
                                    "rank": "17"
                                },
                                {
                                    "item_id": "17",
                                    "value": "1700",
                                    "row_number": "18",
                                    "dense_rank": "14",
                                    "rank": "17"
                                },
                                {
                                    "item_id": "18",
                                    "value": "1800",
                                    "row_number": "19",
                                    "dense_rank": "15",
                                    "rank": "19"
                                },
                                {
                                    "item_id": "121",
                                    "value": "2000",
                                    "row_number": "20",
                                    "dense_rank": "16",
                                    "rank": "20"
                                }
                            ]
                        },
                        "text/html": [
                            "<table>",
                            "<tr><th>item_id</th><th>value</th><th>row_number</th><th>dense_rank</th><th>rank</th></tr>",
                            "<tr><td>16</td><td>30</td><td>1</td><td>1</td><td>1</td></tr>",
                            "<tr><td>4</td><td>50</td><td>2</td><td>2</td><td>2</td></tr>",
                            "<tr><td>4</td><td>50</td><td>3</td><td>2</td><td>2</td></tr>",
                            "<tr><td>101</td><td>60</td><td>4</td><td>3</td><td>4</td></tr>",
                            "<tr><td>9</td><td>150</td><td>5</td><td>4</td><td>5</td></tr>",
                            "<tr><td>10</td><td>160</td><td>6</td><td>5</td><td>6</td></tr>",
                            "<tr><td>6</td><td>200</td><td>7</td><td>6</td><td>7</td></tr>",
                            "<tr><td>7</td><td>700</td><td>8</td><td>7</td><td>8</td></tr>",
                            "<tr><td>8</td><td>800</td><td>9</td><td>8</td><td>9</td></tr>",
                            "<tr><td>2</td><td>1100</td><td>10</td><td>9</td><td>10</td></tr>",
                            "<tr><td>12</td><td>1200</td><td>11</td><td>10</td><td>11</td></tr>",
                            "<tr><td>13</td><td>1300</td><td>12</td><td>11</td><td>12</td></tr>",
                            "<tr><td>3</td><td>1300</td><td>13</td><td>11</td><td>12</td></tr>",
                            "<tr><td>14</td><td>1400</td><td>14</td><td>12</td><td>14</td></tr>",
                            "<tr><td>15</td><td>1500</td><td>15</td><td>13</td><td>15</td></tr>",
                            "<tr><td>99</td><td>1500</td><td>16</td><td>13</td><td>15</td></tr>",
                            "<tr><td>11</td><td>1700</td><td>17</td><td>14</td><td>17</td></tr>",
                            "<tr><td>17</td><td>1700</td><td>18</td><td>14</td><td>17</td></tr>",
                            "<tr><td>18</td><td>1800</td><td>19</td><td>15</td><td>19</td></tr>",
                            "<tr><td>121</td><td>2000</td><td>20</td><td>16</td><td>20</td></tr>",
                            "</table>"
                        ]
                    }
                }
            ],
            "execution_count": 29
        },
        {
            "cell_type": "code",
            "source": [
                "SELECT\r\n",
                "    RANK() OVER(ORDER BY value DESC) AS rank \r\n",
                "FROM \r\n",
                "    inventory\r\n",
                "ORDER BY value"
            ],
            "metadata": {
                "language": "sql",
                "azdata_cell_guid": "d3927654-da73-457c-a66e-1bf7309916eb"
            },
            "outputs": [
                {
                    "output_type": "display_data",
                    "data": {
                        "text/html": "(20 rows affected)"
                    },
                    "metadata": {}
                },
                {
                    "output_type": "display_data",
                    "data": {
                        "text/html": "Total execution time: 00:00:00.016"
                    },
                    "metadata": {}
                },
                {
                    "output_type": "execute_result",
                    "metadata": {},
                    "execution_count": 30,
                    "data": {
                        "application/vnd.dataresource+json": {
                            "schema": {
                                "fields": [
                                    {
                                        "name": "rank"
                                    }
                                ]
                            },
                            "data": [
                                {
                                    "rank": "20"
                                },
                                {
                                    "rank": "18"
                                },
                                {
                                    "rank": "18"
                                },
                                {
                                    "rank": "17"
                                },
                                {
                                    "rank": "16"
                                },
                                {
                                    "rank": "15"
                                },
                                {
                                    "rank": "14"
                                },
                                {
                                    "rank": "13"
                                },
                                {
                                    "rank": "12"
                                },
                                {
                                    "rank": "11"
                                },
                                {
                                    "rank": "10"
                                },
                                {
                                    "rank": "8"
                                },
                                {
                                    "rank": "8"
                                },
                                {
                                    "rank": "7"
                                },
                                {
                                    "rank": "5"
                                },
                                {
                                    "rank": "5"
                                },
                                {
                                    "rank": "3"
                                },
                                {
                                    "rank": "3"
                                },
                                {
                                    "rank": "2"
                                },
                                {
                                    "rank": "1"
                                }
                            ]
                        },
                        "text/html": [
                            "<table>",
                            "<tr><th>rank</th></tr>",
                            "<tr><td>20</td></tr>",
                            "<tr><td>18</td></tr>",
                            "<tr><td>18</td></tr>",
                            "<tr><td>17</td></tr>",
                            "<tr><td>16</td></tr>",
                            "<tr><td>15</td></tr>",
                            "<tr><td>14</td></tr>",
                            "<tr><td>13</td></tr>",
                            "<tr><td>12</td></tr>",
                            "<tr><td>11</td></tr>",
                            "<tr><td>10</td></tr>",
                            "<tr><td>8</td></tr>",
                            "<tr><td>8</td></tr>",
                            "<tr><td>7</td></tr>",
                            "<tr><td>5</td></tr>",
                            "<tr><td>5</td></tr>",
                            "<tr><td>3</td></tr>",
                            "<tr><td>3</td></tr>",
                            "<tr><td>2</td></tr>",
                            "<tr><td>1</td></tr>",
                            "</table>"
                        ]
                    }
                }
            ],
            "execution_count": 30
        },
        {
            "cell_type": "code",
            "source": [
                "SELECT\r\n",
                "    class,\r\n",
                "    level,\r\n",
                "    RANK() OVER(PARTITION BY class ORDER BY level DESC) AS levl_rank \r\n",
                "FROM \r\n",
                "    characters;"
            ],
            "metadata": {
                "language": "sql",
                "azdata_cell_guid": "607462bb-8df5-4b2e-823f-02dbbd43a673",
                "tags": []
            },
            "outputs": [
                {
                    "output_type": "display_data",
                    "data": {
                        "text/html": "(14 rows affected)"
                    },
                    "metadata": {}
                },
                {
                    "output_type": "display_data",
                    "data": {
                        "text/html": "Total execution time: 00:00:00.011"
                    },
                    "metadata": {}
                },
                {
                    "output_type": "execute_result",
                    "metadata": {},
                    "execution_count": 31,
                    "data": {
                        "application/vnd.dataresource+json": {
                            "schema": {
                                "fields": [
                                    {
                                        "name": "class"
                                    },
                                    {
                                        "name": "level"
                                    },
                                    {
                                        "name": "levl_rank"
                                    }
                                ]
                            },
                            "data": [
                                {
                                    "class": "Archer",
                                    "level": "26",
                                    "levl_rank": "1"
                                },
                                {
                                    "class": "Archer",
                                    "level": "19",
                                    "levl_rank": "2"
                                },
                                {
                                    "class": "Hobbit",
                                    "level": "13",
                                    "levl_rank": "1"
                                },
                                {
                                    "class": "Hobbit",
                                    "level": "12",
                                    "levl_rank": "2"
                                },
                                {
                                    "class": "Hobbit",
                                    "level": "11",
                                    "levl_rank": "3"
                                },
                                {
                                    "class": "Hobbit",
                                    "level": "11",
                                    "levl_rank": "3"
                                },
                                {
                                    "class": "Mage",
                                    "level": "40",
                                    "levl_rank": "1"
                                },
                                {
                                    "class": "Mage",
                                    "level": "30",
                                    "levl_rank": "2"
                                },
                                {
                                    "class": "Mage",
                                    "level": "28",
                                    "levl_rank": "3"
                                },
                                {
                                    "class": "Mage",
                                    "level": "27",
                                    "levl_rank": "4"
                                },
                                {
                                    "class": "Warrior",
                                    "level": "25",
                                    "levl_rank": "1"
                                },
                                {
                                    "class": "Warrior",
                                    "level": "20",
                                    "levl_rank": "2"
                                },
                                {
                                    "class": "Warrior",
                                    "level": "18",
                                    "levl_rank": "3"
                                },
                                {
                                    "class": "Warrior",
                                    "level": "17",
                                    "levl_rank": "4"
                                }
                            ]
                        },
                        "text/html": [
                            "<table>",
                            "<tr><th>class</th><th>level</th><th>levl_rank</th></tr>",
                            "<tr><td>Archer</td><td>26</td><td>1</td></tr>",
                            "<tr><td>Archer</td><td>19</td><td>2</td></tr>",
                            "<tr><td>Hobbit</td><td>13</td><td>1</td></tr>",
                            "<tr><td>Hobbit</td><td>12</td><td>2</td></tr>",
                            "<tr><td>Hobbit</td><td>11</td><td>3</td></tr>",
                            "<tr><td>Hobbit</td><td>11</td><td>3</td></tr>",
                            "<tr><td>Mage</td><td>40</td><td>1</td></tr>",
                            "<tr><td>Mage</td><td>30</td><td>2</td></tr>",
                            "<tr><td>Mage</td><td>28</td><td>3</td></tr>",
                            "<tr><td>Mage</td><td>27</td><td>4</td></tr>",
                            "<tr><td>Warrior</td><td>25</td><td>1</td></tr>",
                            "<tr><td>Warrior</td><td>20</td><td>2</td></tr>",
                            "<tr><td>Warrior</td><td>18</td><td>3</td></tr>",
                            "<tr><td>Warrior</td><td>17</td><td>4</td></tr>",
                            "</table>"
                        ]
                    }
                }
            ],
            "execution_count": 31
        }
    ]
}
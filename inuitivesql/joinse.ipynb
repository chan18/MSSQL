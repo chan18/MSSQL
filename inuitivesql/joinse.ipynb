{
    "metadata": {
        "kernelspec": {
            "name": "SQL",
            "display_name": "SQL",
            "language": "sql"
        },
        "language_info": {
            "name": "sql",
            "version": ""
        }
    },
    "nbformat_minor": 2,
    "nbformat": 4,
    "cells": [
        {
            "cell_type": "markdown",
            "source": [
                ""
            ],
            "metadata": {
                "azdata_cell_guid": "66dd6f8e-fd51-4fa2-9ab0-5bbdf8516ab2"
            }
        },
        {
            "cell_type": "code",
            "source": [
                "SELECT\r\n",
                "    * \r\n",
                "FROM \r\n",
                "    inventory\r\n",
                "WHERE\r\n",
                "    character_id = 6;"
            ],
            "metadata": {
                "azdata_cell_guid": "f5ff192c-e762-43dd-9583-65be20614adf",
                "language": "sql"
            },
            "outputs": [
                {
                    "output_type": "display_data",
                    "data": {
                        "text/html": "(2 rows affected)"
                    },
                    "metadata": {}
                },
                {
                    "output_type": "display_data",
                    "data": {
                        "text/html": "Total execution time: 00:00:00.008"
                    },
                    "metadata": {}
                },
                {
                    "output_type": "execute_result",
                    "metadata": {},
                    "execution_count": 1,
                    "data": {
                        "application/vnd.dataresource+json": {
                            "schema": {
                                "fields": [
                                    {
                                        "name": "id"
                                    },
                                    {
                                        "name": "character_id"
                                    },
                                    {
                                        "name": "item_id"
                                    },
                                    {
                                        "name": "quantity"
                                    },
                                    {
                                        "name": "is_equipped"
                                    },
                                    {
                                        "name": "purchase_date"
                                    },
                                    {
                                        "name": "expiry_date"
                                    },
                                    {
                                        "name": "value"
                                    }
                                ]
                            },
                            "data": [
                                {
                                    "id": "9",
                                    "character_id": "6",
                                    "item_id": "11",
                                    "quantity": "1",
                                    "is_equipped": "TRUE",
                                    "purchase_date": "2023-09-22 11:00:00.0000000 +00:00",
                                    "expiry_date": "NULL",
                                    "value": "1700"
                                },
                                {
                                    "id": "10",
                                    "character_id": "6",
                                    "item_id": "16",
                                    "quantity": "1",
                                    "is_equipped": "FALSE",
                                    "purchase_date": "2023-09-23 09:00:00.0000000 +00:00",
                                    "expiry_date": "2023-10-23 09:00:00.0000000 +00:00",
                                    "value": "30"
                                }
                            ]
                        },
                        "text/html": [
                            "<table>",
                            "<tr><th>id</th><th>character_id</th><th>item_id</th><th>quantity</th><th>is_equipped</th><th>purchase_date</th><th>expiry_date</th><th>value</th></tr>",
                            "<tr><td>9</td><td>6</td><td>11</td><td>1</td><td>TRUE</td><td>2023-09-22 11:00:00.0000000 +00:00</td><td>NULL</td><td>1700</td></tr>",
                            "<tr><td>10</td><td>6</td><td>16</td><td>1</td><td>FALSE</td><td>2023-09-23 09:00:00.0000000 +00:00</td><td>2023-10-23 09:00:00.0000000 +00:00</td><td>30</td></tr>",
                            "</table>"
                        ]
                    }
                }
            ],
            "execution_count": 1
        },
        {
            "cell_type": "code",
            "source": [
                "SELECT\r\n",
                "    c.id,\r\n",
                "    c.name,\r\n",
                "    i.item_id,\r\n",
                "    i.quantity\r\n",
                "FROM \r\n",
                "    characters c\r\n",
                "JOIN \r\n",
                "    inventory I\r\n",
                "ON \r\n",
                "    i.character_id = c.id\r\n",
                "ORDER BY\r\n",
                "     c.id,\r\n",
                "     i.item_id; "
            ],
            "metadata": {
                "language": "sql",
                "azdata_cell_guid": "c2170dc7-6684-40b5-ab30-b3981156e0a7"
            },
            "outputs": [
                {
                    "output_type": "display_data",
                    "data": {
                        "text/html": "(18 rows affected)"
                    },
                    "metadata": {}
                },
                {
                    "output_type": "display_data",
                    "data": {
                        "text/html": "Total execution time: 00:00:00.022"
                    },
                    "metadata": {}
                },
                {
                    "output_type": "execute_result",
                    "metadata": {},
                    "execution_count": 7,
                    "data": {
                        "application/vnd.dataresource+json": {
                            "schema": {
                                "fields": [
                                    {
                                        "name": "id"
                                    },
                                    {
                                        "name": "name"
                                    },
                                    {
                                        "name": "item_id"
                                    },
                                    {
                                        "name": "quantity"
                                    }
                                ]
                            },
                            "data": [
                                {
                                    "id": "1",
                                    "name": "Aragorn",
                                    "item_id": "4",
                                    "quantity": "2"
                                },
                                {
                                    "id": "1",
                                    "name": "Aragorn",
                                    "item_id": "99",
                                    "quantity": "1"
                                },
                                {
                                    "id": "3",
                                    "name": "Gimli",
                                    "item_id": "3",
                                    "quantity": "1"
                                },
                                {
                                    "id": "3",
                                    "name": "Gimli",
                                    "item_id": "6",
                                    "quantity": "1"
                                },
                                {
                                    "id": "4",
                                    "name": "Frodo",
                                    "item_id": "9",
                                    "quantity": "2"
                                },
                                {
                                    "id": "5",
                                    "name": "Sam",
                                    "item_id": "10",
                                    "quantity": "1"
                                },
                                {
                                    "id": "6",
                                    "name": "Gandalf",
                                    "item_id": "11",
                                    "quantity": "1"
                                },
                                {
                                    "id": "6",
                                    "name": "Gandalf",
                                    "item_id": "16",
                                    "quantity": "1"
                                },
                                {
                                    "id": "7",
                                    "name": "Boromir",
                                    "item_id": "4",
                                    "quantity": "1"
                                },
                                {
                                    "id": "7",
                                    "name": "Boromir",
                                    "item_id": "7",
                                    "quantity": "1"
                                },
                                {
                                    "id": "8",
                                    "name": "Merry",
                                    "item_id": "8",
                                    "quantity": "1"
                                },
                                {
                                    "id": "9",
                                    "name": "Pippin",
                                    "item_id": "12",
                                    "quantity": "1"
                                },
                                {
                                    "id": "10",
                                    "name": "Sauron",
                                    "item_id": "13",
                                    "quantity": "1"
                                },
                                {
                                    "id": "11",
                                    "name": "Saruman",
                                    "item_id": "14",
                                    "quantity": "1"
                                },
                                {
                                    "id": "12",
                                    "name": "Elrond",
                                    "item_id": "15",
                                    "quantity": "1"
                                },
                                {
                                    "id": "13",
                                    "name": "Thranduil",
                                    "item_id": "17",
                                    "quantity": "1"
                                },
                                {
                                    "id": "14",
                                    "name": "Eowyn",
                                    "item_id": "18",
                                    "quantity": "1"
                                },
                                {
                                    "id": "15",
                                    "name": "Faramir",
                                    "item_id": "121",
                                    "quantity": "1"
                                }
                            ]
                        },
                        "text/html": [
                            "<table>",
                            "<tr><th>id</th><th>name</th><th>item_id</th><th>quantity</th></tr>",
                            "<tr><td>1</td><td>Aragorn</td><td>4</td><td>2</td></tr>",
                            "<tr><td>1</td><td>Aragorn</td><td>99</td><td>1</td></tr>",
                            "<tr><td>3</td><td>Gimli</td><td>3</td><td>1</td></tr>",
                            "<tr><td>3</td><td>Gimli</td><td>6</td><td>1</td></tr>",
                            "<tr><td>4</td><td>Frodo</td><td>9</td><td>2</td></tr>",
                            "<tr><td>5</td><td>Sam</td><td>10</td><td>1</td></tr>",
                            "<tr><td>6</td><td>Gandalf</td><td>11</td><td>1</td></tr>",
                            "<tr><td>6</td><td>Gandalf</td><td>16</td><td>1</td></tr>",
                            "<tr><td>7</td><td>Boromir</td><td>4</td><td>1</td></tr>",
                            "<tr><td>7</td><td>Boromir</td><td>7</td><td>1</td></tr>",
                            "<tr><td>8</td><td>Merry</td><td>8</td><td>1</td></tr>",
                            "<tr><td>9</td><td>Pippin</td><td>12</td><td>1</td></tr>",
                            "<tr><td>10</td><td>Sauron</td><td>13</td><td>1</td></tr>",
                            "<tr><td>11</td><td>Saruman</td><td>14</td><td>1</td></tr>",
                            "<tr><td>12</td><td>Elrond</td><td>15</td><td>1</td></tr>",
                            "<tr><td>13</td><td>Thranduil</td><td>17</td><td>1</td></tr>",
                            "<tr><td>14</td><td>Eowyn</td><td>18</td><td>1</td></tr>",
                            "<tr><td>15</td><td>Faramir</td><td>121</td><td>1</td></tr>",
                            "</table>"
                        ]
                    }
                }
            ],
            "execution_count": 7
        },
        {
            "cell_type": "code",
            "source": [
                "SELECT\r\n",
                "    * \r\n",
                "FROM \r\n",
                "    inventory\r\n",
                "WHERE\r\n",
                "    character_id = 9;"
            ],
            "metadata": {
                "language": "sql",
                "azdata_cell_guid": "fe252579-69d4-4eb9-a751-f03d4acf22bf"
            },
            "outputs": [
                {
                    "output_type": "display_data",
                    "data": {
                        "text/html": "(1 row affected)"
                    },
                    "metadata": {}
                },
                {
                    "output_type": "display_data",
                    "data": {
                        "text/html": "Total execution time: 00:00:00.023"
                    },
                    "metadata": {}
                },
                {
                    "output_type": "execute_result",
                    "metadata": {},
                    "execution_count": 2,
                    "data": {
                        "application/vnd.dataresource+json": {
                            "schema": {
                                "fields": [
                                    {
                                        "name": "id"
                                    },
                                    {
                                        "name": "character_id"
                                    },
                                    {
                                        "name": "item_id"
                                    },
                                    {
                                        "name": "quantity"
                                    },
                                    {
                                        "name": "is_equipped"
                                    },
                                    {
                                        "name": "purchase_date"
                                    },
                                    {
                                        "name": "expiry_date"
                                    },
                                    {
                                        "name": "value"
                                    }
                                ]
                            },
                            "data": [
                                {
                                    "id": "14",
                                    "character_id": "9",
                                    "item_id": "12",
                                    "quantity": "1",
                                    "is_equipped": "TRUE",
                                    "purchase_date": "2023-09-21 11:00:00.0000000 +00:00",
                                    "expiry_date": "NULL",
                                    "value": "1200"
                                }
                            ]
                        },
                        "text/html": [
                            "<table>",
                            "<tr><th>id</th><th>character_id</th><th>item_id</th><th>quantity</th><th>is_equipped</th><th>purchase_date</th><th>expiry_date</th><th>value</th></tr>",
                            "<tr><td>14</td><td>9</td><td>12</td><td>1</td><td>TRUE</td><td>2023-09-21 11:00:00.0000000 +00:00</td><td>NULL</td><td>1200</td></tr>",
                            "</table>"
                        ]
                    }
                }
            ],
            "execution_count": 2
        },
        {
            "cell_type": "markdown",
            "source": [
                "# INNER JOIN"
            ],
            "metadata": {
                "language": "sql",
                "azdata_cell_guid": "a9049ae8-9ef8-4784-82ac-0ec572aace47"
            },
            "attachments": {}
        },
        {
            "cell_type": "code",
            "source": [
                "SELECT\r\n",
                "    c.id,\r\n",
                "    c.name,\r\n",
                "    i.item_id,\r\n",
                "    i.quantity\r\n",
                "FROM \r\n",
                "    characters c\r\n",
                "JOIN \r\n",
                "    inventory I\r\n",
                "ON \r\n",
                "    i.character_id = c.id\r\n",
                "WHERE \r\n",
                "    i.quantity >= 2\r\n",
                "ORDER BY\r\n",
                "     c.id,\r\n",
                "     i.item_id; "
            ],
            "metadata": {
                "language": "sql",
                "azdata_cell_guid": "a94c2f78-c804-4a2a-aa0f-9a98419d4811"
            },
            "outputs": [
                {
                    "output_type": "display_data",
                    "data": {
                        "text/html": "(2 rows affected)"
                    },
                    "metadata": {}
                },
                {
                    "output_type": "display_data",
                    "data": {
                        "text/html": "Total execution time: 00:00:00.027"
                    },
                    "metadata": {}
                },
                {
                    "output_type": "execute_result",
                    "metadata": {},
                    "execution_count": 8,
                    "data": {
                        "application/vnd.dataresource+json": {
                            "schema": {
                                "fields": [
                                    {
                                        "name": "id"
                                    },
                                    {
                                        "name": "name"
                                    },
                                    {
                                        "name": "item_id"
                                    },
                                    {
                                        "name": "quantity"
                                    }
                                ]
                            },
                            "data": [
                                {
                                    "id": "1",
                                    "name": "Aragorn",
                                    "item_id": "4",
                                    "quantity": "2"
                                },
                                {
                                    "id": "4",
                                    "name": "Frodo",
                                    "item_id": "9",
                                    "quantity": "2"
                                }
                            ]
                        },
                        "text/html": [
                            "<table>",
                            "<tr><th>id</th><th>name</th><th>item_id</th><th>quantity</th></tr>",
                            "<tr><td>1</td><td>Aragorn</td><td>4</td><td>2</td></tr>",
                            "<tr><td>4</td><td>Frodo</td><td>9</td><td>2</td></tr>",
                            "</table>"
                        ]
                    }
                }
            ],
            "execution_count": 8
        },
        {
            "cell_type": "code",
            "source": [
                "SELECT\r\n",
                "    c.id,\r\n",
                "    c.name,\r\n",
                "    i.item_id,\r\n",
                "    i.quantity,\r\n",
                "    it.name AS item_name,\r\n",
                "    it.power\r\n",
                "FROM \r\n",
                "    characters c\r\n",
                "JOIN \r\n",
                "    inventory I\r\n",
                "ON \r\n",
                "    i.character_id = c.id\r\n",
                "JOIN \r\n",
                "    items it\r\n",
                "ON\r\n",
                "    i.item_id = it.id\r\n",
                "WHERE \r\n",
                "    i.quantity >= 2\r\n",
                "ORDER BY\r\n",
                "     c.id,\r\n",
                "     i.item_id; "
            ],
            "metadata": {
                "language": "sql",
                "azdata_cell_guid": "85df7ec0-b61b-4b0b-8bc9-4f949fb2e463"
            },
            "outputs": [
                {
                    "output_type": "display_data",
                    "data": {
                        "text/html": "(2 rows affected)"
                    },
                    "metadata": {}
                },
                {
                    "output_type": "display_data",
                    "data": {
                        "text/html": "Total execution time: 00:00:00.057"
                    },
                    "metadata": {}
                },
                {
                    "output_type": "execute_result",
                    "metadata": {},
                    "execution_count": 12,
                    "data": {
                        "application/vnd.dataresource+json": {
                            "schema": {
                                "fields": [
                                    {
                                        "name": "id"
                                    },
                                    {
                                        "name": "name"
                                    },
                                    {
                                        "name": "item_id"
                                    },
                                    {
                                        "name": "quantity"
                                    },
                                    {
                                        "name": "item_name"
                                    },
                                    {
                                        "name": "power"
                                    }
                                ]
                            },
                            "data": [
                                {
                                    "id": "1",
                                    "name": "Aragorn",
                                    "item_id": "4",
                                    "quantity": "2",
                                    "item_name": "Healing Potion",
                                    "power": "50"
                                },
                                {
                                    "id": "4",
                                    "name": "Frodo",
                                    "item_id": "9",
                                    "quantity": "2",
                                    "item_name": "Fireball Scroll",
                                    "power": "75"
                                }
                            ]
                        },
                        "text/html": [
                            "<table>",
                            "<tr><th>id</th><th>name</th><th>item_id</th><th>quantity</th><th>item_name</th><th>power</th></tr>",
                            "<tr><td>1</td><td>Aragorn</td><td>4</td><td>2</td><td>Healing Potion</td><td>50</td></tr>",
                            "<tr><td>4</td><td>Frodo</td><td>9</td><td>2</td><td>Fireball Scroll</td><td>75</td></tr>",
                            "</table>"
                        ]
                    }
                }
            ],
            "execution_count": 12
        },
        {
            "cell_type": "markdown",
            "source": [
                "# SELF - JOIN"
            ],
            "metadata": {
                "language": "sql",
                "azdata_cell_guid": "1b07d1c8-d466-4e40-a190-5f64e0175bd0"
            },
            "attachments": {}
        },
        {
            "cell_type": "code",
            "source": [
                "SELECT\r\n",
                "    *\r\n",
                "FROM \r\n",
                "    characters chars\r\n",
                "JOIN \r\n",
                "    characterS mentors\r\n",
                "ON \r\n",
                "    chars.mentor_id = mentors.id"
            ],
            "metadata": {
                "language": "sql",
                "azdata_cell_guid": "35273729-e79e-4d75-bed5-6878ba89acad"
            },
            "outputs": [
                {
                    "output_type": "display_data",
                    "data": {
                        "text/html": "(8 rows affected)"
                    },
                    "metadata": {}
                },
                {
                    "output_type": "display_data",
                    "data": {
                        "text/html": "Total execution time: 00:00:00.014"
                    },
                    "metadata": {}
                },
                {
                    "output_type": "execute_result",
                    "metadata": {},
                    "execution_count": 13,
                    "data": {
                        "application/vnd.dataresource+json": {
                            "schema": {
                                "fields": [
                                    {
                                        "name": "id"
                                    },
                                    {
                                        "name": "name"
                                    },
                                    {
                                        "name": "guild"
                                    },
                                    {
                                        "name": "class"
                                    },
                                    {
                                        "name": "level"
                                    },
                                    {
                                        "name": "experience"
                                    },
                                    {
                                        "name": "health"
                                    },
                                    {
                                        "name": "is_alive"
                                    },
                                    {
                                        "name": "last_active"
                                    },
                                    {
                                        "name": "mentor_id"
                                    },
                                    {
                                        "name": "id"
                                    },
                                    {
                                        "name": "name"
                                    },
                                    {
                                        "name": "guild"
                                    },
                                    {
                                        "name": "class"
                                    },
                                    {
                                        "name": "level"
                                    },
                                    {
                                        "name": "experience"
                                    },
                                    {
                                        "name": "health"
                                    },
                                    {
                                        "name": "is_alive"
                                    },
                                    {
                                        "name": "last_active"
                                    },
                                    {
                                        "name": "mentor_id"
                                    }
                                ]
                            },
                            "data": [
                                {
                                    "id": "1",
                                    "name": "Aragorn",
                                    "guild": "Rangers",
                                    "class": "Warrior",
                                    "level": "25",
                                    "experience": "9000",
                                    "health": "120.5",
                                    "is_alive": "TRUE",
                                    "last_active": "2023-09-20 08:00:00.0000000 +00:00",
                                    "mentor_id": "NULL"
                                },
                                {
                                    "id": "1",
                                    "name": "Aragorn",
                                    "guild": "Rangers",
                                    "class": "Warrior",
                                    "level": "25",
                                    "experience": "9000",
                                    "health": "120.5",
                                    "is_alive": "TRUE",
                                    "last_active": "2023-09-20 08:00:00.0000000 +00:00",
                                    "mentor_id": "NULL"
                                },
                                {
                                    "id": "4",
                                    "name": "Frodo",
                                    "guild": "Shirefolk",
                                    "class": "Hobbit",
                                    "level": "12",
                                    "experience": "2500",
                                    "health": "50.5",
                                    "is_alive": "FALSE",
                                    "last_active": "2023-09-23 10:00:00.0000000 +00:00",
                                    "mentor_id": "1"
                                },
                                {
                                    "id": "4",
                                    "name": "Frodo",
                                    "guild": "Shirefolk",
                                    "class": "Hobbit",
                                    "level": "12",
                                    "experience": "2500",
                                    "health": "50.5",
                                    "is_alive": "FALSE",
                                    "last_active": "2023-09-23 10:00:00.0000000 +00:00",
                                    "mentor_id": "1"
                                },
                                {
                                    "id": "6",
                                    "name": "Gandalf",
                                    "guild": "Istari",
                                    "class": "Mage",
                                    "level": "30",
                                    "experience": "10000",
                                    "health": "90",
                                    "is_alive": "TRUE",
                                    "last_active": "2023-09-20 11:00:00.0000000 +00:00",
                                    "mentor_id": "NULL"
                                },
                                {
                                    "id": "6",
                                    "name": "Gandalf",
                                    "guild": "Istari",
                                    "class": "Mage",
                                    "level": "30",
                                    "experience": "10000",
                                    "health": "90",
                                    "is_alive": "TRUE",
                                    "last_active": "2023-09-20 11:00:00.0000000 +00:00",
                                    "mentor_id": "NULL"
                                },
                                {
                                    "id": "7",
                                    "name": "Boromir",
                                    "guild": "Gondor",
                                    "class": "Warrior",
                                    "level": "18",
                                    "experience": "5500",
                                    "health": "115.5",
                                    "is_alive": "FALSE",
                                    "last_active": "2023-09-21 12:00:00.0000000 +00:00",
                                    "mentor_id": "NULL"
                                },
                                {
                                    "id": "7",
                                    "name": "Boromir",
                                    "guild": "Gondor",
                                    "class": "Warrior",
                                    "level": "18",
                                    "experience": "5500",
                                    "health": "115.5",
                                    "is_alive": "FALSE",
                                    "last_active": "2023-09-21 12:00:00.0000000 +00:00",
                                    "mentor_id": "NULL"
                                }
                            ]
                        },
                        "text/html": [
                            "<table>",
                            "<tr><th>id</th><th>name</th><th>guild</th><th>class</th><th>level</th><th>experience</th><th>health</th><th>is_alive</th><th>last_active</th><th>mentor_id</th><th>id</th><th>name</th><th>guild</th><th>class</th><th>level</th><th>experience</th><th>health</th><th>is_alive</th><th>last_active</th><th>mentor_id</th></tr>",
                            "<tr><td>4</td><td>Frodo</td><td>Shirefolk</td><td>Hobbit</td><td>12</td><td>2500</td><td>50.5</td><td>FALSE</td><td>2023-09-23 10:00:00.0000000 +00:00</td><td>1</td><td>1</td><td>Aragorn</td><td>Rangers</td><td>Warrior</td><td>25</td><td>9000</td><td>120.5</td><td>TRUE</td><td>2023-09-20 08:00:00.0000000 +00:00</td><td>NULL</td></tr>",
                            "<tr><td>5</td><td>Sam</td><td>Shirefolk</td><td>Hobbit</td><td>13</td><td>2750</td><td>52.5</td><td>TRUE</td><td>2023-09-23 10:05:00.0000000 +00:00</td><td>1</td><td>1</td><td>Aragorn</td><td>Rangers</td><td>Warrior</td><td>25</td><td>9000</td><td>120.5</td><td>TRUE</td><td>2023-09-20 08:00:00.0000000 +00:00</td><td>NULL</td></tr>",
                            "<tr><td>8</td><td>Merry</td><td>Shirefolk</td><td>Hobbit</td><td>11</td><td>2200</td><td>48.5</td><td>TRUE</td><td>2023-09-22 10:00:00.0000000 +00:00</td><td>4</td><td>4</td><td>Frodo</td><td>Shirefolk</td><td>Hobbit</td><td>12</td><td>2500</td><td>50.5</td><td>FALSE</td><td>2023-09-23 10:00:00.0000000 +00:00</td><td>1</td></tr>",
                            "<tr><td>9</td><td>Pippin</td><td>Shirefolk</td><td>Hobbit</td><td>11</td><td>2100</td><td>47.5</td><td>TRUE</td><td>2023-09-22 10:01:00.0000000 +00:00</td><td>4</td><td>4</td><td>Frodo</td><td>Shirefolk</td><td>Hobbit</td><td>12</td><td>2500</td><td>50.5</td><td>FALSE</td><td>2023-09-23 10:00:00.0000000 +00:00</td><td>1</td></tr>",
                            "<tr><td>11</td><td>Saruman</td><td>Istari</td><td>Mage</td><td>28</td><td>8500</td><td>88.5</td><td>FALSE</td><td>2023-09-20 03:00:00.0000000 +00:00</td><td>6</td><td>6</td><td>Gandalf</td><td>Istari</td><td>Mage</td><td>30</td><td>10000</td><td>90</td><td>TRUE</td><td>2023-09-20 11:00:00.0000000 +00:00</td><td>NULL</td></tr>",
                            "<tr><td>12</td><td>Elrond</td><td>Rivendell</td><td>Mage</td><td>27</td><td>8200</td><td>87.5</td><td>TRUE</td><td>2023-09-21 04:00:00.0000000 +00:00</td><td>6</td><td>6</td><td>Gandalf</td><td>Istari</td><td>Mage</td><td>30</td><td>10000</td><td>90</td><td>TRUE</td><td>2023-09-20 11:00:00.0000000 +00:00</td><td>NULL</td></tr>",
                            "<tr><td>14</td><td>Eowyn</td><td>Rohan</td><td>Warrior</td><td>17</td><td>5200</td><td>112.5</td><td>TRUE</td><td>2023-09-23 05:00:00.0000000 +00:00</td><td>7</td><td>7</td><td>Boromir</td><td>Gondor</td><td>Warrior</td><td>18</td><td>5500</td><td>115.5</td><td>FALSE</td><td>2023-09-21 12:00:00.0000000 +00:00</td><td>NULL</td></tr>",
                            "<tr><td>15</td><td>Faramir</td><td>Gondor</td><td>Archer</td><td>19</td><td>5700</td><td>118.5</td><td>TRUE</td><td>2023-09-20 06:00:00.0000000 +00:00</td><td>7</td><td>7</td><td>Boromir</td><td>Gondor</td><td>Warrior</td><td>18</td><td>5500</td><td>115.5</td><td>FALSE</td><td>2023-09-21 12:00:00.0000000 +00:00</td><td>NULL</td></tr>",
                            "</table>"
                        ]
                    }
                }
            ],
            "execution_count": 13
        },
        {
            "cell_type": "code",
            "source": [
                "SELECT\r\n",
                "    chars.name as character_name,\r\n",
                "    mentors.name as mentor_name\r\n",
                "FROM \r\n",
                "    characters chars\r\n",
                "JOIN \r\n",
                "    characterS mentors\r\n",
                "ON \r\n",
                "    chars.mentor_id = mentors.id"
            ],
            "metadata": {
                "language": "sql",
                "azdata_cell_guid": "b6a7a16e-541c-4ddf-a745-751f133b9c3e"
            },
            "outputs": [
                {
                    "output_type": "display_data",
                    "data": {
                        "text/html": "(8 rows affected)"
                    },
                    "metadata": {}
                },
                {
                    "output_type": "display_data",
                    "data": {
                        "text/html": "Total execution time: 00:00:00.013"
                    },
                    "metadata": {}
                },
                {
                    "output_type": "execute_result",
                    "metadata": {},
                    "execution_count": 15,
                    "data": {
                        "application/vnd.dataresource+json": {
                            "schema": {
                                "fields": [
                                    {
                                        "name": "character_name"
                                    },
                                    {
                                        "name": "mentor_name"
                                    }
                                ]
                            },
                            "data": [
                                {
                                    "character_name": "Frodo",
                                    "mentor_name": "Aragorn"
                                },
                                {
                                    "character_name": "Sam",
                                    "mentor_name": "Aragorn"
                                },
                                {
                                    "character_name": "Merry",
                                    "mentor_name": "Frodo"
                                },
                                {
                                    "character_name": "Pippin",
                                    "mentor_name": "Frodo"
                                },
                                {
                                    "character_name": "Saruman",
                                    "mentor_name": "Gandalf"
                                },
                                {
                                    "character_name": "Elrond",
                                    "mentor_name": "Gandalf"
                                },
                                {
                                    "character_name": "Eowyn",
                                    "mentor_name": "Boromir"
                                },
                                {
                                    "character_name": "Faramir",
                                    "mentor_name": "Boromir"
                                }
                            ]
                        },
                        "text/html": [
                            "<table>",
                            "<tr><th>character_name</th><th>mentor_name</th></tr>",
                            "<tr><td>Frodo</td><td>Aragorn</td></tr>",
                            "<tr><td>Sam</td><td>Aragorn</td></tr>",
                            "<tr><td>Merry</td><td>Frodo</td></tr>",
                            "<tr><td>Pippin</td><td>Frodo</td></tr>",
                            "<tr><td>Saruman</td><td>Gandalf</td></tr>",
                            "<tr><td>Elrond</td><td>Gandalf</td></tr>",
                            "<tr><td>Eowyn</td><td>Boromir</td></tr>",
                            "<tr><td>Faramir</td><td>Boromir</td></tr>",
                            "</table>"
                        ]
                    }
                }
            ],
            "execution_count": 15
        },
        {
            "cell_type": "code",
            "source": [
                "\r\n",
                "\r\n",
                "-- a list of all characers and the items that they can use\r\n",
                "SELECT\r\n",
                "    c.name,\r\n",
                "    c.experience / 100,\r\n",
                "    i.name,\r\n",
                "    i.power\r\n",
                "FROM \r\n",
                "    characters c\r\n",
                "JOIN\r\n",
                "    items i\r\n",
                "ON\r\n",
                "    c.experience / 100 >= i.power\r\n",
                "ORDER BY\r\n",
                "    c.name;\r\n",
                ""
            ],
            "metadata": {
                "language": "sql",
                "azdata_cell_guid": "d3fe8cd6-3876-481f-b9fe-9ac016be5db5"
            },
            "outputs": [
                {
                    "output_type": "display_data",
                    "data": {
                        "text/html": "(100 rows affected)"
                    },
                    "metadata": {}
                },
                {
                    "output_type": "display_data",
                    "data": {
                        "text/html": "Total execution time: 00:00:00.010"
                    },
                    "metadata": {}
                },
                {
                    "output_type": "execute_result",
                    "metadata": {},
                    "execution_count": 16,
                    "data": {
                        "application/vnd.dataresource+json": {
                            "schema": {
                                "fields": [
                                    {
                                        "name": "name"
                                    },
                                    {
                                        "name": "(No column name)"
                                    },
                                    {
                                        "name": "name"
                                    },
                                    {
                                        "name": "power"
                                    }
                                ]
                            },
                            "data": [
                                {
                                    "name": "Elven Bow",
                                    "(No column name)": "90",
                                    "power": "85"
                                },
                                {
                                    "name": "Dwarven Axe",
                                    "(No column name)": "90",
                                    "power": "90"
                                },
                                {
                                    "name": "Healing Potion",
                                    "(No column name)": "90",
                                    "power": "50"
                                },
                                {
                                    "name": "Mana Potion",
                                    "(No column name)": "90",
                                    "power": "60"
                                },
                                {
                                    "name": "Leather Armor",
                                    "(No column name)": "90",
                                    "power": "40"
                                },
                                {
                                    "name": "Chainmail Armor",
                                    "(No column name)": "90",
                                    "power": "70"
                                },
                                {
                                    "name": "Dragon Scale Armor",
                                    "(No column name)": "90",
                                    "power": "90"
                                },
                                {
                                    "name": "Fireball Scroll",
                                    "(No column name)": "90",
                                    "power": "75"
                                },
                                {
                                    "name": "Teleport Scroll",
                                    "(No column name)": "90",
                                    "power": "80"
                                },
                                {
                                    "name": "Elven Quiver",
                                    "(No column name)": "90",
                                    "power": "82"
                                },
                                {
                                    "name": "Earthquake Rune",
                                    "(No column name)": "90",
                                    "power": "88"
                                },
                                {
                                    "name": "Stamina Elixir",
                                    "(No column name)": "90",
                                    "power": "30"
                                },
                                {
                                    "name": "Lightning Rod",
                                    "(No column name)": "90",
                                    "power": "76"
                                },
                                {
                                    "name": "Steel Dagger",
                                    "(No column name)": "90",
                                    "power": "65"
                                },
                                {
                                    "name": "Cloak of Invisibility",
                                    "(No column name)": "90",
                                    "power": "78"
                                },
                                {
                                    "name": "Healing Potion",
                                    "(No column name)": "55",
                                    "power": "50"
                                },
                                {
                                    "name": "Leather Armor",
                                    "(No column name)": "55",
                                    "power": "40"
                                },
                                {
                                    "name": "Stamina Elixir",
                                    "(No column name)": "55",
                                    "power": "30"
                                },
                                {
                                    "name": "Healing Potion",
                                    "(No column name)": "82",
                                    "power": "50"
                                },
                                {
                                    "name": "Mana Potion",
                                    "(No column name)": "82",
                                    "power": "60"
                                },
                                {
                                    "name": "Leather Armor",
                                    "(No column name)": "82",
                                    "power": "40"
                                },
                                {
                                    "name": "Chainmail Armor",
                                    "(No column name)": "82",
                                    "power": "70"
                                },
                                {
                                    "name": "Fireball Scroll",
                                    "(No column name)": "82",
                                    "power": "75"
                                },
                                {
                                    "name": "Teleport Scroll",
                                    "(No column name)": "82",
                                    "power": "80"
                                },
                                {
                                    "name": "Elven Quiver",
                                    "(No column name)": "82",
                                    "power": "82"
                                },
                                {
                                    "name": "Stamina Elixir",
                                    "(No column name)": "82",
                                    "power": "30"
                                },
                                {
                                    "name": "Lightning Rod",
                                    "(No column name)": "82",
                                    "power": "76"
                                },
                                {
                                    "name": "Steel Dagger",
                                    "(No column name)": "82",
                                    "power": "65"
                                },
                                {
                                    "name": "Cloak of Invisibility",
                                    "(No column name)": "82",
                                    "power": "78"
                                },
                                {
                                    "name": "Healing Potion",
                                    "(No column name)": "52",
                                    "power": "50"
                                },
                                {
                                    "name": "Leather Armor",
                                    "(No column name)": "52",
                                    "power": "40"
                                },
                                {
                                    "name": "Stamina Elixir",
                                    "(No column name)": "52",
                                    "power": "30"
                                },
                                {
                                    "name": "Healing Potion",
                                    "(No column name)": "57",
                                    "power": "50"
                                },
                                {
                                    "name": "Leather Armor",
                                    "(No column name)": "57",
                                    "power": "40"
                                },
                                {
                                    "name": "Stamina Elixir",
                                    "(No column name)": "57",
                                    "power": "30"
                                },
                                {
                                    "name": "Excalibur",
                                    "(No column name)": "100",
                                    "power": "100"
                                },
                                {
                                    "name": "Elven Bow",
                                    "(No column name)": "100",
                                    "power": "85"
                                },
                                {
                                    "name": "Dwarven Axe",
                                    "(No column name)": "100",
                                    "power": "90"
                                },
                                {
                                    "name": "Healing Potion",
                                    "(No column name)": "100",
                                    "power": "50"
                                },
                                {
                                    "name": "Mana Potion",
                                    "(No column name)": "100",
                                    "power": "60"
                                },
                                {
                                    "name": "Leather Armor",
                                    "(No column name)": "100",
                                    "power": "40"
                                },
                                {
                                    "name": "Chainmail Armor",
                                    "(No column name)": "100",
                                    "power": "70"
                                },
                                {
                                    "name": "Dragon Scale Armor",
                                    "(No column name)": "100",
                                    "power": "90"
                                },
                                {
                                    "name": "Fireball Scroll",
                                    "(No column name)": "100",
                                    "power": "75"
                                },
                                {
                                    "name": "Teleport Scroll",
                                    "(No column name)": "100",
                                    "power": "80"
                                },
                                {
                                    "name": "Mithril Sword",
                                    "(No column name)": "100",
                                    "power": "95"
                                },
                                {
                                    "name": "Elven Quiver",
                                    "(No column name)": "100",
                                    "power": "82"
                                },
                                {
                                    "name": "Phoenix Feather",
                                    "(No column name)": "100",
                                    "power": "100"
                                },
                                {
                                    "name": "Earthquake Rune",
                                    "(No column name)": "100",
                                    "power": "88"
                                },
                                {
                                    "name": "Resurrection Stone",
                                    "(No column name)": "100",
                                    "power": "99"
                                },
                                {
                                    "name": "Stamina Elixir",
                                    "(No column name)": "100",
                                    "power": "30"
                                },
                                {
                                    "name": "Lightning Rod",
                                    "(No column name)": "100",
                                    "power": "76"
                                },
                                {
                                    "name": "Steel Dagger",
                                    "(No column name)": "100",
                                    "power": "65"
                                },
                                {
                                    "name": "Frostbite Blade",
                                    "(No column name)": "100",
                                    "power": "91"
                                },
                                {
                                    "name": "Cloak of Invisibility",
                                    "(No column name)": "100",
                                    "power": "78"
                                },
                                {
                                    "name": "Healing Potion",
                                    "(No column name)": "60",
                                    "power": "50"
                                },
                                {
                                    "name": "Mana Potion",
                                    "(No column name)": "60",
                                    "power": "60"
                                },
                                {
                                    "name": "Leather Armor",
                                    "(No column name)": "60",
                                    "power": "40"
                                },
                                {
                                    "name": "Stamina Elixir",
                                    "(No column name)": "60",
                                    "power": "30"
                                },
                                {
                                    "name": "Elven Bow",
                                    "(No column name)": "85",
                                    "power": "85"
                                },
                                {
                                    "name": "Healing Potion",
                                    "(No column name)": "85",
                                    "power": "50"
                                },
                                {
                                    "name": "Mana Potion",
                                    "(No column name)": "85",
                                    "power": "60"
                                },
                                {
                                    "name": "Leather Armor",
                                    "(No column name)": "85",
                                    "power": "40"
                                },
                                {
                                    "name": "Chainmail Armor",
                                    "(No column name)": "85",
                                    "power": "70"
                                },
                                {
                                    "name": "Fireball Scroll",
                                    "(No column name)": "85",
                                    "power": "75"
                                },
                                {
                                    "name": "Teleport Scroll",
                                    "(No column name)": "85",
                                    "power": "80"
                                },
                                {
                                    "name": "Elven Quiver",
                                    "(No column name)": "85",
                                    "power": "82"
                                },
                                {
                                    "name": "Stamina Elixir",
                                    "(No column name)": "85",
                                    "power": "30"
                                },
                                {
                                    "name": "Lightning Rod",
                                    "(No column name)": "85",
                                    "power": "76"
                                },
                                {
                                    "name": "Steel Dagger",
                                    "(No column name)": "85",
                                    "power": "65"
                                },
                                {
                                    "name": "Cloak of Invisibility",
                                    "(No column name)": "85",
                                    "power": "78"
                                },
                                {
                                    "name": "Excalibur",
                                    "(No column name)": "150",
                                    "power": "100"
                                },
                                {
                                    "name": "Elven Bow",
                                    "(No column name)": "150",
                                    "power": "85"
                                },
                                {
                                    "name": "Dwarven Axe",
                                    "(No column name)": "150",
                                    "power": "90"
                                },
                                {
                                    "name": "Healing Potion",
                                    "(No column name)": "150",
                                    "power": "50"
                                },
                                {
                                    "name": "Mana Potion",
                                    "(No column name)": "150",
                                    "power": "60"
                                },
                                {
                                    "name": "Leather Armor",
                                    "(No column name)": "150",
                                    "power": "40"
                                },
                                {
                                    "name": "Chainmail Armor",
                                    "(No column name)": "150",
                                    "power": "70"
                                },
                                {
                                    "name": "Dragon Scale Armor",
                                    "(No column name)": "150",
                                    "power": "90"
                                },
                                {
                                    "name": "Fireball Scroll",
                                    "(No column name)": "150",
                                    "power": "75"
                                },
                                {
                                    "name": "Teleport Scroll",
                                    "(No column name)": "150",
                                    "power": "80"
                                },
                                {
                                    "name": "Mithril Sword",
                                    "(No column name)": "150",
                                    "power": "95"
                                },
                                {
                                    "name": "Elven Quiver",
                                    "(No column name)": "150",
                                    "power": "82"
                                },
                                {
                                    "name": "Phoenix Feather",
                                    "(No column name)": "150",
                                    "power": "100"
                                },
                                {
                                    "name": "Earthquake Rune",
                                    "(No column name)": "150",
                                    "power": "88"
                                },
                                {
                                    "name": "Resurrection Stone",
                                    "(No column name)": "150",
                                    "power": "99"
                                },
                                {
                                    "name": "Stamina Elixir",
                                    "(No column name)": "150",
                                    "power": "30"
                                },
                                {
                                    "name": "Lightning Rod",
                                    "(No column name)": "150",
                                    "power": "76"
                                },
                                {
                                    "name": "Steel Dagger",
                                    "(No column name)": "150",
                                    "power": "65"
                                },
                                {
                                    "name": "Frostbite Blade",
                                    "(No column name)": "150",
                                    "power": "91"
                                },
                                {
                                    "name": "Cloak of Invisibility",
                                    "(No column name)": "150",
                                    "power": "78"
                                },
                                {
                                    "name": "Healing Potion",
                                    "(No column name)": "79",
                                    "power": "50"
                                },
                                {
                                    "name": "Mana Potion",
                                    "(No column name)": "79",
                                    "power": "60"
                                },
                                {
                                    "name": "Leather Armor",
                                    "(No column name)": "79",
                                    "power": "40"
                                },
                                {
                                    "name": "Chainmail Armor",
                                    "(No column name)": "79",
                                    "power": "70"
                                },
                                {
                                    "name": "Fireball Scroll",
                                    "(No column name)": "79",
                                    "power": "75"
                                },
                                {
                                    "name": "Stamina Elixir",
                                    "(No column name)": "79",
                                    "power": "30"
                                },
                                {
                                    "name": "Lightning Rod",
                                    "(No column name)": "79",
                                    "power": "76"
                                },
                                {
                                    "name": "Steel Dagger",
                                    "(No column name)": "79",
                                    "power": "65"
                                },
                                {
                                    "name": "Cloak of Invisibility",
                                    "(No column name)": "79",
                                    "power": "78"
                                }
                            ]
                        },
                        "text/html": [
                            "<table>",
                            "<tr><th>name</th><th>(No column name)</th><th>name</th><th>power</th></tr>",
                            "<tr><td>Aragorn</td><td>90</td><td>Elven Bow</td><td>85</td></tr>",
                            "<tr><td>Aragorn</td><td>90</td><td>Dwarven Axe</td><td>90</td></tr>",
                            "<tr><td>Aragorn</td><td>90</td><td>Healing Potion</td><td>50</td></tr>",
                            "<tr><td>Aragorn</td><td>90</td><td>Mana Potion</td><td>60</td></tr>",
                            "<tr><td>Aragorn</td><td>90</td><td>Leather Armor</td><td>40</td></tr>",
                            "<tr><td>Aragorn</td><td>90</td><td>Chainmail Armor</td><td>70</td></tr>",
                            "<tr><td>Aragorn</td><td>90</td><td>Dragon Scale Armor</td><td>90</td></tr>",
                            "<tr><td>Aragorn</td><td>90</td><td>Fireball Scroll</td><td>75</td></tr>",
                            "<tr><td>Aragorn</td><td>90</td><td>Teleport Scroll</td><td>80</td></tr>",
                            "<tr><td>Aragorn</td><td>90</td><td>Elven Quiver</td><td>82</td></tr>",
                            "<tr><td>Aragorn</td><td>90</td><td>Earthquake Rune</td><td>88</td></tr>",
                            "<tr><td>Aragorn</td><td>90</td><td>Stamina Elixir</td><td>30</td></tr>",
                            "<tr><td>Aragorn</td><td>90</td><td>Lightning Rod</td><td>76</td></tr>",
                            "<tr><td>Aragorn</td><td>90</td><td>Steel Dagger</td><td>65</td></tr>",
                            "<tr><td>Aragorn</td><td>90</td><td>Cloak of Invisibility</td><td>78</td></tr>",
                            "<tr><td>Boromir</td><td>55</td><td>Healing Potion</td><td>50</td></tr>",
                            "<tr><td>Boromir</td><td>55</td><td>Leather Armor</td><td>40</td></tr>",
                            "<tr><td>Boromir</td><td>55</td><td>Stamina Elixir</td><td>30</td></tr>",
                            "<tr><td>Elrond</td><td>82</td><td>Healing Potion</td><td>50</td></tr>",
                            "<tr><td>Elrond</td><td>82</td><td>Mana Potion</td><td>60</td></tr>",
                            "<tr><td>Elrond</td><td>82</td><td>Leather Armor</td><td>40</td></tr>",
                            "<tr><td>Elrond</td><td>82</td><td>Chainmail Armor</td><td>70</td></tr>",
                            "<tr><td>Elrond</td><td>82</td><td>Fireball Scroll</td><td>75</td></tr>",
                            "<tr><td>Elrond</td><td>82</td><td>Teleport Scroll</td><td>80</td></tr>",
                            "<tr><td>Elrond</td><td>82</td><td>Elven Quiver</td><td>82</td></tr>",
                            "<tr><td>Elrond</td><td>82</td><td>Stamina Elixir</td><td>30</td></tr>",
                            "<tr><td>Elrond</td><td>82</td><td>Lightning Rod</td><td>76</td></tr>",
                            "<tr><td>Elrond</td><td>82</td><td>Steel Dagger</td><td>65</td></tr>",
                            "<tr><td>Elrond</td><td>82</td><td>Cloak of Invisibility</td><td>78</td></tr>",
                            "<tr><td>Eowyn</td><td>52</td><td>Healing Potion</td><td>50</td></tr>",
                            "<tr><td>Eowyn</td><td>52</td><td>Leather Armor</td><td>40</td></tr>",
                            "<tr><td>Eowyn</td><td>52</td><td>Stamina Elixir</td><td>30</td></tr>",
                            "<tr><td>Faramir</td><td>57</td><td>Healing Potion</td><td>50</td></tr>",
                            "<tr><td>Faramir</td><td>57</td><td>Leather Armor</td><td>40</td></tr>",
                            "<tr><td>Faramir</td><td>57</td><td>Stamina Elixir</td><td>30</td></tr>",
                            "<tr><td>Gandalf</td><td>100</td><td>Excalibur</td><td>100</td></tr>",
                            "<tr><td>Gandalf</td><td>100</td><td>Elven Bow</td><td>85</td></tr>",
                            "<tr><td>Gandalf</td><td>100</td><td>Dwarven Axe</td><td>90</td></tr>",
                            "<tr><td>Gandalf</td><td>100</td><td>Healing Potion</td><td>50</td></tr>",
                            "<tr><td>Gandalf</td><td>100</td><td>Mana Potion</td><td>60</td></tr>",
                            "<tr><td>Gandalf</td><td>100</td><td>Leather Armor</td><td>40</td></tr>",
                            "<tr><td>Gandalf</td><td>100</td><td>Chainmail Armor</td><td>70</td></tr>",
                            "<tr><td>Gandalf</td><td>100</td><td>Dragon Scale Armor</td><td>90</td></tr>",
                            "<tr><td>Gandalf</td><td>100</td><td>Fireball Scroll</td><td>75</td></tr>",
                            "<tr><td>Gandalf</td><td>100</td><td>Teleport Scroll</td><td>80</td></tr>",
                            "<tr><td>Gandalf</td><td>100</td><td>Mithril Sword</td><td>95</td></tr>",
                            "<tr><td>Gandalf</td><td>100</td><td>Elven Quiver</td><td>82</td></tr>",
                            "<tr><td>Gandalf</td><td>100</td><td>Phoenix Feather</td><td>100</td></tr>",
                            "<tr><td>Gandalf</td><td>100</td><td>Earthquake Rune</td><td>88</td></tr>",
                            "<tr><td>Gandalf</td><td>100</td><td>Resurrection Stone</td><td>99</td></tr>",
                            "<tr><td>Gandalf</td><td>100</td><td>Stamina Elixir</td><td>30</td></tr>",
                            "<tr><td>Gandalf</td><td>100</td><td>Lightning Rod</td><td>76</td></tr>",
                            "<tr><td>Gandalf</td><td>100</td><td>Steel Dagger</td><td>65</td></tr>",
                            "<tr><td>Gandalf</td><td>100</td><td>Frostbite Blade</td><td>91</td></tr>",
                            "<tr><td>Gandalf</td><td>100</td><td>Cloak of Invisibility</td><td>78</td></tr>",
                            "<tr><td>Gimli</td><td>60</td><td>Healing Potion</td><td>50</td></tr>",
                            "<tr><td>Gimli</td><td>60</td><td>Mana Potion</td><td>60</td></tr>",
                            "<tr><td>Gimli</td><td>60</td><td>Leather Armor</td><td>40</td></tr>",
                            "<tr><td>Gimli</td><td>60</td><td>Stamina Elixir</td><td>30</td></tr>",
                            "<tr><td>Saruman</td><td>85</td><td>Elven Bow</td><td>85</td></tr>",
                            "<tr><td>Saruman</td><td>85</td><td>Healing Potion</td><td>50</td></tr>",
                            "<tr><td>Saruman</td><td>85</td><td>Mana Potion</td><td>60</td></tr>",
                            "<tr><td>Saruman</td><td>85</td><td>Leather Armor</td><td>40</td></tr>",
                            "<tr><td>Saruman</td><td>85</td><td>Chainmail Armor</td><td>70</td></tr>",
                            "<tr><td>Saruman</td><td>85</td><td>Fireball Scroll</td><td>75</td></tr>",
                            "<tr><td>Saruman</td><td>85</td><td>Teleport Scroll</td><td>80</td></tr>",
                            "<tr><td>Saruman</td><td>85</td><td>Elven Quiver</td><td>82</td></tr>",
                            "<tr><td>Saruman</td><td>85</td><td>Stamina Elixir</td><td>30</td></tr>",
                            "<tr><td>Saruman</td><td>85</td><td>Lightning Rod</td><td>76</td></tr>",
                            "<tr><td>Saruman</td><td>85</td><td>Steel Dagger</td><td>65</td></tr>",
                            "<tr><td>Saruman</td><td>85</td><td>Cloak of Invisibility</td><td>78</td></tr>",
                            "<tr><td>Sauron</td><td>150</td><td>Excalibur</td><td>100</td></tr>",
                            "<tr><td>Sauron</td><td>150</td><td>Elven Bow</td><td>85</td></tr>",
                            "<tr><td>Sauron</td><td>150</td><td>Dwarven Axe</td><td>90</td></tr>",
                            "<tr><td>Sauron</td><td>150</td><td>Healing Potion</td><td>50</td></tr>",
                            "<tr><td>Sauron</td><td>150</td><td>Mana Potion</td><td>60</td></tr>",
                            "<tr><td>Sauron</td><td>150</td><td>Leather Armor</td><td>40</td></tr>",
                            "<tr><td>Sauron</td><td>150</td><td>Chainmail Armor</td><td>70</td></tr>",
                            "<tr><td>Sauron</td><td>150</td><td>Dragon Scale Armor</td><td>90</td></tr>",
                            "<tr><td>Sauron</td><td>150</td><td>Fireball Scroll</td><td>75</td></tr>",
                            "<tr><td>Sauron</td><td>150</td><td>Teleport Scroll</td><td>80</td></tr>",
                            "<tr><td>Sauron</td><td>150</td><td>Mithril Sword</td><td>95</td></tr>",
                            "<tr><td>Sauron</td><td>150</td><td>Elven Quiver</td><td>82</td></tr>",
                            "<tr><td>Sauron</td><td>150</td><td>Phoenix Feather</td><td>100</td></tr>",
                            "<tr><td>Sauron</td><td>150</td><td>Earthquake Rune</td><td>88</td></tr>",
                            "<tr><td>Sauron</td><td>150</td><td>Resurrection Stone</td><td>99</td></tr>",
                            "<tr><td>Sauron</td><td>150</td><td>Stamina Elixir</td><td>30</td></tr>",
                            "<tr><td>Sauron</td><td>150</td><td>Lightning Rod</td><td>76</td></tr>",
                            "<tr><td>Sauron</td><td>150</td><td>Steel Dagger</td><td>65</td></tr>",
                            "<tr><td>Sauron</td><td>150</td><td>Frostbite Blade</td><td>91</td></tr>",
                            "<tr><td>Sauron</td><td>150</td><td>Cloak of Invisibility</td><td>78</td></tr>",
                            "<tr><td>Thranduil</td><td>79</td><td>Healing Potion</td><td>50</td></tr>",
                            "<tr><td>Thranduil</td><td>79</td><td>Mana Potion</td><td>60</td></tr>",
                            "<tr><td>Thranduil</td><td>79</td><td>Leather Armor</td><td>40</td></tr>",
                            "<tr><td>Thranduil</td><td>79</td><td>Chainmail Armor</td><td>70</td></tr>",
                            "<tr><td>Thranduil</td><td>79</td><td>Fireball Scroll</td><td>75</td></tr>",
                            "<tr><td>Thranduil</td><td>79</td><td>Stamina Elixir</td><td>30</td></tr>",
                            "<tr><td>Thranduil</td><td>79</td><td>Lightning Rod</td><td>76</td></tr>",
                            "<tr><td>Thranduil</td><td>79</td><td>Steel Dagger</td><td>65</td></tr>",
                            "<tr><td>Thranduil</td><td>79</td><td>Cloak of Invisibility</td><td>78</td></tr>",
                            "</table>"
                        ]
                    }
                }
            ],
            "execution_count": 16
        },
        {
            "cell_type": "code",
            "source": [
                "-- \r\n",
                "SELECT\r\n",
                "    c.name,\r\n",
                "    c.experience / 100,\r\n",
                "    i.name,\r\n",
                "    i.power\r\n",
                "FROM \r\n",
                "    characters c\r\n",
                "JOIN\r\n",
                "    items i\r\n",
                "ON\r\n",
                "    c.experience / 100 >= i.power OR c.class = 'Mage'\r\n",
                "ORDER BY\r\n",
                "    c.name;\r\n",
                ""
            ],
            "metadata": {
                "language": "sql",
                "azdata_cell_guid": "4e773450-e8ce-4ed4-9f56-f09d688d9d00"
            },
            "outputs": [
                {
                    "output_type": "display_data",
                    "data": {
                        "text/html": "(117 rows affected)"
                    },
                    "metadata": {}
                },
                {
                    "output_type": "display_data",
                    "data": {
                        "text/html": "Total execution time: 00:00:00.037"
                    },
                    "metadata": {}
                },
                {
                    "output_type": "execute_result",
                    "metadata": {},
                    "execution_count": 18,
                    "data": {
                        "application/vnd.dataresource+json": {
                            "schema": {
                                "fields": [
                                    {
                                        "name": "name"
                                    },
                                    {
                                        "name": "(No column name)"
                                    },
                                    {
                                        "name": "name"
                                    },
                                    {
                                        "name": "power"
                                    },
                                    {
                                        "name": "class"
                                    }
                                ]
                            },
                            "data": [
                                {
                                    "name": "Elven Bow",
                                    "(No column name)": "90",
                                    "power": "85",
                                    "class": "Warrior"
                                },
                                {
                                    "name": "Dwarven Axe",
                                    "(No column name)": "90",
                                    "power": "90",
                                    "class": "Warrior"
                                },
                                {
                                    "name": "Healing Potion",
                                    "(No column name)": "90",
                                    "power": "50",
                                    "class": "Warrior"
                                },
                                {
                                    "name": "Mana Potion",
                                    "(No column name)": "90",
                                    "power": "60",
                                    "class": "Warrior"
                                },
                                {
                                    "name": "Leather Armor",
                                    "(No column name)": "90",
                                    "power": "40",
                                    "class": "Warrior"
                                },
                                {
                                    "name": "Chainmail Armor",
                                    "(No column name)": "90",
                                    "power": "70",
                                    "class": "Warrior"
                                },
                                {
                                    "name": "Dragon Scale Armor",
                                    "(No column name)": "90",
                                    "power": "90",
                                    "class": "Warrior"
                                },
                                {
                                    "name": "Fireball Scroll",
                                    "(No column name)": "90",
                                    "power": "75",
                                    "class": "Warrior"
                                },
                                {
                                    "name": "Teleport Scroll",
                                    "(No column name)": "90",
                                    "power": "80",
                                    "class": "Warrior"
                                },
                                {
                                    "name": "Elven Quiver",
                                    "(No column name)": "90",
                                    "power": "82",
                                    "class": "Warrior"
                                },
                                {
                                    "name": "Earthquake Rune",
                                    "(No column name)": "90",
                                    "power": "88",
                                    "class": "Warrior"
                                },
                                {
                                    "name": "Stamina Elixir",
                                    "(No column name)": "90",
                                    "power": "30",
                                    "class": "Warrior"
                                },
                                {
                                    "name": "Lightning Rod",
                                    "(No column name)": "90",
                                    "power": "76",
                                    "class": "Warrior"
                                },
                                {
                                    "name": "Steel Dagger",
                                    "(No column name)": "90",
                                    "power": "65",
                                    "class": "Warrior"
                                },
                                {
                                    "name": "Cloak of Invisibility",
                                    "(No column name)": "90",
                                    "power": "78",
                                    "class": "Warrior"
                                },
                                {
                                    "name": "Healing Potion",
                                    "(No column name)": "55",
                                    "power": "50",
                                    "class": "Warrior"
                                },
                                {
                                    "name": "Leather Armor",
                                    "(No column name)": "55",
                                    "power": "40",
                                    "class": "Warrior"
                                },
                                {
                                    "name": "Stamina Elixir",
                                    "(No column name)": "55",
                                    "power": "30",
                                    "class": "Warrior"
                                },
                                {
                                    "name": "Excalibur",
                                    "(No column name)": "82",
                                    "power": "100",
                                    "class": "Mage"
                                },
                                {
                                    "name": "Elven Bow",
                                    "(No column name)": "82",
                                    "power": "85",
                                    "class": "Mage"
                                },
                                {
                                    "name": "Dwarven Axe",
                                    "(No column name)": "82",
                                    "power": "90",
                                    "class": "Mage"
                                },
                                {
                                    "name": "Healing Potion",
                                    "(No column name)": "82",
                                    "power": "50",
                                    "class": "Mage"
                                },
                                {
                                    "name": "Mana Potion",
                                    "(No column name)": "82",
                                    "power": "60",
                                    "class": "Mage"
                                },
                                {
                                    "name": "Leather Armor",
                                    "(No column name)": "82",
                                    "power": "40",
                                    "class": "Mage"
                                },
                                {
                                    "name": "Chainmail Armor",
                                    "(No column name)": "82",
                                    "power": "70",
                                    "class": "Mage"
                                },
                                {
                                    "name": "Dragon Scale Armor",
                                    "(No column name)": "82",
                                    "power": "90",
                                    "class": "Mage"
                                },
                                {
                                    "name": "Fireball Scroll",
                                    "(No column name)": "82",
                                    "power": "75",
                                    "class": "Mage"
                                },
                                {
                                    "name": "Teleport Scroll",
                                    "(No column name)": "82",
                                    "power": "80",
                                    "class": "Mage"
                                },
                                {
                                    "name": "Mithril Sword",
                                    "(No column name)": "82",
                                    "power": "95",
                                    "class": "Mage"
                                },
                                {
                                    "name": "Elven Quiver",
                                    "(No column name)": "82",
                                    "power": "82",
                                    "class": "Mage"
                                },
                                {
                                    "name": "Phoenix Feather",
                                    "(No column name)": "82",
                                    "power": "100",
                                    "class": "Mage"
                                },
                                {
                                    "name": "Earthquake Rune",
                                    "(No column name)": "82",
                                    "power": "88",
                                    "class": "Mage"
                                },
                                {
                                    "name": "Resurrection Stone",
                                    "(No column name)": "82",
                                    "power": "99",
                                    "class": "Mage"
                                },
                                {
                                    "name": "Stamina Elixir",
                                    "(No column name)": "82",
                                    "power": "30",
                                    "class": "Mage"
                                },
                                {
                                    "name": "Lightning Rod",
                                    "(No column name)": "82",
                                    "power": "76",
                                    "class": "Mage"
                                },
                                {
                                    "name": "Steel Dagger",
                                    "(No column name)": "82",
                                    "power": "65",
                                    "class": "Mage"
                                },
                                {
                                    "name": "Frostbite Blade",
                                    "(No column name)": "82",
                                    "power": "91",
                                    "class": "Mage"
                                },
                                {
                                    "name": "Cloak of Invisibility",
                                    "(No column name)": "82",
                                    "power": "78",
                                    "class": "Mage"
                                },
                                {
                                    "name": "Healing Potion",
                                    "(No column name)": "52",
                                    "power": "50",
                                    "class": "Warrior"
                                },
                                {
                                    "name": "Leather Armor",
                                    "(No column name)": "52",
                                    "power": "40",
                                    "class": "Warrior"
                                },
                                {
                                    "name": "Stamina Elixir",
                                    "(No column name)": "52",
                                    "power": "30",
                                    "class": "Warrior"
                                },
                                {
                                    "name": "Healing Potion",
                                    "(No column name)": "57",
                                    "power": "50",
                                    "class": "Archer"
                                },
                                {
                                    "name": "Leather Armor",
                                    "(No column name)": "57",
                                    "power": "40",
                                    "class": "Archer"
                                },
                                {
                                    "name": "Stamina Elixir",
                                    "(No column name)": "57",
                                    "power": "30",
                                    "class": "Archer"
                                },
                                {
                                    "name": "Excalibur",
                                    "(No column name)": "100",
                                    "power": "100",
                                    "class": "Mage"
                                },
                                {
                                    "name": "Elven Bow",
                                    "(No column name)": "100",
                                    "power": "85",
                                    "class": "Mage"
                                },
                                {
                                    "name": "Dwarven Axe",
                                    "(No column name)": "100",
                                    "power": "90",
                                    "class": "Mage"
                                },
                                {
                                    "name": "Healing Potion",
                                    "(No column name)": "100",
                                    "power": "50",
                                    "class": "Mage"
                                },
                                {
                                    "name": "Mana Potion",
                                    "(No column name)": "100",
                                    "power": "60",
                                    "class": "Mage"
                                },
                                {
                                    "name": "Leather Armor",
                                    "(No column name)": "100",
                                    "power": "40",
                                    "class": "Mage"
                                },
                                {
                                    "name": "Chainmail Armor",
                                    "(No column name)": "100",
                                    "power": "70",
                                    "class": "Mage"
                                },
                                {
                                    "name": "Dragon Scale Armor",
                                    "(No column name)": "100",
                                    "power": "90",
                                    "class": "Mage"
                                },
                                {
                                    "name": "Fireball Scroll",
                                    "(No column name)": "100",
                                    "power": "75",
                                    "class": "Mage"
                                },
                                {
                                    "name": "Teleport Scroll",
                                    "(No column name)": "100",
                                    "power": "80",
                                    "class": "Mage"
                                },
                                {
                                    "name": "Mithril Sword",
                                    "(No column name)": "100",
                                    "power": "95",
                                    "class": "Mage"
                                },
                                {
                                    "name": "Elven Quiver",
                                    "(No column name)": "100",
                                    "power": "82",
                                    "class": "Mage"
                                },
                                {
                                    "name": "Phoenix Feather",
                                    "(No column name)": "100",
                                    "power": "100",
                                    "class": "Mage"
                                },
                                {
                                    "name": "Earthquake Rune",
                                    "(No column name)": "100",
                                    "power": "88",
                                    "class": "Mage"
                                },
                                {
                                    "name": "Resurrection Stone",
                                    "(No column name)": "100",
                                    "power": "99",
                                    "class": "Mage"
                                },
                                {
                                    "name": "Stamina Elixir",
                                    "(No column name)": "100",
                                    "power": "30",
                                    "class": "Mage"
                                },
                                {
                                    "name": "Lightning Rod",
                                    "(No column name)": "100",
                                    "power": "76",
                                    "class": "Mage"
                                },
                                {
                                    "name": "Steel Dagger",
                                    "(No column name)": "100",
                                    "power": "65",
                                    "class": "Mage"
                                },
                                {
                                    "name": "Frostbite Blade",
                                    "(No column name)": "100",
                                    "power": "91",
                                    "class": "Mage"
                                },
                                {
                                    "name": "Cloak of Invisibility",
                                    "(No column name)": "100",
                                    "power": "78",
                                    "class": "Mage"
                                },
                                {
                                    "name": "Healing Potion",
                                    "(No column name)": "60",
                                    "power": "50",
                                    "class": "Warrior"
                                },
                                {
                                    "name": "Mana Potion",
                                    "(No column name)": "60",
                                    "power": "60",
                                    "class": "Warrior"
                                },
                                {
                                    "name": "Leather Armor",
                                    "(No column name)": "60",
                                    "power": "40",
                                    "class": "Warrior"
                                },
                                {
                                    "name": "Stamina Elixir",
                                    "(No column name)": "60",
                                    "power": "30",
                                    "class": "Warrior"
                                },
                                {
                                    "name": "Excalibur",
                                    "(No column name)": "85",
                                    "power": "100",
                                    "class": "Mage"
                                },
                                {
                                    "name": "Elven Bow",
                                    "(No column name)": "85",
                                    "power": "85",
                                    "class": "Mage"
                                },
                                {
                                    "name": "Dwarven Axe",
                                    "(No column name)": "85",
                                    "power": "90",
                                    "class": "Mage"
                                },
                                {
                                    "name": "Healing Potion",
                                    "(No column name)": "85",
                                    "power": "50",
                                    "class": "Mage"
                                },
                                {
                                    "name": "Mana Potion",
                                    "(No column name)": "85",
                                    "power": "60",
                                    "class": "Mage"
                                },
                                {
                                    "name": "Leather Armor",
                                    "(No column name)": "85",
                                    "power": "40",
                                    "class": "Mage"
                                },
                                {
                                    "name": "Chainmail Armor",
                                    "(No column name)": "85",
                                    "power": "70",
                                    "class": "Mage"
                                },
                                {
                                    "name": "Dragon Scale Armor",
                                    "(No column name)": "85",
                                    "power": "90",
                                    "class": "Mage"
                                },
                                {
                                    "name": "Fireball Scroll",
                                    "(No column name)": "85",
                                    "power": "75",
                                    "class": "Mage"
                                },
                                {
                                    "name": "Teleport Scroll",
                                    "(No column name)": "85",
                                    "power": "80",
                                    "class": "Mage"
                                },
                                {
                                    "name": "Mithril Sword",
                                    "(No column name)": "85",
                                    "power": "95",
                                    "class": "Mage"
                                },
                                {
                                    "name": "Elven Quiver",
                                    "(No column name)": "85",
                                    "power": "82",
                                    "class": "Mage"
                                },
                                {
                                    "name": "Phoenix Feather",
                                    "(No column name)": "85",
                                    "power": "100",
                                    "class": "Mage"
                                },
                                {
                                    "name": "Earthquake Rune",
                                    "(No column name)": "85",
                                    "power": "88",
                                    "class": "Mage"
                                },
                                {
                                    "name": "Resurrection Stone",
                                    "(No column name)": "85",
                                    "power": "99",
                                    "class": "Mage"
                                },
                                {
                                    "name": "Stamina Elixir",
                                    "(No column name)": "85",
                                    "power": "30",
                                    "class": "Mage"
                                },
                                {
                                    "name": "Lightning Rod",
                                    "(No column name)": "85",
                                    "power": "76",
                                    "class": "Mage"
                                },
                                {
                                    "name": "Steel Dagger",
                                    "(No column name)": "85",
                                    "power": "65",
                                    "class": "Mage"
                                },
                                {
                                    "name": "Frostbite Blade",
                                    "(No column name)": "85",
                                    "power": "91",
                                    "class": "Mage"
                                },
                                {
                                    "name": "Cloak of Invisibility",
                                    "(No column name)": "85",
                                    "power": "78",
                                    "class": "Mage"
                                },
                                {
                                    "name": "Excalibur",
                                    "(No column name)": "150",
                                    "power": "100",
                                    "class": "Mage"
                                },
                                {
                                    "name": "Elven Bow",
                                    "(No column name)": "150",
                                    "power": "85",
                                    "class": "Mage"
                                },
                                {
                                    "name": "Dwarven Axe",
                                    "(No column name)": "150",
                                    "power": "90",
                                    "class": "Mage"
                                },
                                {
                                    "name": "Healing Potion",
                                    "(No column name)": "150",
                                    "power": "50",
                                    "class": "Mage"
                                },
                                {
                                    "name": "Mana Potion",
                                    "(No column name)": "150",
                                    "power": "60",
                                    "class": "Mage"
                                },
                                {
                                    "name": "Leather Armor",
                                    "(No column name)": "150",
                                    "power": "40",
                                    "class": "Mage"
                                },
                                {
                                    "name": "Chainmail Armor",
                                    "(No column name)": "150",
                                    "power": "70",
                                    "class": "Mage"
                                },
                                {
                                    "name": "Dragon Scale Armor",
                                    "(No column name)": "150",
                                    "power": "90",
                                    "class": "Mage"
                                },
                                {
                                    "name": "Fireball Scroll",
                                    "(No column name)": "150",
                                    "power": "75",
                                    "class": "Mage"
                                },
                                {
                                    "name": "Teleport Scroll",
                                    "(No column name)": "150",
                                    "power": "80",
                                    "class": "Mage"
                                },
                                {
                                    "name": "Mithril Sword",
                                    "(No column name)": "150",
                                    "power": "95",
                                    "class": "Mage"
                                },
                                {
                                    "name": "Elven Quiver",
                                    "(No column name)": "150",
                                    "power": "82",
                                    "class": "Mage"
                                },
                                {
                                    "name": "Phoenix Feather",
                                    "(No column name)": "150",
                                    "power": "100",
                                    "class": "Mage"
                                },
                                {
                                    "name": "Earthquake Rune",
                                    "(No column name)": "150",
                                    "power": "88",
                                    "class": "Mage"
                                },
                                {
                                    "name": "Resurrection Stone",
                                    "(No column name)": "150",
                                    "power": "99",
                                    "class": "Mage"
                                },
                                {
                                    "name": "Stamina Elixir",
                                    "(No column name)": "150",
                                    "power": "30",
                                    "class": "Mage"
                                },
                                {
                                    "name": "Lightning Rod",
                                    "(No column name)": "150",
                                    "power": "76",
                                    "class": "Mage"
                                },
                                {
                                    "name": "Steel Dagger",
                                    "(No column name)": "150",
                                    "power": "65",
                                    "class": "Mage"
                                },
                                {
                                    "name": "Frostbite Blade",
                                    "(No column name)": "150",
                                    "power": "91",
                                    "class": "Mage"
                                },
                                {
                                    "name": "Cloak of Invisibility",
                                    "(No column name)": "150",
                                    "power": "78",
                                    "class": "Mage"
                                },
                                {
                                    "name": "Healing Potion",
                                    "(No column name)": "79",
                                    "power": "50",
                                    "class": "Archer"
                                },
                                {
                                    "name": "Mana Potion",
                                    "(No column name)": "79",
                                    "power": "60",
                                    "class": "Archer"
                                },
                                {
                                    "name": "Leather Armor",
                                    "(No column name)": "79",
                                    "power": "40",
                                    "class": "Archer"
                                },
                                {
                                    "name": "Chainmail Armor",
                                    "(No column name)": "79",
                                    "power": "70",
                                    "class": "Archer"
                                },
                                {
                                    "name": "Fireball Scroll",
                                    "(No column name)": "79",
                                    "power": "75",
                                    "class": "Archer"
                                },
                                {
                                    "name": "Stamina Elixir",
                                    "(No column name)": "79",
                                    "power": "30",
                                    "class": "Archer"
                                },
                                {
                                    "name": "Lightning Rod",
                                    "(No column name)": "79",
                                    "power": "76",
                                    "class": "Archer"
                                },
                                {
                                    "name": "Steel Dagger",
                                    "(No column name)": "79",
                                    "power": "65",
                                    "class": "Archer"
                                },
                                {
                                    "name": "Cloak of Invisibility",
                                    "(No column name)": "79",
                                    "power": "78",
                                    "class": "Archer"
                                }
                            ]
                        },
                        "text/html": [
                            "<table>",
                            "<tr><th>name</th><th>(No column name)</th><th>name</th><th>power</th><th>class</th></tr>",
                            "<tr><td>Aragorn</td><td>90</td><td>Elven Bow</td><td>85</td><td>Warrior</td></tr>",
                            "<tr><td>Aragorn</td><td>90</td><td>Dwarven Axe</td><td>90</td><td>Warrior</td></tr>",
                            "<tr><td>Aragorn</td><td>90</td><td>Healing Potion</td><td>50</td><td>Warrior</td></tr>",
                            "<tr><td>Aragorn</td><td>90</td><td>Mana Potion</td><td>60</td><td>Warrior</td></tr>",
                            "<tr><td>Aragorn</td><td>90</td><td>Leather Armor</td><td>40</td><td>Warrior</td></tr>",
                            "<tr><td>Aragorn</td><td>90</td><td>Chainmail Armor</td><td>70</td><td>Warrior</td></tr>",
                            "<tr><td>Aragorn</td><td>90</td><td>Dragon Scale Armor</td><td>90</td><td>Warrior</td></tr>",
                            "<tr><td>Aragorn</td><td>90</td><td>Fireball Scroll</td><td>75</td><td>Warrior</td></tr>",
                            "<tr><td>Aragorn</td><td>90</td><td>Teleport Scroll</td><td>80</td><td>Warrior</td></tr>",
                            "<tr><td>Aragorn</td><td>90</td><td>Elven Quiver</td><td>82</td><td>Warrior</td></tr>",
                            "<tr><td>Aragorn</td><td>90</td><td>Earthquake Rune</td><td>88</td><td>Warrior</td></tr>",
                            "<tr><td>Aragorn</td><td>90</td><td>Stamina Elixir</td><td>30</td><td>Warrior</td></tr>",
                            "<tr><td>Aragorn</td><td>90</td><td>Lightning Rod</td><td>76</td><td>Warrior</td></tr>",
                            "<tr><td>Aragorn</td><td>90</td><td>Steel Dagger</td><td>65</td><td>Warrior</td></tr>",
                            "<tr><td>Aragorn</td><td>90</td><td>Cloak of Invisibility</td><td>78</td><td>Warrior</td></tr>",
                            "<tr><td>Boromir</td><td>55</td><td>Healing Potion</td><td>50</td><td>Warrior</td></tr>",
                            "<tr><td>Boromir</td><td>55</td><td>Leather Armor</td><td>40</td><td>Warrior</td></tr>",
                            "<tr><td>Boromir</td><td>55</td><td>Stamina Elixir</td><td>30</td><td>Warrior</td></tr>",
                            "<tr><td>Elrond</td><td>82</td><td>Excalibur</td><td>100</td><td>Mage</td></tr>",
                            "<tr><td>Elrond</td><td>82</td><td>Elven Bow</td><td>85</td><td>Mage</td></tr>",
                            "<tr><td>Elrond</td><td>82</td><td>Dwarven Axe</td><td>90</td><td>Mage</td></tr>",
                            "<tr><td>Elrond</td><td>82</td><td>Healing Potion</td><td>50</td><td>Mage</td></tr>",
                            "<tr><td>Elrond</td><td>82</td><td>Mana Potion</td><td>60</td><td>Mage</td></tr>",
                            "<tr><td>Elrond</td><td>82</td><td>Leather Armor</td><td>40</td><td>Mage</td></tr>",
                            "<tr><td>Elrond</td><td>82</td><td>Chainmail Armor</td><td>70</td><td>Mage</td></tr>",
                            "<tr><td>Elrond</td><td>82</td><td>Dragon Scale Armor</td><td>90</td><td>Mage</td></tr>",
                            "<tr><td>Elrond</td><td>82</td><td>Fireball Scroll</td><td>75</td><td>Mage</td></tr>",
                            "<tr><td>Elrond</td><td>82</td><td>Teleport Scroll</td><td>80</td><td>Mage</td></tr>",
                            "<tr><td>Elrond</td><td>82</td><td>Mithril Sword</td><td>95</td><td>Mage</td></tr>",
                            "<tr><td>Elrond</td><td>82</td><td>Elven Quiver</td><td>82</td><td>Mage</td></tr>",
                            "<tr><td>Elrond</td><td>82</td><td>Phoenix Feather</td><td>100</td><td>Mage</td></tr>",
                            "<tr><td>Elrond</td><td>82</td><td>Earthquake Rune</td><td>88</td><td>Mage</td></tr>",
                            "<tr><td>Elrond</td><td>82</td><td>Resurrection Stone</td><td>99</td><td>Mage</td></tr>",
                            "<tr><td>Elrond</td><td>82</td><td>Stamina Elixir</td><td>30</td><td>Mage</td></tr>",
                            "<tr><td>Elrond</td><td>82</td><td>Lightning Rod</td><td>76</td><td>Mage</td></tr>",
                            "<tr><td>Elrond</td><td>82</td><td>Steel Dagger</td><td>65</td><td>Mage</td></tr>",
                            "<tr><td>Elrond</td><td>82</td><td>Frostbite Blade</td><td>91</td><td>Mage</td></tr>",
                            "<tr><td>Elrond</td><td>82</td><td>Cloak of Invisibility</td><td>78</td><td>Mage</td></tr>",
                            "<tr><td>Eowyn</td><td>52</td><td>Healing Potion</td><td>50</td><td>Warrior</td></tr>",
                            "<tr><td>Eowyn</td><td>52</td><td>Leather Armor</td><td>40</td><td>Warrior</td></tr>",
                            "<tr><td>Eowyn</td><td>52</td><td>Stamina Elixir</td><td>30</td><td>Warrior</td></tr>",
                            "<tr><td>Faramir</td><td>57</td><td>Healing Potion</td><td>50</td><td>Archer</td></tr>",
                            "<tr><td>Faramir</td><td>57</td><td>Leather Armor</td><td>40</td><td>Archer</td></tr>",
                            "<tr><td>Faramir</td><td>57</td><td>Stamina Elixir</td><td>30</td><td>Archer</td></tr>",
                            "<tr><td>Gandalf</td><td>100</td><td>Excalibur</td><td>100</td><td>Mage</td></tr>",
                            "<tr><td>Gandalf</td><td>100</td><td>Elven Bow</td><td>85</td><td>Mage</td></tr>",
                            "<tr><td>Gandalf</td><td>100</td><td>Dwarven Axe</td><td>90</td><td>Mage</td></tr>",
                            "<tr><td>Gandalf</td><td>100</td><td>Healing Potion</td><td>50</td><td>Mage</td></tr>",
                            "<tr><td>Gandalf</td><td>100</td><td>Mana Potion</td><td>60</td><td>Mage</td></tr>",
                            "<tr><td>Gandalf</td><td>100</td><td>Leather Armor</td><td>40</td><td>Mage</td></tr>",
                            "<tr><td>Gandalf</td><td>100</td><td>Chainmail Armor</td><td>70</td><td>Mage</td></tr>",
                            "<tr><td>Gandalf</td><td>100</td><td>Dragon Scale Armor</td><td>90</td><td>Mage</td></tr>",
                            "<tr><td>Gandalf</td><td>100</td><td>Fireball Scroll</td><td>75</td><td>Mage</td></tr>",
                            "<tr><td>Gandalf</td><td>100</td><td>Teleport Scroll</td><td>80</td><td>Mage</td></tr>",
                            "<tr><td>Gandalf</td><td>100</td><td>Mithril Sword</td><td>95</td><td>Mage</td></tr>",
                            "<tr><td>Gandalf</td><td>100</td><td>Elven Quiver</td><td>82</td><td>Mage</td></tr>",
                            "<tr><td>Gandalf</td><td>100</td><td>Phoenix Feather</td><td>100</td><td>Mage</td></tr>",
                            "<tr><td>Gandalf</td><td>100</td><td>Earthquake Rune</td><td>88</td><td>Mage</td></tr>",
                            "<tr><td>Gandalf</td><td>100</td><td>Resurrection Stone</td><td>99</td><td>Mage</td></tr>",
                            "<tr><td>Gandalf</td><td>100</td><td>Stamina Elixir</td><td>30</td><td>Mage</td></tr>",
                            "<tr><td>Gandalf</td><td>100</td><td>Lightning Rod</td><td>76</td><td>Mage</td></tr>",
                            "<tr><td>Gandalf</td><td>100</td><td>Steel Dagger</td><td>65</td><td>Mage</td></tr>",
                            "<tr><td>Gandalf</td><td>100</td><td>Frostbite Blade</td><td>91</td><td>Mage</td></tr>",
                            "<tr><td>Gandalf</td><td>100</td><td>Cloak of Invisibility</td><td>78</td><td>Mage</td></tr>",
                            "<tr><td>Gimli</td><td>60</td><td>Healing Potion</td><td>50</td><td>Warrior</td></tr>",
                            "<tr><td>Gimli</td><td>60</td><td>Mana Potion</td><td>60</td><td>Warrior</td></tr>",
                            "<tr><td>Gimli</td><td>60</td><td>Leather Armor</td><td>40</td><td>Warrior</td></tr>",
                            "<tr><td>Gimli</td><td>60</td><td>Stamina Elixir</td><td>30</td><td>Warrior</td></tr>",
                            "<tr><td>Saruman</td><td>85</td><td>Excalibur</td><td>100</td><td>Mage</td></tr>",
                            "<tr><td>Saruman</td><td>85</td><td>Elven Bow</td><td>85</td><td>Mage</td></tr>",
                            "<tr><td>Saruman</td><td>85</td><td>Dwarven Axe</td><td>90</td><td>Mage</td></tr>",
                            "<tr><td>Saruman</td><td>85</td><td>Healing Potion</td><td>50</td><td>Mage</td></tr>",
                            "<tr><td>Saruman</td><td>85</td><td>Mana Potion</td><td>60</td><td>Mage</td></tr>",
                            "<tr><td>Saruman</td><td>85</td><td>Leather Armor</td><td>40</td><td>Mage</td></tr>",
                            "<tr><td>Saruman</td><td>85</td><td>Chainmail Armor</td><td>70</td><td>Mage</td></tr>",
                            "<tr><td>Saruman</td><td>85</td><td>Dragon Scale Armor</td><td>90</td><td>Mage</td></tr>",
                            "<tr><td>Saruman</td><td>85</td><td>Fireball Scroll</td><td>75</td><td>Mage</td></tr>",
                            "<tr><td>Saruman</td><td>85</td><td>Teleport Scroll</td><td>80</td><td>Mage</td></tr>",
                            "<tr><td>Saruman</td><td>85</td><td>Mithril Sword</td><td>95</td><td>Mage</td></tr>",
                            "<tr><td>Saruman</td><td>85</td><td>Elven Quiver</td><td>82</td><td>Mage</td></tr>",
                            "<tr><td>Saruman</td><td>85</td><td>Phoenix Feather</td><td>100</td><td>Mage</td></tr>",
                            "<tr><td>Saruman</td><td>85</td><td>Earthquake Rune</td><td>88</td><td>Mage</td></tr>",
                            "<tr><td>Saruman</td><td>85</td><td>Resurrection Stone</td><td>99</td><td>Mage</td></tr>",
                            "<tr><td>Saruman</td><td>85</td><td>Stamina Elixir</td><td>30</td><td>Mage</td></tr>",
                            "<tr><td>Saruman</td><td>85</td><td>Lightning Rod</td><td>76</td><td>Mage</td></tr>",
                            "<tr><td>Saruman</td><td>85</td><td>Steel Dagger</td><td>65</td><td>Mage</td></tr>",
                            "<tr><td>Saruman</td><td>85</td><td>Frostbite Blade</td><td>91</td><td>Mage</td></tr>",
                            "<tr><td>Saruman</td><td>85</td><td>Cloak of Invisibility</td><td>78</td><td>Mage</td></tr>",
                            "<tr><td>Sauron</td><td>150</td><td>Excalibur</td><td>100</td><td>Mage</td></tr>",
                            "<tr><td>Sauron</td><td>150</td><td>Elven Bow</td><td>85</td><td>Mage</td></tr>",
                            "<tr><td>Sauron</td><td>150</td><td>Dwarven Axe</td><td>90</td><td>Mage</td></tr>",
                            "<tr><td>Sauron</td><td>150</td><td>Healing Potion</td><td>50</td><td>Mage</td></tr>",
                            "<tr><td>Sauron</td><td>150</td><td>Mana Potion</td><td>60</td><td>Mage</td></tr>",
                            "<tr><td>Sauron</td><td>150</td><td>Leather Armor</td><td>40</td><td>Mage</td></tr>",
                            "<tr><td>Sauron</td><td>150</td><td>Chainmail Armor</td><td>70</td><td>Mage</td></tr>",
                            "<tr><td>Sauron</td><td>150</td><td>Dragon Scale Armor</td><td>90</td><td>Mage</td></tr>",
                            "<tr><td>Sauron</td><td>150</td><td>Fireball Scroll</td><td>75</td><td>Mage</td></tr>",
                            "<tr><td>Sauron</td><td>150</td><td>Teleport Scroll</td><td>80</td><td>Mage</td></tr>",
                            "<tr><td>Sauron</td><td>150</td><td>Mithril Sword</td><td>95</td><td>Mage</td></tr>",
                            "<tr><td>Sauron</td><td>150</td><td>Elven Quiver</td><td>82</td><td>Mage</td></tr>",
                            "<tr><td>Sauron</td><td>150</td><td>Phoenix Feather</td><td>100</td><td>Mage</td></tr>",
                            "<tr><td>Sauron</td><td>150</td><td>Earthquake Rune</td><td>88</td><td>Mage</td></tr>",
                            "<tr><td>Sauron</td><td>150</td><td>Resurrection Stone</td><td>99</td><td>Mage</td></tr>",
                            "<tr><td>Sauron</td><td>150</td><td>Stamina Elixir</td><td>30</td><td>Mage</td></tr>",
                            "<tr><td>Sauron</td><td>150</td><td>Lightning Rod</td><td>76</td><td>Mage</td></tr>",
                            "<tr><td>Sauron</td><td>150</td><td>Steel Dagger</td><td>65</td><td>Mage</td></tr>",
                            "<tr><td>Sauron</td><td>150</td><td>Frostbite Blade</td><td>91</td><td>Mage</td></tr>",
                            "<tr><td>Sauron</td><td>150</td><td>Cloak of Invisibility</td><td>78</td><td>Mage</td></tr>",
                            "<tr><td>Thranduil</td><td>79</td><td>Healing Potion</td><td>50</td><td>Archer</td></tr>",
                            "<tr><td>Thranduil</td><td>79</td><td>Mana Potion</td><td>60</td><td>Archer</td></tr>",
                            "<tr><td>Thranduil</td><td>79</td><td>Leather Armor</td><td>40</td><td>Archer</td></tr>",
                            "<tr><td>Thranduil</td><td>79</td><td>Chainmail Armor</td><td>70</td><td>Archer</td></tr>",
                            "<tr><td>Thranduil</td><td>79</td><td>Fireball Scroll</td><td>75</td><td>Archer</td></tr>",
                            "<tr><td>Thranduil</td><td>79</td><td>Stamina Elixir</td><td>30</td><td>Archer</td></tr>",
                            "<tr><td>Thranduil</td><td>79</td><td>Lightning Rod</td><td>76</td><td>Archer</td></tr>",
                            "<tr><td>Thranduil</td><td>79</td><td>Steel Dagger</td><td>65</td><td>Archer</td></tr>",
                            "<tr><td>Thranduil</td><td>79</td><td>Cloak of Invisibility</td><td>78</td><td>Archer</td></tr>",
                            "</table>"
                        ]
                    }
                }
            ],
            "execution_count": 18
        },
        {
            "cell_type": "markdown",
            "source": [
                ""
            ],
            "metadata": {
                "language": "sql",
                "azdata_cell_guid": "28673a92-6fa3-4b19-b187-c19fc6bc90db"
            }
        },
        {
            "cell_type": "code",
            "source": [
                "SELECT\r\n",
                "    c.name,\r\n",
                "    c.experience / 100,\r\n",
                "    i.name,\r\n",
                "    i.power\r\n",
                "FROM \r\n",
                "    characters c\r\n",
                "JOIN\r\n",
                "    items i\r\n",
                "ON\r\n",
                "    c.experience / 100 >= i.power OR c.class = 'Mage'\r\n",
                "ORDER BY\r\n",
                "    c.name;"
            ],
            "metadata": {
                "language": "sql",
                "azdata_cell_guid": "83a2c2bc-6922-4891-be65-9f974327a5c5"
            },
            "outputs": [
                {
                    "output_type": "display_data",
                    "data": {
                        "text/html": "(117 rows affected)"
                    },
                    "metadata": {}
                },
                {
                    "output_type": "display_data",
                    "data": {
                        "text/html": "Total execution time: 00:00:00.016"
                    },
                    "metadata": {}
                },
                {
                    "output_type": "execute_result",
                    "metadata": {},
                    "execution_count": 19,
                    "data": {
                        "application/vnd.dataresource+json": {
                            "schema": {
                                "fields": [
                                    {
                                        "name": "name"
                                    },
                                    {
                                        "name": "(No column name)"
                                    },
                                    {
                                        "name": "name"
                                    },
                                    {
                                        "name": "power"
                                    }
                                ]
                            },
                            "data": [
                                {
                                    "name": "Elven Bow",
                                    "(No column name)": "90",
                                    "power": "85"
                                },
                                {
                                    "name": "Dwarven Axe",
                                    "(No column name)": "90",
                                    "power": "90"
                                },
                                {
                                    "name": "Healing Potion",
                                    "(No column name)": "90",
                                    "power": "50"
                                },
                                {
                                    "name": "Mana Potion",
                                    "(No column name)": "90",
                                    "power": "60"
                                },
                                {
                                    "name": "Leather Armor",
                                    "(No column name)": "90",
                                    "power": "40"
                                },
                                {
                                    "name": "Chainmail Armor",
                                    "(No column name)": "90",
                                    "power": "70"
                                },
                                {
                                    "name": "Dragon Scale Armor",
                                    "(No column name)": "90",
                                    "power": "90"
                                },
                                {
                                    "name": "Fireball Scroll",
                                    "(No column name)": "90",
                                    "power": "75"
                                },
                                {
                                    "name": "Teleport Scroll",
                                    "(No column name)": "90",
                                    "power": "80"
                                },
                                {
                                    "name": "Elven Quiver",
                                    "(No column name)": "90",
                                    "power": "82"
                                },
                                {
                                    "name": "Earthquake Rune",
                                    "(No column name)": "90",
                                    "power": "88"
                                },
                                {
                                    "name": "Stamina Elixir",
                                    "(No column name)": "90",
                                    "power": "30"
                                },
                                {
                                    "name": "Lightning Rod",
                                    "(No column name)": "90",
                                    "power": "76"
                                },
                                {
                                    "name": "Steel Dagger",
                                    "(No column name)": "90",
                                    "power": "65"
                                },
                                {
                                    "name": "Cloak of Invisibility",
                                    "(No column name)": "90",
                                    "power": "78"
                                },
                                {
                                    "name": "Healing Potion",
                                    "(No column name)": "55",
                                    "power": "50"
                                },
                                {
                                    "name": "Leather Armor",
                                    "(No column name)": "55",
                                    "power": "40"
                                },
                                {
                                    "name": "Stamina Elixir",
                                    "(No column name)": "55",
                                    "power": "30"
                                },
                                {
                                    "name": "Excalibur",
                                    "(No column name)": "82",
                                    "power": "100"
                                },
                                {
                                    "name": "Elven Bow",
                                    "(No column name)": "82",
                                    "power": "85"
                                },
                                {
                                    "name": "Dwarven Axe",
                                    "(No column name)": "82",
                                    "power": "90"
                                },
                                {
                                    "name": "Healing Potion",
                                    "(No column name)": "82",
                                    "power": "50"
                                },
                                {
                                    "name": "Mana Potion",
                                    "(No column name)": "82",
                                    "power": "60"
                                },
                                {
                                    "name": "Leather Armor",
                                    "(No column name)": "82",
                                    "power": "40"
                                },
                                {
                                    "name": "Chainmail Armor",
                                    "(No column name)": "82",
                                    "power": "70"
                                },
                                {
                                    "name": "Dragon Scale Armor",
                                    "(No column name)": "82",
                                    "power": "90"
                                },
                                {
                                    "name": "Fireball Scroll",
                                    "(No column name)": "82",
                                    "power": "75"
                                },
                                {
                                    "name": "Teleport Scroll",
                                    "(No column name)": "82",
                                    "power": "80"
                                },
                                {
                                    "name": "Mithril Sword",
                                    "(No column name)": "82",
                                    "power": "95"
                                },
                                {
                                    "name": "Elven Quiver",
                                    "(No column name)": "82",
                                    "power": "82"
                                },
                                {
                                    "name": "Phoenix Feather",
                                    "(No column name)": "82",
                                    "power": "100"
                                },
                                {
                                    "name": "Earthquake Rune",
                                    "(No column name)": "82",
                                    "power": "88"
                                },
                                {
                                    "name": "Resurrection Stone",
                                    "(No column name)": "82",
                                    "power": "99"
                                },
                                {
                                    "name": "Stamina Elixir",
                                    "(No column name)": "82",
                                    "power": "30"
                                },
                                {
                                    "name": "Lightning Rod",
                                    "(No column name)": "82",
                                    "power": "76"
                                },
                                {
                                    "name": "Steel Dagger",
                                    "(No column name)": "82",
                                    "power": "65"
                                },
                                {
                                    "name": "Frostbite Blade",
                                    "(No column name)": "82",
                                    "power": "91"
                                },
                                {
                                    "name": "Cloak of Invisibility",
                                    "(No column name)": "82",
                                    "power": "78"
                                },
                                {
                                    "name": "Healing Potion",
                                    "(No column name)": "52",
                                    "power": "50"
                                },
                                {
                                    "name": "Leather Armor",
                                    "(No column name)": "52",
                                    "power": "40"
                                },
                                {
                                    "name": "Stamina Elixir",
                                    "(No column name)": "52",
                                    "power": "30"
                                },
                                {
                                    "name": "Healing Potion",
                                    "(No column name)": "57",
                                    "power": "50"
                                },
                                {
                                    "name": "Leather Armor",
                                    "(No column name)": "57",
                                    "power": "40"
                                },
                                {
                                    "name": "Stamina Elixir",
                                    "(No column name)": "57",
                                    "power": "30"
                                },
                                {
                                    "name": "Excalibur",
                                    "(No column name)": "100",
                                    "power": "100"
                                },
                                {
                                    "name": "Elven Bow",
                                    "(No column name)": "100",
                                    "power": "85"
                                },
                                {
                                    "name": "Dwarven Axe",
                                    "(No column name)": "100",
                                    "power": "90"
                                },
                                {
                                    "name": "Healing Potion",
                                    "(No column name)": "100",
                                    "power": "50"
                                },
                                {
                                    "name": "Mana Potion",
                                    "(No column name)": "100",
                                    "power": "60"
                                },
                                {
                                    "name": "Leather Armor",
                                    "(No column name)": "100",
                                    "power": "40"
                                },
                                {
                                    "name": "Chainmail Armor",
                                    "(No column name)": "100",
                                    "power": "70"
                                },
                                {
                                    "name": "Dragon Scale Armor",
                                    "(No column name)": "100",
                                    "power": "90"
                                },
                                {
                                    "name": "Fireball Scroll",
                                    "(No column name)": "100",
                                    "power": "75"
                                },
                                {
                                    "name": "Teleport Scroll",
                                    "(No column name)": "100",
                                    "power": "80"
                                },
                                {
                                    "name": "Mithril Sword",
                                    "(No column name)": "100",
                                    "power": "95"
                                },
                                {
                                    "name": "Elven Quiver",
                                    "(No column name)": "100",
                                    "power": "82"
                                },
                                {
                                    "name": "Phoenix Feather",
                                    "(No column name)": "100",
                                    "power": "100"
                                },
                                {
                                    "name": "Earthquake Rune",
                                    "(No column name)": "100",
                                    "power": "88"
                                },
                                {
                                    "name": "Resurrection Stone",
                                    "(No column name)": "100",
                                    "power": "99"
                                },
                                {
                                    "name": "Stamina Elixir",
                                    "(No column name)": "100",
                                    "power": "30"
                                },
                                {
                                    "name": "Lightning Rod",
                                    "(No column name)": "100",
                                    "power": "76"
                                },
                                {
                                    "name": "Steel Dagger",
                                    "(No column name)": "100",
                                    "power": "65"
                                },
                                {
                                    "name": "Frostbite Blade",
                                    "(No column name)": "100",
                                    "power": "91"
                                },
                                {
                                    "name": "Cloak of Invisibility",
                                    "(No column name)": "100",
                                    "power": "78"
                                },
                                {
                                    "name": "Healing Potion",
                                    "(No column name)": "60",
                                    "power": "50"
                                },
                                {
                                    "name": "Mana Potion",
                                    "(No column name)": "60",
                                    "power": "60"
                                },
                                {
                                    "name": "Leather Armor",
                                    "(No column name)": "60",
                                    "power": "40"
                                },
                                {
                                    "name": "Stamina Elixir",
                                    "(No column name)": "60",
                                    "power": "30"
                                },
                                {
                                    "name": "Excalibur",
                                    "(No column name)": "85",
                                    "power": "100"
                                },
                                {
                                    "name": "Elven Bow",
                                    "(No column name)": "85",
                                    "power": "85"
                                },
                                {
                                    "name": "Dwarven Axe",
                                    "(No column name)": "85",
                                    "power": "90"
                                },
                                {
                                    "name": "Healing Potion",
                                    "(No column name)": "85",
                                    "power": "50"
                                },
                                {
                                    "name": "Mana Potion",
                                    "(No column name)": "85",
                                    "power": "60"
                                },
                                {
                                    "name": "Leather Armor",
                                    "(No column name)": "85",
                                    "power": "40"
                                },
                                {
                                    "name": "Chainmail Armor",
                                    "(No column name)": "85",
                                    "power": "70"
                                },
                                {
                                    "name": "Dragon Scale Armor",
                                    "(No column name)": "85",
                                    "power": "90"
                                },
                                {
                                    "name": "Fireball Scroll",
                                    "(No column name)": "85",
                                    "power": "75"
                                },
                                {
                                    "name": "Teleport Scroll",
                                    "(No column name)": "85",
                                    "power": "80"
                                },
                                {
                                    "name": "Mithril Sword",
                                    "(No column name)": "85",
                                    "power": "95"
                                },
                                {
                                    "name": "Elven Quiver",
                                    "(No column name)": "85",
                                    "power": "82"
                                },
                                {
                                    "name": "Phoenix Feather",
                                    "(No column name)": "85",
                                    "power": "100"
                                },
                                {
                                    "name": "Earthquake Rune",
                                    "(No column name)": "85",
                                    "power": "88"
                                },
                                {
                                    "name": "Resurrection Stone",
                                    "(No column name)": "85",
                                    "power": "99"
                                },
                                {
                                    "name": "Stamina Elixir",
                                    "(No column name)": "85",
                                    "power": "30"
                                },
                                {
                                    "name": "Lightning Rod",
                                    "(No column name)": "85",
                                    "power": "76"
                                },
                                {
                                    "name": "Steel Dagger",
                                    "(No column name)": "85",
                                    "power": "65"
                                },
                                {
                                    "name": "Frostbite Blade",
                                    "(No column name)": "85",
                                    "power": "91"
                                },
                                {
                                    "name": "Cloak of Invisibility",
                                    "(No column name)": "85",
                                    "power": "78"
                                },
                                {
                                    "name": "Excalibur",
                                    "(No column name)": "150",
                                    "power": "100"
                                },
                                {
                                    "name": "Elven Bow",
                                    "(No column name)": "150",
                                    "power": "85"
                                },
                                {
                                    "name": "Dwarven Axe",
                                    "(No column name)": "150",
                                    "power": "90"
                                },
                                {
                                    "name": "Healing Potion",
                                    "(No column name)": "150",
                                    "power": "50"
                                },
                                {
                                    "name": "Mana Potion",
                                    "(No column name)": "150",
                                    "power": "60"
                                },
                                {
                                    "name": "Leather Armor",
                                    "(No column name)": "150",
                                    "power": "40"
                                },
                                {
                                    "name": "Chainmail Armor",
                                    "(No column name)": "150",
                                    "power": "70"
                                },
                                {
                                    "name": "Dragon Scale Armor",
                                    "(No column name)": "150",
                                    "power": "90"
                                },
                                {
                                    "name": "Fireball Scroll",
                                    "(No column name)": "150",
                                    "power": "75"
                                },
                                {
                                    "name": "Teleport Scroll",
                                    "(No column name)": "150",
                                    "power": "80"
                                },
                                {
                                    "name": "Mithril Sword",
                                    "(No column name)": "150",
                                    "power": "95"
                                },
                                {
                                    "name": "Elven Quiver",
                                    "(No column name)": "150",
                                    "power": "82"
                                },
                                {
                                    "name": "Phoenix Feather",
                                    "(No column name)": "150",
                                    "power": "100"
                                },
                                {
                                    "name": "Earthquake Rune",
                                    "(No column name)": "150",
                                    "power": "88"
                                },
                                {
                                    "name": "Resurrection Stone",
                                    "(No column name)": "150",
                                    "power": "99"
                                },
                                {
                                    "name": "Stamina Elixir",
                                    "(No column name)": "150",
                                    "power": "30"
                                },
                                {
                                    "name": "Lightning Rod",
                                    "(No column name)": "150",
                                    "power": "76"
                                },
                                {
                                    "name": "Steel Dagger",
                                    "(No column name)": "150",
                                    "power": "65"
                                },
                                {
                                    "name": "Frostbite Blade",
                                    "(No column name)": "150",
                                    "power": "91"
                                },
                                {
                                    "name": "Cloak of Invisibility",
                                    "(No column name)": "150",
                                    "power": "78"
                                },
                                {
                                    "name": "Healing Potion",
                                    "(No column name)": "79",
                                    "power": "50"
                                },
                                {
                                    "name": "Mana Potion",
                                    "(No column name)": "79",
                                    "power": "60"
                                },
                                {
                                    "name": "Leather Armor",
                                    "(No column name)": "79",
                                    "power": "40"
                                },
                                {
                                    "name": "Chainmail Armor",
                                    "(No column name)": "79",
                                    "power": "70"
                                },
                                {
                                    "name": "Fireball Scroll",
                                    "(No column name)": "79",
                                    "power": "75"
                                },
                                {
                                    "name": "Stamina Elixir",
                                    "(No column name)": "79",
                                    "power": "30"
                                },
                                {
                                    "name": "Lightning Rod",
                                    "(No column name)": "79",
                                    "power": "76"
                                },
                                {
                                    "name": "Steel Dagger",
                                    "(No column name)": "79",
                                    "power": "65"
                                },
                                {
                                    "name": "Cloak of Invisibility",
                                    "(No column name)": "79",
                                    "power": "78"
                                }
                            ]
                        },
                        "text/html": [
                            "<table>",
                            "<tr><th>name</th><th>(No column name)</th><th>name</th><th>power</th></tr>",
                            "<tr><td>Aragorn</td><td>90</td><td>Elven Bow</td><td>85</td></tr>",
                            "<tr><td>Aragorn</td><td>90</td><td>Dwarven Axe</td><td>90</td></tr>",
                            "<tr><td>Aragorn</td><td>90</td><td>Healing Potion</td><td>50</td></tr>",
                            "<tr><td>Aragorn</td><td>90</td><td>Mana Potion</td><td>60</td></tr>",
                            "<tr><td>Aragorn</td><td>90</td><td>Leather Armor</td><td>40</td></tr>",
                            "<tr><td>Aragorn</td><td>90</td><td>Chainmail Armor</td><td>70</td></tr>",
                            "<tr><td>Aragorn</td><td>90</td><td>Dragon Scale Armor</td><td>90</td></tr>",
                            "<tr><td>Aragorn</td><td>90</td><td>Fireball Scroll</td><td>75</td></tr>",
                            "<tr><td>Aragorn</td><td>90</td><td>Teleport Scroll</td><td>80</td></tr>",
                            "<tr><td>Aragorn</td><td>90</td><td>Elven Quiver</td><td>82</td></tr>",
                            "<tr><td>Aragorn</td><td>90</td><td>Earthquake Rune</td><td>88</td></tr>",
                            "<tr><td>Aragorn</td><td>90</td><td>Stamina Elixir</td><td>30</td></tr>",
                            "<tr><td>Aragorn</td><td>90</td><td>Lightning Rod</td><td>76</td></tr>",
                            "<tr><td>Aragorn</td><td>90</td><td>Steel Dagger</td><td>65</td></tr>",
                            "<tr><td>Aragorn</td><td>90</td><td>Cloak of Invisibility</td><td>78</td></tr>",
                            "<tr><td>Boromir</td><td>55</td><td>Healing Potion</td><td>50</td></tr>",
                            "<tr><td>Boromir</td><td>55</td><td>Leather Armor</td><td>40</td></tr>",
                            "<tr><td>Boromir</td><td>55</td><td>Stamina Elixir</td><td>30</td></tr>",
                            "<tr><td>Elrond</td><td>82</td><td>Excalibur</td><td>100</td></tr>",
                            "<tr><td>Elrond</td><td>82</td><td>Elven Bow</td><td>85</td></tr>",
                            "<tr><td>Elrond</td><td>82</td><td>Dwarven Axe</td><td>90</td></tr>",
                            "<tr><td>Elrond</td><td>82</td><td>Healing Potion</td><td>50</td></tr>",
                            "<tr><td>Elrond</td><td>82</td><td>Mana Potion</td><td>60</td></tr>",
                            "<tr><td>Elrond</td><td>82</td><td>Leather Armor</td><td>40</td></tr>",
                            "<tr><td>Elrond</td><td>82</td><td>Chainmail Armor</td><td>70</td></tr>",
                            "<tr><td>Elrond</td><td>82</td><td>Dragon Scale Armor</td><td>90</td></tr>",
                            "<tr><td>Elrond</td><td>82</td><td>Fireball Scroll</td><td>75</td></tr>",
                            "<tr><td>Elrond</td><td>82</td><td>Teleport Scroll</td><td>80</td></tr>",
                            "<tr><td>Elrond</td><td>82</td><td>Mithril Sword</td><td>95</td></tr>",
                            "<tr><td>Elrond</td><td>82</td><td>Elven Quiver</td><td>82</td></tr>",
                            "<tr><td>Elrond</td><td>82</td><td>Phoenix Feather</td><td>100</td></tr>",
                            "<tr><td>Elrond</td><td>82</td><td>Earthquake Rune</td><td>88</td></tr>",
                            "<tr><td>Elrond</td><td>82</td><td>Resurrection Stone</td><td>99</td></tr>",
                            "<tr><td>Elrond</td><td>82</td><td>Stamina Elixir</td><td>30</td></tr>",
                            "<tr><td>Elrond</td><td>82</td><td>Lightning Rod</td><td>76</td></tr>",
                            "<tr><td>Elrond</td><td>82</td><td>Steel Dagger</td><td>65</td></tr>",
                            "<tr><td>Elrond</td><td>82</td><td>Frostbite Blade</td><td>91</td></tr>",
                            "<tr><td>Elrond</td><td>82</td><td>Cloak of Invisibility</td><td>78</td></tr>",
                            "<tr><td>Eowyn</td><td>52</td><td>Healing Potion</td><td>50</td></tr>",
                            "<tr><td>Eowyn</td><td>52</td><td>Leather Armor</td><td>40</td></tr>",
                            "<tr><td>Eowyn</td><td>52</td><td>Stamina Elixir</td><td>30</td></tr>",
                            "<tr><td>Faramir</td><td>57</td><td>Healing Potion</td><td>50</td></tr>",
                            "<tr><td>Faramir</td><td>57</td><td>Leather Armor</td><td>40</td></tr>",
                            "<tr><td>Faramir</td><td>57</td><td>Stamina Elixir</td><td>30</td></tr>",
                            "<tr><td>Gandalf</td><td>100</td><td>Excalibur</td><td>100</td></tr>",
                            "<tr><td>Gandalf</td><td>100</td><td>Elven Bow</td><td>85</td></tr>",
                            "<tr><td>Gandalf</td><td>100</td><td>Dwarven Axe</td><td>90</td></tr>",
                            "<tr><td>Gandalf</td><td>100</td><td>Healing Potion</td><td>50</td></tr>",
                            "<tr><td>Gandalf</td><td>100</td><td>Mana Potion</td><td>60</td></tr>",
                            "<tr><td>Gandalf</td><td>100</td><td>Leather Armor</td><td>40</td></tr>",
                            "<tr><td>Gandalf</td><td>100</td><td>Chainmail Armor</td><td>70</td></tr>",
                            "<tr><td>Gandalf</td><td>100</td><td>Dragon Scale Armor</td><td>90</td></tr>",
                            "<tr><td>Gandalf</td><td>100</td><td>Fireball Scroll</td><td>75</td></tr>",
                            "<tr><td>Gandalf</td><td>100</td><td>Teleport Scroll</td><td>80</td></tr>",
                            "<tr><td>Gandalf</td><td>100</td><td>Mithril Sword</td><td>95</td></tr>",
                            "<tr><td>Gandalf</td><td>100</td><td>Elven Quiver</td><td>82</td></tr>",
                            "<tr><td>Gandalf</td><td>100</td><td>Phoenix Feather</td><td>100</td></tr>",
                            "<tr><td>Gandalf</td><td>100</td><td>Earthquake Rune</td><td>88</td></tr>",
                            "<tr><td>Gandalf</td><td>100</td><td>Resurrection Stone</td><td>99</td></tr>",
                            "<tr><td>Gandalf</td><td>100</td><td>Stamina Elixir</td><td>30</td></tr>",
                            "<tr><td>Gandalf</td><td>100</td><td>Lightning Rod</td><td>76</td></tr>",
                            "<tr><td>Gandalf</td><td>100</td><td>Steel Dagger</td><td>65</td></tr>",
                            "<tr><td>Gandalf</td><td>100</td><td>Frostbite Blade</td><td>91</td></tr>",
                            "<tr><td>Gandalf</td><td>100</td><td>Cloak of Invisibility</td><td>78</td></tr>",
                            "<tr><td>Gimli</td><td>60</td><td>Healing Potion</td><td>50</td></tr>",
                            "<tr><td>Gimli</td><td>60</td><td>Mana Potion</td><td>60</td></tr>",
                            "<tr><td>Gimli</td><td>60</td><td>Leather Armor</td><td>40</td></tr>",
                            "<tr><td>Gimli</td><td>60</td><td>Stamina Elixir</td><td>30</td></tr>",
                            "<tr><td>Saruman</td><td>85</td><td>Excalibur</td><td>100</td></tr>",
                            "<tr><td>Saruman</td><td>85</td><td>Elven Bow</td><td>85</td></tr>",
                            "<tr><td>Saruman</td><td>85</td><td>Dwarven Axe</td><td>90</td></tr>",
                            "<tr><td>Saruman</td><td>85</td><td>Healing Potion</td><td>50</td></tr>",
                            "<tr><td>Saruman</td><td>85</td><td>Mana Potion</td><td>60</td></tr>",
                            "<tr><td>Saruman</td><td>85</td><td>Leather Armor</td><td>40</td></tr>",
                            "<tr><td>Saruman</td><td>85</td><td>Chainmail Armor</td><td>70</td></tr>",
                            "<tr><td>Saruman</td><td>85</td><td>Dragon Scale Armor</td><td>90</td></tr>",
                            "<tr><td>Saruman</td><td>85</td><td>Fireball Scroll</td><td>75</td></tr>",
                            "<tr><td>Saruman</td><td>85</td><td>Teleport Scroll</td><td>80</td></tr>",
                            "<tr><td>Saruman</td><td>85</td><td>Mithril Sword</td><td>95</td></tr>",
                            "<tr><td>Saruman</td><td>85</td><td>Elven Quiver</td><td>82</td></tr>",
                            "<tr><td>Saruman</td><td>85</td><td>Phoenix Feather</td><td>100</td></tr>",
                            "<tr><td>Saruman</td><td>85</td><td>Earthquake Rune</td><td>88</td></tr>",
                            "<tr><td>Saruman</td><td>85</td><td>Resurrection Stone</td><td>99</td></tr>",
                            "<tr><td>Saruman</td><td>85</td><td>Stamina Elixir</td><td>30</td></tr>",
                            "<tr><td>Saruman</td><td>85</td><td>Lightning Rod</td><td>76</td></tr>",
                            "<tr><td>Saruman</td><td>85</td><td>Steel Dagger</td><td>65</td></tr>",
                            "<tr><td>Saruman</td><td>85</td><td>Frostbite Blade</td><td>91</td></tr>",
                            "<tr><td>Saruman</td><td>85</td><td>Cloak of Invisibility</td><td>78</td></tr>",
                            "<tr><td>Sauron</td><td>150</td><td>Excalibur</td><td>100</td></tr>",
                            "<tr><td>Sauron</td><td>150</td><td>Elven Bow</td><td>85</td></tr>",
                            "<tr><td>Sauron</td><td>150</td><td>Dwarven Axe</td><td>90</td></tr>",
                            "<tr><td>Sauron</td><td>150</td><td>Healing Potion</td><td>50</td></tr>",
                            "<tr><td>Sauron</td><td>150</td><td>Mana Potion</td><td>60</td></tr>",
                            "<tr><td>Sauron</td><td>150</td><td>Leather Armor</td><td>40</td></tr>",
                            "<tr><td>Sauron</td><td>150</td><td>Chainmail Armor</td><td>70</td></tr>",
                            "<tr><td>Sauron</td><td>150</td><td>Dragon Scale Armor</td><td>90</td></tr>",
                            "<tr><td>Sauron</td><td>150</td><td>Fireball Scroll</td><td>75</td></tr>",
                            "<tr><td>Sauron</td><td>150</td><td>Teleport Scroll</td><td>80</td></tr>",
                            "<tr><td>Sauron</td><td>150</td><td>Mithril Sword</td><td>95</td></tr>",
                            "<tr><td>Sauron</td><td>150</td><td>Elven Quiver</td><td>82</td></tr>",
                            "<tr><td>Sauron</td><td>150</td><td>Phoenix Feather</td><td>100</td></tr>",
                            "<tr><td>Sauron</td><td>150</td><td>Earthquake Rune</td><td>88</td></tr>",
                            "<tr><td>Sauron</td><td>150</td><td>Resurrection Stone</td><td>99</td></tr>",
                            "<tr><td>Sauron</td><td>150</td><td>Stamina Elixir</td><td>30</td></tr>",
                            "<tr><td>Sauron</td><td>150</td><td>Lightning Rod</td><td>76</td></tr>",
                            "<tr><td>Sauron</td><td>150</td><td>Steel Dagger</td><td>65</td></tr>",
                            "<tr><td>Sauron</td><td>150</td><td>Frostbite Blade</td><td>91</td></tr>",
                            "<tr><td>Sauron</td><td>150</td><td>Cloak of Invisibility</td><td>78</td></tr>",
                            "<tr><td>Thranduil</td><td>79</td><td>Healing Potion</td><td>50</td></tr>",
                            "<tr><td>Thranduil</td><td>79</td><td>Mana Potion</td><td>60</td></tr>",
                            "<tr><td>Thranduil</td><td>79</td><td>Leather Armor</td><td>40</td></tr>",
                            "<tr><td>Thranduil</td><td>79</td><td>Chainmail Armor</td><td>70</td></tr>",
                            "<tr><td>Thranduil</td><td>79</td><td>Fireball Scroll</td><td>75</td></tr>",
                            "<tr><td>Thranduil</td><td>79</td><td>Stamina Elixir</td><td>30</td></tr>",
                            "<tr><td>Thranduil</td><td>79</td><td>Lightning Rod</td><td>76</td></tr>",
                            "<tr><td>Thranduil</td><td>79</td><td>Steel Dagger</td><td>65</td></tr>",
                            "<tr><td>Thranduil</td><td>79</td><td>Cloak of Invisibility</td><td>78</td></tr>",
                            "</table>"
                        ]
                    }
                }
            ],
            "execution_count": 19
        },
        {
            "cell_type": "markdown",
            "source": [
                "# LEFT JOIN"
            ],
            "metadata": {
                "language": "sql",
                "azdata_cell_guid": "bf8155ea-d56f-47d4-984e-2ba4bb59d559"
            },
            "attachments": {}
        },
        {
            "cell_type": "code",
            "source": [
                "SELECT\r\n",
                "    c.name as name,\r\n",
                "    m.name as mentor_name\r\n",
                "FROM \r\n",
                "    characters c\r\n",
                "INNER JOIN\r\n",
                "    characters m\r\n",
                "ON\r\n",
                "   c.mentor_id = m.id\r\n",
                ";"
            ],
            "metadata": {
                "language": "sql",
                "azdata_cell_guid": "b966a5c9-88ee-42da-ac9b-4d32c2d36d96"
            },
            "outputs": [
                {
                    "output_type": "display_data",
                    "data": {
                        "text/html": "(8 rows affected)"
                    },
                    "metadata": {}
                },
                {
                    "output_type": "display_data",
                    "data": {
                        "text/html": "Total execution time: 00:00:00.010"
                    },
                    "metadata": {}
                },
                {
                    "output_type": "execute_result",
                    "metadata": {},
                    "execution_count": 25,
                    "data": {
                        "application/vnd.dataresource+json": {
                            "schema": {
                                "fields": [
                                    {
                                        "name": "name"
                                    },
                                    {
                                        "name": "mentor_name"
                                    }
                                ]
                            },
                            "data": [
                                {
                                    "name": "Frodo",
                                    "mentor_name": "Aragorn"
                                },
                                {
                                    "name": "Sam",
                                    "mentor_name": "Aragorn"
                                },
                                {
                                    "name": "Merry",
                                    "mentor_name": "Frodo"
                                },
                                {
                                    "name": "Pippin",
                                    "mentor_name": "Frodo"
                                },
                                {
                                    "name": "Saruman",
                                    "mentor_name": "Gandalf"
                                },
                                {
                                    "name": "Elrond",
                                    "mentor_name": "Gandalf"
                                },
                                {
                                    "name": "Eowyn",
                                    "mentor_name": "Boromir"
                                },
                                {
                                    "name": "Faramir",
                                    "mentor_name": "Boromir"
                                }
                            ]
                        },
                        "text/html": [
                            "<table>",
                            "<tr><th>name</th><th>mentor_name</th></tr>",
                            "<tr><td>Frodo</td><td>Aragorn</td></tr>",
                            "<tr><td>Sam</td><td>Aragorn</td></tr>",
                            "<tr><td>Merry</td><td>Frodo</td></tr>",
                            "<tr><td>Pippin</td><td>Frodo</td></tr>",
                            "<tr><td>Saruman</td><td>Gandalf</td></tr>",
                            "<tr><td>Elrond</td><td>Gandalf</td></tr>",
                            "<tr><td>Eowyn</td><td>Boromir</td></tr>",
                            "<tr><td>Faramir</td><td>Boromir</td></tr>",
                            "</table>"
                        ]
                    }
                }
            ],
            "execution_count": 25
        },
        {
            "cell_type": "markdown",
            "source": [
                "# FULL OUTER JOIN\n",
                "\n",
                "full outer join = inner jion + left join + right join"
            ],
            "metadata": {
                "language": "sql",
                "azdata_cell_guid": "896c57cf-2611-49c0-83e7-a6d1c40de50b"
            },
            "attachments": {}
        },
        {
            "cell_type": "code",
            "source": [
                "SELECT\r\n",
                "    c.name as name,\r\n",
                "    m.name as mentor_name\r\n",
                "FROM \r\n",
                "    characters c\r\n",
                "LEFT JOIN\r\n",
                "    characters m\r\n",
                "ON\r\n",
                "   c.mentor_id = m.id\r\n",
                ";"
            ],
            "metadata": {
                "language": "sql",
                "azdata_cell_guid": "556f6398-35b9-4e4e-ac3b-b72271fb5c85"
            },
            "outputs": [
                {
                    "output_type": "display_data",
                    "data": {
                        "text/html": "(14 rows affected)"
                    },
                    "metadata": {}
                },
                {
                    "output_type": "display_data",
                    "data": {
                        "text/html": "Total execution time: 00:00:00.033"
                    },
                    "metadata": {}
                },
                {
                    "output_type": "execute_result",
                    "metadata": {},
                    "execution_count": 24,
                    "data": {
                        "application/vnd.dataresource+json": {
                            "schema": {
                                "fields": [
                                    {
                                        "name": "name"
                                    },
                                    {
                                        "name": "mentor_name"
                                    }
                                ]
                            },
                            "data": [
                                {
                                    "name": "Aragorn",
                                    "mentor_name": "NULL"
                                },
                                {
                                    "name": "Gimli",
                                    "mentor_name": "NULL"
                                },
                                {
                                    "name": "Frodo",
                                    "mentor_name": "Aragorn"
                                },
                                {
                                    "name": "Sam",
                                    "mentor_name": "Aragorn"
                                },
                                {
                                    "name": "Gandalf",
                                    "mentor_name": "NULL"
                                },
                                {
                                    "name": "Boromir",
                                    "mentor_name": "NULL"
                                },
                                {
                                    "name": "Merry",
                                    "mentor_name": "Frodo"
                                },
                                {
                                    "name": "Pippin",
                                    "mentor_name": "Frodo"
                                },
                                {
                                    "name": "Sauron",
                                    "mentor_name": "NULL"
                                },
                                {
                                    "name": "Saruman",
                                    "mentor_name": "Gandalf"
                                },
                                {
                                    "name": "Elrond",
                                    "mentor_name": "Gandalf"
                                },
                                {
                                    "name": "Thranduil",
                                    "mentor_name": "NULL"
                                },
                                {
                                    "name": "Eowyn",
                                    "mentor_name": "Boromir"
                                },
                                {
                                    "name": "Faramir",
                                    "mentor_name": "Boromir"
                                }
                            ]
                        },
                        "text/html": [
                            "<table>",
                            "<tr><th>name</th><th>mentor_name</th></tr>",
                            "<tr><td>Aragorn</td><td>NULL</td></tr>",
                            "<tr><td>Gimli</td><td>NULL</td></tr>",
                            "<tr><td>Frodo</td><td>Aragorn</td></tr>",
                            "<tr><td>Sam</td><td>Aragorn</td></tr>",
                            "<tr><td>Gandalf</td><td>NULL</td></tr>",
                            "<tr><td>Boromir</td><td>NULL</td></tr>",
                            "<tr><td>Merry</td><td>Frodo</td></tr>",
                            "<tr><td>Pippin</td><td>Frodo</td></tr>",
                            "<tr><td>Sauron</td><td>NULL</td></tr>",
                            "<tr><td>Saruman</td><td>Gandalf</td></tr>",
                            "<tr><td>Elrond</td><td>Gandalf</td></tr>",
                            "<tr><td>Thranduil</td><td>NULL</td></tr>",
                            "<tr><td>Eowyn</td><td>Boromir</td></tr>",
                            "<tr><td>Faramir</td><td>Boromir</td></tr>",
                            "</table>"
                        ]
                    }
                }
            ],
            "execution_count": 24
        },
        {
            "cell_type": "code",
            "source": [
                "SELECT\r\n",
                "    c.name as name,\r\n",
                "    m.name as mentor_name\r\n",
                "FROM \r\n",
                "    characters c\r\n",
                "FULL OUTER JOIN\r\n",
                "    characters m\r\n",
                "ON\r\n",
                "   c.mentor_id = m.id\r\n",
                ";"
            ],
            "metadata": {
                "language": "sql",
                "azdata_cell_guid": "a3f8e6d5-7777-4d29-a6fb-31d765508662"
            },
            "outputs": [
                {
                    "output_type": "display_data",
                    "data": {
                        "text/html": "(24 rows affected)"
                    },
                    "metadata": {}
                },
                {
                    "output_type": "display_data",
                    "data": {
                        "text/html": "Total execution time: 00:00:00.050"
                    },
                    "metadata": {}
                },
                {
                    "output_type": "execute_result",
                    "metadata": {},
                    "execution_count": 26,
                    "data": {
                        "application/vnd.dataresource+json": {
                            "schema": {
                                "fields": [
                                    {
                                        "name": "name"
                                    },
                                    {
                                        "name": "mentor_name"
                                    }
                                ]
                            },
                            "data": [
                                {
                                    "name": "Aragorn",
                                    "mentor_name": "NULL"
                                },
                                {
                                    "name": "Gimli",
                                    "mentor_name": "NULL"
                                },
                                {
                                    "name": "Frodo",
                                    "mentor_name": "Aragorn"
                                },
                                {
                                    "name": "Sam",
                                    "mentor_name": "Aragorn"
                                },
                                {
                                    "name": "Gandalf",
                                    "mentor_name": "NULL"
                                },
                                {
                                    "name": "Boromir",
                                    "mentor_name": "NULL"
                                },
                                {
                                    "name": "Merry",
                                    "mentor_name": "Frodo"
                                },
                                {
                                    "name": "Pippin",
                                    "mentor_name": "Frodo"
                                },
                                {
                                    "name": "Sauron",
                                    "mentor_name": "NULL"
                                },
                                {
                                    "name": "Saruman",
                                    "mentor_name": "Gandalf"
                                },
                                {
                                    "name": "Elrond",
                                    "mentor_name": "Gandalf"
                                },
                                {
                                    "name": "Thranduil",
                                    "mentor_name": "NULL"
                                },
                                {
                                    "name": "Eowyn",
                                    "mentor_name": "Boromir"
                                },
                                {
                                    "name": "Faramir",
                                    "mentor_name": "Boromir"
                                },
                                {
                                    "name": "NULL",
                                    "mentor_name": "Gimli"
                                },
                                {
                                    "name": "NULL",
                                    "mentor_name": "Sam"
                                },
                                {
                                    "name": "NULL",
                                    "mentor_name": "Merry"
                                },
                                {
                                    "name": "NULL",
                                    "mentor_name": "Pippin"
                                },
                                {
                                    "name": "NULL",
                                    "mentor_name": "Sauron"
                                },
                                {
                                    "name": "NULL",
                                    "mentor_name": "Saruman"
                                },
                                {
                                    "name": "NULL",
                                    "mentor_name": "Elrond"
                                },
                                {
                                    "name": "NULL",
                                    "mentor_name": "Thranduil"
                                },
                                {
                                    "name": "NULL",
                                    "mentor_name": "Eowyn"
                                },
                                {
                                    "name": "NULL",
                                    "mentor_name": "Faramir"
                                }
                            ]
                        },
                        "text/html": [
                            "<table>",
                            "<tr><th>name</th><th>mentor_name</th></tr>",
                            "<tr><td>Aragorn</td><td>NULL</td></tr>",
                            "<tr><td>Gimli</td><td>NULL</td></tr>",
                            "<tr><td>Frodo</td><td>Aragorn</td></tr>",
                            "<tr><td>Sam</td><td>Aragorn</td></tr>",
                            "<tr><td>Gandalf</td><td>NULL</td></tr>",
                            "<tr><td>Boromir</td><td>NULL</td></tr>",
                            "<tr><td>Merry</td><td>Frodo</td></tr>",
                            "<tr><td>Pippin</td><td>Frodo</td></tr>",
                            "<tr><td>Sauron</td><td>NULL</td></tr>",
                            "<tr><td>Saruman</td><td>Gandalf</td></tr>",
                            "<tr><td>Elrond</td><td>Gandalf</td></tr>",
                            "<tr><td>Thranduil</td><td>NULL</td></tr>",
                            "<tr><td>Eowyn</td><td>Boromir</td></tr>",
                            "<tr><td>Faramir</td><td>Boromir</td></tr>",
                            "<tr><td>NULL</td><td>Gimli</td></tr>",
                            "<tr><td>NULL</td><td>Sam</td></tr>",
                            "<tr><td>NULL</td><td>Merry</td></tr>",
                            "<tr><td>NULL</td><td>Pippin</td></tr>",
                            "<tr><td>NULL</td><td>Sauron</td></tr>",
                            "<tr><td>NULL</td><td>Saruman</td></tr>",
                            "<tr><td>NULL</td><td>Elrond</td></tr>",
                            "<tr><td>NULL</td><td>Thranduil</td></tr>",
                            "<tr><td>NULL</td><td>Eowyn</td></tr>",
                            "<tr><td>NULL</td><td>Faramir</td></tr>",
                            "</table>"
                        ]
                    }
                }
            ],
            "execution_count": 26
        }
    ]
}
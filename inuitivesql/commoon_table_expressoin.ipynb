{
    "metadata": {
        "kernelspec": {
            "name": "SQL",
            "display_name": "SQL",
            "language": "sql"
        },
        "language_info": {
            "name": "sql",
            "version": ""
        }
    },
    "nbformat_minor": 2,
    "nbformat": 4,
    "cells": [
        {
            "cell_type": "code",
            "source": [
                "SELECT \r\n",
                "    * \r\n",
                "FROM \r\n",
                "    (\r\n",
                "        SELECT \r\n",
                "            name,\r\n",
                "            level,\r\n",
                "        CASE\r\n",
                "            WHEN class = 'Mage' THEN level * 0.5\r\n",
                "            WHEN class IN ('Archer', 'Warrior') THEN level * 0.75\r\n",
                "            ELSE level * 1.5\r\n",
                "        END AS power_level\r\n",
                "        FROM\r\n",
                "            characters\r\n",
                "    ) AS power_calculation\r\n",
                "WHERE \r\n",
                "    power_level >= 15"
            ],
            "metadata": {
                "azdata_cell_guid": "e83bccac-7eec-42dd-972d-1ef10c49317b",
                "language": "sql"
            },
            "outputs": [
                {
                    "output_type": "display_data",
                    "data": {
                        "text/html": "(9 rows affected)"
                    },
                    "metadata": {}
                },
                {
                    "output_type": "display_data",
                    "data": {
                        "text/html": "Total execution time: 00:00:00.015"
                    },
                    "metadata": {}
                },
                {
                    "output_type": "execute_result",
                    "metadata": {},
                    "execution_count": 1,
                    "data": {
                        "application/vnd.dataresource+json": {
                            "schema": {
                                "fields": [
                                    {
                                        "name": "name"
                                    },
                                    {
                                        "name": "level"
                                    },
                                    {
                                        "name": "power_level"
                                    }
                                ]
                            },
                            "data": [
                                {
                                    "name": "Aragorn",
                                    "level": "25",
                                    "power_level": "18.75"
                                },
                                {
                                    "name": "Gimli",
                                    "level": "20",
                                    "power_level": "15.00"
                                },
                                {
                                    "name": "Frodo",
                                    "level": "12",
                                    "power_level": "18.00"
                                },
                                {
                                    "name": "Sam",
                                    "level": "13",
                                    "power_level": "19.50"
                                },
                                {
                                    "name": "Gandalf",
                                    "level": "30",
                                    "power_level": "15.00"
                                },
                                {
                                    "name": "Merry",
                                    "level": "11",
                                    "power_level": "16.50"
                                },
                                {
                                    "name": "Pippin",
                                    "level": "11",
                                    "power_level": "16.50"
                                },
                                {
                                    "name": "Sauron",
                                    "level": "40",
                                    "power_level": "20.00"
                                },
                                {
                                    "name": "Thranduil",
                                    "level": "26",
                                    "power_level": "19.50"
                                }
                            ]
                        },
                        "text/html": [
                            "<table>",
                            "<tr><th>name</th><th>level</th><th>power_level</th></tr>",
                            "<tr><td>Aragorn</td><td>25</td><td>18.75</td></tr>",
                            "<tr><td>Gimli</td><td>20</td><td>15.00</td></tr>",
                            "<tr><td>Frodo</td><td>12</td><td>18.00</td></tr>",
                            "<tr><td>Sam</td><td>13</td><td>19.50</td></tr>",
                            "<tr><td>Gandalf</td><td>30</td><td>15.00</td></tr>",
                            "<tr><td>Merry</td><td>11</td><td>16.50</td></tr>",
                            "<tr><td>Pippin</td><td>11</td><td>16.50</td></tr>",
                            "<tr><td>Sauron</td><td>40</td><td>20.00</td></tr>",
                            "<tr><td>Thranduil</td><td>26</td><td>19.50</td></tr>",
                            "</table>"
                        ]
                    }
                }
            ],
            "execution_count": 1
        },
        {
            "cell_type": "code",
            "source": [
                " WITH  power_level_table  AS \r\n",
                "(\r\n",
                "    SELECT \r\n",
                "        name,\r\n",
                "        level,\r\n",
                "    CASE\r\n",
                "        WHEN class = 'Mage' THEN level * 0.5\r\n",
                "        WHEN class IN ('Archer', 'Warrior') THEN level * 0.75\r\n",
                "        ELSE level * 1.5\r\n",
                "    END AS power_level\r\n",
                "    FROM\r\n",
                "        characters\r\n",
                ")\r\n",
                "\r\n",
                "\r\n",
                "SELECT \r\n",
                "    * \r\n",
                "FROM \r\n",
                "    power_level_table\r\n",
                "WHERE\r\n",
                "    power_level >= 16;"
            ],
            "metadata": {
                "language": "sql",
                "azdata_cell_guid": "7152dad9-347a-4513-bf1d-08d668fe248a"
            },
            "outputs": [
                {
                    "output_type": "display_data",
                    "data": {
                        "text/html": "(7 rows affected)"
                    },
                    "metadata": {}
                },
                {
                    "output_type": "display_data",
                    "data": {
                        "text/html": "Total execution time: 00:00:00.242"
                    },
                    "metadata": {}
                },
                {
                    "output_type": "execute_result",
                    "metadata": {},
                    "execution_count": 2,
                    "data": {
                        "application/vnd.dataresource+json": {
                            "schema": {
                                "fields": [
                                    {
                                        "name": "name"
                                    },
                                    {
                                        "name": "level"
                                    },
                                    {
                                        "name": "power_level"
                                    }
                                ]
                            },
                            "data": [
                                {
                                    "name": "Aragorn",
                                    "level": "25",
                                    "power_level": "18.75"
                                },
                                {
                                    "name": "Frodo",
                                    "level": "12",
                                    "power_level": "18.00"
                                },
                                {
                                    "name": "Sam",
                                    "level": "13",
                                    "power_level": "19.50"
                                },
                                {
                                    "name": "Merry",
                                    "level": "11",
                                    "power_level": "16.50"
                                },
                                {
                                    "name": "Pippin",
                                    "level": "11",
                                    "power_level": "16.50"
                                },
                                {
                                    "name": "Sauron",
                                    "level": "40",
                                    "power_level": "20.00"
                                },
                                {
                                    "name": "Thranduil",
                                    "level": "26",
                                    "power_level": "19.50"
                                }
                            ]
                        },
                        "text/html": [
                            "<table>",
                            "<tr><th>name</th><th>level</th><th>power_level</th></tr>",
                            "<tr><td>Aragorn</td><td>25</td><td>18.75</td></tr>",
                            "<tr><td>Frodo</td><td>12</td><td>18.00</td></tr>",
                            "<tr><td>Sam</td><td>13</td><td>19.50</td></tr>",
                            "<tr><td>Merry</td><td>11</td><td>16.50</td></tr>",
                            "<tr><td>Pippin</td><td>11</td><td>16.50</td></tr>",
                            "<tr><td>Sauron</td><td>40</td><td>20.00</td></tr>",
                            "<tr><td>Thranduil</td><td>26</td><td>19.50</td></tr>",
                            "</table>"
                        ]
                    }
                }
            ],
            "execution_count": 2
        },
        {
            "cell_type": "markdown",
            "source": [
                "do not mix cte with subquery"
            ],
            "metadata": {
                "language": "sql",
                "azdata_cell_guid": "58002d90-41d7-4644-9400-5d467278c646"
            },
            "attachments": {}
        },
        {
            "cell_type": "code",
            "source": [
                " WITH  power_level_table  AS \r\n",
                "(\r\n",
                "    SELECT \r\n",
                "        name,\r\n",
                "        level,\r\n",
                "    CASE\r\n",
                "        WHEN class = 'Mage' THEN level * 0.5\r\n",
                "        WHEN class IN ('Archer', 'Warrior') THEN level * 0.75\r\n",
                "        ELSE level * 1.5\r\n",
                "    END AS power_level\r\n",
                "    FROM\r\n",
                "        (\r\n",
                "                SELECT \r\n",
                "                    * \r\n",
                "                FROM \r\n",
                "                    characters\r\n",
                "                WHERE\r\n",
                "                    is_alive = 'true'\r\n",
                "        ) AS character_is_alive\r\n",
                ")\r\n",
                "\r\n",
                "\r\n",
                "SELECT \r\n",
                "    * \r\n",
                "FROM \r\n",
                "    power_level_table\r\n",
                "WHERE\r\n",
                "    power_level >= 16;"
            ],
            "metadata": {
                "language": "sql",
                "azdata_cell_guid": "40e9804c-6ee8-4de1-ac86-eb7031a10efb"
            },
            "outputs": [
                {
                    "output_type": "display_data",
                    "data": {
                        "text/html": "(5 rows affected)"
                    },
                    "metadata": {}
                },
                {
                    "output_type": "display_data",
                    "data": {
                        "text/html": "Total execution time: 00:00:00.020"
                    },
                    "metadata": {}
                },
                {
                    "output_type": "execute_result",
                    "metadata": {},
                    "execution_count": 3,
                    "data": {
                        "application/vnd.dataresource+json": {
                            "schema": {
                                "fields": [
                                    {
                                        "name": "name"
                                    },
                                    {
                                        "name": "level"
                                    },
                                    {
                                        "name": "power_level"
                                    }
                                ]
                            },
                            "data": [
                                {
                                    "name": "Aragorn",
                                    "level": "25",
                                    "power_level": "18.75"
                                },
                                {
                                    "name": "Sam",
                                    "level": "13",
                                    "power_level": "19.50"
                                },
                                {
                                    "name": "Merry",
                                    "level": "11",
                                    "power_level": "16.50"
                                },
                                {
                                    "name": "Pippin",
                                    "level": "11",
                                    "power_level": "16.50"
                                },
                                {
                                    "name": "Thranduil",
                                    "level": "26",
                                    "power_level": "19.50"
                                }
                            ]
                        },
                        "text/html": [
                            "<table>",
                            "<tr><th>name</th><th>level</th><th>power_level</th></tr>",
                            "<tr><td>Aragorn</td><td>25</td><td>18.75</td></tr>",
                            "<tr><td>Sam</td><td>13</td><td>19.50</td></tr>",
                            "<tr><td>Merry</td><td>11</td><td>16.50</td></tr>",
                            "<tr><td>Pippin</td><td>11</td><td>16.50</td></tr>",
                            "<tr><td>Thranduil</td><td>26</td><td>19.50</td></tr>",
                            "</table>"
                        ]
                    }
                }
            ],
            "execution_count": 3
        },
        {
            "cell_type": "markdown",
            "source": [
                "# CTE - 1"
            ],
            "metadata": {
                "language": "sql",
                "azdata_cell_guid": "50e59463-54aa-41cc-bd39-0a1733209461"
            },
            "attachments": {}
        },
        {
            "cell_type": "code",
            "source": [
                " WITH character_alive AS \r\n",
                "(\r\n",
                "        SELECT \r\n",
                "            * \r\n",
                "        FROM \r\n",
                "            characters\r\n",
                "        WHERE\r\n",
                "            is_alive = 'true'\r\n",
                "),\r\n",
                "\r\n",
                " power_level_table  AS \r\n",
                "(\r\n",
                "    SELECT \r\n",
                "        name,\r\n",
                "        level,\r\n",
                "    CASE\r\n",
                "        WHEN class = 'Mage' THEN level * 0.5\r\n",
                "        WHEN class IN ('Archer', 'Warrior') THEN level * 0.75\r\n",
                "        ELSE level * 1.5\r\n",
                "    END AS power_level\r\n",
                "    FROM\r\n",
                "        character_alive\r\n",
                ")\r\n",
                "\r\n",
                "\r\n",
                "SELECT \r\n",
                "    * \r\n",
                "FROM \r\n",
                "    power_level_table\r\n",
                "WHERE\r\n",
                "    power_level >= 16;"
            ],
            "metadata": {
                "language": "sql",
                "azdata_cell_guid": "20275bf2-cea5-4eae-b959-47792955b46a",
                "tags": []
            },
            "outputs": [
                {
                    "output_type": "display_data",
                    "data": {
                        "text/html": "(5 rows affected)"
                    },
                    "metadata": {}
                },
                {
                    "output_type": "display_data",
                    "data": {
                        "text/html": "Total execution time: 00:00:00.010"
                    },
                    "metadata": {}
                },
                {
                    "output_type": "execute_result",
                    "metadata": {},
                    "execution_count": 5,
                    "data": {
                        "application/vnd.dataresource+json": {
                            "schema": {
                                "fields": [
                                    {
                                        "name": "name"
                                    },
                                    {
                                        "name": "level"
                                    },
                                    {
                                        "name": "power_level"
                                    }
                                ]
                            },
                            "data": [
                                {
                                    "name": "Aragorn",
                                    "level": "25",
                                    "power_level": "18.75"
                                },
                                {
                                    "name": "Sam",
                                    "level": "13",
                                    "power_level": "19.50"
                                },
                                {
                                    "name": "Merry",
                                    "level": "11",
                                    "power_level": "16.50"
                                },
                                {
                                    "name": "Pippin",
                                    "level": "11",
                                    "power_level": "16.50"
                                },
                                {
                                    "name": "Thranduil",
                                    "level": "26",
                                    "power_level": "19.50"
                                }
                            ]
                        },
                        "text/html": [
                            "<table>",
                            "<tr><th>name</th><th>level</th><th>power_level</th></tr>",
                            "<tr><td>Aragorn</td><td>25</td><td>18.75</td></tr>",
                            "<tr><td>Sam</td><td>13</td><td>19.50</td></tr>",
                            "<tr><td>Merry</td><td>11</td><td>16.50</td></tr>",
                            "<tr><td>Pippin</td><td>11</td><td>16.50</td></tr>",
                            "<tr><td>Thranduil</td><td>26</td><td>19.50</td></tr>",
                            "</table>"
                        ]
                    }
                }
            ],
            "execution_count": 5
        },
        {
            "cell_type": "markdown",
            "source": [
                ""
            ],
            "metadata": {
                "language": "sql",
                "azdata_cell_guid": "2c56b8a4-9d71-4eea-a625-6c1d937a7069"
            }
        }
    ]
}
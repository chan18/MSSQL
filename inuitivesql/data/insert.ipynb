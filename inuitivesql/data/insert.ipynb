{
    "metadata": {
        "kernelspec": {
            "name": "SQL",
            "display_name": "SQL",
            "language": "sql"
        },
        "language_info": {
            "name": "sql",
            "version": ""
        }
    },
    "nbformat_minor": 2,
    "nbformat": 4,
    "cells": [
        {
            "cell_type": "markdown",
            "source": [
                "# characters"
            ],
            "metadata": {
                "language": "sql",
                "azdata_cell_guid": "91d8f504-f21c-4829-a51b-f514f27e5ed2"
            },
            "attachments": {}
        },
        {
            "cell_type": "code",
            "source": [
                "select top 5 * from characters;\r\n",
                ""
            ],
            "metadata": {
                "azdata_cell_guid": "a0058794-329c-4764-b712-332864455621",
                "language": "sql",
                "tags": []
            },
            "outputs": [
                {
                    "output_type": "display_data",
                    "data": {
                        "text/html": "(5 rows affected)"
                    },
                    "metadata": {}
                },
                {
                    "output_type": "display_data",
                    "data": {
                        "text/html": "Total execution time: 00:00:00.026"
                    },
                    "metadata": {}
                },
                {
                    "output_type": "execute_result",
                    "metadata": {},
                    "execution_count": 17,
                    "data": {
                        "application/vnd.dataresource+json": {
                            "schema": {
                                "fields": [
                                    {
                                        "name": "id"
                                    },
                                    {
                                        "name": "name"
                                    },
                                    {
                                        "name": "guild"
                                    },
                                    {
                                        "name": "class"
                                    },
                                    {
                                        "name": "level"
                                    },
                                    {
                                        "name": "experience"
                                    },
                                    {
                                        "name": "health"
                                    },
                                    {
                                        "name": "is_alive"
                                    },
                                    {
                                        "name": "last_active"
                                    },
                                    {
                                        "name": "mentor_id"
                                    }
                                ]
                            },
                            "data": [
                                {
                                    "id": "1",
                                    "name": "Aragorn",
                                    "guild": "Rangers",
                                    "class": "Warrior",
                                    "level": "25",
                                    "experience": "9000",
                                    "health": "120.5",
                                    "is_alive": "TRUE",
                                    "last_active": "2023-09-20 08:00:00.0000000 +00:00",
                                    "mentor_id": "NULL"
                                },
                                {
                                    "id": "3",
                                    "name": "Gimli",
                                    "guild": "Erebor",
                                    "class": "Warrior",
                                    "level": "20",
                                    "experience": "6000",
                                    "health": "130.25",
                                    "is_alive": "TRUE",
                                    "last_active": "2023-09-22 07:00:00.0000000 +00:00",
                                    "mentor_id": "NULL"
                                },
                                {
                                    "id": "4",
                                    "name": "Frodo",
                                    "guild": "Shirefolk",
                                    "class": "Hobbit",
                                    "level": "12",
                                    "experience": "2500",
                                    "health": "50.5",
                                    "is_alive": "FALSE",
                                    "last_active": "2023-09-23 10:00:00.0000000 +00:00",
                                    "mentor_id": "1"
                                },
                                {
                                    "id": "5",
                                    "name": "Sam",
                                    "guild": "Shirefolk",
                                    "class": "Hobbit",
                                    "level": "13",
                                    "experience": "2750",
                                    "health": "52.5",
                                    "is_alive": "TRUE",
                                    "last_active": "2023-09-23 10:05:00.0000000 +00:00",
                                    "mentor_id": "1"
                                },
                                {
                                    "id": "6",
                                    "name": "Gandalf",
                                    "guild": "Istari",
                                    "class": "Mage",
                                    "level": "30",
                                    "experience": "10000",
                                    "health": "90",
                                    "is_alive": "TRUE",
                                    "last_active": "2023-09-20 11:00:00.0000000 +00:00",
                                    "mentor_id": "NULL"
                                }
                            ]
                        },
                        "text/html": [
                            "<table>",
                            "<tr><th>id</th><th>name</th><th>guild</th><th>class</th><th>level</th><th>experience</th><th>health</th><th>is_alive</th><th>last_active</th><th>mentor_id</th></tr>",
                            "<tr><td>1</td><td>Aragorn</td><td>Rangers</td><td>Warrior</td><td>25</td><td>9000</td><td>120.5</td><td>TRUE</td><td>2023-09-20 08:00:00.0000000 +00:00</td><td>NULL</td></tr>",
                            "<tr><td>3</td><td>Gimli</td><td>Erebor</td><td>Warrior</td><td>20</td><td>6000</td><td>130.25</td><td>TRUE</td><td>2023-09-22 07:00:00.0000000 +00:00</td><td>NULL</td></tr>",
                            "<tr><td>4</td><td>Frodo</td><td>Shirefolk</td><td>Hobbit</td><td>12</td><td>2500</td><td>50.5</td><td>FALSE</td><td>2023-09-23 10:00:00.0000000 +00:00</td><td>1</td></tr>",
                            "<tr><td>5</td><td>Sam</td><td>Shirefolk</td><td>Hobbit</td><td>13</td><td>2750</td><td>52.5</td><td>TRUE</td><td>2023-09-23 10:05:00.0000000 +00:00</td><td>1</td></tr>",
                            "<tr><td>6</td><td>Gandalf</td><td>Istari</td><td>Mage</td><td>30</td><td>10000</td><td>90</td><td>TRUE</td><td>2023-09-20 11:00:00.0000000 +00:00</td><td>NULL</td></tr>",
                            "</table>"
                        ]
                    }
                }
            ],
            "execution_count": 17
        },
        {
            "cell_type": "code",
            "source": [
                "drop table characters;"
            ],
            "metadata": {
                "language": "sql",
                "azdata_cell_guid": "66a0a2c5-693e-47c2-bd51-ec6c17246b8a"
            },
            "outputs": [
                {
                    "output_type": "display_data",
                    "data": {
                        "text/html": "Commands completed successfully."
                    },
                    "metadata": {}
                },
                {
                    "output_type": "display_data",
                    "data": {
                        "text/html": "Total execution time: 00:00:00.016"
                    },
                    "metadata": {}
                }
            ],
            "execution_count": 8
        },
        {
            "cell_type": "code",
            "source": [
                "SET ANSI_NULLS ON\r\n",
                "GO\r\n",
                "SET QUOTED_IDENTIFIER ON\r\n",
                "GO\r\n",
                "CREATE TABLE [dbo].[characters](\r\n",
                "\t[id] [int] NULL,\r\n",
                "\t[name] [varchar](50) NULL,\r\n",
                "\t[guild] [varchar](50) NULL,\r\n",
                "\t[class] [varchar](50) NULL,\r\n",
                "\t[level] [int] NULL,\r\n",
                "\t[experience] [int] NULL,\r\n",
                "\t[health] [float] NULL,\r\n",
                "\t[is_alive] [varchar](50) NULL,\r\n",
                "\t[last_active] [datetimeoffset] NULL,\r\n",
                "\t[mentor_id] [varchar](50) NULL\r\n",
                ") ON [PRIMARY]\r\n",
                "GO"
            ],
            "metadata": {
                "language": "sql",
                "azdata_cell_guid": "dcaee9a9-2202-4f42-847d-ebe166cdd279"
            },
            "outputs": [
                {
                    "output_type": "display_data",
                    "data": {
                        "text/html": "Commands completed successfully."
                    },
                    "metadata": {}
                },
                {
                    "output_type": "display_data",
                    "data": {
                        "text/html": "Commands completed successfully."
                    },
                    "metadata": {}
                },
                {
                    "output_type": "display_data",
                    "data": {
                        "text/html": "Commands completed successfully."
                    },
                    "metadata": {}
                },
                {
                    "output_type": "display_data",
                    "data": {
                        "text/html": "Total execution time: 00:00:00.055"
                    },
                    "metadata": {}
                }
            ],
            "execution_count": 9
        },
        {
            "cell_type": "markdown",
            "source": [
                "# Inventory"
            ],
            "metadata": {
                "language": "sql",
                "azdata_cell_guid": "4d87a82a-d5bb-4147-bb3c-930edc14eec6"
            },
            "attachments": {}
        },
        {
            "cell_type": "code",
            "source": [
                "select top 5 * from inventory;\r\n",
                "\r\n",
                ""
            ],
            "metadata": {
                "language": "sql",
                "azdata_cell_guid": "ff522b25-09a2-455b-8a95-9d494ef4f258"
            },
            "outputs": [
                {
                    "output_type": "display_data",
                    "data": {
                        "text/html": "(5 rows affected)"
                    },
                    "metadata": {}
                },
                {
                    "output_type": "display_data",
                    "data": {
                        "text/html": "Total execution time: 00:00:00.021"
                    },
                    "metadata": {}
                },
                {
                    "output_type": "execute_result",
                    "metadata": {},
                    "execution_count": 18,
                    "data": {
                        "application/vnd.dataresource+json": {
                            "schema": {
                                "fields": [
                                    {
                                        "name": "id"
                                    },
                                    {
                                        "name": "character_id"
                                    },
                                    {
                                        "name": "item_id"
                                    },
                                    {
                                        "name": "quantity"
                                    },
                                    {
                                        "name": "is_equipped"
                                    },
                                    {
                                        "name": "purchase_date"
                                    },
                                    {
                                        "name": "expiry_date"
                                    },
                                    {
                                        "name": "value"
                                    }
                                ]
                            },
                            "data": [
                                {
                                    "id": "1",
                                    "character_id": "1",
                                    "item_id": "99",
                                    "quantity": "1",
                                    "is_equipped": "TRUE",
                                    "purchase_date": "2023-09-10 08:00:00.0000000 +00:00",
                                    "expiry_date": "NULL",
                                    "value": "1500"
                                },
                                {
                                    "id": "2",
                                    "character_id": "1",
                                    "item_id": "4",
                                    "quantity": "2",
                                    "is_equipped": "FALSE",
                                    "purchase_date": "2023-09-12 09:00:00.0000000 +00:00",
                                    "expiry_date": "2023-10-12 09:00:00.0000000 +00:00",
                                    "value": "50"
                                },
                                {
                                    "id": "3",
                                    "character_id": "2",
                                    "item_id": "2",
                                    "quantity": "1",
                                    "is_equipped": "TRUE",
                                    "purchase_date": "2023-09-11 08:30:00.0000000 +00:00",
                                    "expiry_date": "NULL",
                                    "value": "1100"
                                },
                                {
                                    "id": "4",
                                    "character_id": "2",
                                    "item_id": "101",
                                    "quantity": "1",
                                    "is_equipped": "FALSE",
                                    "purchase_date": "2023-09-12 10:00:00.0000000 +00:00",
                                    "expiry_date": "2023-10-12 10:00:00.0000000 +00:00",
                                    "value": "60"
                                },
                                {
                                    "id": "5",
                                    "character_id": "3",
                                    "item_id": "3",
                                    "quantity": "1",
                                    "is_equipped": "TRUE",
                                    "purchase_date": "2023-09-15 08:00:00.0000000 +00:00",
                                    "expiry_date": "NULL",
                                    "value": "1300"
                                }
                            ]
                        },
                        "text/html": [
                            "<table>",
                            "<tr><th>id</th><th>character_id</th><th>item_id</th><th>quantity</th><th>is_equipped</th><th>purchase_date</th><th>expiry_date</th><th>value</th></tr>",
                            "<tr><td>1</td><td>1</td><td>99</td><td>1</td><td>TRUE</td><td>2023-09-10 08:00:00.0000000 +00:00</td><td>NULL</td><td>1500</td></tr>",
                            "<tr><td>2</td><td>1</td><td>4</td><td>2</td><td>FALSE</td><td>2023-09-12 09:00:00.0000000 +00:00</td><td>2023-10-12 09:00:00.0000000 +00:00</td><td>50</td></tr>",
                            "<tr><td>3</td><td>2</td><td>2</td><td>1</td><td>TRUE</td><td>2023-09-11 08:30:00.0000000 +00:00</td><td>NULL</td><td>1100</td></tr>",
                            "<tr><td>4</td><td>2</td><td>101</td><td>1</td><td>FALSE</td><td>2023-09-12 10:00:00.0000000 +00:00</td><td>2023-10-12 10:00:00.0000000 +00:00</td><td>60</td></tr>",
                            "<tr><td>5</td><td>3</td><td>3</td><td>1</td><td>TRUE</td><td>2023-09-15 08:00:00.0000000 +00:00</td><td>NULL</td><td>1300</td></tr>",
                            "</table>"
                        ]
                    }
                }
            ],
            "execution_count": 18
        },
        {
            "cell_type": "code",
            "source": [
                "drop table inventory;"
            ],
            "metadata": {
                "language": "sql",
                "azdata_cell_guid": "c07c238a-dcc2-4f96-af47-b051422ba24a"
            },
            "outputs": [
                {
                    "output_type": "display_data",
                    "data": {
                        "text/html": "Commands completed successfully."
                    },
                    "metadata": {}
                },
                {
                    "output_type": "display_data",
                    "data": {
                        "text/html": "Total execution time: 00:00:00.017"
                    },
                    "metadata": {}
                }
            ],
            "execution_count": 10
        },
        {
            "cell_type": "code",
            "source": [
                "SET ANSI_NULLS ON\r\n",
                "GO\r\n",
                "SET QUOTED_IDENTIFIER ON\r\n",
                "GO\r\n",
                "CREATE TABLE [dbo].[inventory](\r\n",
                "\t[id] [int] NULL,\r\n",
                "\t[character_id] [int] NULL,\r\n",
                "\t[item_id] [int] NULL,\r\n",
                "\t[quantity] [int] NULL,\r\n",
                "\t[is_equipped] [varchar](50) NULL,\r\n",
                "\t[purchase_date] [datetimeoffset] NULL,\r\n",
                "\t[expiry_date] [datetimeoffset] NULL,\r\n",
                "\t[value] [int] NULL\r\n",
                ") ON [PRIMARY]\r\n",
                "GO\r\n",
                ""
            ],
            "metadata": {
                "language": "sql",
                "azdata_cell_guid": "a07ed487-7630-4f5b-9454-923e2fe4860a"
            },
            "outputs": [
                {
                    "output_type": "display_data",
                    "data": {
                        "text/html": "Commands completed successfully."
                    },
                    "metadata": {}
                },
                {
                    "output_type": "display_data",
                    "data": {
                        "text/html": "Commands completed successfully."
                    },
                    "metadata": {}
                },
                {
                    "output_type": "display_data",
                    "data": {
                        "text/html": "Commands completed successfully."
                    },
                    "metadata": {}
                },
                {
                    "output_type": "display_data",
                    "data": {
                        "text/html": "Total execution time: 00:00:00.019"
                    },
                    "metadata": {}
                }
            ],
            "execution_count": 11
        },
        {
            "cell_type": "markdown",
            "source": [
                ""
            ],
            "metadata": {
                "language": "sql",
                "azdata_cell_guid": "642b193b-c58a-4603-9e08-6287aac388e5"
            }
        },
        {
            "cell_type": "markdown",
            "source": [
                "# Items"
            ],
            "metadata": {
                "language": "sql",
                "azdata_cell_guid": "d6e4add2-88f1-4b64-b68e-ea2035575b8d"
            },
            "attachments": {}
        },
        {
            "cell_type": "code",
            "source": [
                "select top 5 * from items;"
            ],
            "metadata": {
                "language": "sql",
                "azdata_cell_guid": "fc2191a1-05f3-44f7-87f1-487db336e365"
            },
            "outputs": [
                {
                    "output_type": "display_data",
                    "data": {
                        "text/html": "(5 rows affected)"
                    },
                    "metadata": {}
                },
                {
                    "output_type": "display_data",
                    "data": {
                        "text/html": "Total execution time: 00:00:00.038"
                    },
                    "metadata": {}
                },
                {
                    "output_type": "execute_result",
                    "metadata": {},
                    "execution_count": 19,
                    "data": {
                        "application/vnd.dataresource+json": {
                            "schema": {
                                "fields": [
                                    {
                                        "name": "id"
                                    },
                                    {
                                        "name": "name"
                                    },
                                    {
                                        "name": "item_type"
                                    },
                                    {
                                        "name": "power"
                                    },
                                    {
                                        "name": "weight"
                                    },
                                    {
                                        "name": "rarity"
                                    },
                                    {
                                        "name": "date_added"
                                    }
                                ]
                            },
                            "data": [
                                {
                                    "id": "1",
                                    "name": "Excalibur",
                                    "item_type": "Weapon",
                                    "power": "100",
                                    "weight": "10.5",
                                    "rarity": "Legendary",
                                    "date_added": "2023-09-01 09:00:00.0000000 +00:00"
                                },
                                {
                                    "id": "2",
                                    "name": "Elven Bow",
                                    "item_type": "Weapon",
                                    "power": "85",
                                    "weight": "3.5",
                                    "rarity": "Rare",
                                    "date_added": "2023-09-02 10:00:00.0000000 +00:00"
                                },
                                {
                                    "id": "3",
                                    "name": "Dwarven Axe",
                                    "item_type": "Weapon",
                                    "power": "90",
                                    "weight": "12",
                                    "rarity": "Rare",
                                    "date_added": "2023-09-03 11:00:00.0000000 +00:00"
                                },
                                {
                                    "id": "4",
                                    "name": "Healing Potion",
                                    "item_type": "Potion",
                                    "power": "50",
                                    "weight": "1",
                                    "rarity": "Common",
                                    "date_added": "2023-09-04 08:00:00.0000000 +00:00"
                                },
                                {
                                    "id": "5",
                                    "name": "Mana Potion",
                                    "item_type": "Potion",
                                    "power": "60",
                                    "weight": "1.1",
                                    "rarity": "Common",
                                    "date_added": "2023-09-05 08:30:00.0000000 +00:00"
                                }
                            ]
                        },
                        "text/html": [
                            "<table>",
                            "<tr><th>id</th><th>name</th><th>item_type</th><th>power</th><th>weight</th><th>rarity</th><th>date_added</th></tr>",
                            "<tr><td>1</td><td>Excalibur</td><td>Weapon</td><td>100</td><td>10.5</td><td>Legendary</td><td>2023-09-01 09:00:00.0000000 +00:00</td></tr>",
                            "<tr><td>2</td><td>Elven Bow</td><td>Weapon</td><td>85</td><td>3.5</td><td>Rare</td><td>2023-09-02 10:00:00.0000000 +00:00</td></tr>",
                            "<tr><td>3</td><td>Dwarven Axe</td><td>Weapon</td><td>90</td><td>12</td><td>Rare</td><td>2023-09-03 11:00:00.0000000 +00:00</td></tr>",
                            "<tr><td>4</td><td>Healing Potion</td><td>Potion</td><td>50</td><td>1</td><td>Common</td><td>2023-09-04 08:00:00.0000000 +00:00</td></tr>",
                            "<tr><td>5</td><td>Mana Potion</td><td>Potion</td><td>60</td><td>1.1</td><td>Common</td><td>2023-09-05 08:30:00.0000000 +00:00</td></tr>",
                            "</table>"
                        ]
                    }
                }
            ],
            "execution_count": 19
        },
        {
            "cell_type": "code",
            "source": [
                "drop table items;"
            ],
            "metadata": {
                "language": "sql",
                "azdata_cell_guid": "950fe86c-61a2-4c31-af1f-33627af46af2"
            },
            "outputs": [
                {
                    "output_type": "display_data",
                    "data": {
                        "text/html": "Commands completed successfully."
                    },
                    "metadata": {}
                },
                {
                    "output_type": "display_data",
                    "data": {
                        "text/html": "Total execution time: 00:00:00.010"
                    },
                    "metadata": {}
                }
            ],
            "execution_count": 12
        },
        {
            "cell_type": "code",
            "source": [
                "\r\n",
                "SET ANSI_NULLS ON\r\n",
                "GO\r\n",
                "SET QUOTED_IDENTIFIER ON\r\n",
                "GO\r\n",
                "CREATE TABLE [dbo].[items](\r\n",
                "\t[id] [int] NULL,\r\n",
                "\t[name] [varchar](50) NULL,\r\n",
                "\t[item_type] [varchar](50) NULL,\r\n",
                "\t[power] [int] NULL,\r\n",
                "\t[weight] [float] NULL,\r\n",
                "\t[rarity] [varchar](50) NULL,\r\n",
                "\t[date_added] [datetimeoffset] NULL\r\n",
                ") ON [PRIMARY]\r\n",
                "GO"
            ],
            "metadata": {
                "language": "sql",
                "azdata_cell_guid": "940d92d8-2582-4a3f-b1b1-5bd08751e25d"
            },
            "outputs": [
                {
                    "output_type": "display_data",
                    "data": {
                        "text/html": "Commands completed successfully."
                    },
                    "metadata": {}
                },
                {
                    "output_type": "display_data",
                    "data": {
                        "text/html": "Commands completed successfully."
                    },
                    "metadata": {}
                },
                {
                    "output_type": "display_data",
                    "data": {
                        "text/html": "Commands completed successfully."
                    },
                    "metadata": {}
                },
                {
                    "output_type": "display_data",
                    "data": {
                        "text/html": "Total execution time: 00:00:00.010"
                    },
                    "metadata": {}
                }
            ],
            "execution_count": 13
        },
        {
            "cell_type": "markdown",
            "source": [
                "# Insert Data"
            ],
            "metadata": {
                "language": "sql",
                "azdata_cell_guid": "77c41f9b-0a59-4fe0-85d9-07ec4a72bd8a"
            },
            "attachments": {}
        },
        {
            "cell_type": "markdown",
            "source": [
                "characters"
            ],
            "metadata": {
                "language": "sql",
                "azdata_cell_guid": "72e9f041-885e-42da-815d-dcd7d76b9f60"
            },
            "attachments": {}
        },
        {
            "cell_type": "code",
            "source": [
                "INSERT INTO [dbo].[characters] \r\n",
                "([id], [name], [guild], [class], [level], [experience], [health], [is_alive], [last_active], [mentor_id])\r\n",
                "VALUES \r\n",
                "(1, 'Aragorn', 'Rangers', 'Warrior', 25, 9000, 120.5, 'TRUE', '2023-09-20 08:00:00 +00:00', NULL),\r\n",
                "(3, 'Gimli', 'Erebor', 'Warrior', 20, 6000, 130.25, 'TRUE', '2023-09-22 07:00:00 +00:00', NULL),\r\n",
                "(4, 'Frodo', 'Shirefolk', 'Hobbit', 12, 2500, 50.5, 'FALSE', '2023-09-23 10:00:00 +00:00', 1),\r\n",
                "(5, 'Sam', 'Shirefolk', 'Hobbit', 13, 2750, 52.5, 'TRUE', '2023-09-23 10:05:00 +00:00', 1),\r\n",
                "(6, 'Gandalf', 'Istari', 'Mage', 30, 10000, 90, 'TRUE', '2023-09-20 11:00:00 +00:00', NULL),\r\n",
                "(7, 'Boromir', 'Gondor', 'Warrior', 18, 5500, 115.5, 'FALSE', '2023-09-21 12:00:00 +00:00', NULL),\r\n",
                "(8, 'Merry', 'Shirefolk', 'Hobbit', 11, 2200, 48.5, 'TRUE', '2023-09-22 10:00:00 +00:00', 4),\r\n",
                "(9, 'Pippin', 'Shirefolk', 'Hobbit', 11, 2100, 47.5, 'TRUE', '2023-09-22 10:01:00 +00:00', 4),\r\n",
                "(10, 'Sauron', 'Dark Lords', 'Mage', 40, 15000, 85, 'FALSE', '2023-09-23 01:00:00 +00:00', NULL),\r\n",
                "(11, 'Saruman', 'Istari', 'Mage', 28, 8500, 88.5, 'FALSE', '2023-09-20 03:00:00 +00:00', 6),\r\n",
                "(12, 'Elrond', 'Rivendell', 'Mage', 27, 8200, 87.5, 'TRUE', '2023-09-21 04:00:00 +00:00', 6),\r\n",
                "(13, 'Thranduil', 'Mirkwood', 'Archer', 26, 7900, 97, 'TRUE', '2023-09-22 02:00:00 +00:00', 2),\r\n",
                "(14, 'Eowyn', 'Rohan', 'Warrior', 17, 5200, 112.5, 'TRUE', '2023-09-23 05:00:00 +00:00', 7),\r\n",
                "(15, 'Faramir', 'Gondor', 'Archer', 19, 5700, 118.5, 'TRUE', '2023-09-20 06:00:00 +00:00', 7);\r\n",
                ""
            ],
            "metadata": {
                "language": "sql",
                "azdata_cell_guid": "78d9aff9-6eb5-4404-b3d1-11a09ae19290"
            },
            "outputs": [
                {
                    "output_type": "display_data",
                    "data": {
                        "text/html": "(14 rows affected)"
                    },
                    "metadata": {}
                },
                {
                    "output_type": "display_data",
                    "data": {
                        "text/html": "Total execution time: 00:00:00.021"
                    },
                    "metadata": {}
                }
            ],
            "execution_count": 14
        },
        {
            "cell_type": "markdown",
            "source": [
                "inventory"
            ],
            "metadata": {
                "language": "sql",
                "azdata_cell_guid": "505785eb-3f49-4e57-b6f8-af3e284a8368"
            },
            "attachments": {}
        },
        {
            "cell_type": "code",
            "source": [
                "INSERT INTO [dbo].[inventory] \r\n",
                "([id], [character_id], [item_id], [quantity], [is_equipped], [purchase_date], [expiry_date], [value])\r\n",
                "VALUES \r\n",
                "(1, 1, 99, 1, 'TRUE', '2023-09-10 08:00:00 +00:00', NULL, 1500),\r\n",
                "(2, 1, 4, 2, 'FALSE', '2023-09-12 09:00:00 +00:00', '2023-10-12 09:00:00 +00:00', 50),\r\n",
                "(3, 2, 2, 1, 'TRUE', '2023-09-11 08:30:00 +00:00', NULL, 1100),\r\n",
                "(4, 2, 101, 1, 'FALSE', '2023-09-12 10:00:00 +00:00', '2023-10-12 10:00:00 +00:00', 60),\r\n",
                "(5, 3, 3, 1, 'TRUE', '2023-09-15 08:00:00 +00:00', NULL, 1300),\r\n",
                "(6, 3, 6, 1, 'FALSE', '2023-09-16 09:00:00 +00:00', NULL, 200),\r\n",
                "(7, 4, 9, 2, 'FALSE', '2023-09-20 08:00:00 +00:00', '2023-10-20 08:00:00 +00:00', 150),\r\n",
                "(8, 5, 10, 1, 'FALSE', '2023-09-21 10:00:00 +00:00', '2023-10-21 10:00:00 +00:00', 160),\r\n",
                "(9, 6, 11, 1, 'TRUE', '2023-09-22 11:00:00 +00:00', NULL, 1700),\r\n",
                "(10, 6, 16, 1, 'FALSE', '2023-09-23 09:00:00 +00:00', '2023-10-23 09:00:00 +00:00', 30),\r\n",
                "(11, 7, 7, 1, 'TRUE', '2023-09-18 08:00:00 +00:00', NULL, 700),\r\n",
                "(12, 7, 4, 1, 'FALSE', '2023-09-19 09:00:00 +00:00', '2023-10-19 09:00:00 +00:00', 50),\r\n",
                "(13, 8, 8, 1, 'FALSE', '2023-09-20 10:00:00 +00:00', NULL, 800),\r\n",
                "(14, 9, 12, 1, 'TRUE', '2023-09-21 11:00:00 +00:00', NULL, 1200),\r\n",
                "(15, 10, 13, 1, 'TRUE', '2023-09-22 12:00:00 +00:00', NULL, 1300),\r\n",
                "(16, 11, 14, 1, 'TRUE', '2023-09-23 08:00:00 +00:00', NULL, 1400),\r\n",
                "(17, 12, 15, 1, 'FALSE', '2023-09-23 09:00:00 +00:00', NULL, 1500),\r\n",
                "(18, 13, 17, 1, 'TRUE', '2023-09-23 10:00:00 +00:00', NULL, 1700),\r\n",
                "(19, 14, 18, 1, 'TRUE', '2023-09-23 11:00:00 +00:00', NULL, 1800),\r\n",
                "(20, 15, 121, 1, 'FALSE', '2023-09-24 08:00:00 +00:00', NULL, 2000);\r\n",
                ""
            ],
            "metadata": {
                "language": "sql",
                "azdata_cell_guid": "89c90e78-7c89-4d73-97d2-06fe8b2c165f"
            },
            "outputs": [
                {
                    "output_type": "display_data",
                    "data": {
                        "text/html": "(20 rows affected)"
                    },
                    "metadata": {}
                },
                {
                    "output_type": "display_data",
                    "data": {
                        "text/html": "Total execution time: 00:00:00.013"
                    },
                    "metadata": {}
                }
            ],
            "execution_count": 15
        },
        {
            "cell_type": "code",
            "source": [
                "INSERT INTO [dbo].[items] \r\n",
                "([id], [name], [item_type], [power], [weight], [rarity], [date_added])\r\n",
                "VALUES \r\n",
                "(1, 'Excalibur', 'Weapon', 100, 10.5, 'Legendary', '2023-09-01 09:00:00 +00:00'),\r\n",
                "(2, 'Elven Bow', 'Weapon', 85, 3.5, 'Rare', '2023-09-02 10:00:00 +00:00'),\r\n",
                "(3, 'Dwarven Axe', 'Weapon', 90, 12, 'Rare', '2023-09-03 11:00:00 +00:00'),\r\n",
                "(4, 'Healing Potion', 'Potion', 50, 1, 'Common', '2023-09-04 08:00:00 +00:00'),\r\n",
                "(5, 'Mana Potion', 'Potion', 60, 1.1, 'Common', '2023-09-05 08:30:00 +00:00'),\r\n",
                "(6, 'Leather Armor', 'Armor', 40, 8, 'Common', '2023-09-06 09:00:00 +00:00'),\r\n",
                "(7, 'Chainmail Armor', 'Armor', 70, 18.5, 'Rare', '2023-09-07 10:00:00 +00:00'),\r\n",
                "(8, 'Dragon Scale Armor', 'Armor', 90, 20, 'Legendary', '2023-09-08 11:00:00 +00:00'),\r\n",
                "(9, 'Fireball Scroll', 'Weapon', 75, 0.5, 'Common', '2023-09-09 07:00:00 +00:00'),\r\n",
                "(10, 'Teleport Scroll', 'Weapon', 80, 0.6, 'Common', '2023-09-10 07:30:00 +00:00'),\r\n",
                "(11, 'Mithril Sword', 'Weapon', 95, 9.5, 'Legendary', '2023-09-11 09:00:00 +00:00'),\r\n",
                "(12, 'Elven Quiver', 'Weapon', 82, 2.2, 'Rare', '2023-09-12 10:00:00 +00:00'),\r\n",
                "(13, 'Phoenix Feather', 'Weapon', 100, 0.1, 'Legendary', '2023-09-13 11:00:00 +00:00'),\r\n",
                "(14, 'Earthquake Rune', 'Weapon', 88, 1, 'Rare', '2023-09-14 08:00:00 +00:00'),\r\n",
                "(15, 'Resurrection Stone', 'Potion', 99, 1.5, 'Legendary', '2023-09-15 08:30:00 +00:00'),\r\n",
                "(16, 'Stamina Elixir', 'Potion', 30, 0.8, 'Common', '2023-09-16 09:00:00 +00:00'),\r\n",
                "(17, 'Lightning Rod', 'Weapon', 76, 4.5, 'Common', '2023-09-17 10:00:00 +00:00'),\r\n",
                "(18, 'Steel Dagger', 'Weapon', 65, 2.5, 'Common', '2023-09-18 11:00:00 +00:00'),\r\n",
                "(19, 'Frostbite Blade', 'Weapon', 91, 10, 'Rare', '2023-09-19 07:00:00 +00:00'),\r\n",
                "(20, 'Cloak of Invisibility', 'Armor', 78, 2, 'Rare', '2023-09-20 07:30:00 +00:00');\r\n",
                ""
            ],
            "metadata": {
                "language": "sql",
                "azdata_cell_guid": "f16f91d7-6110-40f9-a0ca-5ec7bec2b10a"
            },
            "outputs": [
                {
                    "output_type": "display_data",
                    "data": {
                        "text/html": "(20 rows affected)"
                    },
                    "metadata": {}
                },
                {
                    "output_type": "display_data",
                    "data": {
                        "text/html": "Total execution time: 00:00:00.012"
                    },
                    "metadata": {}
                }
            ],
            "execution_count": 16
        }
    ]
}
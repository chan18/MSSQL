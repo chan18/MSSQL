{
    "metadata": {
        "kernelspec": {
            "name": "SQL",
            "display_name": "SQL",
            "language": "sql"
        },
        "language_info": {
            "name": "sql",
            "version": ""
        }
    },
    "nbformat_minor": 2,
    "nbformat": 4,
    "cells": [
        {
            "cell_type": "markdown",
            "source": [
                ""
            ],
            "metadata": {
                "azdata_cell_guid": "1309d057-9994-4e49-bbac-975dc73d51e9"
            }
        },
        {
            "cell_type": "code",
            "source": [
                "SELECT \r\n",
                "    name,\r\n",
                "    level,\r\n",
                "CASE\r\n",
                "    WHEN class = 'Mage' THEN level * 0.5\r\n",
                "    WHEN class IN ('Archer', 'Warrior') THEN level * 0.75\r\n",
                "    ELSE level * 1.5\r\n",
                "END AS power_level\r\n",
                "FROM\r\n",
                "    characters"
            ],
            "metadata": {
                "azdata_cell_guid": "adeb4ce9-d3f5-4ada-812a-2fa7281da216",
                "language": "sql"
            },
            "outputs": [
                {
                    "output_type": "display_data",
                    "data": {
                        "text/html": "(14 rows affected)"
                    },
                    "metadata": {}
                },
                {
                    "output_type": "display_data",
                    "data": {
                        "text/html": "Total execution time: 00:00:00.010"
                    },
                    "metadata": {}
                },
                {
                    "output_type": "execute_result",
                    "metadata": {},
                    "execution_count": 1,
                    "data": {
                        "application/vnd.dataresource+json": {
                            "schema": {
                                "fields": [
                                    {
                                        "name": "name"
                                    },
                                    {
                                        "name": "level"
                                    },
                                    {
                                        "name": "power_level"
                                    }
                                ]
                            },
                            "data": [
                                {
                                    "name": "Aragorn",
                                    "level": "25",
                                    "power_level": "18.75"
                                },
                                {
                                    "name": "Gimli",
                                    "level": "20",
                                    "power_level": "15.00"
                                },
                                {
                                    "name": "Frodo",
                                    "level": "12",
                                    "power_level": "18.00"
                                },
                                {
                                    "name": "Sam",
                                    "level": "13",
                                    "power_level": "19.50"
                                },
                                {
                                    "name": "Gandalf",
                                    "level": "30",
                                    "power_level": "15.00"
                                },
                                {
                                    "name": "Boromir",
                                    "level": "18",
                                    "power_level": "13.50"
                                },
                                {
                                    "name": "Merry",
                                    "level": "11",
                                    "power_level": "16.50"
                                },
                                {
                                    "name": "Pippin",
                                    "level": "11",
                                    "power_level": "16.50"
                                },
                                {
                                    "name": "Sauron",
                                    "level": "40",
                                    "power_level": "20.00"
                                },
                                {
                                    "name": "Saruman",
                                    "level": "28",
                                    "power_level": "14.00"
                                },
                                {
                                    "name": "Elrond",
                                    "level": "27",
                                    "power_level": "13.50"
                                },
                                {
                                    "name": "Thranduil",
                                    "level": "26",
                                    "power_level": "19.50"
                                },
                                {
                                    "name": "Eowyn",
                                    "level": "17",
                                    "power_level": "12.75"
                                },
                                {
                                    "name": "Faramir",
                                    "level": "19",
                                    "power_level": "14.25"
                                }
                            ]
                        },
                        "text/html": [
                            "<table>",
                            "<tr><th>name</th><th>level</th><th>power_level</th></tr>",
                            "<tr><td>Aragorn</td><td>25</td><td>18.75</td></tr>",
                            "<tr><td>Gimli</td><td>20</td><td>15.00</td></tr>",
                            "<tr><td>Frodo</td><td>12</td><td>18.00</td></tr>",
                            "<tr><td>Sam</td><td>13</td><td>19.50</td></tr>",
                            "<tr><td>Gandalf</td><td>30</td><td>15.00</td></tr>",
                            "<tr><td>Boromir</td><td>18</td><td>13.50</td></tr>",
                            "<tr><td>Merry</td><td>11</td><td>16.50</td></tr>",
                            "<tr><td>Pippin</td><td>11</td><td>16.50</td></tr>",
                            "<tr><td>Sauron</td><td>40</td><td>20.00</td></tr>",
                            "<tr><td>Saruman</td><td>28</td><td>14.00</td></tr>",
                            "<tr><td>Elrond</td><td>27</td><td>13.50</td></tr>",
                            "<tr><td>Thranduil</td><td>26</td><td>19.50</td></tr>",
                            "<tr><td>Eowyn</td><td>17</td><td>12.75</td></tr>",
                            "<tr><td>Faramir</td><td>19</td><td>14.25</td></tr>",
                            "</table>"
                        ]
                    }
                }
            ],
            "execution_count": 1
        },
        {
            "cell_type": "code",
            "source": [
                "\r\n",
                "SELECT \r\n",
                "    * \r\n",
                "FROM \r\n",
                "    (\r\n",
                "        SELECT \r\n",
                "            name,\r\n",
                "            level,\r\n",
                "        CASE\r\n",
                "            WHEN class = 'Mage' THEN level * 0.5\r\n",
                "            WHEN class IN ('Archer', 'Warrior') THEN level * 0.75\r\n",
                "            ELSE level * 1.5\r\n",
                "        END AS power_level\r\n",
                "        FROM\r\n",
                "            characters\r\n",
                "    ) AS power_calculation\r\n",
                "WHERE \r\n",
                "    power_level >= 15\r\n",
                ""
            ],
            "metadata": {
                "language": "sql",
                "azdata_cell_guid": "ece139e9-2870-4f6d-a7f5-8f6b22978904"
            },
            "outputs": [
                {
                    "output_type": "display_data",
                    "data": {
                        "text/html": "(9 rows affected)"
                    },
                    "metadata": {}
                },
                {
                    "output_type": "display_data",
                    "data": {
                        "text/html": "Total execution time: 00:00:00.004"
                    },
                    "metadata": {}
                },
                {
                    "output_type": "execute_result",
                    "metadata": {},
                    "execution_count": 3,
                    "data": {
                        "application/vnd.dataresource+json": {
                            "schema": {
                                "fields": [
                                    {
                                        "name": "name"
                                    },
                                    {
                                        "name": "level"
                                    },
                                    {
                                        "name": "power_level"
                                    }
                                ]
                            },
                            "data": [
                                {
                                    "name": "Aragorn",
                                    "level": "25",
                                    "power_level": "18.75"
                                },
                                {
                                    "name": "Gimli",
                                    "level": "20",
                                    "power_level": "15.00"
                                },
                                {
                                    "name": "Frodo",
                                    "level": "12",
                                    "power_level": "18.00"
                                },
                                {
                                    "name": "Sam",
                                    "level": "13",
                                    "power_level": "19.50"
                                },
                                {
                                    "name": "Gandalf",
                                    "level": "30",
                                    "power_level": "15.00"
                                },
                                {
                                    "name": "Merry",
                                    "level": "11",
                                    "power_level": "16.50"
                                },
                                {
                                    "name": "Pippin",
                                    "level": "11",
                                    "power_level": "16.50"
                                },
                                {
                                    "name": "Sauron",
                                    "level": "40",
                                    "power_level": "20.00"
                                },
                                {
                                    "name": "Thranduil",
                                    "level": "26",
                                    "power_level": "19.50"
                                }
                            ]
                        },
                        "text/html": [
                            "<table>",
                            "<tr><th>name</th><th>level</th><th>power_level</th></tr>",
                            "<tr><td>Aragorn</td><td>25</td><td>18.75</td></tr>",
                            "<tr><td>Gimli</td><td>20</td><td>15.00</td></tr>",
                            "<tr><td>Frodo</td><td>12</td><td>18.00</td></tr>",
                            "<tr><td>Sam</td><td>13</td><td>19.50</td></tr>",
                            "<tr><td>Gandalf</td><td>30</td><td>15.00</td></tr>",
                            "<tr><td>Merry</td><td>11</td><td>16.50</td></tr>",
                            "<tr><td>Pippin</td><td>11</td><td>16.50</td></tr>",
                            "<tr><td>Sauron</td><td>40</td><td>20.00</td></tr>",
                            "<tr><td>Thranduil</td><td>26</td><td>19.50</td></tr>",
                            "</table>"
                        ]
                    }
                }
            ],
            "execution_count": 3
        },
        {
            "cell_type": "code",
            "source": [
                "\r\n",
                "SELECT \r\n",
                "    * \r\n",
                "FROM \r\n",
                "    (\r\n",
                "        SELECT \r\n",
                "            name,\r\n",
                "            level,\r\n",
                "        CASE\r\n",
                "            WHEN class = 'Mage' THEN level * 0.5\r\n",
                "            WHEN class IN ('Archer', 'Warrior') THEN level * 0.75\r\n",
                "            ELSE level * 1.5\r\n",
                "        END AS power_level\r\n",
                "        FROM\r\n",
                "            (\r\n",
                "                SELECT\r\n",
                "                    *\r\n",
                "                FROM\r\n",
                "                    characters\r\n",
                "                WHERE\r\n",
                "                    is_alive = 'TRUE'\r\n",
                "            ) AS alive_characters\r\n",
                "    ) AS power_calculation\r\n",
                "WHERE \r\n",
                "    power_level >= 15\r\n",
                ""
            ],
            "metadata": {
                "language": "sql",
                "azdata_cell_guid": "c0c398ba-536e-48eb-8f97-209a9a531f48"
            },
            "outputs": [
                {
                    "output_type": "display_data",
                    "data": {
                        "text/html": "(7 rows affected)"
                    },
                    "metadata": {}
                },
                {
                    "output_type": "display_data",
                    "data": {
                        "text/html": "Total execution time: 00:00:00.020"
                    },
                    "metadata": {}
                },
                {
                    "output_type": "execute_result",
                    "metadata": {},
                    "execution_count": 5,
                    "data": {
                        "application/vnd.dataresource+json": {
                            "schema": {
                                "fields": [
                                    {
                                        "name": "name"
                                    },
                                    {
                                        "name": "level"
                                    },
                                    {
                                        "name": "power_level"
                                    }
                                ]
                            },
                            "data": [
                                {
                                    "name": "Aragorn",
                                    "level": "25",
                                    "power_level": "18.75"
                                },
                                {
                                    "name": "Gimli",
                                    "level": "20",
                                    "power_level": "15.00"
                                },
                                {
                                    "name": "Sam",
                                    "level": "13",
                                    "power_level": "19.50"
                                },
                                {
                                    "name": "Gandalf",
                                    "level": "30",
                                    "power_level": "15.00"
                                },
                                {
                                    "name": "Merry",
                                    "level": "11",
                                    "power_level": "16.50"
                                },
                                {
                                    "name": "Pippin",
                                    "level": "11",
                                    "power_level": "16.50"
                                },
                                {
                                    "name": "Thranduil",
                                    "level": "26",
                                    "power_level": "19.50"
                                }
                            ]
                        },
                        "text/html": [
                            "<table>",
                            "<tr><th>name</th><th>level</th><th>power_level</th></tr>",
                            "<tr><td>Aragorn</td><td>25</td><td>18.75</td></tr>",
                            "<tr><td>Gimli</td><td>20</td><td>15.00</td></tr>",
                            "<tr><td>Sam</td><td>13</td><td>19.50</td></tr>",
                            "<tr><td>Gandalf</td><td>30</td><td>15.00</td></tr>",
                            "<tr><td>Merry</td><td>11</td><td>16.50</td></tr>",
                            "<tr><td>Pippin</td><td>11</td><td>16.50</td></tr>",
                            "<tr><td>Thranduil</td><td>26</td><td>19.50</td></tr>",
                            "</table>"
                        ]
                    }
                }
            ],
            "execution_count": 5
        }
    ]
}
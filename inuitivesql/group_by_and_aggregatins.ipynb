{
    "metadata": {
        "kernelspec": {
            "name": "SQL",
            "display_name": "SQL",
            "language": "sql"
        },
        "language_info": {
            "name": "sql",
            "version": ""
        }
    },
    "nbformat_minor": 2,
    "nbformat": 4,
    "cells": [
        {
            "cell_type": "markdown",
            "source": [
                "  \n",
                "\n",
                "grouping field\n",
                "\n",
                "  \n",
                "\n",
                "aggregate field\n",
                "\n",
                "  \n",
                "\n",
                "\\- some fields for goruping\n",
                "\n",
                "\\- some fileds for running aggregation\n",
                "\n",
                "  \n",
                "\n",
                "\\- allows understanding of groups\n",
                "\n",
                "  \n",
                "\n",
                "in BI vocaboular\n",
                "\n",
                "\\- dimensions\n",
                "\n",
                "\\- measures"
            ],
            "metadata": {
                "language": "sql",
                "azdata_cell_guid": "4bb3d418-8705-4080-b92a-cd49d3e2b6aa"
            },
            "attachments": {}
        },
        {
            "cell_type": "code",
            "source": [
                "SELECT\r\n",
                "    class,\r\n",
                "    MAX(level)\r\n",
                "FROM \r\n",
                "    characters\r\n",
                "GROUP BY\r\n",
                "    class -- grouping field"
            ],
            "metadata": {
                "azdata_cell_guid": "af8cf8ce-058f-44d4-ab22-66f4369b25e6",
                "language": "sql"
            },
            "outputs": [
                {
                    "output_type": "display_data",
                    "data": {
                        "text/html": "(4 rows affected)"
                    },
                    "metadata": {}
                },
                {
                    "output_type": "display_data",
                    "data": {
                        "text/html": "Total execution time: 00:00:00.076"
                    },
                    "metadata": {}
                },
                {
                    "output_type": "execute_result",
                    "metadata": {},
                    "execution_count": 1,
                    "data": {
                        "application/vnd.dataresource+json": {
                            "schema": {
                                "fields": [
                                    {
                                        "name": "class"
                                    },
                                    {
                                        "name": "(No column name)"
                                    }
                                ]
                            },
                            "data": [
                                {
                                    "class": "Archer",
                                    "(No column name)": "26"
                                },
                                {
                                    "class": "Hobbit",
                                    "(No column name)": "13"
                                },
                                {
                                    "class": "Mage",
                                    "(No column name)": "40"
                                },
                                {
                                    "class": "Warrior",
                                    "(No column name)": "25"
                                }
                            ]
                        },
                        "text/html": [
                            "<table>",
                            "<tr><th>class</th><th>(No column name)</th></tr>",
                            "<tr><td>Archer</td><td>26</td></tr>",
                            "<tr><td>Hobbit</td><td>13</td></tr>",
                            "<tr><td>Mage</td><td>40</td></tr>",
                            "<tr><td>Warrior</td><td>25</td></tr>",
                            "</table>"
                        ]
                    }
                }
            ],
            "execution_count": 1
        },
        {
            "cell_type": "code",
            "source": [
                "SELECT MAX(level) FROM characters; -- at whole level ( table level )"
            ],
            "metadata": {
                "language": "sql",
                "azdata_cell_guid": "de3c112b-d0ab-499d-bbf2-d1097d84a186"
            },
            "outputs": [
                {
                    "output_type": "display_data",
                    "data": {
                        "text/html": "(1 row affected)"
                    },
                    "metadata": {}
                },
                {
                    "output_type": "display_data",
                    "data": {
                        "text/html": "Total execution time: 00:00:00.009"
                    },
                    "metadata": {}
                },
                {
                    "output_type": "execute_result",
                    "execution_count": 4,
                    "data": {
                        "application/vnd.dataresource+json": {
                            "schema": {
                                "fields": [
                                    {
                                        "name": "(No column name)"
                                    }
                                ]
                            },
                            "data": [
                                {
                                    "(No column name)": "40"
                                }
                            ]
                        },
                        "text/html": "<table><tr><th>(No column name)</th></tr><tr><td>40</td></tr></table>"
                    },
                    "metadata": {}
                }
            ],
            "execution_count": 4
        },
        {
            "cell_type": "code",
            "source": [
                "SELECT * from characters;"
            ],
            "metadata": {
                "language": "sql",
                "azdata_cell_guid": "91074ce7-a97b-4f04-a6d5-539c87530bc8"
            },
            "outputs": [
                {
                    "output_type": "display_data",
                    "data": {
                        "text/html": "(14 rows affected)"
                    },
                    "metadata": {}
                },
                {
                    "output_type": "display_data",
                    "data": {
                        "text/html": "Total execution time: 00:00:00.022"
                    },
                    "metadata": {}
                },
                {
                    "output_type": "execute_result",
                    "execution_count": 16,
                    "data": {
                        "application/vnd.dataresource+json": {
                            "schema": {
                                "fields": [
                                    {
                                        "name": "id"
                                    },
                                    {
                                        "name": "name"
                                    },
                                    {
                                        "name": "guild"
                                    },
                                    {
                                        "name": "class"
                                    },
                                    {
                                        "name": "level"
                                    },
                                    {
                                        "name": "experience"
                                    },
                                    {
                                        "name": "health"
                                    },
                                    {
                                        "name": "is_alive"
                                    },
                                    {
                                        "name": "last_active"
                                    },
                                    {
                                        "name": "mentor_id"
                                    }
                                ]
                            },
                            "data": [
                                {
                                    "id": "1",
                                    "name": "Aragorn",
                                    "guild": "Rangers",
                                    "class": "Warrior",
                                    "level": "25",
                                    "experience": "9000",
                                    "health": "120.5",
                                    "is_alive": "TRUE",
                                    "last_active": "2023-09-20 08:00:00.0000000 +00:00",
                                    "mentor_id": "NULL"
                                },
                                {
                                    "id": "3",
                                    "name": "Gimli",
                                    "guild": "Erebor",
                                    "class": "Warrior",
                                    "level": "20",
                                    "experience": "6000",
                                    "health": "130.25",
                                    "is_alive": "TRUE",
                                    "last_active": "2023-09-22 07:00:00.0000000 +00:00",
                                    "mentor_id": "NULL"
                                },
                                {
                                    "id": "4",
                                    "name": "Frodo",
                                    "guild": "Shirefolk",
                                    "class": "Hobbit",
                                    "level": "12",
                                    "experience": "2500",
                                    "health": "50.5",
                                    "is_alive": "FALSE",
                                    "last_active": "2023-09-23 10:00:00.0000000 +00:00",
                                    "mentor_id": "1"
                                },
                                {
                                    "id": "5",
                                    "name": "Sam",
                                    "guild": "Shirefolk",
                                    "class": "Hobbit",
                                    "level": "13",
                                    "experience": "2750",
                                    "health": "52.5",
                                    "is_alive": "TRUE",
                                    "last_active": "2023-09-23 10:05:00.0000000 +00:00",
                                    "mentor_id": "1"
                                },
                                {
                                    "id": "6",
                                    "name": "Gandalf",
                                    "guild": "Istari",
                                    "class": "Mage",
                                    "level": "30",
                                    "experience": "10000",
                                    "health": "90",
                                    "is_alive": "TRUE",
                                    "last_active": "2023-09-20 11:00:00.0000000 +00:00",
                                    "mentor_id": "NULL"
                                },
                                {
                                    "id": "7",
                                    "name": "Boromir",
                                    "guild": "Gondor",
                                    "class": "Warrior",
                                    "level": "18",
                                    "experience": "5500",
                                    "health": "115.5",
                                    "is_alive": "FALSE",
                                    "last_active": "2023-09-21 12:00:00.0000000 +00:00",
                                    "mentor_id": "NULL"
                                },
                                {
                                    "id": "8",
                                    "name": "Merry",
                                    "guild": "Shirefolk",
                                    "class": "Hobbit",
                                    "level": "11",
                                    "experience": "2200",
                                    "health": "48.5",
                                    "is_alive": "TRUE",
                                    "last_active": "2023-09-22 10:00:00.0000000 +00:00",
                                    "mentor_id": "4"
                                },
                                {
                                    "id": "9",
                                    "name": "Pippin",
                                    "guild": "Shirefolk",
                                    "class": "Hobbit",
                                    "level": "11",
                                    "experience": "2100",
                                    "health": "47.5",
                                    "is_alive": "TRUE",
                                    "last_active": "2023-09-22 10:01:00.0000000 +00:00",
                                    "mentor_id": "4"
                                },
                                {
                                    "id": "10",
                                    "name": "Sauron",
                                    "guild": "Dark Lords",
                                    "class": "Mage",
                                    "level": "40",
                                    "experience": "15000",
                                    "health": "85",
                                    "is_alive": "FALSE",
                                    "last_active": "2023-09-23 01:00:00.0000000 +00:00",
                                    "mentor_id": "NULL"
                                },
                                {
                                    "id": "11",
                                    "name": "Saruman",
                                    "guild": "Istari",
                                    "class": "Mage",
                                    "level": "28",
                                    "experience": "8500",
                                    "health": "88.5",
                                    "is_alive": "FALSE",
                                    "last_active": "2023-09-20 03:00:00.0000000 +00:00",
                                    "mentor_id": "6"
                                },
                                {
                                    "id": "12",
                                    "name": "Elrond",
                                    "guild": "Rivendell",
                                    "class": "Mage",
                                    "level": "27",
                                    "experience": "8200",
                                    "health": "87.5",
                                    "is_alive": "TRUE",
                                    "last_active": "2023-09-21 04:00:00.0000000 +00:00",
                                    "mentor_id": "6"
                                },
                                {
                                    "id": "13",
                                    "name": "Thranduil",
                                    "guild": "Mirkwood",
                                    "class": "Archer",
                                    "level": "26",
                                    "experience": "7900",
                                    "health": "97",
                                    "is_alive": "TRUE",
                                    "last_active": "2023-09-22 02:00:00.0000000 +00:00",
                                    "mentor_id": "2"
                                },
                                {
                                    "id": "14",
                                    "name": "Eowyn",
                                    "guild": "Rohan",
                                    "class": "Warrior",
                                    "level": "17",
                                    "experience": "5200",
                                    "health": "112.5",
                                    "is_alive": "TRUE",
                                    "last_active": "2023-09-23 05:00:00.0000000 +00:00",
                                    "mentor_id": "7"
                                },
                                {
                                    "id": "15",
                                    "name": "Faramir",
                                    "guild": "Gondor",
                                    "class": "Archer",
                                    "level": "19",
                                    "experience": "5700",
                                    "health": "118.5",
                                    "is_alive": "TRUE",
                                    "last_active": "2023-09-20 06:00:00.0000000 +00:00",
                                    "mentor_id": "7"
                                }
                            ]
                        },
                        "text/html": "<table><tr><th>id</th><th>name</th><th>guild</th><th>class</th><th>level</th><th>experience</th><th>health</th><th>is_alive</th><th>last_active</th><th>mentor_id</th></tr><tr><td>1</td><td>Aragorn</td><td>Rangers</td><td>Warrior</td><td>25</td><td>9000</td><td>120.5</td><td>TRUE</td><td>2023-09-20 08:00:00.0000000 +00:00</td><td>NULL</td></tr><tr><td>3</td><td>Gimli</td><td>Erebor</td><td>Warrior</td><td>20</td><td>6000</td><td>130.25</td><td>TRUE</td><td>2023-09-22 07:00:00.0000000 +00:00</td><td>NULL</td></tr><tr><td>4</td><td>Frodo</td><td>Shirefolk</td><td>Hobbit</td><td>12</td><td>2500</td><td>50.5</td><td>FALSE</td><td>2023-09-23 10:00:00.0000000 +00:00</td><td>1</td></tr><tr><td>5</td><td>Sam</td><td>Shirefolk</td><td>Hobbit</td><td>13</td><td>2750</td><td>52.5</td><td>TRUE</td><td>2023-09-23 10:05:00.0000000 +00:00</td><td>1</td></tr><tr><td>6</td><td>Gandalf</td><td>Istari</td><td>Mage</td><td>30</td><td>10000</td><td>90</td><td>TRUE</td><td>2023-09-20 11:00:00.0000000 +00:00</td><td>NULL</td></tr><tr><td>7</td><td>Boromir</td><td>Gondor</td><td>Warrior</td><td>18</td><td>5500</td><td>115.5</td><td>FALSE</td><td>2023-09-21 12:00:00.0000000 +00:00</td><td>NULL</td></tr><tr><td>8</td><td>Merry</td><td>Shirefolk</td><td>Hobbit</td><td>11</td><td>2200</td><td>48.5</td><td>TRUE</td><td>2023-09-22 10:00:00.0000000 +00:00</td><td>4</td></tr><tr><td>9</td><td>Pippin</td><td>Shirefolk</td><td>Hobbit</td><td>11</td><td>2100</td><td>47.5</td><td>TRUE</td><td>2023-09-22 10:01:00.0000000 +00:00</td><td>4</td></tr><tr><td>10</td><td>Sauron</td><td>Dark Lords</td><td>Mage</td><td>40</td><td>15000</td><td>85</td><td>FALSE</td><td>2023-09-23 01:00:00.0000000 +00:00</td><td>NULL</td></tr><tr><td>11</td><td>Saruman</td><td>Istari</td><td>Mage</td><td>28</td><td>8500</td><td>88.5</td><td>FALSE</td><td>2023-09-20 03:00:00.0000000 +00:00</td><td>6</td></tr><tr><td>12</td><td>Elrond</td><td>Rivendell</td><td>Mage</td><td>27</td><td>8200</td><td>87.5</td><td>TRUE</td><td>2023-09-21 04:00:00.0000000 +00:00</td><td>6</td></tr><tr><td>13</td><td>Thranduil</td><td>Mirkwood</td><td>Archer</td><td>26</td><td>7900</td><td>97</td><td>TRUE</td><td>2023-09-22 02:00:00.0000000 +00:00</td><td>2</td></tr><tr><td>14</td><td>Eowyn</td><td>Rohan</td><td>Warrior</td><td>17</td><td>5200</td><td>112.5</td><td>TRUE</td><td>2023-09-23 05:00:00.0000000 +00:00</td><td>7</td></tr><tr><td>15</td><td>Faramir</td><td>Gondor</td><td>Archer</td><td>19</td><td>5700</td><td>118.5</td><td>TRUE</td><td>2023-09-20 06:00:00.0000000 +00:00</td><td>7</td></tr></table>"
                    },
                    "metadata": {}
                }
            ],
            "execution_count": 16
        },
        {
            "cell_type": "code",
            "source": [
                " SELECT\r\n",
                "    class,\r\n",
                "    MAX(level) AS max_level,\r\n",
                "    MIN(level) AS min_level,\r\n",
                "    COUNT(*) AS n_values,\r\n",
                "    AVG(level) as avg_level,\r\n",
                "    MAX(health) as max_health,\r\n",
                "    MIN(experience) as min_experience,\r\n",
                "    AVG(LEN(name)) as avg_name_length\r\n",
                "FROM \r\n",
                "    characters\r\n",
                "GROUP BY\r\n",
                "    class -- grouping field"
            ],
            "metadata": {
                "language": "sql",
                "azdata_cell_guid": "90b2e69e-1d03-483f-b9de-d7f4527bbdd0"
            },
            "outputs": [
                {
                    "output_type": "display_data",
                    "data": {
                        "text/html": "(4 rows affected)"
                    },
                    "metadata": {}
                },
                {
                    "output_type": "display_data",
                    "data": {
                        "text/html": "Total execution time: 00:00:00.029"
                    },
                    "metadata": {}
                },
                {
                    "output_type": "execute_result",
                    "execution_count": 21,
                    "data": {
                        "application/vnd.dataresource+json": {
                            "schema": {
                                "fields": [
                                    {
                                        "name": "class"
                                    },
                                    {
                                        "name": "max_level"
                                    },
                                    {
                                        "name": "min_level"
                                    },
                                    {
                                        "name": "n_values"
                                    },
                                    {
                                        "name": "avg_level"
                                    },
                                    {
                                        "name": "max_health"
                                    },
                                    {
                                        "name": "min_experience"
                                    },
                                    {
                                        "name": "avg_name_length"
                                    }
                                ]
                            },
                            "data": [
                                {
                                    "class": "Archer",
                                    "max_level": "26",
                                    "min_level": "19",
                                    "n_values": "2",
                                    "avg_level": "22",
                                    "max_health": "118.5",
                                    "min_experience": "5700",
                                    "avg_name_length": "8"
                                },
                                {
                                    "class": "Hobbit",
                                    "max_level": "13",
                                    "min_level": "11",
                                    "n_values": "4",
                                    "avg_level": "11",
                                    "max_health": "52.5",
                                    "min_experience": "2100",
                                    "avg_name_length": "4"
                                },
                                {
                                    "class": "Mage",
                                    "max_level": "40",
                                    "min_level": "27",
                                    "n_values": "4",
                                    "avg_level": "31",
                                    "max_health": "90",
                                    "min_experience": "8200",
                                    "avg_name_length": "6"
                                },
                                {
                                    "class": "Warrior",
                                    "max_level": "25",
                                    "min_level": "17",
                                    "n_values": "4",
                                    "avg_level": "20",
                                    "max_health": "130.25",
                                    "min_experience": "5200",
                                    "avg_name_length": "6"
                                }
                            ]
                        },
                        "text/html": "<table><tr><th>class</th><th>max_level</th><th>min_level</th><th>n_values</th><th>avg_level</th><th>max_health</th><th>min_experience</th><th>avg_name_length</th></tr><tr><td>Archer</td><td>26</td><td>19</td><td>2</td><td>22</td><td>118.5</td><td>5700</td><td>8</td></tr><tr><td>Hobbit</td><td>13</td><td>11</td><td>4</td><td>11</td><td>52.5</td><td>2100</td><td>4</td></tr><tr><td>Mage</td><td>40</td><td>27</td><td>4</td><td>31</td><td>90</td><td>8200</td><td>6</td></tr><tr><td>Warrior</td><td>25</td><td>17</td><td>4</td><td>20</td><td>130.25</td><td>5200</td><td>6</td></tr></table>"
                    },
                    "metadata": {}
                }
            ],
            "execution_count": 21
        },
        {
            "cell_type": "code",
            "source": [
                "SELECT\r\n",
                "    item_type,\r\n",
                "    rarity,\r\n",
                "    AVG(power)\r\n",
                "FROM \r\n",
                "    items\r\n",
                "GROUP BY\r\n",
                "    item_type,\r\n",
                "    rarity;"
            ],
            "metadata": {
                "language": "sql",
                "azdata_cell_guid": "c193554e-0cee-4931-8afe-6c3b45251d0c"
            },
            "outputs": [
                {
                    "output_type": "display_data",
                    "data": {
                        "text/html": "(8 rows affected)"
                    },
                    "metadata": {}
                },
                {
                    "output_type": "display_data",
                    "data": {
                        "text/html": "Total execution time: 00:00:00.006"
                    },
                    "metadata": {}
                },
                {
                    "output_type": "execute_result",
                    "execution_count": 22,
                    "data": {
                        "application/vnd.dataresource+json": {
                            "schema": {
                                "fields": [
                                    {
                                        "name": "item_type"
                                    },
                                    {
                                        "name": "rarity"
                                    },
                                    {
                                        "name": "(No column name)"
                                    }
                                ]
                            },
                            "data": [
                                {
                                    "item_type": "Armor",
                                    "rarity": "Common",
                                    "(No column name)": "40"
                                },
                                {
                                    "item_type": "Potion",
                                    "rarity": "Common",
                                    "(No column name)": "46"
                                },
                                {
                                    "item_type": "Weapon",
                                    "rarity": "Common",
                                    "(No column name)": "74"
                                },
                                {
                                    "item_type": "Armor",
                                    "rarity": "Legendary",
                                    "(No column name)": "90"
                                },
                                {
                                    "item_type": "Potion",
                                    "rarity": "Legendary",
                                    "(No column name)": "99"
                                },
                                {
                                    "item_type": "Weapon",
                                    "rarity": "Legendary",
                                    "(No column name)": "98"
                                },
                                {
                                    "item_type": "Armor",
                                    "rarity": "Rare",
                                    "(No column name)": "74"
                                },
                                {
                                    "item_type": "Weapon",
                                    "rarity": "Rare",
                                    "(No column name)": "87"
                                }
                            ]
                        },
                        "text/html": "<table><tr><th>item_type</th><th>rarity</th><th>(No column name)</th></tr><tr><td>Armor</td><td>Common</td><td>40</td></tr><tr><td>Potion</td><td>Common</td><td>46</td></tr><tr><td>Weapon</td><td>Common</td><td>74</td></tr><tr><td>Armor</td><td>Legendary</td><td>90</td></tr><tr><td>Potion</td><td>Legendary</td><td>99</td></tr><tr><td>Weapon</td><td>Legendary</td><td>98</td></tr><tr><td>Armor</td><td>Rare</td><td>74</td></tr><tr><td>Weapon</td><td>Rare</td><td>87</td></tr></table>"
                    },
                    "metadata": {}
                }
            ],
            "execution_count": 22
        },
        {
            "cell_type": "markdown",
            "source": [
                "law of grouping \n",
                "\n",
                "  \n",
                "\n",
                "1\\. grouping fields  ( columns that i listed in gorup by )\n",
                "\n",
                "2\\. aggregations of other fields"
            ],
            "metadata": {
                "language": "sql",
                "azdata_cell_guid": "0e023fce-9d57-4a50-981d-d2951957e91b"
            },
            "attachments": {}
        },
        {
            "cell_type": "code",
            "source": [
                ""
            ],
            "metadata": {
                "language": "sql",
                "azdata_cell_guid": "fcb0d3b0-3518-4a3f-9498-b00e5d43e837"
            },
            "outputs": [],
            "execution_count": null
        }
    ]
}
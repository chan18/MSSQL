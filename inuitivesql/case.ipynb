{
    "metadata": {
        "kernelspec": {
            "name": "SQL",
            "display_name": "SQL",
            "language": "sql"
        },
        "language_info": {
            "name": "sql",
            "version": ""
        }
    },
    "nbformat_minor": 2,
    "nbformat": 4,
    "cells": [
        {
            "cell_type": "markdown",
            "source": [
                "\\- bucketing\n",
                "\n",
                "usally with case when statment.\n",
                "\n",
                "  \n",
                "\n",
                "CASE\n",
                "\n",
                "  \n",
                "\n",
                "END"
            ],
            "metadata": {
                "language": "sql",
                "azdata_cell_guid": "bf4b2fc6-2d2f-4660-a3d8-358af5ca18f8"
            },
            "attachments": {}
        },
        {
            "cell_type": "code",
            "source": [
                "SELECT \r\n",
                "    name,\r\n",
                "    level,\r\n",
                "CASE\r\n",
                "    WHEN level < 15 THEN 'low'\r\n",
                "    WHEN level >= 15 AND level < 25 THEN 'mid'\r\n",
                "    WHEN level >= 25 THEN 'super'\r\n",
                "END AS level_bucket\r\n",
                "FROM\r\n",
                "    characters;"
            ],
            "metadata": {
                "language": "sql",
                "azdata_cell_guid": "072d416c-e598-41a8-8613-2ae6210e4d96"
            },
            "outputs": [
                {
                    "output_type": "display_data",
                    "data": {
                        "text/html": "(14 rows affected)"
                    },
                    "metadata": {}
                },
                {
                    "output_type": "display_data",
                    "data": {
                        "text/html": "Total execution time: 00:00:00.010"
                    },
                    "metadata": {}
                },
                {
                    "output_type": "execute_result",
                    "metadata": {},
                    "execution_count": 4,
                    "data": {
                        "application/vnd.dataresource+json": {
                            "schema": {
                                "fields": [
                                    {
                                        "name": "name"
                                    },
                                    {
                                        "name": "level"
                                    },
                                    {
                                        "name": "level_bucket"
                                    }
                                ]
                            },
                            "data": [
                                {
                                    "name": "Aragorn",
                                    "level": "25",
                                    "level_bucket": "super"
                                },
                                {
                                    "name": "Gimli",
                                    "level": "20",
                                    "level_bucket": "mid"
                                },
                                {
                                    "name": "Frodo",
                                    "level": "12",
                                    "level_bucket": "low"
                                },
                                {
                                    "name": "Sam",
                                    "level": "13",
                                    "level_bucket": "low"
                                },
                                {
                                    "name": "Gandalf",
                                    "level": "30",
                                    "level_bucket": "super"
                                },
                                {
                                    "name": "Boromir",
                                    "level": "18",
                                    "level_bucket": "mid"
                                },
                                {
                                    "name": "Merry",
                                    "level": "11",
                                    "level_bucket": "low"
                                },
                                {
                                    "name": "Pippin",
                                    "level": "11",
                                    "level_bucket": "low"
                                },
                                {
                                    "name": "Sauron",
                                    "level": "40",
                                    "level_bucket": "super"
                                },
                                {
                                    "name": "Saruman",
                                    "level": "28",
                                    "level_bucket": "super"
                                },
                                {
                                    "name": "Elrond",
                                    "level": "27",
                                    "level_bucket": "super"
                                },
                                {
                                    "name": "Thranduil",
                                    "level": "26",
                                    "level_bucket": "super"
                                },
                                {
                                    "name": "Eowyn",
                                    "level": "17",
                                    "level_bucket": "mid"
                                },
                                {
                                    "name": "Faramir",
                                    "level": "19",
                                    "level_bucket": "mid"
                                }
                            ]
                        },
                        "text/html": [
                            "<table>",
                            "<tr><th>name</th><th>level</th><th>level_bucket</th></tr>",
                            "<tr><td>Aragorn</td><td>25</td><td>super</td></tr>",
                            "<tr><td>Gimli</td><td>20</td><td>mid</td></tr>",
                            "<tr><td>Frodo</td><td>12</td><td>low</td></tr>",
                            "<tr><td>Sam</td><td>13</td><td>low</td></tr>",
                            "<tr><td>Gandalf</td><td>30</td><td>super</td></tr>",
                            "<tr><td>Boromir</td><td>18</td><td>mid</td></tr>",
                            "<tr><td>Merry</td><td>11</td><td>low</td></tr>",
                            "<tr><td>Pippin</td><td>11</td><td>low</td></tr>",
                            "<tr><td>Sauron</td><td>40</td><td>super</td></tr>",
                            "<tr><td>Saruman</td><td>28</td><td>super</td></tr>",
                            "<tr><td>Elrond</td><td>27</td><td>super</td></tr>",
                            "<tr><td>Thranduil</td><td>26</td><td>super</td></tr>",
                            "<tr><td>Eowyn</td><td>17</td><td>mid</td></tr>",
                            "<tr><td>Faramir</td><td>19</td><td>mid</td></tr>",
                            "</table>"
                        ]
                    }
                }
            ],
            "execution_count": 4
        },
        {
            "cell_type": "code",
            "source": [
                "SELECT \r\n",
                "    name,\r\n",
                "    level,\r\n",
                "CASE\r\n",
                "    WHEN level < 15 THEN 'low'\r\n",
                "    WHEN level < 25  THEN 'mid'\r\n",
                "    ELSE 'super'\r\n",
                "END AS level_bucket\r\n",
                "FROM\r\n",
                "    characters;"
            ],
            "metadata": {
                "language": "sql",
                "azdata_cell_guid": "d3aaa760-34b8-49f7-a056-c11fa6a39f8c"
            },
            "outputs": [
                {
                    "output_type": "display_data",
                    "data": {
                        "text/html": "(14 rows affected)"
                    },
                    "metadata": {}
                },
                {
                    "output_type": "display_data",
                    "data": {
                        "text/html": "Total execution time: 00:00:00.005"
                    },
                    "metadata": {}
                },
                {
                    "output_type": "execute_result",
                    "metadata": {},
                    "execution_count": 9,
                    "data": {
                        "application/vnd.dataresource+json": {
                            "schema": {
                                "fields": [
                                    {
                                        "name": "name"
                                    },
                                    {
                                        "name": "level"
                                    },
                                    {
                                        "name": "level_bucket"
                                    }
                                ]
                            },
                            "data": [
                                {
                                    "name": "Aragorn",
                                    "level": "25",
                                    "level_bucket": "super"
                                },
                                {
                                    "name": "Gimli",
                                    "level": "20",
                                    "level_bucket": "mid"
                                },
                                {
                                    "name": "Frodo",
                                    "level": "12",
                                    "level_bucket": "low"
                                },
                                {
                                    "name": "Sam",
                                    "level": "13",
                                    "level_bucket": "low"
                                },
                                {
                                    "name": "Gandalf",
                                    "level": "30",
                                    "level_bucket": "super"
                                },
                                {
                                    "name": "Boromir",
                                    "level": "18",
                                    "level_bucket": "mid"
                                },
                                {
                                    "name": "Merry",
                                    "level": "11",
                                    "level_bucket": "low"
                                },
                                {
                                    "name": "Pippin",
                                    "level": "11",
                                    "level_bucket": "low"
                                },
                                {
                                    "name": "Sauron",
                                    "level": "40",
                                    "level_bucket": "super"
                                },
                                {
                                    "name": "Saruman",
                                    "level": "28",
                                    "level_bucket": "super"
                                },
                                {
                                    "name": "Elrond",
                                    "level": "27",
                                    "level_bucket": "super"
                                },
                                {
                                    "name": "Thranduil",
                                    "level": "26",
                                    "level_bucket": "super"
                                },
                                {
                                    "name": "Eowyn",
                                    "level": "17",
                                    "level_bucket": "mid"
                                },
                                {
                                    "name": "Faramir",
                                    "level": "19",
                                    "level_bucket": "mid"
                                }
                            ]
                        },
                        "text/html": [
                            "<table>",
                            "<tr><th>name</th><th>level</th><th>level_bucket</th></tr>",
                            "<tr><td>Aragorn</td><td>25</td><td>super</td></tr>",
                            "<tr><td>Gimli</td><td>20</td><td>mid</td></tr>",
                            "<tr><td>Frodo</td><td>12</td><td>low</td></tr>",
                            "<tr><td>Sam</td><td>13</td><td>low</td></tr>",
                            "<tr><td>Gandalf</td><td>30</td><td>super</td></tr>",
                            "<tr><td>Boromir</td><td>18</td><td>mid</td></tr>",
                            "<tr><td>Merry</td><td>11</td><td>low</td></tr>",
                            "<tr><td>Pippin</td><td>11</td><td>low</td></tr>",
                            "<tr><td>Sauron</td><td>40</td><td>super</td></tr>",
                            "<tr><td>Saruman</td><td>28</td><td>super</td></tr>",
                            "<tr><td>Elrond</td><td>27</td><td>super</td></tr>",
                            "<tr><td>Thranduil</td><td>26</td><td>super</td></tr>",
                            "<tr><td>Eowyn</td><td>17</td><td>mid</td></tr>",
                            "<tr><td>Faramir</td><td>19</td><td>mid</td></tr>",
                            "</table>"
                        ]
                    }
                }
            ],
            "execution_count": 9
        },
        {
            "cell_type": "code",
            "source": [
                "SELECT \r\n",
                "    name,\r\n",
                "    level,\r\n",
                "CASE\r\n",
                "    WHEN class = 'Mage' THEN level * 0.5\r\n",
                "    WHEN class IN ('Archer', 'Warrior') THEN level * 0.75\r\n",
                "    ELSE level * 1.5\r\n",
                "END AS power_level\r\n",
                "FROM\r\n",
                "    characters;"
            ],
            "metadata": {
                "azdata_cell_guid": "b664dbad-0053-4d85-8737-1b9923da479d",
                "language": "sql",
                "tags": []
            },
            "outputs": [
                {
                    "output_type": "display_data",
                    "data": {
                        "text/html": "(14 rows affected)"
                    },
                    "metadata": {}
                },
                {
                    "output_type": "display_data",
                    "data": {
                        "text/html": "Total execution time: 00:00:00.006"
                    },
                    "metadata": {}
                },
                {
                    "output_type": "execute_result",
                    "metadata": {},
                    "execution_count": 2,
                    "data": {
                        "application/vnd.dataresource+json": {
                            "schema": {
                                "fields": [
                                    {
                                        "name": "name"
                                    },
                                    {
                                        "name": "level"
                                    },
                                    {
                                        "name": "power_level"
                                    }
                                ]
                            },
                            "data": [
                                {
                                    "name": "Aragorn",
                                    "level": "25",
                                    "power_level": "18.75"
                                },
                                {
                                    "name": "Gimli",
                                    "level": "20",
                                    "power_level": "15.00"
                                },
                                {
                                    "name": "Frodo",
                                    "level": "12",
                                    "power_level": "18.00"
                                },
                                {
                                    "name": "Sam",
                                    "level": "13",
                                    "power_level": "19.50"
                                },
                                {
                                    "name": "Gandalf",
                                    "level": "30",
                                    "power_level": "15.00"
                                },
                                {
                                    "name": "Boromir",
                                    "level": "18",
                                    "power_level": "13.50"
                                },
                                {
                                    "name": "Merry",
                                    "level": "11",
                                    "power_level": "16.50"
                                },
                                {
                                    "name": "Pippin",
                                    "level": "11",
                                    "power_level": "16.50"
                                },
                                {
                                    "name": "Sauron",
                                    "level": "40",
                                    "power_level": "20.00"
                                },
                                {
                                    "name": "Saruman",
                                    "level": "28",
                                    "power_level": "14.00"
                                },
                                {
                                    "name": "Elrond",
                                    "level": "27",
                                    "power_level": "13.50"
                                },
                                {
                                    "name": "Thranduil",
                                    "level": "26",
                                    "power_level": "19.50"
                                },
                                {
                                    "name": "Eowyn",
                                    "level": "17",
                                    "power_level": "12.75"
                                },
                                {
                                    "name": "Faramir",
                                    "level": "19",
                                    "power_level": "14.25"
                                }
                            ]
                        },
                        "text/html": [
                            "<table>",
                            "<tr><th>name</th><th>level</th><th>power_level</th></tr>",
                            "<tr><td>Aragorn</td><td>25</td><td>18.75</td></tr>",
                            "<tr><td>Gimli</td><td>20</td><td>15.00</td></tr>",
                            "<tr><td>Frodo</td><td>12</td><td>18.00</td></tr>",
                            "<tr><td>Sam</td><td>13</td><td>19.50</td></tr>",
                            "<tr><td>Gandalf</td><td>30</td><td>15.00</td></tr>",
                            "<tr><td>Boromir</td><td>18</td><td>13.50</td></tr>",
                            "<tr><td>Merry</td><td>11</td><td>16.50</td></tr>",
                            "<tr><td>Pippin</td><td>11</td><td>16.50</td></tr>",
                            "<tr><td>Sauron</td><td>40</td><td>20.00</td></tr>",
                            "<tr><td>Saruman</td><td>28</td><td>14.00</td></tr>",
                            "<tr><td>Elrond</td><td>27</td><td>13.50</td></tr>",
                            "<tr><td>Thranduil</td><td>26</td><td>19.50</td></tr>",
                            "<tr><td>Eowyn</td><td>17</td><td>12.75</td></tr>",
                            "<tr><td>Faramir</td><td>19</td><td>14.25</td></tr>",
                            "</table>"
                        ]
                    }
                }
            ],
            "execution_count": 2
        },
        {
            "cell_type": "code",
            "source": [
                "SELECT  \r\n",
                "    name,\r\n",
                "    level,\r\n",
                "CASE \r\n",
                "    WHEN level * experience / 2 < 20 OR class IN ('Manga', 'Archer') THEN 1\r\n",
                "    WHEN level < 25 THEN 2\r\n",
                "    ELSE 3\r\n",
                "END\r\n",
                "FROM \r\n",
                "    characters\r\n",
                "WHERE \r\n",
                "    is_alive = 'TRUE'"
            ],
            "metadata": {
                "language": "sql",
                "azdata_cell_guid": "e1a3fded-e8ef-4f2d-a8ab-a04adba98029"
            },
            "outputs": [
                {
                    "output_type": "display_data",
                    "data": {
                        "text/html": "(10 rows affected)"
                    },
                    "metadata": {}
                },
                {
                    "output_type": "display_data",
                    "data": {
                        "text/html": "Total execution time: 00:00:00.015"
                    },
                    "metadata": {}
                },
                {
                    "output_type": "execute_result",
                    "metadata": {},
                    "execution_count": 12,
                    "data": {
                        "application/vnd.dataresource+json": {
                            "schema": {
                                "fields": [
                                    {
                                        "name": "name"
                                    },
                                    {
                                        "name": "level"
                                    },
                                    {
                                        "name": "(No column name)"
                                    }
                                ]
                            },
                            "data": [
                                {
                                    "name": "Aragorn",
                                    "level": "25",
                                    "(No column name)": "3"
                                },
                                {
                                    "name": "Gimli",
                                    "level": "20",
                                    "(No column name)": "2"
                                },
                                {
                                    "name": "Sam",
                                    "level": "13",
                                    "(No column name)": "2"
                                },
                                {
                                    "name": "Gandalf",
                                    "level": "30",
                                    "(No column name)": "3"
                                },
                                {
                                    "name": "Merry",
                                    "level": "11",
                                    "(No column name)": "2"
                                },
                                {
                                    "name": "Pippin",
                                    "level": "11",
                                    "(No column name)": "2"
                                },
                                {
                                    "name": "Elrond",
                                    "level": "27",
                                    "(No column name)": "3"
                                },
                                {
                                    "name": "Thranduil",
                                    "level": "26",
                                    "(No column name)": "1"
                                },
                                {
                                    "name": "Eowyn",
                                    "level": "17",
                                    "(No column name)": "2"
                                },
                                {
                                    "name": "Faramir",
                                    "level": "19",
                                    "(No column name)": "1"
                                }
                            ]
                        },
                        "text/html": [
                            "<table>",
                            "<tr><th>name</th><th>level</th><th>(No column name)</th></tr>",
                            "<tr><td>Aragorn</td><td>25</td><td>3</td></tr>",
                            "<tr><td>Gimli</td><td>20</td><td>2</td></tr>",
                            "<tr><td>Sam</td><td>13</td><td>2</td></tr>",
                            "<tr><td>Gandalf</td><td>30</td><td>3</td></tr>",
                            "<tr><td>Merry</td><td>11</td><td>2</td></tr>",
                            "<tr><td>Pippin</td><td>11</td><td>2</td></tr>",
                            "<tr><td>Elrond</td><td>27</td><td>3</td></tr>",
                            "<tr><td>Thranduil</td><td>26</td><td>1</td></tr>",
                            "<tr><td>Eowyn</td><td>17</td><td>2</td></tr>",
                            "<tr><td>Faramir</td><td>19</td><td>1</td></tr>",
                            "</table>"
                        ]
                    }
                }
            ],
            "execution_count": 12
        }
    ]
}
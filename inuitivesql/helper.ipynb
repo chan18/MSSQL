{
    "metadata": {
        "kernelspec": {
            "name": "SQL",
            "display_name": "SQL",
            "language": "sql"
        },
        "language_info": {
            "name": "sql",
            "version": ""
        }
    },
    "nbformat_minor": 2,
    "nbformat": 4,
    "cells": [
        {
            "cell_type": "code",
            "source": [
                "EXEC sp_help 'characters';"
            ],
            "metadata": {
                "azdata_cell_guid": "dc63f51f-f262-4de9-b880-db55d68777fb",
                "language": "sql"
            },
            "outputs": [
                {
                    "output_type": "display_data",
                    "data": {
                        "text/html": " "
                    },
                    "metadata": {}
                },
                {
                    "output_type": "display_data",
                    "data": {
                        "text/html": " "
                    },
                    "metadata": {}
                },
                {
                    "output_type": "display_data",
                    "data": {
                        "text/html": " "
                    },
                    "metadata": {}
                },
                {
                    "output_type": "display_data",
                    "data": {
                        "text/html": " "
                    },
                    "metadata": {}
                },
                {
                    "output_type": "display_data",
                    "data": {
                        "text/html": " "
                    },
                    "metadata": {}
                },
                {
                    "output_type": "display_data",
                    "data": {
                        "text/html": " "
                    },
                    "metadata": {}
                },
                {
                    "output_type": "display_data",
                    "data": {
                        "text/html": "The object 'characters' does not have any indexes, or you do not have permissions."
                    },
                    "metadata": {}
                },
                {
                    "output_type": "display_data",
                    "data": {
                        "text/html": " "
                    },
                    "metadata": {}
                },
                {
                    "output_type": "display_data",
                    "data": {
                        "text/html": "No constraints are defined on object 'characters', or you do not have permissions."
                    },
                    "metadata": {}
                },
                {
                    "output_type": "display_data",
                    "data": {
                        "text/html": " "
                    },
                    "metadata": {}
                },
                {
                    "output_type": "display_data",
                    "data": {
                        "text/html": "No foreign keys reference table 'characters', or you do not have permissions on referencing tables."
                    },
                    "metadata": {}
                },
                {
                    "output_type": "display_data",
                    "data": {
                        "text/html": "No views with schema binding reference table 'characters'."
                    },
                    "metadata": {}
                },
                {
                    "output_type": "display_data",
                    "data": {
                        "text/html": "Total execution time: 00:00:00.034"
                    },
                    "metadata": {}
                },
                {
                    "output_type": "execute_result",
                    "execution_count": 1,
                    "data": {
                        "application/vnd.dataresource+json": {
                            "schema": {
                                "fields": [
                                    {
                                        "name": "Name"
                                    },
                                    {
                                        "name": "Owner"
                                    },
                                    {
                                        "name": "Type"
                                    },
                                    {
                                        "name": "Created_datetime"
                                    }
                                ]
                            },
                            "data": [
                                {
                                    "Name": "characters",
                                    "Owner": "dbo",
                                    "Type": "user table",
                                    "Created_datetime": "2024-12-29 11:03:11.517"
                                }
                            ]
                        },
                        "text/html": "<table><tr><th>Name</th><th>Owner</th><th>Type</th><th>Created_datetime</th></tr><tr><td>characters</td><td>dbo</td><td>user table</td><td>2024-12-29 11:03:11.517</td></tr></table>"
                    },
                    "metadata": {}
                },
                {
                    "output_type": "execute_result",
                    "execution_count": 1,
                    "data": {
                        "application/vnd.dataresource+json": {
                            "schema": {
                                "fields": [
                                    {
                                        "name": "Column_name"
                                    },
                                    {
                                        "name": "Type"
                                    },
                                    {
                                        "name": "Computed"
                                    },
                                    {
                                        "name": "Length"
                                    },
                                    {
                                        "name": "Prec"
                                    },
                                    {
                                        "name": "Scale"
                                    },
                                    {
                                        "name": "Nullable"
                                    },
                                    {
                                        "name": "TrimTrailingBlanks"
                                    },
                                    {
                                        "name": "FixedLenNullInSource"
                                    },
                                    {
                                        "name": "Collation"
                                    }
                                ]
                            },
                            "data": [
                                {
                                    "Column_name": "id",
                                    "Type": "varchar",
                                    "Computed": "no",
                                    "Length": "50",
                                    "Prec": "     ",
                                    "Scale": "     ",
                                    "Nullable": "yes",
                                    "TrimTrailingBlanks": "no",
                                    "FixedLenNullInSource": "yes",
                                    "Collation": "SQL_Latin1_General_CP1_CI_AS"
                                },
                                {
                                    "Column_name": "name",
                                    "Type": "varchar",
                                    "Computed": "no",
                                    "Length": "50",
                                    "Prec": "     ",
                                    "Scale": "     ",
                                    "Nullable": "yes",
                                    "TrimTrailingBlanks": "no",
                                    "FixedLenNullInSource": "yes",
                                    "Collation": "SQL_Latin1_General_CP1_CI_AS"
                                },
                                {
                                    "Column_name": "guild",
                                    "Type": "varchar",
                                    "Computed": "no",
                                    "Length": "50",
                                    "Prec": "     ",
                                    "Scale": "     ",
                                    "Nullable": "yes",
                                    "TrimTrailingBlanks": "no",
                                    "FixedLenNullInSource": "yes",
                                    "Collation": "SQL_Latin1_General_CP1_CI_AS"
                                },
                                {
                                    "Column_name": "class",
                                    "Type": "varchar",
                                    "Computed": "no",
                                    "Length": "50",
                                    "Prec": "     ",
                                    "Scale": "     ",
                                    "Nullable": "yes",
                                    "TrimTrailingBlanks": "no",
                                    "FixedLenNullInSource": "yes",
                                    "Collation": "SQL_Latin1_General_CP1_CI_AS"
                                },
                                {
                                    "Column_name": "level",
                                    "Type": "varchar",
                                    "Computed": "no",
                                    "Length": "50",
                                    "Prec": "     ",
                                    "Scale": "     ",
                                    "Nullable": "yes",
                                    "TrimTrailingBlanks": "no",
                                    "FixedLenNullInSource": "yes",
                                    "Collation": "SQL_Latin1_General_CP1_CI_AS"
                                },
                                {
                                    "Column_name": "experience",
                                    "Type": "varchar",
                                    "Computed": "no",
                                    "Length": "50",
                                    "Prec": "     ",
                                    "Scale": "     ",
                                    "Nullable": "yes",
                                    "TrimTrailingBlanks": "no",
                                    "FixedLenNullInSource": "yes",
                                    "Collation": "SQL_Latin1_General_CP1_CI_AS"
                                },
                                {
                                    "Column_name": "health",
                                    "Type": "varchar",
                                    "Computed": "no",
                                    "Length": "50",
                                    "Prec": "     ",
                                    "Scale": "     ",
                                    "Nullable": "yes",
                                    "TrimTrailingBlanks": "no",
                                    "FixedLenNullInSource": "yes",
                                    "Collation": "SQL_Latin1_General_CP1_CI_AS"
                                },
                                {
                                    "Column_name": "is_alive",
                                    "Type": "varchar",
                                    "Computed": "no",
                                    "Length": "50",
                                    "Prec": "     ",
                                    "Scale": "     ",
                                    "Nullable": "yes",
                                    "TrimTrailingBlanks": "no",
                                    "FixedLenNullInSource": "yes",
                                    "Collation": "SQL_Latin1_General_CP1_CI_AS"
                                },
                                {
                                    "Column_name": "last_active",
                                    "Type": "varchar",
                                    "Computed": "no",
                                    "Length": "50",
                                    "Prec": "     ",
                                    "Scale": "     ",
                                    "Nullable": "yes",
                                    "TrimTrailingBlanks": "no",
                                    "FixedLenNullInSource": "yes",
                                    "Collation": "SQL_Latin1_General_CP1_CI_AS"
                                },
                                {
                                    "Column_name": "mentor_id",
                                    "Type": "varchar",
                                    "Computed": "no",
                                    "Length": "50",
                                    "Prec": "     ",
                                    "Scale": "     ",
                                    "Nullable": "yes",
                                    "TrimTrailingBlanks": "no",
                                    "FixedLenNullInSource": "yes",
                                    "Collation": "SQL_Latin1_General_CP1_CI_AS"
                                }
                            ]
                        },
                        "text/html": "<table><tr><th>Column_name</th><th>Type</th><th>Computed</th><th>Length</th><th>Prec</th><th>Scale</th><th>Nullable</th><th>TrimTrailingBlanks</th><th>FixedLenNullInSource</th><th>Collation</th></tr><tr><td>id</td><td>varchar</td><td>no</td><td>50</td><td>     </td><td>     </td><td>yes</td><td>no</td><td>yes</td><td>SQL_Latin1_General_CP1_CI_AS</td></tr><tr><td>name</td><td>varchar</td><td>no</td><td>50</td><td>     </td><td>     </td><td>yes</td><td>no</td><td>yes</td><td>SQL_Latin1_General_CP1_CI_AS</td></tr><tr><td>guild</td><td>varchar</td><td>no</td><td>50</td><td>     </td><td>     </td><td>yes</td><td>no</td><td>yes</td><td>SQL_Latin1_General_CP1_CI_AS</td></tr><tr><td>class</td><td>varchar</td><td>no</td><td>50</td><td>     </td><td>     </td><td>yes</td><td>no</td><td>yes</td><td>SQL_Latin1_General_CP1_CI_AS</td></tr><tr><td>level</td><td>varchar</td><td>no</td><td>50</td><td>     </td><td>     </td><td>yes</td><td>no</td><td>yes</td><td>SQL_Latin1_General_CP1_CI_AS</td></tr><tr><td>experience</td><td>varchar</td><td>no</td><td>50</td><td>     </td><td>     </td><td>yes</td><td>no</td><td>yes</td><td>SQL_Latin1_General_CP1_CI_AS</td></tr><tr><td>health</td><td>varchar</td><td>no</td><td>50</td><td>     </td><td>     </td><td>yes</td><td>no</td><td>yes</td><td>SQL_Latin1_General_CP1_CI_AS</td></tr><tr><td>is_alive</td><td>varchar</td><td>no</td><td>50</td><td>     </td><td>     </td><td>yes</td><td>no</td><td>yes</td><td>SQL_Latin1_General_CP1_CI_AS</td></tr><tr><td>last_active</td><td>varchar</td><td>no</td><td>50</td><td>     </td><td>     </td><td>yes</td><td>no</td><td>yes</td><td>SQL_Latin1_General_CP1_CI_AS</td></tr><tr><td>mentor_id</td><td>varchar</td><td>no</td><td>50</td><td>     </td><td>     </td><td>yes</td><td>no</td><td>yes</td><td>SQL_Latin1_General_CP1_CI_AS</td></tr></table>"
                    },
                    "metadata": {}
                },
                {
                    "output_type": "execute_result",
                    "execution_count": 1,
                    "data": {
                        "application/vnd.dataresource+json": {
                            "schema": {
                                "fields": [
                                    {
                                        "name": "Identity"
                                    },
                                    {
                                        "name": "Seed"
                                    },
                                    {
                                        "name": "Increment"
                                    },
                                    {
                                        "name": "Not For Replication"
                                    }
                                ]
                            },
                            "data": [
                                {
                                    "Identity": "No identity column defined.",
                                    "Seed": "NULL",
                                    "Increment": "NULL",
                                    "Not For Replication": "NULL"
                                }
                            ]
                        },
                        "text/html": "<table><tr><th>Identity</th><th>Seed</th><th>Increment</th><th>Not For Replication</th></tr><tr><td>No identity column defined.</td><td>NULL</td><td>NULL</td><td>NULL</td></tr></table>"
                    },
                    "metadata": {}
                },
                {
                    "output_type": "execute_result",
                    "execution_count": 1,
                    "data": {
                        "application/vnd.dataresource+json": {
                            "schema": {
                                "fields": [
                                    {
                                        "name": "RowGuidCol"
                                    }
                                ]
                            },
                            "data": [
                                {
                                    "RowGuidCol": "No rowguidcol column defined."
                                }
                            ]
                        },
                        "text/html": "<table><tr><th>RowGuidCol</th></tr><tr><td>No rowguidcol column defined.</td></tr></table>"
                    },
                    "metadata": {}
                },
                {
                    "output_type": "execute_result",
                    "execution_count": 1,
                    "data": {
                        "application/vnd.dataresource+json": {
                            "schema": {
                                "fields": [
                                    {
                                        "name": "Data_located_on_filegroup"
                                    }
                                ]
                            },
                            "data": [
                                {
                                    "Data_located_on_filegroup": "PRIMARY"
                                }
                            ]
                        },
                        "text/html": "<table><tr><th>Data_located_on_filegroup</th></tr><tr><td>PRIMARY</td></tr></table>"
                    },
                    "metadata": {}
                }
            ],
            "execution_count": 1
        },
        {
            "cell_type": "code",
            "source": [
                "EXEC sp_helptext 'sp_help';"
            ],
            "metadata": {
                "language": "sql",
                "azdata_cell_guid": "d6ccfb90-8807-416e-81ce-1aec0e3e47dd"
            },
            "outputs": [
                {
                    "output_type": "display_data",
                    "data": {
                        "text/html": "Commands completed successfully."
                    },
                    "metadata": {}
                },
                {
                    "output_type": "display_data",
                    "data": {
                        "text/html": "Total execution time: 00:00:00.030"
                    },
                    "metadata": {}
                },
                {
                    "output_type": "execute_result",
                    "execution_count": 3,
                    "data": {
                        "application/vnd.dataresource+json": {
                            "schema": {
                                "fields": [
                                    {
                                        "name": "Text"
                                    }
                                ]
                            },
                            "data": [
                                {
                                    "Text": "create procedure sys.sp_help\r\n"
                                },
                                {
                                    "Text": "\t@objname nvarchar(776) = NULL\t\t-- object name we're after\r\n"
                                },
                                {
                                    "Text": "as\r\n"
                                },
                                {
                                    "Text": "\t-- PRELIMINARY\r\n"
                                },
                                {
                                    "Text": "\tset nocount on\r\n"
                                },
                                {
                                    "Text": "\tdeclare\t@dbname\tsysname\r\n"
                                },
                                {
                                    "Text": "\t\t,@no varchar(35), @yes varchar(35), @none varchar(35)\r\n"
                                },
                                {
                                    "Text": "\tselect @no = 'no', @yes = 'yes', @none = 'none'\r\n"
                                },
                                {
                                    "Text": "\r\n"
                                },
                                {
                                    "Text": "\t-- If no @objname given, give a little info about all objects.\r\n"
                                },
                                {
                                    "Text": "\tif @objname is null\r\n"
                                },
                                {
                                    "Text": "\tbegin\r\n"
                                },
                                {
                                    "Text": "\t\t-- DISPLAY ALL SYSOBJECTS --\r\n"
                                },
                                {
                                    "Text": "\t\tif (serverproperty('EngineEdition') != 5)\r\n"
                                },
                                {
                                    "Text": "\t\tbegin\r\n"
                                },
                                {
                                    "Text": "\t\t        select\r\n"
                                },
                                {
                                    "Text": "\t\t            'Name'          = o.name,\r\n"
                                },
                                {
                                    "Text": "\t\t            'Owner'         = user_name(ObjectProperty( object_id, 'ownerid')),\r\n"
                                },
                                {
                                    "Text": "\t\t            'Object_type'   = substring(v.name,5,31)\r\n"
                                },
                                {
                                    "Text": "\t\t        from sys.all_objects o, master.dbo.spt_values v\r\n"
                                },
                                {
                                    "Text": "\t\t        where o.type = substring(v.name,1,2) collate catalog_default and v.type = 'O9T'\r\n"
                                },
                                {
                                    "Text": "\t\t        order by [Owner] asc, Object_type desc, Name asc\r\n"
                                },
                                {
                                    "Text": "\t\tend\r\n"
                                },
                                {
                                    "Text": "\t\telse \r\n"
                                },
                                {
                                    "Text": "\t\tbegin\r\n"
                                },
                                {
                                    "Text": "\t\t\tselect\r\n"
                                },
                                {
                                    "Text": "\t\t            'Name'          = o.name,\r\n"
                                },
                                {
                                    "Text": "\t\t            'Owner'         = user_name(ObjectProperty( object_id, 'ownerid')),\r\n"
                                },
                                {
                                    "Text": "\t\t            'Object_type'   = substring(v.name,5,31)\r\n"
                                },
                                {
                                    "Text": "\t\t        from sys.all_objects o, sys.spt_values v\r\n"
                                },
                                {
                                    "Text": "\t\t        where o.type = substring(v.name,1,2) collate catalog_default and v.type = 'O9T'\r\n"
                                },
                                {
                                    "Text": "\t\t        order by [Owner] asc, Object_type desc, Name asc\r\n"
                                },
                                {
                                    "Text": "\t\tend\r\n"
                                },
                                {
                                    "Text": "\r\n"
                                },
                                {
                                    "Text": "\t\tprint ' '\r\n"
                                },
                                {
                                    "Text": "\r\n"
                                },
                                {
                                    "Text": "\t\t-- DISPLAY ALL USER TYPES\r\n"
                                },
                                {
                                    "Text": "\t\tselect\r\n"
                                },
                                {
                                    "Text": "\t\t\t'User_type'\t= name,\r\n"
                                },
                                {
                                    "Text": "\t\t\t'Storage_type'\t= type_name(system_type_id),\r\n"
                                },
                                {
                                    "Text": "\t\t\t'Length'\t\t= max_length,\r\n"
                                },
                                {
                                    "Text": "\t\t\t'Prec'\t\t= Convert(int,TypePropertyEx(user_type_id, 'precision')),\r\n"
                                },
                                {
                                    "Text": "\t\t\t'Scale'\t\t= Convert(int,TypePropertyEx(user_type_id, 'scale')),\r\n"
                                },
                                {
                                    "Text": "\t\t\t'Nullable'\t\t= case when is_nullable = 1 then @yes else @no end,\r\n"
                                },
                                {
                                    "Text": "\t\t\t'Default_name'\t= isnull(object_name(default_object_id), @none),\r\n"
                                },
                                {
                                    "Text": "\t\t\t'Rule_name'\t\t= isnull(object_name(rule_object_id), @none),\r\n"
                                },
                                {
                                    "Text": "\t\t\t'Collation'\t\t= collation_name\r\n"
                                },
                                {
                                    "Text": "\t\tfrom sys.types\r\n"
                                },
                                {
                                    "Text": "\t\twhere user_type_id > 256\r\n"
                                },
                                {
                                    "Text": "\t\torder by name\r\n"
                                },
                                {
                                    "Text": "\r\n"
                                },
                                {
                                    "Text": "\t\treturn(0)\r\n"
                                },
                                {
                                    "Text": "\tend\r\n"
                                },
                                {
                                    "Text": "\r\n"
                                },
                                {
                                    "Text": "\t-- Make sure the @objname is local to the current database.\r\n"
                                },
                                {
                                    "Text": "\tselect @dbname = parsename(@objname,3)\r\n"
                                },
                                {
                                    "Text": "\tif @dbname is null\r\n"
                                },
                                {
                                    "Text": "\t\tselect @dbname = db_name()\r\n"
                                },
                                {
                                    "Text": "\telse if @dbname <> db_name()\r\n"
                                },
                                {
                                    "Text": "\t\tbegin\r\n"
                                },
                                {
                                    "Text": "\t\t\traiserror(15250,-1,-1)\r\n"
                                },
                                {
                                    "Text": "\t\t\treturn(1)\r\n"
                                },
                                {
                                    "Text": "\t\tend\r\n"
                                },
                                {
                                    "Text": "\r\n"
                                },
                                {
                                    "Text": "\t-- @objname must be either sysobjects or systypes: first look in sysobjects\r\n"
                                },
                                {
                                    "Text": "\tdeclare @objid int\r\n"
                                },
                                {
                                    "Text": "\tdeclare @sysobj_type char(2)\r\n"
                                },
                                {
                                    "Text": "\tselect @objid = object_id, @sysobj_type = type from sys.all_objects where object_id = object_id(@objname)\r\n"
                                },
                                {
                                    "Text": "\r\n"
                                },
                                {
                                    "Text": "\t-- IF NOT IN SYSOBJECTS, TRY SYSTYPES --\r\n"
                                },
                                {
                                    "Text": "\tif @objid is null\r\n"
                                },
                                {
                                    "Text": "\tbegin\r\n"
                                },
                                {
                                    "Text": "\t\t-- UNDONE: SHOULD CHECK FOR AND DISALLOW MULTI-PART NAME\r\n"
                                },
                                {
                                    "Text": "\t\tselect @objid = type_id(@objname)\r\n"
                                },
                                {
                                    "Text": "\r\n"
                                },
                                {
                                    "Text": "\t\t-- IF NOT IN SYSTYPES, GIVE UP\r\n"
                                },
                                {
                                    "Text": "\t\tif @objid is null\r\n"
                                },
                                {
                                    "Text": "\t\tbegin\r\n"
                                },
                                {
                                    "Text": "\t\t\traiserror(15009,-1,-1,@objname,@dbname)\r\n"
                                },
                                {
                                    "Text": "\t\t\treturn(1)\r\n"
                                },
                                {
                                    "Text": "\t\tend\r\n"
                                },
                                {
                                    "Text": "\r\n"
                                },
                                {
                                    "Text": "\t\t-- DATA TYPE HELP (prec/scale only valid for numerics)\r\n"
                                },
                                {
                                    "Text": "\t\tselect\r\n"
                                },
                                {
                                    "Text": "\t\t\t'Type_name'\t= name,\r\n"
                                },
                                {
                                    "Text": "\t\t\t'Storage_type'\t= type_name(system_type_id),\r\n"
                                },
                                {
                                    "Text": "\t\t\t'Length'\t\t= max_length,\r\n"
                                },
                                {
                                    "Text": "\t\t\t'Prec'\t\t\t= Convert(int,TypePropertyEx(user_type_id, 'precision')),\r\n"
                                },
                                {
                                    "Text": "\t\t\t'Scale'\t\t\t= Convert(int,TypePropertyEx(user_type_id, 'scale')),\r\n"
                                },
                                {
                                    "Text": "\t\t\t'Nullable'\t\t\t= case when is_nullable=1 then @yes else @no end,\r\n"
                                },
                                {
                                    "Text": "\t\t\t'Default_name'\t= isnull(object_name(default_object_id), @none),\r\n"
                                },
                                {
                                    "Text": "\t\t\t'Rule_name'\t\t= isnull(object_name(rule_object_id), @none),\r\n"
                                },
                                {
                                    "Text": "\t\t\t'Collation'\t\t= collation_name\r\n"
                                },
                                {
                                    "Text": "\t\tfrom sys.types\r\n"
                                },
                                {
                                    "Text": "\t\twhere user_type_id = @objid\r\n"
                                },
                                {
                                    "Text": "\r\n"
                                },
                                {
                                    "Text": "\t\treturn(0)\r\n"
                                },
                                {
                                    "Text": "\tend\r\n"
                                },
                                {
                                    "Text": "\r\n"
                                },
                                {
                                    "Text": "\t-- FOUND IT IN SYSOBJECT, SO GIVE OBJECT INFO\r\n"
                                },
                                {
                                    "Text": "\tif (serverproperty('EngineEdition') != 5)\r\n"
                                },
                                {
                                    "Text": "\tbegin\r\n"
                                },
                                {
                                    "Text": "\t\tselect\r\n"
                                },
                                {
                                    "Text": "\t\t\t'Name'\t\t\t\t= o.name,\r\n"
                                },
                                {
                                    "Text": "\t\t\t'Owner'\t\t\t\t= user_name(ObjectProperty( object_id, 'ownerid')),\r\n"
                                },
                                {
                                    "Text": "\t        'Type'              = substring(v.name,5,31),\r\n"
                                },
                                {
                                    "Text": "\t\t\t'Created_datetime'\t= o.create_date\r\n"
                                },
                                {
                                    "Text": "\t\tfrom sys.all_objects o, master.dbo.spt_values v\r\n"
                                },
                                {
                                    "Text": "\t\twhere o.object_id = @objid and o.type = substring(v.name,1,2) collate catalog_default and v.type = 'O9T'\r\n"
                                },
                                {
                                    "Text": "\tend\r\n"
                                },
                                {
                                    "Text": "\telse \r\n"
                                },
                                {
                                    "Text": "\tbegin\r\n"
                                },
                                {
                                    "Text": "\t\tselect\r\n"
                                },
                                {
                                    "Text": "\t\t\t'Name'\t\t\t\t= o.name,\r\n"
                                },
                                {
                                    "Text": "\t\t\t'Owner'\t\t\t\t= user_name(ObjectProperty( object_id, 'ownerid')),\r\n"
                                },
                                {
                                    "Text": "\t        'Type'              = substring(v.name,5,31),\r\n"
                                },
                                {
                                    "Text": "\t\t\t'Created_datetime'\t= o.create_date\r\n"
                                },
                                {
                                    "Text": "\t\tfrom sys.all_objects o, sys.spt_values v\r\n"
                                },
                                {
                                    "Text": "\t\twhere o.object_id = @objid and o.type = substring(v.name,1,2) collate catalog_default and v.type = 'O9T'\r\n"
                                },
                                {
                                    "Text": "\tend\r\n"
                                },
                                {
                                    "Text": "\r\n"
                                },
                                {
                                    "Text": "\tprint ' '\r\n"
                                },
                                {
                                    "Text": "\r\n"
                                },
                                {
                                    "Text": "\t-- DISPLAY COLUMN IF TABLE / VIEW\r\n"
                                },
                                {
                                    "Text": "\tif exists (select * from sys.all_columns where object_id = @objid)\r\n"
                                },
                                {
                                    "Text": "\tbegin\r\n"
                                },
                                {
                                    "Text": "\r\n"
                                },
                                {
                                    "Text": "\t\t-- SET UP NUMERIC TYPES: THESE WILL HAVE NON-BLANK PREC/SCALE\r\n"
                                },
                                {
                                    "Text": "\t\t-- There must be a ',' immediately after each type name (including last one),\r\n"
                                },
                                {
                                    "Text": "\t\t-- because that's what we'll search for in charindex later.\r\n"
                                },
                                {
                                    "Text": "\t\tdeclare @precscaletypes nvarchar(150)\r\n"
                                },
                                {
                                    "Text": "\t\tselect @precscaletypes = N'tinyint,smallint,decimal,int,bigint,real,money,float,numeric,smallmoney,date,time,datetime2,datetimeoffset,'\r\n"
                                },
                                {
                                    "Text": "\r\n"
                                },
                                {
                                    "Text": "\t\t-- INFO FOR EACH COLUMN\r\n"
                                },
                                {
                                    "Text": "\t\tprint ' '\r\n"
                                },
                                {
                                    "Text": "\t\tselect\r\n"
                                },
                                {
                                    "Text": "\t\t\t'Column_name'\t\t\t= name,\r\n"
                                },
                                {
                                    "Text": "\t\t\t'Type'\t\t\t\t\t= type_name(user_type_id),\r\n"
                                },
                                {
                                    "Text": "\t\t\t'Computed'\t\t\t\t= case when ColumnProperty(object_id, name, 'IsComputed') = 0 then @no else @yes end,\r\n"
                                },
                                {
                                    "Text": "\t\t\t'Length'\t\t\t\t\t= convert(int, max_length),\r\n"
                                },
                                {
                                    "Text": "\t\t\t-- for prec/scale, only show for those types that have valid precision/scale\r\n"
                                },
                                {
                                    "Text": "\t\t\t-- Search for type name + ',', because 'datetime' is actually a substring of 'datetime2' and 'datetimeoffset'\r\n"
                                },
                                {
                                    "Text": "\t\t\t'Prec'\t\t\t\t\t= case when charindex(type_name(system_type_id) + ',', @precscaletypes) > 0\r\n"
                                },
                                {
                                    "Text": "\t\t\t\t\t\t\t\t\t\tthen convert(char(5),ColumnProperty(object_id, name, 'precision'))\r\n"
                                },
                                {
                                    "Text": "\t\t\t\t\t\t\t\t\t\telse '     ' end,\r\n"
                                },
                                {
                                    "Text": "\t\t\t'Scale'\t\t\t\t\t= case when charindex(type_name(system_type_id) + ',', @precscaletypes) > 0\r\n"
                                },
                                {
                                    "Text": "\t\t\t\t\t\t\t\t\t\tthen convert(char(5),OdbcScale(system_type_id,scale))\r\n"
                                },
                                {
                                    "Text": "\t\t\t\t\t\t\t\t\t\telse '     ' end,\r\n"
                                },
                                {
                                    "Text": "\t\t\t'Nullable'\t\t\t\t= case when is_nullable = 0 then @no else @yes end,\r\n"
                                },
                                {
                                    "Text": "\t\t\t'TrimTrailingBlanks'\t= case ColumnProperty(object_id, name, 'UsesAnsiTrim')\r\n"
                                },
                                {
                                    "Text": "\t\t\t\t\t\t\t\t\t\twhen 1 then @no\r\n"
                                },
                                {
                                    "Text": "\t\t\t\t\t\t\t\t\t\twhen 0 then @yes\r\n"
                                },
                                {
                                    "Text": "\t\t\t\t\t\t\t\t\t\telse '(n/a)' end,\r\n"
                                },
                                {
                                    "Text": "\t\t\t'FixedLenNullInSource'\t= case\r\n"
                                },
                                {
                                    "Text": "\t\t\t\t\t\twhen type_name(system_type_id) not in ('varbinary','varchar','binary','char')\r\n"
                                },
                                {
                                    "Text": "\t\t\t\t\t\t\tthen '(n/a)'\r\n"
                                },
                                {
                                    "Text": "\t\t\t\t\t\twhen is_nullable = 0 then @no else @yes end,\r\n"
                                },
                                {
                                    "Text": "\t\t\t'Collation'\t\t= collation_name\r\n"
                                },
                                {
                                    "Text": "\t\tfrom sys.all_columns where object_id = @objid\r\n"
                                },
                                {
                                    "Text": "\r\n"
                                },
                                {
                                    "Text": "\t\t-- IDENTITY COLUMN?\r\n"
                                },
                                {
                                    "Text": "\t\tif @sysobj_type in ('S ','U ','V ','TF')\r\n"
                                },
                                {
                                    "Text": "\t\tbegin\r\n"
                                },
                                {
                                    "Text": "\t\t\tprint ' '\r\n"
                                },
                                {
                                    "Text": "\t\t\tdeclare @colname sysname\r\n"
                                },
                                {
                                    "Text": "\t\t\tselect @colname = col_name(@objid, column_id) from sys.identity_columns where object_id = @objid\r\n"
                                },
                                {
                                    "Text": "\t\t\tselect\r\n"
                                },
                                {
                                    "Text": "\t\t\t\t'Identity'\t\t\t\t= isnull(@colname,'No identity column defined.'),\r\n"
                                },
                                {
                                    "Text": "\t\t\t\t'Seed'\t\t\t\t= ident_seed(@objname),\r\n"
                                },
                                {
                                    "Text": "\t\t\t\t'Increment'\t\t\t= ident_incr(@objname),\r\n"
                                },
                                {
                                    "Text": "\t\t\t\t'Not For Replication'\t= ColumnProperty(@objid, @colname, 'IsIDNotForRepl')\r\n"
                                },
                                {
                                    "Text": "\t\t\t-- ROWGUIDCOL?\r\n"
                                },
                                {
                                    "Text": "\t\t\tprint ' '\r\n"
                                },
                                {
                                    "Text": "\t\t\tselect @colname = null\r\n"
                                },
                                {
                                    "Text": "\t\t\tselect @colname = name from sys.columns where object_id = @objid and is_rowguidcol = 1\r\n"
                                },
                                {
                                    "Text": "\t\t\tselect 'RowGuidCol' = isnull(@colname,'No rowguidcol column defined.')\r\n"
                                },
                                {
                                    "Text": "\t\tend\r\n"
                                },
                                {
                                    "Text": "\tend\r\n"
                                },
                                {
                                    "Text": "\r\n"
                                },
                                {
                                    "Text": "\t-- DISPLAY ANY PARAMS\r\n"
                                },
                                {
                                    "Text": "\tif exists (select * from sys.all_parameters where object_id = @objid)\r\n"
                                },
                                {
                                    "Text": "\tbegin\r\n"
                                },
                                {
                                    "Text": "\t\t-- INFO ON PROC PARAMS\r\n"
                                },
                                {
                                    "Text": "\t\tprint ' '\r\n"
                                },
                                {
                                    "Text": "\t\tselect\r\n"
                                },
                                {
                                    "Text": "\t\t\t'Parameter_name'\t= name,\r\n"
                                },
                                {
                                    "Text": "\t\t\t'Type'\t\t\t= type_name(user_type_id),\r\n"
                                },
                                {
                                    "Text": "\t\t\t'Length'\t\t\t= max_length,\r\n"
                                },
                                {
                                    "Text": "\t\t\t'Prec'\t\t\t= case when type_name(system_type_id) = 'uniqueidentifier' then precision\r\n"
                                },
                                {
                                    "Text": "\t\t\t\t\t\t\t\telse OdbcPrec(system_type_id, max_length, precision) end,\r\n"
                                },
                                {
                                    "Text": "\t\t\t'Scale'\t\t\t= OdbcScale(system_type_id, scale),\r\n"
                                },
                                {
                                    "Text": "\t\t\t'Param_order'\t\t= parameter_id,\r\n"
                                },
                                {
                                    "Text": "\t\t\t'Collation'\t\t\t= convert(sysname, case when system_type_id in (35, 99, 167, 175, 231, 239)\r\n"
                                },
                                {
                                    "Text": "\t\t\t\t\t\tthen ServerProperty('collation') end)\r\n"
                                },
                                {
                                    "Text": "\r\n"
                                },
                                {
                                    "Text": "\t\tfrom sys.all_parameters where object_id = @objid\r\n"
                                },
                                {
                                    "Text": "\tend\r\n"
                                },
                                {
                                    "Text": "\r\n"
                                },
                                {
                                    "Text": "\t-- DISPLAY TABLE INDEXES & CONSTRAINTS\r\n"
                                },
                                {
                                    "Text": "\tif @sysobj_type in ('S ','U ')\r\n"
                                },
                                {
                                    "Text": "\tbegin\r\n"
                                },
                                {
                                    "Text": "\t\tprint ' '\r\n"
                                },
                                {
                                    "Text": "\t\tEXEC sys.sp_objectfilegroup @objid\r\n"
                                },
                                {
                                    "Text": "\t\tprint ' '\r\n"
                                },
                                {
                                    "Text": "\t\tEXEC sys.sp_helpindex @objname\r\n"
                                },
                                {
                                    "Text": "\t\tprint ' '\r\n"
                                },
                                {
                                    "Text": "\t\tEXEC sys.sp_helpconstraint @objname,'nomsg'\r\n"
                                },
                                {
                                    "Text": "\t\tif (select count(*) from sys.objects obj, sysdepends deps\r\n"
                                },
                                {
                                    "Text": "\t\t\twhere obj.type ='V' and obj.object_id = deps.id and deps.depid = @objid and deps.deptype = 1) = 0\r\n"
                                },
                                {
                                    "Text": "\t\tbegin\r\n"
                                },
                                {
                                    "Text": "\t\t\traiserror(15647,-1,-1,@objname) -- No views with schemabinding reference table '%ls'.\r\n"
                                },
                                {
                                    "Text": "\t\tend\r\n"
                                },
                                {
                                    "Text": "\t\telse\r\n"
                                },
                                {
                                    "Text": "\t\tbegin\r\n"
                                },
                                {
                                    "Text": "\t\t\tselect distinct 'Table is referenced by views' = obj.name from sys.objects obj, sysdepends deps\r\n"
                                },
                                {
                                    "Text": "\t\t\t\twhere obj.type ='V' and obj.object_id = deps.id and deps.depid = @objid\r\n"
                                },
                                {
                                    "Text": "\t\t\t\t\tand deps.deptype = 1 group by obj.name\r\n"
                                },
                                {
                                    "Text": "\t\tend\r\n"
                                },
                                {
                                    "Text": "\tend\r\n"
                                },
                                {
                                    "Text": "\telse if @sysobj_type in ('V ')\r\n"
                                },
                                {
                                    "Text": "\tbegin\r\n"
                                },
                                {
                                    "Text": "\t\t-- VIEWS DONT HAVE CONSTRAINTS, BUT PRINT THESE MESSAGES BECAUSE 6.5 DID\r\n"
                                },
                                {
                                    "Text": "\t\tprint ' '\r\n"
                                },
                                {
                                    "Text": "\t\traiserror(15469,-1,-1,@objname) -- No constraints defined\r\n"
                                },
                                {
                                    "Text": "\t\tprint ' '\r\n"
                                },
                                {
                                    "Text": "\t\traiserror(15470,-1,-1,@objname) -- No foreign keys reference table '%ls'.\r\n"
                                },
                                {
                                    "Text": "\t\tEXEC sys.sp_helpindex @objname\r\n"
                                },
                                {
                                    "Text": "\tend\r\n"
                                },
                                {
                                    "Text": "\r\n"
                                },
                                {
                                    "Text": "\treturn (0) -- sp_help\r\n"
                                }
                            ]
                        },
                        "text/html": "<table><tr><th>Text</th></tr><tr><td>create procedure sys.sp_help\r\n</td></tr><tr><td>\t@objname nvarchar(776) = NULL\t\t-- object name we&#39;re after\r\n</td></tr><tr><td>as\r\n</td></tr><tr><td>\t-- PRELIMINARY\r\n</td></tr><tr><td>\tset nocount on\r\n</td></tr><tr><td>\tdeclare\t@dbname\tsysname\r\n</td></tr><tr><td>\t\t,@no varchar(35), @yes varchar(35), @none varchar(35)\r\n</td></tr><tr><td>\tselect @no = &#39;no&#39;, @yes = &#39;yes&#39;, @none = &#39;none&#39;\r\n</td></tr><tr><td>\r\n</td></tr><tr><td>\t-- If no @objname given, give a little info about all objects.\r\n</td></tr><tr><td>\tif @objname is null\r\n</td></tr><tr><td>\tbegin\r\n</td></tr><tr><td>\t\t-- DISPLAY ALL SYSOBJECTS --\r\n</td></tr><tr><td>\t\tif (serverproperty(&#39;EngineEdition&#39;) != 5)\r\n</td></tr><tr><td>\t\tbegin\r\n</td></tr><tr><td>\t\t        select\r\n</td></tr><tr><td>\t\t            &#39;Name&#39;          = o.name,\r\n</td></tr><tr><td>\t\t            &#39;Owner&#39;         = user_name(ObjectProperty( object_id, &#39;ownerid&#39;)),\r\n</td></tr><tr><td>\t\t            &#39;Object_type&#39;   = substring(v.name,5,31)\r\n</td></tr><tr><td>\t\t        from sys.all_objects o, master.dbo.spt_values v\r\n</td></tr><tr><td>\t\t        where o.type = substring(v.name,1,2) collate catalog_default and v.type = &#39;O9T&#39;\r\n</td></tr><tr><td>\t\t        order by [Owner] asc, Object_type desc, Name asc\r\n</td></tr><tr><td>\t\tend\r\n</td></tr><tr><td>\t\telse \r\n</td></tr><tr><td>\t\tbegin\r\n</td></tr><tr><td>\t\t\tselect\r\n</td></tr><tr><td>\t\t            &#39;Name&#39;          = o.name,\r\n</td></tr><tr><td>\t\t            &#39;Owner&#39;         = user_name(ObjectProperty( object_id, &#39;ownerid&#39;)),\r\n</td></tr><tr><td>\t\t            &#39;Object_type&#39;   = substring(v.name,5,31)\r\n</td></tr><tr><td>\t\t        from sys.all_objects o, sys.spt_values v\r\n</td></tr><tr><td>\t\t        where o.type = substring(v.name,1,2) collate catalog_default and v.type = &#39;O9T&#39;\r\n</td></tr><tr><td>\t\t        order by [Owner] asc, Object_type desc, Name asc\r\n</td></tr><tr><td>\t\tend\r\n</td></tr><tr><td>\r\n</td></tr><tr><td>\t\tprint &#39; &#39;\r\n</td></tr><tr><td>\r\n</td></tr><tr><td>\t\t-- DISPLAY ALL USER TYPES\r\n</td></tr><tr><td>\t\tselect\r\n</td></tr><tr><td>\t\t\t&#39;User_type&#39;\t= name,\r\n</td></tr><tr><td>\t\t\t&#39;Storage_type&#39;\t= type_name(system_type_id),\r\n</td></tr><tr><td>\t\t\t&#39;Length&#39;\t\t= max_length,\r\n</td></tr><tr><td>\t\t\t&#39;Prec&#39;\t\t= Convert(int,TypePropertyEx(user_type_id, &#39;precision&#39;)),\r\n</td></tr><tr><td>\t\t\t&#39;Scale&#39;\t\t= Convert(int,TypePropertyEx(user_type_id, &#39;scale&#39;)),\r\n</td></tr><tr><td>\t\t\t&#39;Nullable&#39;\t\t= case when is_nullable = 1 then @yes else @no end,\r\n</td></tr><tr><td>\t\t\t&#39;Default_name&#39;\t= isnull(object_name(default_object_id), @none),\r\n</td></tr><tr><td>\t\t\t&#39;Rule_name&#39;\t\t= isnull(object_name(rule_object_id), @none),\r\n</td></tr><tr><td>\t\t\t&#39;Collation&#39;\t\t= collation_name\r\n</td></tr><tr><td>\t\tfrom sys.types\r\n</td></tr><tr><td>\t\twhere user_type_id &gt; 256\r\n</td></tr><tr><td>\t\torder by name\r\n</td></tr><tr><td>\r\n</td></tr><tr><td>\t\treturn(0)\r\n</td></tr><tr><td>\tend\r\n</td></tr><tr><td>\r\n</td></tr><tr><td>\t-- Make sure the @objname is local to the current database.\r\n</td></tr><tr><td>\tselect @dbname = parsename(@objname,3)\r\n</td></tr><tr><td>\tif @dbname is null\r\n</td></tr><tr><td>\t\tselect @dbname = db_name()\r\n</td></tr><tr><td>\telse if @dbname &lt;&gt; db_name()\r\n</td></tr><tr><td>\t\tbegin\r\n</td></tr><tr><td>\t\t\traiserror(15250,-1,-1)\r\n</td></tr><tr><td>\t\t\treturn(1)\r\n</td></tr><tr><td>\t\tend\r\n</td></tr><tr><td>\r\n</td></tr><tr><td>\t-- @objname must be either sysobjects or systypes: first look in sysobjects\r\n</td></tr><tr><td>\tdeclare @objid int\r\n</td></tr><tr><td>\tdeclare @sysobj_type char(2)\r\n</td></tr><tr><td>\tselect @objid = object_id, @sysobj_type = type from sys.all_objects where object_id = object_id(@objname)\r\n</td></tr><tr><td>\r\n</td></tr><tr><td>\t-- IF NOT IN SYSOBJECTS, TRY SYSTYPES --\r\n</td></tr><tr><td>\tif @objid is null\r\n</td></tr><tr><td>\tbegin\r\n</td></tr><tr><td>\t\t-- UNDONE: SHOULD CHECK FOR AND DISALLOW MULTI-PART NAME\r\n</td></tr><tr><td>\t\tselect @objid = type_id(@objname)\r\n</td></tr><tr><td>\r\n</td></tr><tr><td>\t\t-- IF NOT IN SYSTYPES, GIVE UP\r\n</td></tr><tr><td>\t\tif @objid is null\r\n</td></tr><tr><td>\t\tbegin\r\n</td></tr><tr><td>\t\t\traiserror(15009,-1,-1,@objname,@dbname)\r\n</td></tr><tr><td>\t\t\treturn(1)\r\n</td></tr><tr><td>\t\tend\r\n</td></tr><tr><td>\r\n</td></tr><tr><td>\t\t-- DATA TYPE HELP (prec/scale only valid for numerics)\r\n</td></tr><tr><td>\t\tselect\r\n</td></tr><tr><td>\t\t\t&#39;Type_name&#39;\t= name,\r\n</td></tr><tr><td>\t\t\t&#39;Storage_type&#39;\t= type_name(system_type_id),\r\n</td></tr><tr><td>\t\t\t&#39;Length&#39;\t\t= max_length,\r\n</td></tr><tr><td>\t\t\t&#39;Prec&#39;\t\t\t= Convert(int,TypePropertyEx(user_type_id, &#39;precision&#39;)),\r\n</td></tr><tr><td>\t\t\t&#39;Scale&#39;\t\t\t= Convert(int,TypePropertyEx(user_type_id, &#39;scale&#39;)),\r\n</td></tr><tr><td>\t\t\t&#39;Nullable&#39;\t\t\t= case when is_nullable=1 then @yes else @no end,\r\n</td></tr><tr><td>\t\t\t&#39;Default_name&#39;\t= isnull(object_name(default_object_id), @none),\r\n</td></tr><tr><td>\t\t\t&#39;Rule_name&#39;\t\t= isnull(object_name(rule_object_id), @none),\r\n</td></tr><tr><td>\t\t\t&#39;Collation&#39;\t\t= collation_name\r\n</td></tr><tr><td>\t\tfrom sys.types\r\n</td></tr><tr><td>\t\twhere user_type_id = @objid\r\n</td></tr><tr><td>\r\n</td></tr><tr><td>\t\treturn(0)\r\n</td></tr><tr><td>\tend\r\n</td></tr><tr><td>\r\n</td></tr><tr><td>\t-- FOUND IT IN SYSOBJECT, SO GIVE OBJECT INFO\r\n</td></tr><tr><td>\tif (serverproperty(&#39;EngineEdition&#39;) != 5)\r\n</td></tr><tr><td>\tbegin\r\n</td></tr><tr><td>\t\tselect\r\n</td></tr><tr><td>\t\t\t&#39;Name&#39;\t\t\t\t= o.name,\r\n</td></tr><tr><td>\t\t\t&#39;Owner&#39;\t\t\t\t= user_name(ObjectProperty( object_id, &#39;ownerid&#39;)),\r\n</td></tr><tr><td>\t        &#39;Type&#39;              = substring(v.name,5,31),\r\n</td></tr><tr><td>\t\t\t&#39;Created_datetime&#39;\t= o.create_date\r\n</td></tr><tr><td>\t\tfrom sys.all_objects o, master.dbo.spt_values v\r\n</td></tr><tr><td>\t\twhere o.object_id = @objid and o.type = substring(v.name,1,2) collate catalog_default and v.type = &#39;O9T&#39;\r\n</td></tr><tr><td>\tend\r\n</td></tr><tr><td>\telse \r\n</td></tr><tr><td>\tbegin\r\n</td></tr><tr><td>\t\tselect\r\n</td></tr><tr><td>\t\t\t&#39;Name&#39;\t\t\t\t= o.name,\r\n</td></tr><tr><td>\t\t\t&#39;Owner&#39;\t\t\t\t= user_name(ObjectProperty( object_id, &#39;ownerid&#39;)),\r\n</td></tr><tr><td>\t        &#39;Type&#39;              = substring(v.name,5,31),\r\n</td></tr><tr><td>\t\t\t&#39;Created_datetime&#39;\t= o.create_date\r\n</td></tr><tr><td>\t\tfrom sys.all_objects o, sys.spt_values v\r\n</td></tr><tr><td>\t\twhere o.object_id = @objid and o.type = substring(v.name,1,2) collate catalog_default and v.type = &#39;O9T&#39;\r\n</td></tr><tr><td>\tend\r\n</td></tr><tr><td>\r\n</td></tr><tr><td>\tprint &#39; &#39;\r\n</td></tr><tr><td>\r\n</td></tr><tr><td>\t-- DISPLAY COLUMN IF TABLE / VIEW\r\n</td></tr><tr><td>\tif exists (select * from sys.all_columns where object_id = @objid)\r\n</td></tr><tr><td>\tbegin\r\n</td></tr><tr><td>\r\n</td></tr><tr><td>\t\t-- SET UP NUMERIC TYPES: THESE WILL HAVE NON-BLANK PREC/SCALE\r\n</td></tr><tr><td>\t\t-- There must be a &#39;,&#39; immediately after each type name (including last one),\r\n</td></tr><tr><td>\t\t-- because that&#39;s what we&#39;ll search for in charindex later.\r\n</td></tr><tr><td>\t\tdeclare @precscaletypes nvarchar(150)\r\n</td></tr><tr><td>\t\tselect @precscaletypes = N&#39;tinyint,smallint,decimal,int,bigint,real,money,float,numeric,smallmoney,date,time,datetime2,datetimeoffset,&#39;\r\n</td></tr><tr><td>\r\n</td></tr><tr><td>\t\t-- INFO FOR EACH COLUMN\r\n</td></tr><tr><td>\t\tprint &#39; &#39;\r\n</td></tr><tr><td>\t\tselect\r\n</td></tr><tr><td>\t\t\t&#39;Column_name&#39;\t\t\t= name,\r\n</td></tr><tr><td>\t\t\t&#39;Type&#39;\t\t\t\t\t= type_name(user_type_id),\r\n</td></tr><tr><td>\t\t\t&#39;Computed&#39;\t\t\t\t= case when ColumnProperty(object_id, name, &#39;IsComputed&#39;) = 0 then @no else @yes end,\r\n</td></tr><tr><td>\t\t\t&#39;Length&#39;\t\t\t\t\t= convert(int, max_length),\r\n</td></tr><tr><td>\t\t\t-- for prec/scale, only show for those types that have valid precision/scale\r\n</td></tr><tr><td>\t\t\t-- Search for type name + &#39;,&#39;, because &#39;datetime&#39; is actually a substring of &#39;datetime2&#39; and &#39;datetimeoffset&#39;\r\n</td></tr><tr><td>\t\t\t&#39;Prec&#39;\t\t\t\t\t= case when charindex(type_name(system_type_id) + &#39;,&#39;, @precscaletypes) &gt; 0\r\n</td></tr><tr><td>\t\t\t\t\t\t\t\t\t\tthen convert(char(5),ColumnProperty(object_id, name, &#39;precision&#39;))\r\n</td></tr><tr><td>\t\t\t\t\t\t\t\t\t\telse &#39;     &#39; end,\r\n</td></tr><tr><td>\t\t\t&#39;Scale&#39;\t\t\t\t\t= case when charindex(type_name(system_type_id) + &#39;,&#39;, @precscaletypes) &gt; 0\r\n</td></tr><tr><td>\t\t\t\t\t\t\t\t\t\tthen convert(char(5),OdbcScale(system_type_id,scale))\r\n</td></tr><tr><td>\t\t\t\t\t\t\t\t\t\telse &#39;     &#39; end,\r\n</td></tr><tr><td>\t\t\t&#39;Nullable&#39;\t\t\t\t= case when is_nullable = 0 then @no else @yes end,\r\n</td></tr><tr><td>\t\t\t&#39;TrimTrailingBlanks&#39;\t= case ColumnProperty(object_id, name, &#39;UsesAnsiTrim&#39;)\r\n</td></tr><tr><td>\t\t\t\t\t\t\t\t\t\twhen 1 then @no\r\n</td></tr><tr><td>\t\t\t\t\t\t\t\t\t\twhen 0 then @yes\r\n</td></tr><tr><td>\t\t\t\t\t\t\t\t\t\telse &#39;(n/a)&#39; end,\r\n</td></tr><tr><td>\t\t\t&#39;FixedLenNullInSource&#39;\t= case\r\n</td></tr><tr><td>\t\t\t\t\t\twhen type_name(system_type_id) not in (&#39;varbinary&#39;,&#39;varchar&#39;,&#39;binary&#39;,&#39;char&#39;)\r\n</td></tr><tr><td>\t\t\t\t\t\t\tthen &#39;(n/a)&#39;\r\n</td></tr><tr><td>\t\t\t\t\t\twhen is_nullable = 0 then @no else @yes end,\r\n</td></tr><tr><td>\t\t\t&#39;Collation&#39;\t\t= collation_name\r\n</td></tr><tr><td>\t\tfrom sys.all_columns where object_id = @objid\r\n</td></tr><tr><td>\r\n</td></tr><tr><td>\t\t-- IDENTITY COLUMN?\r\n</td></tr><tr><td>\t\tif @sysobj_type in (&#39;S &#39;,&#39;U &#39;,&#39;V &#39;,&#39;TF&#39;)\r\n</td></tr><tr><td>\t\tbegin\r\n</td></tr><tr><td>\t\t\tprint &#39; &#39;\r\n</td></tr><tr><td>\t\t\tdeclare @colname sysname\r\n</td></tr><tr><td>\t\t\tselect @colname = col_name(@objid, column_id) from sys.identity_columns where object_id = @objid\r\n</td></tr><tr><td>\t\t\tselect\r\n</td></tr><tr><td>\t\t\t\t&#39;Identity&#39;\t\t\t\t= isnull(@colname,&#39;No identity column defined.&#39;),\r\n</td></tr><tr><td>\t\t\t\t&#39;Seed&#39;\t\t\t\t= ident_seed(@objname),\r\n</td></tr><tr><td>\t\t\t\t&#39;Increment&#39;\t\t\t= ident_incr(@objname),\r\n</td></tr><tr><td>\t\t\t\t&#39;Not For Replication&#39;\t= ColumnProperty(@objid, @colname, &#39;IsIDNotForRepl&#39;)\r\n</td></tr><tr><td>\t\t\t-- ROWGUIDCOL?\r\n</td></tr><tr><td>\t\t\tprint &#39; &#39;\r\n</td></tr><tr><td>\t\t\tselect @colname = null\r\n</td></tr><tr><td>\t\t\tselect @colname = name from sys.columns where object_id = @objid and is_rowguidcol = 1\r\n</td></tr><tr><td>\t\t\tselect &#39;RowGuidCol&#39; = isnull(@colname,&#39;No rowguidcol column defined.&#39;)\r\n</td></tr><tr><td>\t\tend\r\n</td></tr><tr><td>\tend\r\n</td></tr><tr><td>\r\n</td></tr><tr><td>\t-- DISPLAY ANY PARAMS\r\n</td></tr><tr><td>\tif exists (select * from sys.all_parameters where object_id = @objid)\r\n</td></tr><tr><td>\tbegin\r\n</td></tr><tr><td>\t\t-- INFO ON PROC PARAMS\r\n</td></tr><tr><td>\t\tprint &#39; &#39;\r\n</td></tr><tr><td>\t\tselect\r\n</td></tr><tr><td>\t\t\t&#39;Parameter_name&#39;\t= name,\r\n</td></tr><tr><td>\t\t\t&#39;Type&#39;\t\t\t= type_name(user_type_id),\r\n</td></tr><tr><td>\t\t\t&#39;Length&#39;\t\t\t= max_length,\r\n</td></tr><tr><td>\t\t\t&#39;Prec&#39;\t\t\t= case when type_name(system_type_id) = &#39;uniqueidentifier&#39; then precision\r\n</td></tr><tr><td>\t\t\t\t\t\t\t\telse OdbcPrec(system_type_id, max_length, precision) end,\r\n</td></tr><tr><td>\t\t\t&#39;Scale&#39;\t\t\t= OdbcScale(system_type_id, scale),\r\n</td></tr><tr><td>\t\t\t&#39;Param_order&#39;\t\t= parameter_id,\r\n</td></tr><tr><td>\t\t\t&#39;Collation&#39;\t\t\t= convert(sysname, case when system_type_id in (35, 99, 167, 175, 231, 239)\r\n</td></tr><tr><td>\t\t\t\t\t\tthen ServerProperty(&#39;collation&#39;) end)\r\n</td></tr><tr><td>\r\n</td></tr><tr><td>\t\tfrom sys.all_parameters where object_id = @objid\r\n</td></tr><tr><td>\tend\r\n</td></tr><tr><td>\r\n</td></tr><tr><td>\t-- DISPLAY TABLE INDEXES &amp; CONSTRAINTS\r\n</td></tr><tr><td>\tif @sysobj_type in (&#39;S &#39;,&#39;U &#39;)\r\n</td></tr><tr><td>\tbegin\r\n</td></tr><tr><td>\t\tprint &#39; &#39;\r\n</td></tr><tr><td>\t\tEXEC sys.sp_objectfilegroup @objid\r\n</td></tr><tr><td>\t\tprint &#39; &#39;\r\n</td></tr><tr><td>\t\tEXEC sys.sp_helpindex @objname\r\n</td></tr><tr><td>\t\tprint &#39; &#39;\r\n</td></tr><tr><td>\t\tEXEC sys.sp_helpconstraint @objname,&#39;nomsg&#39;\r\n</td></tr><tr><td>\t\tif (select count(*) from sys.objects obj, sysdepends deps\r\n</td></tr><tr><td>\t\t\twhere obj.type =&#39;V&#39; and obj.object_id = deps.id and deps.depid = @objid and deps.deptype = 1) = 0\r\n</td></tr><tr><td>\t\tbegin\r\n</td></tr><tr><td>\t\t\traiserror(15647,-1,-1,@objname) -- No views with schemabinding reference table &#39;%ls&#39;.\r\n</td></tr><tr><td>\t\tend\r\n</td></tr><tr><td>\t\telse\r\n</td></tr><tr><td>\t\tbegin\r\n</td></tr><tr><td>\t\t\tselect distinct &#39;Table is referenced by views&#39; = obj.name from sys.objects obj, sysdepends deps\r\n</td></tr><tr><td>\t\t\t\twhere obj.type =&#39;V&#39; and obj.object_id = deps.id and deps.depid = @objid\r\n</td></tr><tr><td>\t\t\t\t\tand deps.deptype = 1 group by obj.name\r\n</td></tr><tr><td>\t\tend\r\n</td></tr><tr><td>\tend\r\n</td></tr><tr><td>\telse if @sysobj_type in (&#39;V &#39;)\r\n</td></tr><tr><td>\tbegin\r\n</td></tr><tr><td>\t\t-- VIEWS DONT HAVE CONSTRAINTS, BUT PRINT THESE MESSAGES BECAUSE 6.5 DID\r\n</td></tr><tr><td>\t\tprint &#39; &#39;\r\n</td></tr><tr><td>\t\traiserror(15469,-1,-1,@objname) -- No constraints defined\r\n</td></tr><tr><td>\t\tprint &#39; &#39;\r\n</td></tr><tr><td>\t\traiserror(15470,-1,-1,@objname) -- No foreign keys reference table &#39;%ls&#39;.\r\n</td></tr><tr><td>\t\tEXEC sys.sp_helpindex @objname\r\n</td></tr><tr><td>\tend\r\n</td></tr><tr><td>\r\n</td></tr><tr><td>\treturn (0) -- sp_help\r\n</td></tr></table>"
                    },
                    "metadata": {}
                }
            ],
            "execution_count": 3
        },
        {
            "cell_type": "code",
            "source": [
                ""
            ],
            "metadata": {
                "azdata_cell_guid": "0a957e1b-31fa-4f69-b682-d6b6d7cf073f",
                "language": "sql"
            },
            "outputs": [],
            "execution_count": null
        },
        {
            "cell_type": "code",
            "source": [
                "create procedure sys.sp_help \r\n",
                "\t@objname nvarchar(776) = NULL\t\t-- object name we're after \r\n",
                "as \r\n",
                "\t-- PRELIMINARY \r\n",
                "\tset nocount on \r\n",
                "\tdeclare\t@dbname\tsysname \r\n",
                "\t\t,@no varchar(35), @yes varchar(35), @none varchar(35) \r\n",
                "\tselect @no = 'no', @yes = 'yes', @none = 'none' \r\n",
                " \r\n",
                "\t-- If no @objname given, give a little info about all objects. \r\n",
                "\tif @objname is null \r\n",
                "\tbegin \r\n",
                "\t\t-- DISPLAY ALL SYSOBJECTS -- \r\n",
                "\t\tif (serverproperty('EngineEdition') != 5) \r\n",
                "\t\tbegin \r\n",
                "\t\t        select \r\n",
                "\t\t            'Name'          = o.name, \r\n",
                "\t\t            'Owner'         = user_name(ObjectProperty( object_id, 'ownerid')), \r\n",
                "\t\t            'Object_type'   = substring(v.name,5,31) \r\n",
                "\t\t        from sys.all_objects o, master.dbo.spt_values v \r\n",
                "\t\t        where o.type = substring(v.name,1,2) collate catalog_default and v.type = 'O9T' \r\n",
                "\t\t        order by [Owner] asc, Object_type desc, Name asc \r\n",
                "\t\tend \r\n",
                "\t\telse  \r\n",
                "\t\tbegin \r\n",
                "\t\t\tselect \r\n",
                "\t\t            'Name'          = o.name, \r\n",
                "\t\t            'Owner'         = user_name(ObjectProperty( object_id, 'ownerid')), \r\n",
                "\t\t            'Object_type'   = substring(v.name,5,31) \r\n",
                "\t\t        from sys.all_objects o, sys.spt_values v \r\n",
                "\t\t        where o.type = substring(v.name,1,2) collate catalog_default and v.type = 'O9T' \r\n",
                "\t\t        order by [Owner] asc, Object_type desc, Name asc \r\n",
                "\t\tend \r\n",
                " \r\n",
                "\t\tprint ' ' \r\n",
                " \r\n",
                "\t\t-- DISPLAY ALL USER TYPES \r\n",
                "\t\tselect \r\n",
                "\t\t\t'User_type'\t= name, \r\n",
                "\t\t\t'Storage_type'\t= type_name(system_type_id), \r\n",
                "\t\t\t'Length'\t\t= max_length, \r\n",
                "\t\t\t'Prec'\t\t= Convert(int,TypePropertyEx(user_type_id, 'precision')), \r\n",
                "\t\t\t'Scale'\t\t= Convert(int,TypePropertyEx(user_type_id, 'scale')), \r\n",
                "\t\t\t'Nullable'\t\t= case when is_nullable = 1 then @yes else @no end, \r\n",
                "\t\t\t'Default_name'\t= isnull(object_name(default_object_id), @none), \r\n",
                "\t\t\t'Rule_name'\t\t= isnull(object_name(rule_object_id), @none), \r\n",
                "\t\t\t'Collation'\t\t= collation_name \r\n",
                "\t\tfrom sys.types \r\n",
                "\t\twhere user_type_id > 256 \r\n",
                "\t\torder by name \r\n",
                " \r\n",
                "\t\treturn(0) \r\n",
                "\tend \r\n",
                " \r\n",
                "\t-- Make sure the @objname is local to the current database. \r\n",
                "\tselect @dbname = parsename(@objname,3) \r\n",
                "\tif @dbname is null \r\n",
                "\t\tselect @dbname = db_name() \r\n",
                "\telse if @dbname <> db_name() \r\n",
                "\t\tbegin \r\n",
                "\t\t\traiserror(15250,-1,-1) \r\n",
                "\t\t\treturn(1) \r\n",
                "\t\tend \r\n",
                " \r\n",
                "\t-- @objname must be either sysobjects or systypes: first look in sysobjects \r\n",
                "\tdeclare @objid int \r\n",
                "\tdeclare @sysobj_type char(2) \r\n",
                "\tselect @objid = object_id, @sysobj_type = type from sys.all_objects where object_id = object_id(@objname) \r\n",
                " \r\n",
                "\t-- IF NOT IN SYSOBJECTS, TRY SYSTYPES -- \r\n",
                "\tif @objid is null \r\n",
                "\tbegin \r\n",
                "\t\t-- UNDONE: SHOULD CHECK FOR AND DISALLOW MULTI-PART NAME \r\n",
                "\t\tselect @objid = type_id(@objname) \r\n",
                " \r\n",
                "\t\t-- IF NOT IN SYSTYPES, GIVE UP \r\n",
                "\t\tif @objid is null \r\n",
                "\t\tbegin \r\n",
                "\t\t\traiserror(15009,-1,-1,@objname,@dbname) \r\n",
                "\t\t\treturn(1) \r\n",
                "\t\tend \r\n",
                " \r\n",
                "\t\t-- DATA TYPE HELP (prec/scale only valid for numerics) \r\n",
                "\t\tselect \r\n",
                "\t\t\t'Type_name'\t= name, \r\n",
                "\t\t\t'Storage_type'\t= type_name(system_type_id), \r\n",
                "\t\t\t'Length'\t\t= max_length, \r\n",
                "\t\t\t'Prec'\t\t\t= Convert(int,TypePropertyEx(user_type_id, 'precision')), \r\n",
                "\t\t\t'Scale'\t\t\t= Convert(int,TypePropertyEx(user_type_id, 'scale')), \r\n",
                "\t\t\t'Nullable'\t\t\t= case when is_nullable=1 then @yes else @no end, \r\n",
                "\t\t\t'Default_name'\t= isnull(object_name(default_object_id), @none), \r\n",
                "\t\t\t'Rule_name'\t\t= isnull(object_name(rule_object_id), @none), \r\n",
                "\t\t\t'Collation'\t\t= collation_name \r\n",
                "\t\tfrom sys.types \r\n",
                "\t\twhere user_type_id = @objid \r\n",
                " \r\n",
                "\t\treturn(0) \r\n",
                "\tend \r\n",
                " \r\n",
                "\t-- FOUND IT IN SYSOBJECT, SO GIVE OBJECT INFO \r\n",
                "\tif (serverproperty('EngineEdition') != 5) \r\n",
                "\tbegin \r\n",
                "\t\tselect \r\n",
                "\t\t\t'Name'\t\t\t\t= o.name, \r\n",
                "\t\t\t'Owner'\t\t\t\t= user_name(ObjectProperty( object_id, 'ownerid')), \r\n",
                "\t        'Type'              = substring(v.name,5,31), \r\n",
                "\t\t\t'Created_datetime'\t= o.create_date \r\n",
                "\t\tfrom sys.all_objects o, master.dbo.spt_values v \r\n",
                "\t\twhere o.object_id = @objid and o.type = substring(v.name,1,2) collate catalog_default and v.type = 'O9T' \r\n",
                "\tend \r\n",
                "\telse  \r\n",
                "\tbegin \r\n",
                "\t\tselect \r\n",
                "\t\t\t'Name'\t\t\t\t= o.name, \r\n",
                "\t\t\t'Owner'\t\t\t\t= user_name(ObjectProperty( object_id, 'ownerid')), \r\n",
                "\t        'Type'              = substring(v.name,5,31), \r\n",
                "\t\t\t'Created_datetime'\t= o.create_date \r\n",
                "\t\tfrom sys.all_objects o, sys.spt_values v \r\n",
                "\t\twhere o.object_id = @objid and o.type = substring(v.name,1,2) collate catalog_default and v.type = 'O9T' \r\n",
                "\tend \r\n",
                " \r\n",
                "\tprint ' ' \r\n",
                " \r\n",
                "\t-- DISPLAY COLUMN IF TABLE / VIEW \r\n",
                "\tif exists (select * from sys.all_columns where object_id = @objid) \r\n",
                "\tbegin \r\n",
                " \r\n",
                "\t\t-- SET UP NUMERIC TYPES: THESE WILL HAVE NON-BLANK PREC/SCALE \r\n",
                "\t\t-- There must be a ',' immediately after each type name (including last one), \r\n",
                "\t\t-- because that's what we'll search for in charindex later. \r\n",
                "\t\tdeclare @precscaletypes nvarchar(150) \r\n",
                "\t\tselect @precscaletypes = N'tinyint,smallint,decimal,int,bigint,real,money,float,numeric,smallmoney,date,time,datetime2,datetimeoffset,' \r\n",
                " \r\n",
                "\t\t-- INFO FOR EACH COLUMN \r\n",
                "\t\tprint ' ' \r\n",
                "\t\tselect \r\n",
                "\t\t\t'Column_name'\t\t\t= name, \r\n",
                "\t\t\t'Type'\t\t\t\t\t= type_name(user_type_id), \r\n",
                "\t\t\t'Computed'\t\t\t\t= case when ColumnProperty(object_id, name, 'IsComputed') = 0 then @no else @yes end, \r\n",
                "\t\t\t'Length'\t\t\t\t\t= convert(int, max_length), \r\n",
                "\t\t\t-- for prec/scale, only show for those types that have valid precision/scale \r\n",
                "\t\t\t-- Search for type name + ',', because 'datetime' is actually a substring of 'datetime2' and 'datetimeoffset' \r\n",
                "\t\t\t'Prec'\t\t\t\t\t= case when charindex(type_name(system_type_id) + ',', @precscaletypes) > 0 \r\n",
                "\t\t\t\t\t\t\t\t\t\tthen convert(char(5),ColumnProperty(object_id, name, 'precision')) \r\n",
                "\t\t\t\t\t\t\t\t\t\telse '     ' end, \r\n",
                "\t\t\t'Scale'\t\t\t\t\t= case when charindex(type_name(system_type_id) + ',', @precscaletypes) > 0 \r\n",
                "\t\t\t\t\t\t\t\t\t\tthen convert(char(5),OdbcScale(system_type_id,scale)) \r\n",
                "\t\t\t\t\t\t\t\t\t\telse '     ' end, \r\n",
                "\t\t\t'Nullable'\t\t\t\t= case when is_nullable = 0 then @no else @yes end, \r\n",
                "\t\t\t'TrimTrailingBlanks'\t= case ColumnProperty(object_id, name, 'UsesAnsiTrim') \r\n",
                "\t\t\t\t\t\t\t\t\t\twhen 1 then @no \r\n",
                "\t\t\t\t\t\t\t\t\t\twhen 0 then @yes \r\n",
                "\t\t\t\t\t\t\t\t\t\telse '(n/a)' end, \r\n",
                "\t\t\t'FixedLenNullInSource'\t= case \r\n",
                "\t\t\t\t\t\twhen type_name(system_type_id) not in ('varbinary','varchar','binary','char') \r\n",
                "\t\t\t\t\t\t\tthen '(n/a)' \r\n",
                "\t\t\t\t\t\twhen is_nullable = 0 then @no else @yes end, \r\n",
                "\t\t\t'Collation'\t\t= collation_name \r\n",
                "\t\tfrom sys.all_columns where object_id = @objid \r\n",
                " \r\n",
                "\t\t-- IDENTITY COLUMN? \r\n",
                "\t\tif @sysobj_type in ('S ','U ','V ','TF') \r\n",
                "\t\tbegin \r\n",
                "\t\t\tprint ' ' \r\n",
                "\t\t\tdeclare @colname sysname \r\n",
                "\t\t\tselect @colname = col_name(@objid, column_id) from sys.identity_columns where object_id = @objid \r\n",
                "\t\t\tselect \r\n",
                "\t\t\t\t'Identity'\t\t\t\t= isnull(@colname,'No identity column defined.'), \r\n",
                "\t\t\t\t'Seed'\t\t\t\t= ident_seed(@objname), \r\n",
                "\t\t\t\t'Increment'\t\t\t= ident_incr(@objname), \r\n",
                "\t\t\t\t'Not For Replication'\t= ColumnProperty(@objid, @colname, 'IsIDNotForRepl') \r\n",
                "\t\t\t-- ROWGUIDCOL? \r\n",
                "\t\t\tprint ' ' \r\n",
                "\t\t\tselect @colname = null \r\n",
                "\t\t\tselect @colname = name from sys.columns where object_id = @objid and is_rowguidcol = 1 \r\n",
                "\t\t\tselect 'RowGuidCol' = isnull(@colname,'No rowguidcol column defined.') \r\n",
                "\t\tend \r\n",
                "\tend \r\n",
                " \r\n",
                "\t-- DISPLAY ANY PARAMS \r\n",
                "\tif exists (select * from sys.all_parameters where object_id = @objid) \r\n",
                "\tbegin \r\n",
                "\t\t-- INFO ON PROC PARAMS \r\n",
                "\t\tprint ' ' \r\n",
                "\t\tselect \r\n",
                "\t\t\t'Parameter_name'\t= name, \r\n",
                "\t\t\t'Type'\t\t\t= type_name(user_type_id), \r\n",
                "\t\t\t'Length'\t\t\t= max_length, \r\n",
                "\t\t\t'Prec'\t\t\t= case when type_name(system_type_id) = 'uniqueidentifier' then precision \r\n",
                "\t\t\t\t\t\t\t\telse OdbcPrec(system_type_id, max_length, precision) end, \r\n",
                "\t\t\t'Scale'\t\t\t= OdbcScale(system_type_id, scale), \r\n",
                "\t\t\t'Param_order'\t\t= parameter_id, \r\n",
                "\t\t\t'Collation'\t\t\t= convert(sysname, case when system_type_id in (35, 99, 167, 175, 231, 239) \r\n",
                "\t\t\t\t\t\tthen ServerProperty('collation') end) \r\n",
                " \r\n",
                "\t\tfrom sys.all_parameters where object_id = @objid \r\n",
                "\tend \r\n",
                " \r\n",
                "\t-- DISPLAY TABLE INDEXES & CONSTRAINTS \r\n",
                "\tif @sysobj_type in ('S ','U ') \r\n",
                "\tbegin \r\n",
                "\t\tprint ' ' \r\n",
                "\t\tEXEC sys.sp_objectfilegroup @objid \r\n",
                "\t\tprint ' ' \r\n",
                "\t\tEXEC sys.sp_helpindex @objname \r\n",
                "\t\tprint ' ' \r\n",
                "\t\tEXEC sys.sp_helpconstraint @objname,'nomsg' \r\n",
                "\t\tif (select count(*) from sys.objects obj, sysdepends deps \r\n",
                "\t\t\twhere obj.type ='V' and obj.object_id = deps.id and deps.depid = @objid and deps.deptype = 1) = 0 \r\n",
                "\t\tbegin \r\n",
                "\t\t\traiserror(15647,-1,-1,@objname) -- No views with schemabinding reference table '%ls'. \r\n",
                "\t\tend \r\n",
                "\t\telse \r\n",
                "\t\tbegin \r\n",
                "\t\t\tselect distinct 'Table is referenced by views' = obj.name from sys.objects obj, sysdepends deps \r\n",
                "\t\t\t\twhere obj.type ='V' and obj.object_id = deps.id and deps.depid = @objid \r\n",
                "\t\t\t\t\tand deps.deptype = 1 group by obj.name \r\n",
                "\t\tend \r\n",
                "\tend \r\n",
                "\telse if @sysobj_type in ('V ') \r\n",
                "\tbegin \r\n",
                "\t\t-- VIEWS DONT HAVE CONSTRAINTS, BUT PRINT THESE MESSAGES BECAUSE 6.5 DID \r\n",
                "\t\tprint ' ' \r\n",
                "\t\traiserror(15469,-1,-1,@objname) -- No constraints defined \r\n",
                "\t\tprint ' ' \r\n",
                "\t\traiserror(15470,-1,-1,@objname) -- No foreign keys reference table '%ls'. \r\n",
                "\t\tEXEC sys.sp_helpindex @objname \r\n",
                "\tend \r\n",
                " \r\n",
                "\treturn (0) -- sp_help "
            ],
            "metadata": {
                "language": "sql",
                "azdata_cell_guid": "7f5e90bb-03bd-46f9-b503-4f0ae4cbd742"
            },
            "outputs": [],
            "execution_count": null
        },
        {
            "cell_type": "markdown",
            "source": [
                "\\------"
            ],
            "metadata": {
                "language": "sql",
                "azdata_cell_guid": "8e5c9944-4aa1-4cae-8f18-b0896277ade5"
            },
            "attachments": {}
        }
    ]
}
{
    "metadata": {
        "kernelspec": {
            "name": "SQL",
            "display_name": "SQL",
            "language": "sql"
        },
        "language_info": {
            "name": "sql",
            "version": ""
        }
    },
    "nbformat_minor": 2,
    "nbformat": 4,
    "cells": [
        {
            "cell_type": "code",
            "source": [
                "EXEC sp_help 'characters';"
            ],
            "metadata": {
                "azdata_cell_guid": "dc63f51f-f262-4de9-b880-db55d68777fb",
                "language": "sql"
            },
            "outputs": [
                {
                    "output_type": "display_data",
                    "data": {
                        "text/html": " "
                    },
                    "metadata": {}
                },
                {
                    "output_type": "display_data",
                    "data": {
                        "text/html": " "
                    },
                    "metadata": {}
                },
                {
                    "output_type": "display_data",
                    "data": {
                        "text/html": " "
                    },
                    "metadata": {}
                },
                {
                    "output_type": "display_data",
                    "data": {
                        "text/html": " "
                    },
                    "metadata": {}
                },
                {
                    "output_type": "display_data",
                    "data": {
                        "text/html": " "
                    },
                    "metadata": {}
                },
                {
                    "output_type": "display_data",
                    "data": {
                        "text/html": " "
                    },
                    "metadata": {}
                },
                {
                    "output_type": "display_data",
                    "data": {
                        "text/html": "The object 'characters' does not have any indexes, or you do not have permissions."
                    },
                    "metadata": {}
                },
                {
                    "output_type": "display_data",
                    "data": {
                        "text/html": " "
                    },
                    "metadata": {}
                },
                {
                    "output_type": "display_data",
                    "data": {
                        "text/html": "No constraints are defined on object 'characters', or you do not have permissions."
                    },
                    "metadata": {}
                },
                {
                    "output_type": "display_data",
                    "data": {
                        "text/html": " "
                    },
                    "metadata": {}
                },
                {
                    "output_type": "display_data",
                    "data": {
                        "text/html": "No foreign keys reference table 'characters', or you do not have permissions on referencing tables."
                    },
                    "metadata": {}
                },
                {
                    "output_type": "display_data",
                    "data": {
                        "text/html": "No views with schema binding reference table 'characters'."
                    },
                    "metadata": {}
                },
                {
                    "output_type": "display_data",
                    "data": {
                        "text/html": "Total execution time: 00:00:00.034"
                    },
                    "metadata": {}
                },
                {
                    "output_type": "execute_result",
                    "metadata": {},
                    "execution_count": 1,
                    "data": {
                        "application/vnd.dataresource+json": {
                            "schema": {
                                "fields": [
                                    {
                                        "name": "Name"
                                    },
                                    {
                                        "name": "Owner"
                                    },
                                    {
                                        "name": "Type"
                                    },
                                    {
                                        "name": "Created_datetime"
                                    }
                                ]
                            },
                            "data": [
                                {
                                    "Name": "characters",
                                    "Owner": "dbo",
                                    "Type": "user table",
                                    "Created_datetime": "2024-12-29 11:03:11.517"
                                }
                            ]
                        },
                        "text/html": [
                            "<table>",
                            "<tr><th>Name</th><th>Owner</th><th>Type</th><th>Created_datetime</th></tr>",
                            "<tr><td>characters</td><td>dbo</td><td>user table</td><td>2024-12-29 11:03:11.517</td></tr>",
                            "</table>"
                        ]
                    }
                },
                {
                    "output_type": "execute_result",
                    "metadata": {},
                    "execution_count": 1,
                    "data": {
                        "application/vnd.dataresource+json": {
                            "schema": {
                                "fields": [
                                    {
                                        "name": "Column_name"
                                    },
                                    {
                                        "name": "Type"
                                    },
                                    {
                                        "name": "Computed"
                                    },
                                    {
                                        "name": "Length"
                                    },
                                    {
                                        "name": "Prec"
                                    },
                                    {
                                        "name": "Scale"
                                    },
                                    {
                                        "name": "Nullable"
                                    },
                                    {
                                        "name": "TrimTrailingBlanks"
                                    },
                                    {
                                        "name": "FixedLenNullInSource"
                                    },
                                    {
                                        "name": "Collation"
                                    }
                                ]
                            },
                            "data": [
                                {
                                    "Column_name": "id",
                                    "Type": "varchar",
                                    "Computed": "no",
                                    "Length": "50",
                                    "Prec": "     ",
                                    "Scale": "     ",
                                    "Nullable": "yes",
                                    "TrimTrailingBlanks": "no",
                                    "FixedLenNullInSource": "yes",
                                    "Collation": "SQL_Latin1_General_CP1_CI_AS"
                                },
                                {
                                    "Column_name": "name",
                                    "Type": "varchar",
                                    "Computed": "no",
                                    "Length": "50",
                                    "Prec": "     ",
                                    "Scale": "     ",
                                    "Nullable": "yes",
                                    "TrimTrailingBlanks": "no",
                                    "FixedLenNullInSource": "yes",
                                    "Collation": "SQL_Latin1_General_CP1_CI_AS"
                                },
                                {
                                    "Column_name": "guild",
                                    "Type": "varchar",
                                    "Computed": "no",
                                    "Length": "50",
                                    "Prec": "     ",
                                    "Scale": "     ",
                                    "Nullable": "yes",
                                    "TrimTrailingBlanks": "no",
                                    "FixedLenNullInSource": "yes",
                                    "Collation": "SQL_Latin1_General_CP1_CI_AS"
                                },
                                {
                                    "Column_name": "class",
                                    "Type": "varchar",
                                    "Computed": "no",
                                    "Length": "50",
                                    "Prec": "     ",
                                    "Scale": "     ",
                                    "Nullable": "yes",
                                    "TrimTrailingBlanks": "no",
                                    "FixedLenNullInSource": "yes",
                                    "Collation": "SQL_Latin1_General_CP1_CI_AS"
                                },
                                {
                                    "Column_name": "level",
                                    "Type": "varchar",
                                    "Computed": "no",
                                    "Length": "50",
                                    "Prec": "     ",
                                    "Scale": "     ",
                                    "Nullable": "yes",
                                    "TrimTrailingBlanks": "no",
                                    "FixedLenNullInSource": "yes",
                                    "Collation": "SQL_Latin1_General_CP1_CI_AS"
                                },
                                {
                                    "Column_name": "experience",
                                    "Type": "varchar",
                                    "Computed": "no",
                                    "Length": "50",
                                    "Prec": "     ",
                                    "Scale": "     ",
                                    "Nullable": "yes",
                                    "TrimTrailingBlanks": "no",
                                    "FixedLenNullInSource": "yes",
                                    "Collation": "SQL_Latin1_General_CP1_CI_AS"
                                },
                                {
                                    "Column_name": "health",
                                    "Type": "varchar",
                                    "Computed": "no",
                                    "Length": "50",
                                    "Prec": "     ",
                                    "Scale": "     ",
                                    "Nullable": "yes",
                                    "TrimTrailingBlanks": "no",
                                    "FixedLenNullInSource": "yes",
                                    "Collation": "SQL_Latin1_General_CP1_CI_AS"
                                },
                                {
                                    "Column_name": "is_alive",
                                    "Type": "varchar",
                                    "Computed": "no",
                                    "Length": "50",
                                    "Prec": "     ",
                                    "Scale": "     ",
                                    "Nullable": "yes",
                                    "TrimTrailingBlanks": "no",
                                    "FixedLenNullInSource": "yes",
                                    "Collation": "SQL_Latin1_General_CP1_CI_AS"
                                },
                                {
                                    "Column_name": "last_active",
                                    "Type": "varchar",
                                    "Computed": "no",
                                    "Length": "50",
                                    "Prec": "     ",
                                    "Scale": "     ",
                                    "Nullable": "yes",
                                    "TrimTrailingBlanks": "no",
                                    "FixedLenNullInSource": "yes",
                                    "Collation": "SQL_Latin1_General_CP1_CI_AS"
                                },
                                {
                                    "Column_name": "mentor_id",
                                    "Type": "varchar",
                                    "Computed": "no",
                                    "Length": "50",
                                    "Prec": "     ",
                                    "Scale": "     ",
                                    "Nullable": "yes",
                                    "TrimTrailingBlanks": "no",
                                    "FixedLenNullInSource": "yes",
                                    "Collation": "SQL_Latin1_General_CP1_CI_AS"
                                }
                            ]
                        },
                        "text/html": [
                            "<table>",
                            "<tr><th>Column_name</th><th>Type</th><th>Computed</th><th>Length</th><th>Prec</th><th>Scale</th><th>Nullable</th><th>TrimTrailingBlanks</th><th>FixedLenNullInSource</th><th>Collation</th></tr>",
                            "<tr><td>id</td><td>varchar</td><td>no</td><td>50</td><td>     </td><td>     </td><td>yes</td><td>no</td><td>yes</td><td>SQL_Latin1_General_CP1_CI_AS</td></tr>",
                            "<tr><td>name</td><td>varchar</td><td>no</td><td>50</td><td>     </td><td>     </td><td>yes</td><td>no</td><td>yes</td><td>SQL_Latin1_General_CP1_CI_AS</td></tr>",
                            "<tr><td>guild</td><td>varchar</td><td>no</td><td>50</td><td>     </td><td>     </td><td>yes</td><td>no</td><td>yes</td><td>SQL_Latin1_General_CP1_CI_AS</td></tr>",
                            "<tr><td>class</td><td>varchar</td><td>no</td><td>50</td><td>     </td><td>     </td><td>yes</td><td>no</td><td>yes</td><td>SQL_Latin1_General_CP1_CI_AS</td></tr>",
                            "<tr><td>level</td><td>varchar</td><td>no</td><td>50</td><td>     </td><td>     </td><td>yes</td><td>no</td><td>yes</td><td>SQL_Latin1_General_CP1_CI_AS</td></tr>",
                            "<tr><td>experience</td><td>varchar</td><td>no</td><td>50</td><td>     </td><td>     </td><td>yes</td><td>no</td><td>yes</td><td>SQL_Latin1_General_CP1_CI_AS</td></tr>",
                            "<tr><td>health</td><td>varchar</td><td>no</td><td>50</td><td>     </td><td>     </td><td>yes</td><td>no</td><td>yes</td><td>SQL_Latin1_General_CP1_CI_AS</td></tr>",
                            "<tr><td>is_alive</td><td>varchar</td><td>no</td><td>50</td><td>     </td><td>     </td><td>yes</td><td>no</td><td>yes</td><td>SQL_Latin1_General_CP1_CI_AS</td></tr>",
                            "<tr><td>last_active</td><td>varchar</td><td>no</td><td>50</td><td>     </td><td>     </td><td>yes</td><td>no</td><td>yes</td><td>SQL_Latin1_General_CP1_CI_AS</td></tr>",
                            "<tr><td>mentor_id</td><td>varchar</td><td>no</td><td>50</td><td>     </td><td>     </td><td>yes</td><td>no</td><td>yes</td><td>SQL_Latin1_General_CP1_CI_AS</td></tr>",
                            "</table>"
                        ]
                    }
                },
                {
                    "output_type": "execute_result",
                    "metadata": {},
                    "execution_count": 1,
                    "data": {
                        "application/vnd.dataresource+json": {
                            "schema": {
                                "fields": [
                                    {
                                        "name": "Identity"
                                    },
                                    {
                                        "name": "Seed"
                                    },
                                    {
                                        "name": "Increment"
                                    },
                                    {
                                        "name": "Not For Replication"
                                    }
                                ]
                            },
                            "data": [
                                {
                                    "Identity": "No identity column defined.",
                                    "Seed": "NULL",
                                    "Increment": "NULL",
                                    "Not For Replication": "NULL"
                                }
                            ]
                        },
                        "text/html": [
                            "<table>",
                            "<tr><th>Identity</th><th>Seed</th><th>Increment</th><th>Not For Replication</th></tr>",
                            "<tr><td>No identity column defined.</td><td>NULL</td><td>NULL</td><td>NULL</td></tr>",
                            "</table>"
                        ]
                    }
                },
                {
                    "output_type": "execute_result",
                    "metadata": {},
                    "execution_count": 1,
                    "data": {
                        "application/vnd.dataresource+json": {
                            "schema": {
                                "fields": [
                                    {
                                        "name": "RowGuidCol"
                                    }
                                ]
                            },
                            "data": [
                                {
                                    "RowGuidCol": "No rowguidcol column defined."
                                }
                            ]
                        },
                        "text/html": [
                            "<table>",
                            "<tr><th>RowGuidCol</th></tr>",
                            "<tr><td>No rowguidcol column defined.</td></tr>",
                            "</table>"
                        ]
                    }
                },
                {
                    "output_type": "execute_result",
                    "metadata": {},
                    "execution_count": 1,
                    "data": {
                        "application/vnd.dataresource+json": {
                            "schema": {
                                "fields": [
                                    {
                                        "name": "Data_located_on_filegroup"
                                    }
                                ]
                            },
                            "data": [
                                {
                                    "Data_located_on_filegroup": "PRIMARY"
                                }
                            ]
                        },
                        "text/html": [
                            "<table>",
                            "<tr><th>Data_located_on_filegroup</th></tr>",
                            "<tr><td>PRIMARY</td></tr>",
                            "</table>"
                        ]
                    }
                }
            ],
            "execution_count": 1
        },
        {
            "cell_type": "markdown",
            "source": [
                "\\------"
            ],
            "metadata": {
                "language": "sql",
                "azdata_cell_guid": "8e5c9944-4aa1-4cae-8f18-b0896277ade5"
            },
            "attachments": {}
        }
    ]
}
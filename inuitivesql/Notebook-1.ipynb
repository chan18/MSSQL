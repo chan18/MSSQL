{
    "metadata": {
        "kernelspec": {
            "name": "SQL",
            "display_name": "SQL",
            "language": "sql"
        },
        "language_info": {
            "name": "sql",
            "version": ""
        }
    },
    "nbformat_minor": 2,
    "nbformat": 4,
    "cells": [
        {
            "cell_type": "markdown",
            "source": [
                "# subqueries1\n",
                "\n",
                "<span style=\"color: rgb(156, 93, 39);\">1</span><span style=\"color: var(--vscode-foreground);\">. find characters whose experience </span> <span style=\"color: rgb(75, 105, 198);\">is</span> <span style=\"color: rgb(75, 105, 198);\">between</span> <span style=\"color: rgb(170, 55, 49); font-weight: bold;\">min</span> <span style=\"color: rgb(75, 105, 198);\">and</span> <span style=\"color: rgb(170, 55, 49); font-weight: bold;\">max</span><span style=\"color: var(--vscode-foreground);\">.</span>  \n",
                "\n",
                "<span style=\"color: #9c5d27;\">2</span>. more experience <span style=\"color: #4b69c6;\">than</span> the <span style=\"color: #aa3731;font-weight: bold;\">least</span> experienced characcter, <span style=\"color: #4b69c6;\">less</span> <span style=\"color: #4b69c6;\">than</span> the most experienced <span style=\"color: #4b69c6;\">character</span>."
            ],
            "metadata": {
                "language": "sql",
                "azdata_cell_guid": "65b0f469-add3-4db6-8f7c-8e9e5fbbb21c"
            },
            "attachments": {}
        },
        {
            "cell_type": "code",
            "source": [
                "SELECT\r\n",
                "    MIN(experience)\r\n",
                "FROM\r\n",
                "    characters;"
            ],
            "metadata": {
                "azdata_cell_guid": "7a90d4e3-4886-4c1c-8bf7-3caea96aac5e",
                "language": "sql",
                "tags": []
            },
            "outputs": [
                {
                    "output_type": "display_data",
                    "data": {
                        "text/html": "(1 row affected)"
                    },
                    "metadata": {}
                },
                {
                    "output_type": "display_data",
                    "data": {
                        "text/html": "Total execution time: 00:00:00.008"
                    },
                    "metadata": {}
                },
                {
                    "output_type": "execute_result",
                    "metadata": {},
                    "execution_count": 10,
                    "data": {
                        "application/vnd.dataresource+json": {
                            "schema": {
                                "fields": [
                                    {
                                        "name": "(No column name)"
                                    }
                                ]
                            },
                            "data": [
                                {
                                    "(No column name)": "10000"
                                }
                            ]
                        },
                        "text/html": [
                            "<table>",
                            "<tr><th>(No column name)</th></tr>",
                            "<tr><td>10000</td></tr>",
                            "</table>"
                        ]
                    }
                }
            ],
            "execution_count": 10
        },
        {
            "cell_type": "code",
            "source": [
                "SELECT\r\n",
                "    *\r\n",
                "FROM \r\n",
                "    characters\r\n",
                "WHERE \r\n",
                "    experience > 2100;"
            ],
            "metadata": {
                "language": "sql",
                "azdata_cell_guid": "b3c68c71-51f2-4b61-9e97-43adffe5c7fa",
                "tags": []
            },
            "outputs": [
                {
                    "output_type": "display_data",
                    "data": {
                        "text/html": "(14 rows affected)"
                    },
                    "metadata": {}
                },
                {
                    "output_type": "display_data",
                    "data": {
                        "text/html": "Total execution time: 00:00:00.017"
                    },
                    "metadata": {}
                },
                {
                    "output_type": "execute_result",
                    "metadata": {},
                    "execution_count": 11,
                    "data": {
                        "application/vnd.dataresource+json": {
                            "schema": {
                                "fields": [
                                    {
                                        "name": "id"
                                    },
                                    {
                                        "name": "name"
                                    },
                                    {
                                        "name": "guild"
                                    },
                                    {
                                        "name": "class"
                                    },
                                    {
                                        "name": "level"
                                    },
                                    {
                                        "name": "experience"
                                    },
                                    {
                                        "name": "health"
                                    },
                                    {
                                        "name": "is_alive"
                                    },
                                    {
                                        "name": "last_active"
                                    },
                                    {
                                        "name": "mentor_id"
                                    }
                                ]
                            },
                            "data": [
                                {
                                    "id": "1",
                                    "name": "Aragorn",
                                    "guild": "Rangers",
                                    "class": "Warrior",
                                    "level": "25",
                                    "experience": "9000",
                                    "health": "120.5",
                                    "is_alive": "TRUE",
                                    "last_active": "2023-09-20 08:00:00 UTC",
                                    "mentor_id": ""
                                },
                                {
                                    "id": "2",
                                    "name": "Legolas",
                                    "guild": "Mirkwood",
                                    "class": "Archer",
                                    "level": "22",
                                    "experience": "7500",
                                    "health": "100.75",
                                    "is_alive": "TRUE",
                                    "last_active": "2023-09-21 09:00:00 UTC",
                                    "mentor_id": ""
                                },
                                {
                                    "id": "3",
                                    "name": "Gimli",
                                    "guild": "Erebor",
                                    "class": "Warrior",
                                    "level": "20",
                                    "experience": "6000",
                                    "health": "130.25",
                                    "is_alive": "TRUE",
                                    "last_active": "2023-09-22 07:00:00 UTC",
                                    "mentor_id": ""
                                },
                                {
                                    "id": "4",
                                    "name": "Frodo",
                                    "guild": "Shirefolk",
                                    "class": "Hobbit",
                                    "level": "12",
                                    "experience": "2500",
                                    "health": "50.5",
                                    "is_alive": "FALSE",
                                    "last_active": "2023-09-23 10:00:00 UTC",
                                    "mentor_id": "1"
                                },
                                {
                                    "id": "5",
                                    "name": "Sam",
                                    "guild": "Shirefolk",
                                    "class": "Hobbit",
                                    "level": "13",
                                    "experience": "2750",
                                    "health": "52.5",
                                    "is_alive": "TRUE",
                                    "last_active": "2023-09-23 10:05:00 UTC",
                                    "mentor_id": "1"
                                },
                                {
                                    "id": "6",
                                    "name": "Gandalf",
                                    "guild": "Istari",
                                    "class": "Mage",
                                    "level": "30",
                                    "experience": "10000",
                                    "health": "90",
                                    "is_alive": "TRUE",
                                    "last_active": "2023-09-20 11:00:00 UTC",
                                    "mentor_id": ""
                                },
                                {
                                    "id": "7",
                                    "name": "Boromir",
                                    "guild": "Gondor",
                                    "class": "Warrior",
                                    "level": "18",
                                    "experience": "5500",
                                    "health": "115.5",
                                    "is_alive": "FALSE",
                                    "last_active": "2023-09-21 12:00:00 UTC",
                                    "mentor_id": ""
                                },
                                {
                                    "id": "8",
                                    "name": "Merry",
                                    "guild": "Shirefolk",
                                    "class": "Hobbit",
                                    "level": "11",
                                    "experience": "2200",
                                    "health": "48.5",
                                    "is_alive": "TRUE",
                                    "last_active": "2023-09-22 10:00:00 UTC",
                                    "mentor_id": "4"
                                },
                                {
                                    "id": "10",
                                    "name": "Sauron",
                                    "guild": "Dark Lords",
                                    "class": "Mage",
                                    "level": "40",
                                    "experience": "15000",
                                    "health": "85",
                                    "is_alive": "FALSE",
                                    "last_active": "2023-09-23 01:00:00 UTC",
                                    "mentor_id": ""
                                },
                                {
                                    "id": "11",
                                    "name": "Saruman",
                                    "guild": "Istari",
                                    "class": "Mage",
                                    "level": "28",
                                    "experience": "8500",
                                    "health": "88.5",
                                    "is_alive": "FALSE",
                                    "last_active": "2023-09-20 03:00:00 UTC",
                                    "mentor_id": "6"
                                },
                                {
                                    "id": "12",
                                    "name": "Elrond",
                                    "guild": "Rivendell",
                                    "class": "Mage",
                                    "level": "27",
                                    "experience": "8200",
                                    "health": "87.5",
                                    "is_alive": "TRUE",
                                    "last_active": "2023-09-21 04:00:00 UTC",
                                    "mentor_id": "6"
                                },
                                {
                                    "id": "13",
                                    "name": "Thranduil",
                                    "guild": "Mirkwood",
                                    "class": "Archer",
                                    "level": "26",
                                    "experience": "7900",
                                    "health": "97",
                                    "is_alive": "TRUE",
                                    "last_active": "2023-09-22 02:00:00 UTC",
                                    "mentor_id": "2"
                                },
                                {
                                    "id": "14",
                                    "name": "Eowyn",
                                    "guild": "Rohan",
                                    "class": "Warrior",
                                    "level": "17",
                                    "experience": "5200",
                                    "health": "112.5",
                                    "is_alive": "TRUE",
                                    "last_active": "2023-09-23 05:00:00 UTC",
                                    "mentor_id": "7"
                                },
                                {
                                    "id": "15",
                                    "name": "Faramir",
                                    "guild": "Gondor",
                                    "class": "Archer",
                                    "level": "19",
                                    "experience": "5700",
                                    "health": "118.5",
                                    "is_alive": "TRUE",
                                    "last_active": "2023-09-20 06:00:00 UTC",
                                    "mentor_id": "7"
                                }
                            ]
                        },
                        "text/html": [
                            "<table>",
                            "<tr><th>id</th><th>name</th><th>guild</th><th>class</th><th>level</th><th>experience</th><th>health</th><th>is_alive</th><th>last_active</th><th>mentor_id</th></tr>",
                            "<tr><td>1</td><td>Aragorn</td><td>Rangers</td><td>Warrior</td><td>25</td><td>9000</td><td>120.5</td><td>TRUE</td><td>2023-09-20 08:00:00 UTC</td><td></td></tr>",
                            "<tr><td>2</td><td>Legolas</td><td>Mirkwood</td><td>Archer</td><td>22</td><td>7500</td><td>100.75</td><td>TRUE</td><td>2023-09-21 09:00:00 UTC</td><td></td></tr>",
                            "<tr><td>3</td><td>Gimli</td><td>Erebor</td><td>Warrior</td><td>20</td><td>6000</td><td>130.25</td><td>TRUE</td><td>2023-09-22 07:00:00 UTC</td><td></td></tr>",
                            "<tr><td>4</td><td>Frodo</td><td>Shirefolk</td><td>Hobbit</td><td>12</td><td>2500</td><td>50.5</td><td>FALSE</td><td>2023-09-23 10:00:00 UTC</td><td>1</td></tr>",
                            "<tr><td>5</td><td>Sam</td><td>Shirefolk</td><td>Hobbit</td><td>13</td><td>2750</td><td>52.5</td><td>TRUE</td><td>2023-09-23 10:05:00 UTC</td><td>1</td></tr>",
                            "<tr><td>6</td><td>Gandalf</td><td>Istari</td><td>Mage</td><td>30</td><td>10000</td><td>90</td><td>TRUE</td><td>2023-09-20 11:00:00 UTC</td><td></td></tr>",
                            "<tr><td>7</td><td>Boromir</td><td>Gondor</td><td>Warrior</td><td>18</td><td>5500</td><td>115.5</td><td>FALSE</td><td>2023-09-21 12:00:00 UTC</td><td></td></tr>",
                            "<tr><td>8</td><td>Merry</td><td>Shirefolk</td><td>Hobbit</td><td>11</td><td>2200</td><td>48.5</td><td>TRUE</td><td>2023-09-22 10:00:00 UTC</td><td>4</td></tr>",
                            "<tr><td>10</td><td>Sauron</td><td>Dark Lords</td><td>Mage</td><td>40</td><td>15000</td><td>85</td><td>FALSE</td><td>2023-09-23 01:00:00 UTC</td><td></td></tr>",
                            "<tr><td>11</td><td>Saruman</td><td>Istari</td><td>Mage</td><td>28</td><td>8500</td><td>88.5</td><td>FALSE</td><td>2023-09-20 03:00:00 UTC</td><td>6</td></tr>",
                            "<tr><td>12</td><td>Elrond</td><td>Rivendell</td><td>Mage</td><td>27</td><td>8200</td><td>87.5</td><td>TRUE</td><td>2023-09-21 04:00:00 UTC</td><td>6</td></tr>",
                            "<tr><td>13</td><td>Thranduil</td><td>Mirkwood</td><td>Archer</td><td>26</td><td>7900</td><td>97</td><td>TRUE</td><td>2023-09-22 02:00:00 UTC</td><td>2</td></tr>",
                            "<tr><td>14</td><td>Eowyn</td><td>Rohan</td><td>Warrior</td><td>17</td><td>5200</td><td>112.5</td><td>TRUE</td><td>2023-09-23 05:00:00 UTC</td><td>7</td></tr>",
                            "<tr><td>15</td><td>Faramir</td><td>Gondor</td><td>Archer</td><td>19</td><td>5700</td><td>118.5</td><td>TRUE</td><td>2023-09-20 06:00:00 UTC</td><td>7</td></tr>",
                            "</table>"
                        ]
                    }
                }
            ],
            "execution_count": 11
        },
        {
            "cell_type": "markdown",
            "source": [
                ""
            ],
            "metadata": {
                "language": "sql",
                "azdata_cell_guid": "aa46b13d-af70-461b-8ee0-f6d7c8cfa877"
            }
        },
        {
            "cell_type": "code",
            "source": [
                "SELECT\r\n",
                "    *\r\n",
                "FROM \r\n",
                "    characters\r\n",
                "WHERE \r\n",
                "    experience > (\r\n",
                "        SELECT\r\n",
                "            MIN(experience)\r\n",
                "        FROM\r\n",
                "            characters\r\n",
                "    )\r\n",
                "    AND\r\n",
                "    experience < (\r\n",
                "        SELECT\r\n",
                "            MAX(experience)\r\n",
                "        FROM\r\n",
                "            characters\r\n",
                "    )"
            ],
            "metadata": {
                "language": "sql",
                "azdata_cell_guid": "274042a7-d6a9-4e88-925c-be934247ae8c",
                "tags": []
            },
            "outputs": [
                {
                    "output_type": "display_data",
                    "data": {
                        "text/html": "(13 rows affected)"
                    },
                    "metadata": {}
                },
                {
                    "output_type": "display_data",
                    "data": {
                        "text/html": "Total execution time: 00:00:00.015"
                    },
                    "metadata": {}
                },
                {
                    "output_type": "execute_result",
                    "metadata": {},
                    "execution_count": 15,
                    "data": {
                        "application/vnd.dataresource+json": {
                            "schema": {
                                "fields": [
                                    {
                                        "name": "id"
                                    },
                                    {
                                        "name": "name"
                                    },
                                    {
                                        "name": "guild"
                                    },
                                    {
                                        "name": "class"
                                    },
                                    {
                                        "name": "level"
                                    },
                                    {
                                        "name": "experience"
                                    },
                                    {
                                        "name": "health"
                                    },
                                    {
                                        "name": "is_alive"
                                    },
                                    {
                                        "name": "last_active"
                                    },
                                    {
                                        "name": "mentor_id"
                                    }
                                ]
                            },
                            "data": [
                                {
                                    "id": "2",
                                    "name": "Legolas",
                                    "guild": "Mirkwood",
                                    "class": "Archer",
                                    "level": "22",
                                    "experience": "7500",
                                    "health": "100.75",
                                    "is_alive": "TRUE",
                                    "last_active": "2023-09-21 09:00:00 UTC",
                                    "mentor_id": ""
                                },
                                {
                                    "id": "3",
                                    "name": "Gimli",
                                    "guild": "Erebor",
                                    "class": "Warrior",
                                    "level": "20",
                                    "experience": "6000",
                                    "health": "130.25",
                                    "is_alive": "TRUE",
                                    "last_active": "2023-09-22 07:00:00 UTC",
                                    "mentor_id": ""
                                },
                                {
                                    "id": "4",
                                    "name": "Frodo",
                                    "guild": "Shirefolk",
                                    "class": "Hobbit",
                                    "level": "12",
                                    "experience": "2500",
                                    "health": "50.5",
                                    "is_alive": "FALSE",
                                    "last_active": "2023-09-23 10:00:00 UTC",
                                    "mentor_id": "1"
                                },
                                {
                                    "id": "5",
                                    "name": "Sam",
                                    "guild": "Shirefolk",
                                    "class": "Hobbit",
                                    "level": "13",
                                    "experience": "2750",
                                    "health": "52.5",
                                    "is_alive": "TRUE",
                                    "last_active": "2023-09-23 10:05:00 UTC",
                                    "mentor_id": "1"
                                },
                                {
                                    "id": "7",
                                    "name": "Boromir",
                                    "guild": "Gondor",
                                    "class": "Warrior",
                                    "level": "18",
                                    "experience": "5500",
                                    "health": "115.5",
                                    "is_alive": "FALSE",
                                    "last_active": "2023-09-21 12:00:00 UTC",
                                    "mentor_id": ""
                                },
                                {
                                    "id": "8",
                                    "name": "Merry",
                                    "guild": "Shirefolk",
                                    "class": "Hobbit",
                                    "level": "11",
                                    "experience": "2200",
                                    "health": "48.5",
                                    "is_alive": "TRUE",
                                    "last_active": "2023-09-22 10:00:00 UTC",
                                    "mentor_id": "4"
                                },
                                {
                                    "id": "9",
                                    "name": "Pippin",
                                    "guild": "Shirefolk",
                                    "class": "Hobbit",
                                    "level": "11",
                                    "experience": "2100",
                                    "health": "47.5",
                                    "is_alive": "TRUE",
                                    "last_active": "2023-09-22 10:01:00 UTC",
                                    "mentor_id": "4"
                                },
                                {
                                    "id": "10",
                                    "name": "Sauron",
                                    "guild": "Dark Lords",
                                    "class": "Mage",
                                    "level": "40",
                                    "experience": "15000",
                                    "health": "85",
                                    "is_alive": "FALSE",
                                    "last_active": "2023-09-23 01:00:00 UTC",
                                    "mentor_id": ""
                                },
                                {
                                    "id": "11",
                                    "name": "Saruman",
                                    "guild": "Istari",
                                    "class": "Mage",
                                    "level": "28",
                                    "experience": "8500",
                                    "health": "88.5",
                                    "is_alive": "FALSE",
                                    "last_active": "2023-09-20 03:00:00 UTC",
                                    "mentor_id": "6"
                                },
                                {
                                    "id": "12",
                                    "name": "Elrond",
                                    "guild": "Rivendell",
                                    "class": "Mage",
                                    "level": "27",
                                    "experience": "8200",
                                    "health": "87.5",
                                    "is_alive": "TRUE",
                                    "last_active": "2023-09-21 04:00:00 UTC",
                                    "mentor_id": "6"
                                },
                                {
                                    "id": "13",
                                    "name": "Thranduil",
                                    "guild": "Mirkwood",
                                    "class": "Archer",
                                    "level": "26",
                                    "experience": "7900",
                                    "health": "97",
                                    "is_alive": "TRUE",
                                    "last_active": "2023-09-22 02:00:00 UTC",
                                    "mentor_id": "2"
                                },
                                {
                                    "id": "14",
                                    "name": "Eowyn",
                                    "guild": "Rohan",
                                    "class": "Warrior",
                                    "level": "17",
                                    "experience": "5200",
                                    "health": "112.5",
                                    "is_alive": "TRUE",
                                    "last_active": "2023-09-23 05:00:00 UTC",
                                    "mentor_id": "7"
                                },
                                {
                                    "id": "15",
                                    "name": "Faramir",
                                    "guild": "Gondor",
                                    "class": "Archer",
                                    "level": "19",
                                    "experience": "5700",
                                    "health": "118.5",
                                    "is_alive": "TRUE",
                                    "last_active": "2023-09-20 06:00:00 UTC",
                                    "mentor_id": "7"
                                }
                            ]
                        },
                        "text/html": [
                            "<table>",
                            "<tr><th>id</th><th>name</th><th>guild</th><th>class</th><th>level</th><th>experience</th><th>health</th><th>is_alive</th><th>last_active</th><th>mentor_id</th></tr>",
                            "<tr><td>2</td><td>Legolas</td><td>Mirkwood</td><td>Archer</td><td>22</td><td>7500</td><td>100.75</td><td>TRUE</td><td>2023-09-21 09:00:00 UTC</td><td></td></tr>",
                            "<tr><td>3</td><td>Gimli</td><td>Erebor</td><td>Warrior</td><td>20</td><td>6000</td><td>130.25</td><td>TRUE</td><td>2023-09-22 07:00:00 UTC</td><td></td></tr>",
                            "<tr><td>4</td><td>Frodo</td><td>Shirefolk</td><td>Hobbit</td><td>12</td><td>2500</td><td>50.5</td><td>FALSE</td><td>2023-09-23 10:00:00 UTC</td><td>1</td></tr>",
                            "<tr><td>5</td><td>Sam</td><td>Shirefolk</td><td>Hobbit</td><td>13</td><td>2750</td><td>52.5</td><td>TRUE</td><td>2023-09-23 10:05:00 UTC</td><td>1</td></tr>",
                            "<tr><td>7</td><td>Boromir</td><td>Gondor</td><td>Warrior</td><td>18</td><td>5500</td><td>115.5</td><td>FALSE</td><td>2023-09-21 12:00:00 UTC</td><td></td></tr>",
                            "<tr><td>8</td><td>Merry</td><td>Shirefolk</td><td>Hobbit</td><td>11</td><td>2200</td><td>48.5</td><td>TRUE</td><td>2023-09-22 10:00:00 UTC</td><td>4</td></tr>",
                            "<tr><td>9</td><td>Pippin</td><td>Shirefolk</td><td>Hobbit</td><td>11</td><td>2100</td><td>47.5</td><td>TRUE</td><td>2023-09-22 10:01:00 UTC</td><td>4</td></tr>",
                            "<tr><td>10</td><td>Sauron</td><td>Dark Lords</td><td>Mage</td><td>40</td><td>15000</td><td>85</td><td>FALSE</td><td>2023-09-23 01:00:00 UTC</td><td></td></tr>",
                            "<tr><td>11</td><td>Saruman</td><td>Istari</td><td>Mage</td><td>28</td><td>8500</td><td>88.5</td><td>FALSE</td><td>2023-09-20 03:00:00 UTC</td><td>6</td></tr>",
                            "<tr><td>12</td><td>Elrond</td><td>Rivendell</td><td>Mage</td><td>27</td><td>8200</td><td>87.5</td><td>TRUE</td><td>2023-09-21 04:00:00 UTC</td><td>6</td></tr>",
                            "<tr><td>13</td><td>Thranduil</td><td>Mirkwood</td><td>Archer</td><td>26</td><td>7900</td><td>97</td><td>TRUE</td><td>2023-09-22 02:00:00 UTC</td><td>2</td></tr>",
                            "<tr><td>14</td><td>Eowyn</td><td>Rohan</td><td>Warrior</td><td>17</td><td>5200</td><td>112.5</td><td>TRUE</td><td>2023-09-23 05:00:00 UTC</td><td>7</td></tr>",
                            "<tr><td>15</td><td>Faramir</td><td>Gondor</td><td>Archer</td><td>19</td><td>5700</td><td>118.5</td><td>TRUE</td><td>2023-09-20 06:00:00 UTC</td><td>7</td></tr>",
                            "</table>"
                        ]
                    }
                }
            ],
            "execution_count": 15
        },
        {
            "cell_type": "markdown",
            "source": [
                "# subqueries2"
            ],
            "metadata": {
                "language": "sql",
                "azdata_cell_guid": "476c3914-c660-4be2-8cf0-47d06a843677"
            },
            "attachments": {}
        },
        {
            "cell_type": "code",
            "source": [
                "SELECT \r\n",
                "    id AS mentor_id, \r\n",
                "    mentor_id, \r\n",
                "    experience AS mentee_experience,\r\n",
                "    (\r\n",
                "        SELECT experience\r\n",
                "        FROM characters AS mentor_table\r\n",
                "        WHERE id = mentee_table.mentor_id\r\n",
                "    ) AS mentor_experience\r\n",
                "FROM \r\n",
                "    characters AS mentee_table\r\n",
                "WHERE \r\n",
                "    mentor_id IS NOT NULL;\r\n",
                ""
            ],
            "metadata": {
                "language": "sql",
                "azdata_cell_guid": "09a36bbd-147a-46cd-b419-a3bdbd884359",
                "tags": []
            },
            "outputs": [
                {
                    "output_type": "display_data",
                    "data": {
                        "text/html": "(15 rows affected)"
                    },
                    "metadata": {}
                },
                {
                    "output_type": "display_data",
                    "data": {
                        "text/html": "Total execution time: 00:00:00.209"
                    },
                    "metadata": {}
                },
                {
                    "output_type": "execute_result",
                    "metadata": {},
                    "execution_count": 1,
                    "data": {
                        "application/vnd.dataresource+json": {
                            "schema": {
                                "fields": [
                                    {
                                        "name": "mentor_id"
                                    },
                                    {
                                        "name": "mentor_id"
                                    },
                                    {
                                        "name": "mentee_experience"
                                    },
                                    {
                                        "name": "mentor_experience"
                                    }
                                ]
                            },
                            "data": [
                                {
                                    "mentor_id": "",
                                    "mentee_experience": "9000",
                                    "mentor_experience": "NULL"
                                },
                                {
                                    "mentor_id": "",
                                    "mentee_experience": "7500",
                                    "mentor_experience": "NULL"
                                },
                                {
                                    "mentor_id": "",
                                    "mentee_experience": "6000",
                                    "mentor_experience": "NULL"
                                },
                                {
                                    "mentor_id": "1",
                                    "mentee_experience": "2500",
                                    "mentor_experience": "9000"
                                },
                                {
                                    "mentor_id": "1",
                                    "mentee_experience": "2750",
                                    "mentor_experience": "9000"
                                },
                                {
                                    "mentor_id": "",
                                    "mentee_experience": "10000",
                                    "mentor_experience": "NULL"
                                },
                                {
                                    "mentor_id": "",
                                    "mentee_experience": "5500",
                                    "mentor_experience": "NULL"
                                },
                                {
                                    "mentor_id": "4",
                                    "mentee_experience": "2200",
                                    "mentor_experience": "2500"
                                },
                                {
                                    "mentor_id": "4",
                                    "mentee_experience": "2100",
                                    "mentor_experience": "2500"
                                },
                                {
                                    "mentor_id": "",
                                    "mentee_experience": "15000",
                                    "mentor_experience": "NULL"
                                },
                                {
                                    "mentor_id": "6",
                                    "mentee_experience": "8500",
                                    "mentor_experience": "10000"
                                },
                                {
                                    "mentor_id": "6",
                                    "mentee_experience": "8200",
                                    "mentor_experience": "10000"
                                },
                                {
                                    "mentor_id": "2",
                                    "mentee_experience": "7900",
                                    "mentor_experience": "7500"
                                },
                                {
                                    "mentor_id": "7",
                                    "mentee_experience": "5200",
                                    "mentor_experience": "5500"
                                },
                                {
                                    "mentor_id": "7",
                                    "mentee_experience": "5700",
                                    "mentor_experience": "5500"
                                }
                            ]
                        },
                        "text/html": [
                            "<table>",
                            "<tr><th>mentor_id</th><th>mentor_id</th><th>mentee_experience</th><th>mentor_experience</th></tr>",
                            "<tr><td>1</td><td></td><td>9000</td><td>NULL</td></tr>",
                            "<tr><td>2</td><td></td><td>7500</td><td>NULL</td></tr>",
                            "<tr><td>3</td><td></td><td>6000</td><td>NULL</td></tr>",
                            "<tr><td>4</td><td>1</td><td>2500</td><td>9000</td></tr>",
                            "<tr><td>5</td><td>1</td><td>2750</td><td>9000</td></tr>",
                            "<tr><td>6</td><td></td><td>10000</td><td>NULL</td></tr>",
                            "<tr><td>7</td><td></td><td>5500</td><td>NULL</td></tr>",
                            "<tr><td>8</td><td>4</td><td>2200</td><td>2500</td></tr>",
                            "<tr><td>9</td><td>4</td><td>2100</td><td>2500</td></tr>",
                            "<tr><td>10</td><td></td><td>15000</td><td>NULL</td></tr>",
                            "<tr><td>11</td><td>6</td><td>8500</td><td>10000</td></tr>",
                            "<tr><td>12</td><td>6</td><td>8200</td><td>10000</td></tr>",
                            "<tr><td>13</td><td>2</td><td>7900</td><td>7500</td></tr>",
                            "<tr><td>14</td><td>7</td><td>5200</td><td>5500</td></tr>",
                            "<tr><td>15</td><td>7</td><td>5700</td><td>5500</td></tr>",
                            "</table>"
                        ]
                    }
                }
            ],
            "execution_count": 1
        },
        {
            "cell_type": "markdown",
            "source": [
                "1."
            ],
            "metadata": {
                "language": "sql",
                "azdata_cell_guid": "61a4c34a-4a39-4201-a5ce-9aa85a3a6477"
            },
            "attachments": {}
        },
        {
            "cell_type": "code",
            "source": [
                "SELECT \r\n",
                "    id AS mentor_id, \r\n",
                "    mentor_id, \r\n",
                "    (\r\n",
                "        SELECT experience\r\n",
                "        FROM characters AS mentor_table\r\n",
                "        WHERE id = mentee_table.mentor_id\r\n",
                "    ) - experience AS experience_difference\r\n",
                "FROM \r\n",
                "    characters AS mentee_table\r\n",
                "WHERE \r\n",
                "    mentor_id IS NOT NULL;"
            ],
            "metadata": {
                "language": "sql",
                "azdata_cell_guid": "556f58da-ef41-4758-9e71-ee6bbce5d252"
            },
            "outputs": [
                {
                    "output_type": "error",
                    "evalue": "Msg 402, Level 16, State 1, Line 8\r\nThe data types varchar and varchar are incompatible in the subtract operator.",
                    "ename": "",
                    "traceback": []
                },
                {
                    "output_type": "display_data",
                    "data": {
                        "text/html": "Total execution time: 00:00:00.072"
                    },
                    "metadata": {}
                }
            ],
            "execution_count": 5
        },
        {
            "cell_type": "code",
            "source": [
                ""
            ],
            "metadata": {
                "language": "sql",
                "azdata_cell_guid": "6fa8154b-b571-4e09-8702-0e75236a0e19"
            },
            "outputs": [],
            "execution_count": null
        },
        {
            "cell_type": "markdown",
            "source": [
                ""
            ],
            "metadata": {
                "azdata_cell_guid": "105cd0f3-638b-4f59-84f2-f1e04ef7c46c"
            }
        },
        {
            "cell_type": "code",
            "source": [
                ""
            ],
            "metadata": {
                "language": "sql",
                "azdata_cell_guid": "49b9ca3f-c453-4cfd-ab29-cfeb89016569"
            },
            "outputs": [],
            "execution_count": null
        }
    ]
}